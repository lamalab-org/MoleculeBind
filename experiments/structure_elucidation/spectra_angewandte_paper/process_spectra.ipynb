{
 "cells": [
  {
   "cell_type": "code",
   "execution_count": null,
   "metadata": {},
   "outputs": [],
   "source": [
    "import pandas as pd\n",
    "\n",
    "\n",
    "def read_tab_separated_file(filename):\n",
    "    data = pd.read_csv(filename, sep='\\t')\n",
    "    data.columns = ['ppm', 'intensity', 'none']\n",
    "    data = data.drop(columns=['none'])\n",
    "    return data\n",
    "\n",
    "def read_molecule(filename):\n",
    "    c = read_tab_separated_file(filename + \"_correct_cnmr.csv\")\n",
    "    h = read_tab_separated_file(filename + \"_correct_hnmr.csv\")\n",
    "    return c, h\n",
    "\n",
    "dict_save = {}\n",
    "for molecule in [\"C23H30O5\", \"C13H14O4\", \"C12H15NOS\", \"C20H18O6\", \"C19H29NO3\"]:\n",
    "    # c, h = read_molecule(molecule)\n",
    "    dict_save[molecule] = read_molecule(molecule)\n",
    "    # print length of c and h\n",
    "    print(molecule, len(dict_save[molecule][0]), len(dict_save[molecule][1]))"
   ]
  },
  {
   "cell_type": "code",
   "execution_count": null,
   "metadata": {},
   "outputs": [],
   "source": [
    "import numpy as np\n",
    "from scipy.interpolate import interp1d\n",
    "\n",
    "\n",
    "def interpolate_data(data, num_points):\n",
    "    f = interp1d(data['ppm'], data['intensity'], kind=\"next\")\n",
    "    new_ppm = pd.Series(data=np.linspace(-1.9981, 10, num_points))\n",
    "    new_intensity = pd.Series(data=f(new_ppm))\n",
    "    return pd.DataFrame({'ppm': new_ppm, 'intensity': new_intensity})\n",
    "\n",
    "data_save_interpolated = {}\n",
    "\n",
    "for molecule in [\"C23H30O5\", \"C13H14O4\", \"C12H15NOS\", \"C20H18O6\", \"C19H29NO3\"]:\n",
    "    data_save_interpolated[molecule] = (interpolate_data(dict_save[molecule][0], 10000), interpolate_data(dict_save[molecule][1], 10000))\n",
    "\n",
    "\n",
    "def combine_peaks(peaks):\n",
    "    combined_peaks = []\n",
    "    for peak in peaks:\n",
    "        if len(combined_peaks) == 0:\n",
    "            combined_peaks.append(peak)\n",
    "        else:\n",
    "            if peak[0] - combined_peaks[-1][0] < 0.59:\n",
    "                combined_peaks[-1] = (peak[0], peak[1] + combined_peaks[-1][1])\n",
    "            else:\n",
    "                combined_peaks.append(peak)\n",
    "    return combined_peaks"
   ]
  },
  {
   "cell_type": "code",
   "execution_count": null,
   "metadata": {},
   "outputs": [],
   "source": [
    "# canonicize the smiles\n",
    "from rdkit import Chem\n",
    "\n",
    "\n",
    "SMILES_DICT = {\n",
    "    \"C23H30O5\": \"OC1=C(C=O)C(O)=C([C@H](CC(C)C)C[C@@]2(CC[C@@H]3C[C@@H]2C3(C)C)O4)C4=C1C=O\",\n",
    "    \"C13H14O4\": \"CC(C(OC1=CC(C)=C2OC)=O)=C(C1=C2)OC\",\n",
    "    \"C12H15NOS\": \"O=C(NCCSC)/C=C/C1=CC=CC=C1\",\n",
    "    \"C20H18O6\": \"O[C@H](C1=COC2=C1[C@@]3(C)C(C=CC4=C5CCC4=O)=C5C2=O)[C@H]([C@H]3O)OC\",\n",
    "    \"C19H29NO3\": \"CCCCCCCC[C@H]1CCC(C2=C1C(C(OC)=C(C)N2)=O)=O\"\n",
    "}\n",
    "\n",
    "dataframe_spectra = pd.DataFrame(columns=[\"smiles\", \"h_nmr_cnn\", \"c_nmr\"])\n",
    "\n",
    "for index, molecule in enumerate([\"C23H30O5\", \"C13H14O4\", \"C12H15NOS\", \"C20H18O6\", \"C19H29NO3\"]):\n",
    "    print(molecule)\n",
    "    mol = Chem.MolFromSmiles(SMILES_DICT[molecule])\n",
    "    canon_smi = Chem.MolToSmiles(mol)\n",
    "    spectra_hnmr = data_save_interpolated[molecule][1][\"intensity\"].to_numpy()\n",
    "    spectra_hnmr = spectra_hnmr[::-1]\n",
    "    spectra_cnmr = dict_save[molecule][0].loc[dict_save[molecule][0]['intensity'] > 0.01].to_numpy()\n",
    "    combine_peaks_ = np.array(combine_peaks(spectra_cnmr))[:, 0]\n",
    "    dataframe_spectra.loc[index] = [canon_smi, spectra_hnmr, combine_peaks_]\n",
    "\n",
    "dataframe_spectra.to_parquet(\"angewandte_molecules.parquet\")\n"
   ]
  }
 ],
 "metadata": {
  "language_info": {
   "name": "python"
  }
 },
 "nbformat": 4,
 "nbformat_minor": 2
}
