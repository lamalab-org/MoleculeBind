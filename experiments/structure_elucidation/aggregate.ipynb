{
 "cells": [
  {
   "cell_type": "code",
   "execution_count": 13,
   "metadata": {},
   "outputs": [],
   "source": [
    "import json\n",
    "from functools import cache\n",
    "from pathlib import Path\n",
    "from typing import Any\n",
    "\n",
    "import numpy as np\n",
    "import pandas as pd\n",
    "import plotly.express as px\n",
    "from loguru import logger\n",
    "from rdkit import Chem\n",
    "from rdkit.Chem import DataStructs, rdMolDescriptors\n",
    "from rdkit.Chem.GraphDescriptors import BertzCT\n",
    "from tqdm import tqdm"
   ]
  },
  {
   "cell_type": "code",
   "execution_count": 26,
   "metadata": {},
   "outputs": [],
   "source": [
    "def read_json_files(folder_path: str) -> Any:\n",
    "    folder_full_path = f\"{folder_path}\"\n",
    "    folder = Path(folder_full_path)\n",
    "    json_files = folder.rglob(\"*.json\")\n",
    "    results = []\n",
    "\n",
    "    for json_file_path in json_files:\n",
    "        with Path(json_file_path).open(\"r\") as f:\n",
    "            results.append(json.load(f))\n",
    "    json_file_ids = [file.stem for file in list(folder.rglob(\"*.json\"))]\n",
    "    return results, json_file_ids\n",
    "\n",
    "\n",
    "@cache\n",
    "def compute_fingerprint(smiles):\n",
    "    mol = Chem.MolFromSmiles(smiles)\n",
    "    return Chem.RDKFingerprint(mol, maxPath=8, fpSize=2048)\n",
    "\n",
    "\n",
    "@cache\n",
    "def tanimoto_similarity(smiles1, smiles2):\n",
    "    fp1 = compute_fingerprint(smiles1)\n",
    "    fp2 = compute_fingerprint(smiles2)\n",
    "    return DataStructs.FingerprintSimilarity(fp1, fp2, metric=DataStructs.TanimotoSimilarity)\n",
    "\n",
    "\n",
    "@cache\n",
    "def compute_molecular_formula(smiles):\n",
    "    mol = Chem.MolFromSmiles(smiles)\n",
    "    return rdMolDescriptors.CalcMolFormula(mol)\n",
    "\n",
    "\n",
    "def filter_by_molecular_formula(results: list, molecular_formula: str):\n",
    "    filtered_results = []\n",
    "    for result in results:\n",
    "        if compute_molecular_formula(result) == molecular_formula:\n",
    "            filtered_results.append(result)\n",
    "    return filtered_results\n",
    "\n",
    "\n",
    "def filter_final_population(full_results: dict):\n",
    "    all_smiles_in_final_population = [*full_results[\"final_population\"]]\n",
    "    original_smiles_molecular_formula = compute_molecular_formula(full_results[\"original_smiles\"])\n",
    "    return filter_by_molecular_formula(all_smiles_in_final_population, original_smiles_molecular_formula)\n",
    "\n",
    "\n",
    "# max tanimoto initial population\n",
    "def compute_max_tanimoto_initial_population(full_results: dict):\n",
    "    original_smiles = get_original_smiles(full_results)\n",
    "    initial_population = full_results[\"initial_population\"][:20]\n",
    "    tanimoto_similarities = []\n",
    "    for smiles in initial_population:\n",
    "        tanimoto_similarities.append(tanimoto_similarity(original_smiles, smiles))\n",
    "    return max(tanimoto_similarities)\n",
    "\n",
    "\n",
    "def get_original_smiles(full_results: dict):\n",
    "    return full_results[\"original_smiles\"]\n",
    "\n",
    "\n",
    "@cache\n",
    "def compute_molecule_size(smiles):\n",
    "    mol = Chem.MolFromSmiles(smiles)\n",
    "    return mol.GetNumAtoms()\n",
    "\n",
    "\n",
    "@cache\n",
    "def compute_molecular_complexity(smiles):\n",
    "    mol = Chem.MolFromSmiles(smiles)\n",
    "    return BertzCT(mol)\n",
    "\n",
    "\n",
    "def compute_results(full_results: dict):\n",
    "    original_smiles = get_original_smiles(full_results)\n",
    "    filtered_results = filter_final_population(full_results)\n",
    "\n",
    "    tanimoto_similarities = []\n",
    "    for result in filtered_results:\n",
    "        tanimoto_similarities.append(tanimoto_similarity(original_smiles, result))\n",
    "\n",
    "    if not tanimoto_similarities:\n",
    "        return {\n",
    "            \"1\": False,\n",
    "            \"5\": False,\n",
    "            \"10\": False,\n",
    "            \"max\": 0,\n",
    "            \"best_score\": 0,\n",
    "            \"mol_size\": compute_molecule_size(original_smiles),\n",
    "        }\n",
    "    return {\n",
    "        \"1\": tanimoto_similarities[0] == 1,\n",
    "        \"5\": 1 in tanimoto_similarities[:5],\n",
    "        \"10\": 1 in tanimoto_similarities[:10],\n",
    "        \"Found\": 1 in tanimoto_similarities,\n",
    "        \"max\": tanimoto_similarities[0],\n",
    "        \"best_score\": full_results[\"final_population\"][filtered_results[0]],\n",
    "        \"mol_size\": compute_molecule_size(original_smiles),\n",
    "        \"max_initial_population\": compute_max_tanimoto_initial_population(full_results),\n",
    "        \"molecular_complexity\": compute_molecular_complexity(original_smiles),\n",
    "    }\n",
    "\n",
    "\n",
    "def stats_save(seed, folder_path):\n",
    "    ex, ids = read_json_files(folder_path)\n",
    "    stats = {}\n",
    "    for i, result in enumerate(tqdm(ex)):\n",
    "        stats[int(ids[i])] = compute_results(result)\n",
    "\n",
    "    data_as_df = pd.DataFrame(stats).T.sort_index()\n",
    "    data_as_df.index.name = \"molecule_id\"\n",
    "    data_as_df.to_csv(f\"results_{seed}.csv\")\n",
    "    # logger.info(f\"Saved stats for seed {seed}\")\n",
    "    stats = data_as_df.mean()\n",
    "    # logger.info(f\"Mean stats for seed {seed}: <br>{stats}\")\n",
    "    # logger.info(f\"{len(data_as_df)} molecules in seed {seed}\")\n",
    "    return data_as_df"
   ]
  },
  {
   "cell_type": "code",
   "execution_count": 24,
   "metadata": {},
   "outputs": [],
   "source": [
    "\n",
    "def merge_json_values(file_paths: list[str]) -> dict[str, list[Any]]:\n",
    "    \"\"\"\n",
    "    Reads multiple JSON files and combines values for matching keys.\n",
    "\n",
    "    Args:\n",
    "        file_paths (List[str]): List of paths to JSON files\n",
    "\n",
    "    Returns:\n",
    "        Dict[str, List[Any]]: Dictionary where each key maps to a list of values from all files\n",
    "    \"\"\"\n",
    "    # try:\n",
    "    # Initialize result dictionary\n",
    "    combined_data: dict[str, list[Any]] = {}\n",
    "\n",
    "    # Process each file\n",
    "    for file_path in file_paths:\n",
    "        with Path(file_path).open(\"r\") as f:\n",
    "            data = json.load(f)\n",
    "\n",
    "            # For first file, initialize lists for each key\n",
    "            if not combined_data:\n",
    "                combined_data = {key: [value] for key, value in data.items()}\n",
    "            else:\n",
    "                # Verify keys match\n",
    "                if set(data.keys()) != set(combined_data.keys()):\n",
    "                    raise ValueError(f\"Keys in {file_path} don't match the keys in other files\")\n",
    "\n",
    "                # Append values to existing lists\n",
    "                for key, value in data.items():\n",
    "                    combined_data[key].append(value)\n",
    "    # combined_data[\"final_population\"] = [{smiles:score}, {smiles:score}, ...]\n",
    "    # list of keys\n",
    "    list_of_keys_final_population = [list(d.keys()) for d in combined_data[\"final_population\"]]\n",
    "    list_of_keys_final_population = [item for sublist in list_of_keys_final_population for item in sublist]\n",
    "    list_of_values_final_population = [list(d.values()) for d in combined_data[\"final_population\"]]\n",
    "    list_of_values_final_population = [item for sublist in list_of_values_final_population for item in sublist]\n",
    "    dataframe = pd.DataFrame({\"smiles\": list_of_keys_final_population, \"score\": list_of_values_final_population})\n",
    "    # dataframe.to_csv(\"temp.csv\")\n",
    "    # only unique smiles and highest score\n",
    "    dataframe = dataframe.groupby(\"smiles\").max().reset_index()\n",
    "    # combined_data[\"final_population\"] = dict(ChainMap(*combined_data[\"final_population\"]))\n",
    "    combined_data[\"final_population\"] = dict(zip(dataframe[\"smiles\"], dataframe[\"score\"]))\n",
    "    # final_population sorted by score final_population: {smiles: score}\n",
    "    combined_data[\"final_population\"] = dict(sorted(combined_data[\"final_population\"].items(), key=lambda x: x[1], reverse=True))\n",
    "    combined_data[\"initial_population\"] = combined_data[\"initial_population\"][0]\n",
    "    combined_data[\"best_score\"] = combined_data[\"final_population\"][list(combined_data[\"final_population\"].keys())[0]]\n",
    "    combined_data[\"original_smiles\"] = combined_data[\"original_smiles\"][0]\n",
    "    combined_data[\"tanimoto_similarity\"] = tanimoto_similarity(\n",
    "        combined_data[\"original_smiles\"], list(combined_data[\"final_population\"].keys())[0]\n",
    "    )\n",
    "    combined_data[\"best_individual\"] = list(combined_data[\"final_population\"].keys())[0]\n",
    "    return combined_data\n",
    "\n",
    "\n",
    "def save_combined_json(combined_data: dict[str, list[Any]], output_path: str) -> None:\n",
    "    \"\"\"\n",
    "    Saves the combined data to a JSON file.\n",
    "\n",
    "    Args:\n",
    "        combined_data (Dict[str, List[Any]]): Combined data to save\n",
    "        output_path (str): Path where to save the combined JSON\n",
    "    \"\"\"\n",
    "    with Path(output_path).open(\"w\") as f:\n",
    "        json.dump(combined_data, f, indent=2)\n",
    "\n",
    "\n",
    "def json_files(parent_folder_pattern: str, range_number: int = 1001) -> None:\n",
    "    from glob import glob\n",
    "\n",
    "    for i in range(range_number):\n",
    "        try:\n",
    "            files = glob(f\"{parent_folder_pattern}*/{i}.json\")\n",
    "            # files = [file for file in files if \"seed_1000\" not in file]\n",
    "            # Combine the data\n",
    "            result = merge_json_values(files)\n",
    "            if result:\n",
    "                # Optionally save to a new JSON file\n",
    "                save_combined_json(result, f\"{parent_folder_pattern}/{i}.json\")\n",
    "        except Exception as e:\n",
    "            print(i)\n",
    "            continue\n",
    "\n",
    "\n",
    "json_files(\"final_results_graphga\", 1001)"
   ]
  },
  {
   "cell_type": "code",
   "execution_count": 27,
   "metadata": {},
   "outputs": [
    {
     "name": "stderr",
     "output_type": "stream",
     "text": [
      " 11%|█         | 111/1001 [00:25<03:23,  4.37it/s][10:56:52] WARNING: not removing hydrogen atom without neighbors\n",
      "[10:56:52] WARNING: not removing hydrogen atom without neighbors\n",
      "[10:56:52] WARNING: not removing hydrogen atom without neighbors\n",
      " 22%|██▏       | 220/1001 [00:54<03:17,  3.95it/s][10:57:21] WARNING: not removing hydrogen atom without neighbors\n",
      "[10:57:21] WARNING: not removing hydrogen atom without neighbors\n",
      " 28%|██▊       | 283/1001 [01:10<02:55,  4.09it/s][10:57:38] WARNING: not removing hydrogen atom without neighbors\n",
      " 50%|████▉     | 498/1001 [02:02<03:12,  2.62it/s][10:58:30] WARNING: not removing hydrogen atom without neighbors\n",
      "[10:58:30] WARNING: not removing hydrogen atom without neighbors\n",
      " 84%|████████▍ | 839/1001 [03:36<00:29,  5.53it/s][11:00:03] WARNING: not removing hydrogen atom without neighbors\n",
      "[11:00:03] WARNING: not removing hydrogen atom without neighbors\n",
      "[11:00:03] WARNING: not removing hydrogen atom without neighbors\n",
      "[11:00:03] WARNING: not removing hydrogen atom without neighbors\n",
      "[11:00:03] WARNING: not removing hydrogen atom without neighbors\n",
      "100%|█████████▉| 1000/1001 [04:16<00:00,  4.44it/s][11:00:43] WARNING: not removing hydrogen atom without neighbors\n",
      "[11:00:43] WARNING: not removing hydrogen atom without neighbors\n",
      "[11:00:43] WARNING: not removing hydrogen atom without neighbors\n",
      "[11:00:43] WARNING: not removing hydrogen atom without neighbors\n",
      "100%|██████████| 1001/1001 [04:16<00:00,  3.90it/s]\n",
      "\u001b[32m2024-11-12 11:00:43.782\u001b[0m | \u001b[1mINFO    \u001b[0m | \u001b[36m__main__\u001b[0m:\u001b[36m<module>\u001b[0m:\u001b[36m46\u001b[0m - \u001b[1mTop 1 overall: 0.7602397602397603\u001b[0m\n",
      "\u001b[32m2024-11-12 11:00:43.783\u001b[0m | \u001b[1mINFO    \u001b[0m | \u001b[36m__main__\u001b[0m:\u001b[36m<module>\u001b[0m:\u001b[36m47\u001b[0m - \u001b[1mTop 5 overall: 0.8781218781218781\u001b[0m\n",
      "\u001b[32m2024-11-12 11:00:43.783\u001b[0m | \u001b[1mINFO    \u001b[0m | \u001b[36m__main__\u001b[0m:\u001b[36m<module>\u001b[0m:\u001b[36m48\u001b[0m - \u001b[1mTop 10 overall: 0.8891108891108891\u001b[0m\n",
      "\u001b[32m2024-11-12 11:00:43.783\u001b[0m | \u001b[1mINFO    \u001b[0m | \u001b[36m__main__\u001b[0m:\u001b[36m<module>\u001b[0m:\u001b[36m49\u001b[0m - \u001b[1mPercentage found: 0.8981018981018981\u001b[0m\n"
     ]
    }
   ],
   "source": [
    "def count_correct_seed(stats, top_n=1):\n",
    "    return stats[stats[f\"{top_n}\"] == 1].__len__()\n",
    "\n",
    "\n",
    "def check_no_true_duplicates(all_stats: list):\n",
    "    # concatenate all dataframes\n",
    "    all_stats = pd.concat(all_stats)\n",
    "    all_stats.reset_index(inplace=True)\n",
    "    # keep the duplicate with the highest score\n",
    "    all_stats = (\n",
    "        all_stats.sort_values(\"best_score\", ascending=False)\n",
    "        .drop_duplicates(\"molecule_id\")\n",
    "        .sort_values(\"molecule_id\")\n",
    "        .reset_index(drop=True)\n",
    "    )\n",
    "    all_stats.to_csv(\"all_stats.csv\")\n",
    "    return True\n",
    "\n",
    "\n",
    "def count_scores(seeds: list[int], folder_path=\"final_results_graphga\") -> tuple:\n",
    "    top_1_seeds, top_5_seeds, top_10_seeds, top_50_seeds = [], [], [], []\n",
    "    all_stats = []\n",
    "    for seed in seeds:\n",
    "        stats = stats_save(seed, folder_path)\n",
    "        len_seed = len(stats)\n",
    "        all_stats.append(stats)\n",
    "        top_1 = count_correct_seed(stats, 1)\n",
    "        top_5 = count_correct_seed(stats, 5)\n",
    "        top_10 = count_correct_seed(stats, 10)\n",
    "        top_50 = count_correct_seed(stats, \"Found\")\n",
    "        top_1_seeds.append(top_1)\n",
    "        top_5_seeds.append(top_5)\n",
    "        top_10_seeds.append(top_10)\n",
    "        top_50_seeds.append(top_50)\n",
    "    check_no_true_duplicates(all_stats)\n",
    "    overall_top_1 = sum(top_1_seeds) / len_seed\n",
    "    overall_top_5 = sum(top_5_seeds) / len_seed\n",
    "    overall_top_10 = sum(top_10_seeds) / len_seed\n",
    "    overall_top_50 = sum(top_50_seeds) / len_seed\n",
    "    return overall_top_1, overall_top_5, overall_top_10, overall_top_50\n",
    "\n",
    "\n",
    "# for i in [555, 333, 222, 888]:\n",
    "#     top_1, top_5, top_10, top_50 = count_scores([i])\n",
    "top_overall_1, top_overall_5, top_overall_10, top_overall_50 = count_scores([1000], \"final_results_graphga\")\n",
    "logger.info(f\"Top 1 overall: {top_overall_1}\")\n",
    "logger.info(f\"Top 5 overall: {top_overall_5}\")\n",
    "logger.info(f\"Top 10 overall: {top_overall_10}\")\n",
    "logger.info(f\"Percentage found: {top_overall_50}\")\n"
   ]
  },
  {
   "cell_type": "code",
   "execution_count": 29,
   "metadata": {},
   "outputs": [
    {
     "data": {
      "application/vnd.plotly.v1+json": {
       "config": {
        "plotlyServerURL": "https://plot.ly"
       },
       "data": [
        {
         "marker": {
          "color": "rgba(152, 86, 86, 0.3)"
         },
         "orientation": "h",
         "showlegend": false,
         "type": "bar",
         "width": 0.6,
         "x": [
          0.6699
         ],
         "y": [
          "ref. top 1"
         ]
        },
        {
         "marker": {
          "color": "rgba(152, 86, 86, 0.7)"
         },
         "orientation": "h",
         "showlegend": false,
         "type": "bar",
         "width": 0.6,
         "x": [
          0.7602397602397603
         ],
         "y": [
          "top 1"
         ]
        },
        {
         "marker": {
          "color": "rgba(86, 86, 152, 0.3)"
         },
         "orientation": "h",
         "showlegend": false,
         "type": "bar",
         "width": 0.6,
         "x": [
          0.8409
         ],
         "y": [
          "ref. top 5"
         ]
        },
        {
         "marker": {
          "color": "rgba(86, 86, 152, 0.7)"
         },
         "orientation": "h",
         "showlegend": false,
         "type": "bar",
         "width": 0.6,
         "x": [
          0.8781218781218781
         ],
         "y": [
          "top 5"
         ]
        },
        {
         "marker": {
          "color": "rgba(86, 86, 86, 0.7)"
         },
         "orientation": "h",
         "showlegend": false,
         "type": "bar",
         "width": 0.6,
         "x": [
          0.8981018981018981
         ],
         "y": [
          "in the population"
         ]
        }
       ],
       "layout": {
        "annotations": [
         {
          "font": {
           "color": "rgb(120, 120, 120)"
          },
          "showarrow": false,
          "text": "perfect score",
          "textangle": 90,
          "x": 1.01,
          "xanchor": "left",
          "xref": "x",
          "y": 0.7,
          "yanchor": "top",
          "yref": "y domain"
         }
        ],
        "bargap": 0.15,
        "bargroupgap": 0.03,
        "font": {
         "color": "rgb(120, 120, 120)"
        },
        "height": 305,
        "margin": {
         "b": 40,
         "l": 40,
         "r": 20,
         "t": 20
        },
        "plot_bgcolor": "white",
        "shapes": [
         {
          "line": {
           "color": "rgb(120, 120, 120)",
           "width": 1
          },
          "type": "line",
          "x0": 0,
          "x1": 1,
          "xref": "paper",
          "y0": -0.5,
          "y1": -0.5,
          "yref": "y"
         },
         {
          "line": {
           "color": "rgb(120, 120, 120)",
           "width": 1
          },
          "type": "line",
          "x0": 0,
          "x1": 0,
          "xref": "x",
          "y0": 0,
          "y1": 1,
          "yref": "paper"
         },
         {
          "line": {
           "color": "rgb(120, 120, 120)",
           "dash": "dot"
          },
          "type": "line",
          "x0": 1,
          "x1": 1,
          "xref": "x",
          "y0": 0,
          "y1": 1,
          "yref": "y domain"
         }
        ],
        "template": {
         "data": {
          "bar": [
           {
            "error_x": {
             "color": "#2a3f5f"
            },
            "error_y": {
             "color": "#2a3f5f"
            },
            "marker": {
             "line": {
              "color": "white",
              "width": 0.5
             },
             "pattern": {
              "fillmode": "overlay",
              "size": 10,
              "solidity": 0.2
             }
            },
            "type": "bar"
           }
          ],
          "barpolar": [
           {
            "marker": {
             "line": {
              "color": "white",
              "width": 0.5
             },
             "pattern": {
              "fillmode": "overlay",
              "size": 10,
              "solidity": 0.2
             }
            },
            "type": "barpolar"
           }
          ],
          "carpet": [
           {
            "aaxis": {
             "endlinecolor": "#2a3f5f",
             "gridcolor": "#C8D4E3",
             "linecolor": "#C8D4E3",
             "minorgridcolor": "#C8D4E3",
             "startlinecolor": "#2a3f5f"
            },
            "baxis": {
             "endlinecolor": "#2a3f5f",
             "gridcolor": "#C8D4E3",
             "linecolor": "#C8D4E3",
             "minorgridcolor": "#C8D4E3",
             "startlinecolor": "#2a3f5f"
            },
            "type": "carpet"
           }
          ],
          "choropleth": [
           {
            "colorbar": {
             "outlinewidth": 0,
             "ticks": ""
            },
            "type": "choropleth"
           }
          ],
          "contour": [
           {
            "colorbar": {
             "outlinewidth": 0,
             "ticks": ""
            },
            "colorscale": [
             [
              0,
              "#0d0887"
             ],
             [
              0.1111111111111111,
              "#46039f"
             ],
             [
              0.2222222222222222,
              "#7201a8"
             ],
             [
              0.3333333333333333,
              "#9c179e"
             ],
             [
              0.4444444444444444,
              "#bd3786"
             ],
             [
              0.5555555555555556,
              "#d8576b"
             ],
             [
              0.6666666666666666,
              "#ed7953"
             ],
             [
              0.7777777777777778,
              "#fb9f3a"
             ],
             [
              0.8888888888888888,
              "#fdca26"
             ],
             [
              1,
              "#f0f921"
             ]
            ],
            "type": "contour"
           }
          ],
          "contourcarpet": [
           {
            "colorbar": {
             "outlinewidth": 0,
             "ticks": ""
            },
            "type": "contourcarpet"
           }
          ],
          "heatmap": [
           {
            "colorbar": {
             "outlinewidth": 0,
             "ticks": ""
            },
            "colorscale": [
             [
              0,
              "#0d0887"
             ],
             [
              0.1111111111111111,
              "#46039f"
             ],
             [
              0.2222222222222222,
              "#7201a8"
             ],
             [
              0.3333333333333333,
              "#9c179e"
             ],
             [
              0.4444444444444444,
              "#bd3786"
             ],
             [
              0.5555555555555556,
              "#d8576b"
             ],
             [
              0.6666666666666666,
              "#ed7953"
             ],
             [
              0.7777777777777778,
              "#fb9f3a"
             ],
             [
              0.8888888888888888,
              "#fdca26"
             ],
             [
              1,
              "#f0f921"
             ]
            ],
            "type": "heatmap"
           }
          ],
          "heatmapgl": [
           {
            "colorbar": {
             "outlinewidth": 0,
             "ticks": ""
            },
            "colorscale": [
             [
              0,
              "#0d0887"
             ],
             [
              0.1111111111111111,
              "#46039f"
             ],
             [
              0.2222222222222222,
              "#7201a8"
             ],
             [
              0.3333333333333333,
              "#9c179e"
             ],
             [
              0.4444444444444444,
              "#bd3786"
             ],
             [
              0.5555555555555556,
              "#d8576b"
             ],
             [
              0.6666666666666666,
              "#ed7953"
             ],
             [
              0.7777777777777778,
              "#fb9f3a"
             ],
             [
              0.8888888888888888,
              "#fdca26"
             ],
             [
              1,
              "#f0f921"
             ]
            ],
            "type": "heatmapgl"
           }
          ],
          "histogram": [
           {
            "marker": {
             "pattern": {
              "fillmode": "overlay",
              "size": 10,
              "solidity": 0.2
             }
            },
            "type": "histogram"
           }
          ],
          "histogram2d": [
           {
            "colorbar": {
             "outlinewidth": 0,
             "ticks": ""
            },
            "colorscale": [
             [
              0,
              "#0d0887"
             ],
             [
              0.1111111111111111,
              "#46039f"
             ],
             [
              0.2222222222222222,
              "#7201a8"
             ],
             [
              0.3333333333333333,
              "#9c179e"
             ],
             [
              0.4444444444444444,
              "#bd3786"
             ],
             [
              0.5555555555555556,
              "#d8576b"
             ],
             [
              0.6666666666666666,
              "#ed7953"
             ],
             [
              0.7777777777777778,
              "#fb9f3a"
             ],
             [
              0.8888888888888888,
              "#fdca26"
             ],
             [
              1,
              "#f0f921"
             ]
            ],
            "type": "histogram2d"
           }
          ],
          "histogram2dcontour": [
           {
            "colorbar": {
             "outlinewidth": 0,
             "ticks": ""
            },
            "colorscale": [
             [
              0,
              "#0d0887"
             ],
             [
              0.1111111111111111,
              "#46039f"
             ],
             [
              0.2222222222222222,
              "#7201a8"
             ],
             [
              0.3333333333333333,
              "#9c179e"
             ],
             [
              0.4444444444444444,
              "#bd3786"
             ],
             [
              0.5555555555555556,
              "#d8576b"
             ],
             [
              0.6666666666666666,
              "#ed7953"
             ],
             [
              0.7777777777777778,
              "#fb9f3a"
             ],
             [
              0.8888888888888888,
              "#fdca26"
             ],
             [
              1,
              "#f0f921"
             ]
            ],
            "type": "histogram2dcontour"
           }
          ],
          "mesh3d": [
           {
            "colorbar": {
             "outlinewidth": 0,
             "ticks": ""
            },
            "type": "mesh3d"
           }
          ],
          "parcoords": [
           {
            "line": {
             "colorbar": {
              "outlinewidth": 0,
              "ticks": ""
             }
            },
            "type": "parcoords"
           }
          ],
          "pie": [
           {
            "automargin": true,
            "type": "pie"
           }
          ],
          "scatter": [
           {
            "fillpattern": {
             "fillmode": "overlay",
             "size": 10,
             "solidity": 0.2
            },
            "type": "scatter"
           }
          ],
          "scatter3d": [
           {
            "line": {
             "colorbar": {
              "outlinewidth": 0,
              "ticks": ""
             }
            },
            "marker": {
             "colorbar": {
              "outlinewidth": 0,
              "ticks": ""
             }
            },
            "type": "scatter3d"
           }
          ],
          "scattercarpet": [
           {
            "marker": {
             "colorbar": {
              "outlinewidth": 0,
              "ticks": ""
             }
            },
            "type": "scattercarpet"
           }
          ],
          "scattergeo": [
           {
            "marker": {
             "colorbar": {
              "outlinewidth": 0,
              "ticks": ""
             }
            },
            "type": "scattergeo"
           }
          ],
          "scattergl": [
           {
            "marker": {
             "colorbar": {
              "outlinewidth": 0,
              "ticks": ""
             }
            },
            "type": "scattergl"
           }
          ],
          "scattermapbox": [
           {
            "marker": {
             "colorbar": {
              "outlinewidth": 0,
              "ticks": ""
             }
            },
            "type": "scattermapbox"
           }
          ],
          "scatterpolar": [
           {
            "marker": {
             "colorbar": {
              "outlinewidth": 0,
              "ticks": ""
             }
            },
            "type": "scatterpolar"
           }
          ],
          "scatterpolargl": [
           {
            "marker": {
             "colorbar": {
              "outlinewidth": 0,
              "ticks": ""
             }
            },
            "type": "scatterpolargl"
           }
          ],
          "scatterternary": [
           {
            "marker": {
             "colorbar": {
              "outlinewidth": 0,
              "ticks": ""
             }
            },
            "type": "scatterternary"
           }
          ],
          "surface": [
           {
            "colorbar": {
             "outlinewidth": 0,
             "ticks": ""
            },
            "colorscale": [
             [
              0,
              "#0d0887"
             ],
             [
              0.1111111111111111,
              "#46039f"
             ],
             [
              0.2222222222222222,
              "#7201a8"
             ],
             [
              0.3333333333333333,
              "#9c179e"
             ],
             [
              0.4444444444444444,
              "#bd3786"
             ],
             [
              0.5555555555555556,
              "#d8576b"
             ],
             [
              0.6666666666666666,
              "#ed7953"
             ],
             [
              0.7777777777777778,
              "#fb9f3a"
             ],
             [
              0.8888888888888888,
              "#fdca26"
             ],
             [
              1,
              "#f0f921"
             ]
            ],
            "type": "surface"
           }
          ],
          "table": [
           {
            "cells": {
             "fill": {
              "color": "#EBF0F8"
             },
             "line": {
              "color": "white"
             }
            },
            "header": {
             "fill": {
              "color": "#C8D4E3"
             },
             "line": {
              "color": "white"
             }
            },
            "type": "table"
           }
          ]
         },
         "layout": {
          "annotationdefaults": {
           "arrowcolor": "#2a3f5f",
           "arrowhead": 0,
           "arrowwidth": 1
          },
          "autotypenumbers": "strict",
          "coloraxis": {
           "colorbar": {
            "outlinewidth": 0,
            "ticks": ""
           }
          },
          "colorscale": {
           "diverging": [
            [
             0,
             "#8e0152"
            ],
            [
             0.1,
             "#c51b7d"
            ],
            [
             0.2,
             "#de77ae"
            ],
            [
             0.3,
             "#f1b6da"
            ],
            [
             0.4,
             "#fde0ef"
            ],
            [
             0.5,
             "#f7f7f7"
            ],
            [
             0.6,
             "#e6f5d0"
            ],
            [
             0.7,
             "#b8e186"
            ],
            [
             0.8,
             "#7fbc41"
            ],
            [
             0.9,
             "#4d9221"
            ],
            [
             1,
             "#276419"
            ]
           ],
           "sequential": [
            [
             0,
             "#0d0887"
            ],
            [
             0.1111111111111111,
             "#46039f"
            ],
            [
             0.2222222222222222,
             "#7201a8"
            ],
            [
             0.3333333333333333,
             "#9c179e"
            ],
            [
             0.4444444444444444,
             "#bd3786"
            ],
            [
             0.5555555555555556,
             "#d8576b"
            ],
            [
             0.6666666666666666,
             "#ed7953"
            ],
            [
             0.7777777777777778,
             "#fb9f3a"
            ],
            [
             0.8888888888888888,
             "#fdca26"
            ],
            [
             1,
             "#f0f921"
            ]
           ],
           "sequentialminus": [
            [
             0,
             "#0d0887"
            ],
            [
             0.1111111111111111,
             "#46039f"
            ],
            [
             0.2222222222222222,
             "#7201a8"
            ],
            [
             0.3333333333333333,
             "#9c179e"
            ],
            [
             0.4444444444444444,
             "#bd3786"
            ],
            [
             0.5555555555555556,
             "#d8576b"
            ],
            [
             0.6666666666666666,
             "#ed7953"
            ],
            [
             0.7777777777777778,
             "#fb9f3a"
            ],
            [
             0.8888888888888888,
             "#fdca26"
            ],
            [
             1,
             "#f0f921"
            ]
           ]
          },
          "colorway": [
           "#636efa",
           "#EF553B",
           "#00cc96",
           "#ab63fa",
           "#FFA15A",
           "#19d3f3",
           "#FF6692",
           "#B6E880",
           "#FF97FF",
           "#FECB52"
          ],
          "font": {
           "color": "#2a3f5f"
          },
          "geo": {
           "bgcolor": "white",
           "lakecolor": "white",
           "landcolor": "white",
           "showlakes": true,
           "showland": true,
           "subunitcolor": "#C8D4E3"
          },
          "hoverlabel": {
           "align": "left"
          },
          "hovermode": "closest",
          "mapbox": {
           "style": "light"
          },
          "paper_bgcolor": "white",
          "plot_bgcolor": "white",
          "polar": {
           "angularaxis": {
            "gridcolor": "#EBF0F8",
            "linecolor": "#EBF0F8",
            "ticks": ""
           },
           "bgcolor": "white",
           "radialaxis": {
            "gridcolor": "#EBF0F8",
            "linecolor": "#EBF0F8",
            "ticks": ""
           }
          },
          "scene": {
           "xaxis": {
            "backgroundcolor": "white",
            "gridcolor": "#DFE8F3",
            "gridwidth": 2,
            "linecolor": "#EBF0F8",
            "showbackground": true,
            "ticks": "",
            "zerolinecolor": "#EBF0F8"
           },
           "yaxis": {
            "backgroundcolor": "white",
            "gridcolor": "#DFE8F3",
            "gridwidth": 2,
            "linecolor": "#EBF0F8",
            "showbackground": true,
            "ticks": "",
            "zerolinecolor": "#EBF0F8"
           },
           "zaxis": {
            "backgroundcolor": "white",
            "gridcolor": "#DFE8F3",
            "gridwidth": 2,
            "linecolor": "#EBF0F8",
            "showbackground": true,
            "ticks": "",
            "zerolinecolor": "#EBF0F8"
           }
          },
          "shapedefaults": {
           "line": {
            "color": "#2a3f5f"
           }
          },
          "ternary": {
           "aaxis": {
            "gridcolor": "#DFE8F3",
            "linecolor": "#A2B1C6",
            "ticks": ""
           },
           "baxis": {
            "gridcolor": "#DFE8F3",
            "linecolor": "#A2B1C6",
            "ticks": ""
           },
           "bgcolor": "white",
           "caxis": {
            "gridcolor": "#DFE8F3",
            "linecolor": "#A2B1C6",
            "ticks": ""
           }
          },
          "title": {
           "x": 0.05
          },
          "xaxis": {
           "automargin": true,
           "gridcolor": "#EBF0F8",
           "linecolor": "#EBF0F8",
           "ticks": "",
           "title": {
            "standoff": 15
           },
           "zerolinecolor": "#EBF0F8",
           "zerolinewidth": 2
          },
          "yaxis": {
           "automargin": true,
           "gridcolor": "#EBF0F8",
           "linecolor": "#EBF0F8",
           "ticks": "",
           "title": {
            "standoff": 15
           },
           "zerolinecolor": "#EBF0F8",
           "zerolinewidth": 2
          }
         }
        },
        "width": 493.49,
        "xaxis": {
         "range": [
          0,
          1.02
         ],
         "showgrid": false,
         "showline": false,
         "tickcolor": "rgb(120, 120, 120)",
         "tickformat": ".1f",
         "ticklen": 5,
         "ticks": "outside",
         "tickvals": [
          0,
          0.2,
          0.4,
          0.6000000000000001,
          0.8,
          1
         ],
         "tickwidth": 1,
         "title": {
          "text": "fraction of correct predictions"
         },
         "zeroline": false
        },
        "yaxis": {
         "gridcolor": "rgba(173, 216, 230, 0.3)",
         "gridwidth": 1,
         "showgrid": false,
         "showline": false,
         "tickcolor": "rgb(120, 120, 120)",
         "ticklen": 5,
         "ticks": "outside",
         "tickwidth": 1,
         "title": {
          "text": "metric"
         },
         "zeroline": false
        }
       }
      }
     },
     "metadata": {},
     "output_type": "display_data"
    }
   ],
   "source": [
    "import plotly.graph_objects as go\n",
    "\n",
    "\n",
    "def create_barchart(top_1, top_5, top_10, top_50):\n",
    "    best_literature_top_1, best_literature_top_5, best_literature_top_10 = 0.6699, 0.8409, 0.8650\n",
    "    dataframe_plot = pd.DataFrame(\n",
    "        {\n",
    "            \"Metric\": [\n",
    "                \"ref. top 1\",\n",
    "                \"top 1\",\n",
    "                \"ref. top 5\",\n",
    "                \"top 5\",\n",
    "                \"in the population\",\n",
    "            ],\n",
    "            \"Value\": [best_literature_top_1, top_1, best_literature_top_5, top_5, top_50],\n",
    "        }\n",
    "    )\n",
    "\n",
    "    custom_colors = {\n",
    "        \"ref. top 1\": \"rgba(152, 86, 86, 0.3)\",\n",
    "        \"top 1\": \"rgba(152, 86, 86, 0.7)\",\n",
    "        \"ref. top 5\": \"rgba(86, 86, 152, 0.3)\",\n",
    "        \"top 5\": \"rgba(86, 86, 152, 0.7)\",\n",
    "        \"in the population\": \"rgba(86, 86, 86, 0.7)\",\n",
    "    }\n",
    "\n",
    "    # Create figure\n",
    "    fig = go.Figure()\n",
    "\n",
    "    # Add bars\n",
    "    for metric in dataframe_plot[\"Metric\"]:\n",
    "        fig.add_trace(\n",
    "            go.Bar(\n",
    "                x=[dataframe_plot[dataframe_plot[\"Metric\"] == metric][\"Value\"].iloc[0]],\n",
    "                y=[metric],\n",
    "                orientation=\"h\",\n",
    "                marker_color=custom_colors[metric],\n",
    "                width=0.6,\n",
    "                showlegend=False,\n",
    "            )\n",
    "        )\n",
    "\n",
    "    # Update layout\n",
    "    sizing = 305\n",
    "    fig.update_layout(\n",
    "        template=\"plotly_white\",\n",
    "        width=sizing * 1.618,\n",
    "        height=sizing,\n",
    "        margin={\"l\": 40, \"r\": 20, \"t\": 20, \"b\": 40},\n",
    "        plot_bgcolor=\"white\",\n",
    "        font={\"color\": \"rgb(120, 120, 120)\"},\n",
    "        bargap=0.15,\n",
    "        bargroupgap=0.03,\n",
    "        shapes=[\n",
    "            # Add x-axis line\n",
    "            {\n",
    "                \"type\": \"line\",\n",
    "                \"xref\": \"paper\",\n",
    "                \"yref\": \"y\",\n",
    "                \"x0\": 0,\n",
    "                \"x1\": 1,\n",
    "                \"y0\": -0.5,\n",
    "                \"y1\": -0.5,  # Position below the bottom bar\n",
    "                \"line\": {\"color\": \"rgb(120, 120, 120)\", \"width\": 1},\n",
    "            },\n",
    "            # Add y-axis line\n",
    "            {\n",
    "                \"type\": \"line\",\n",
    "                \"xref\": \"x\",\n",
    "                \"yref\": \"paper\",\n",
    "                \"x0\": 0,\n",
    "                \"y0\": 0,\n",
    "                \"x1\": 0,\n",
    "                \"y1\": 1,\n",
    "                \"line\": {\"color\": \"rgb(120, 120, 120)\", \"width\": 1},\n",
    "            },\n",
    "        ],\n",
    "    )\n",
    "\n",
    "    # Update x-axis\n",
    "    fig.update_xaxes(\n",
    "        title_text=\"fraction of correct predictions\",\n",
    "        range=[-0.0, 1.02],  # Add padding\n",
    "        showgrid=False,\n",
    "        zeroline=False,\n",
    "        showline=False,\n",
    "        ticks=\"outside\",\n",
    "        tickwidth=1,\n",
    "        tickcolor=\"rgb(120, 120, 120)\",\n",
    "        ticklen=5,\n",
    "        tickvals=np.arange(0, 1.2, 0.2),\n",
    "        tickformat=\".1f\",\n",
    "    )\n",
    "\n",
    "    # Update y-axis\n",
    "    fig.update_yaxes(\n",
    "        title_text=\"metric\",\n",
    "        showgrid=True,\n",
    "        gridwidth=1,\n",
    "        gridcolor=\"rgba(173, 216, 230, 0.3)\",\n",
    "        zeroline=False,\n",
    "        showline=False,\n",
    "        ticks=\"outside\",\n",
    "        tickwidth=1,\n",
    "        tickcolor=\"rgb(120, 120, 120)\",\n",
    "        ticklen=5,\n",
    "    )\n",
    "\n",
    "    # Add reference line for perfect score\n",
    "    fig.add_vline(\n",
    "        x=1,\n",
    "        line_dash=\"dot\",\n",
    "        line_color=\"rgb(120, 120, 120)\",\n",
    "        annotation={\n",
    "            \"text\": \"perfect score\",\n",
    "            \"textangle\": 90,\n",
    "            \"x\": 1.01,\n",
    "            \"yref\": \"paper\",\n",
    "            \"y\": 0.7,\n",
    "            \"showarrow\": False,\n",
    "            \"font\": {\"color\": \"rgb(120, 120, 120)\"},\n",
    "        },\n",
    "    )\n",
    "    # remove grid\n",
    "    fig.update_xaxes(showgrid=False)\n",
    "    fig.update_yaxes(showgrid=False)\n",
    "    fig.write_image(\"figures/barchart.pdf\", scale=2)\n",
    "    fig.show()\n",
    "    return fig\n",
    "\n",
    "\n",
    "# Usage:\n",
    "fig = create_barchart(top_overall_1, top_overall_5, top_overall_10, top_overall_50)"
   ]
  },
  {
   "cell_type": "code",
   "execution_count": 30,
   "metadata": {},
   "outputs": [
    {
     "data": {
      "application/vnd.plotly.v1+json": {
       "config": {
        "plotlyServerURL": "https://plot.ly"
       },
       "data": [
        {
         "alignmentgroup": "True",
         "bingroup": "x",
         "hovertemplate": "Top 1=True<br>mol_size=%{x}<br>count=%{y}<extra></extra>",
         "legendgroup": "True",
         "marker": {
          "color": "rgb(152, 86, 86)",
          "line": {
           "color": "DarkSlateGrey",
           "width": 0.2
          },
          "opacity": 0.5,
          "pattern": {
           "shape": ""
          }
         },
         "name": "True",
         "nbinsx": 30,
         "offsetgroup": "True",
         "opacity": 1,
         "orientation": "v",
         "showlegend": true,
         "type": "histogram",
         "x": [
          22,
          16,
          18,
          18,
          24,
          29,
          13,
          35,
          13,
          20,
          27,
          21,
          29,
          25,
          22,
          19,
          23,
          18,
          24,
          30,
          12,
          17,
          14,
          31,
          14,
          20,
          23,
          31,
          15,
          25,
          34,
          15,
          33,
          18,
          26,
          10,
          21,
          30,
          33,
          28,
          18,
          24,
          23,
          27,
          15,
          28,
          28,
          18,
          22,
          17,
          15,
          28,
          18,
          32,
          27,
          13,
          20,
          16,
          29,
          25,
          29,
          13,
          14,
          32,
          34,
          18,
          10,
          27,
          21,
          33,
          16,
          15,
          25,
          20,
          14,
          26,
          14,
          33,
          30,
          25,
          24,
          29,
          17,
          22,
          19,
          25,
          22,
          15,
          17,
          18,
          31,
          35,
          14,
          33,
          18,
          20,
          20,
          20,
          24,
          16,
          19,
          14,
          22,
          11,
          27,
          23,
          29,
          26,
          11,
          11,
          11,
          29,
          9,
          17,
          11,
          27,
          14,
          21,
          13,
          21,
          23,
          12,
          28,
          23,
          29,
          20,
          17,
          12,
          27,
          24,
          10,
          14,
          33,
          19,
          16,
          31,
          10,
          33,
          35,
          22,
          21,
          27,
          12,
          14,
          15,
          22,
          19,
          18,
          17,
          30,
          30,
          35,
          26,
          18,
          15,
          18,
          17,
          14,
          13,
          27,
          17,
          26,
          13,
          25,
          27,
          13,
          18,
          22,
          35,
          17,
          18,
          14,
          23,
          21,
          35,
          29,
          24,
          32,
          27,
          34,
          19,
          27,
          22,
          22,
          22,
          23,
          21,
          15,
          12,
          29,
          14,
          17,
          31,
          18,
          20,
          17,
          23,
          33,
          18,
          14,
          28,
          20,
          28,
          16,
          24,
          30,
          25,
          32,
          12,
          20,
          25,
          25,
          22,
          29,
          15,
          30,
          18,
          25,
          34,
          21,
          30,
          16,
          23,
          22,
          25,
          14,
          16,
          22,
          17,
          22,
          9,
          15,
          33,
          13,
          20,
          19,
          31,
          18,
          27,
          17,
          13,
          23,
          24,
          13,
          32,
          23,
          31,
          26,
          22,
          22,
          24,
          31,
          27,
          22,
          21,
          20,
          26,
          12,
          15,
          17,
          23,
          35,
          16,
          31,
          27,
          18,
          27,
          12,
          21,
          32,
          25,
          14,
          17,
          31,
          29,
          20,
          20,
          31,
          28,
          16,
          21,
          22,
          29,
          31,
          13,
          19,
          17,
          23,
          18,
          16,
          29,
          15,
          33,
          35,
          22,
          19,
          20,
          20,
          26,
          13,
          23,
          25,
          17,
          26,
          30,
          16,
          11,
          24,
          14,
          31,
          13,
          20,
          12,
          28,
          20,
          22,
          18,
          13,
          9,
          18,
          27,
          30,
          34,
          35,
          19,
          31,
          25,
          33,
          24,
          16,
          14,
          25,
          7,
          18,
          23,
          34,
          16,
          18,
          12,
          27,
          20,
          25,
          29,
          18,
          25,
          19,
          28,
          18,
          20,
          22,
          34,
          28,
          18,
          23,
          33,
          29,
          24,
          14,
          25,
          10,
          17,
          20,
          13,
          9,
          25,
          16,
          18,
          19,
          13,
          27,
          32,
          30,
          15,
          23,
          17,
          31,
          10,
          35,
          23,
          17,
          21,
          26,
          17,
          15,
          11,
          18,
          11,
          28,
          12,
          18,
          24,
          24,
          13,
          29,
          20,
          19,
          24,
          32,
          23,
          20,
          27,
          21,
          13,
          17,
          23,
          23,
          18,
          25,
          18,
          30,
          18,
          26,
          22,
          15,
          29,
          17,
          17,
          15,
          18,
          18,
          11,
          29,
          16,
          15,
          11,
          22,
          27,
          26,
          21,
          23,
          18,
          19,
          13,
          15,
          29,
          16,
          14,
          20,
          19,
          19,
          19,
          31,
          34,
          16,
          23,
          20,
          31,
          31,
          23,
          22,
          24,
          35,
          25,
          25,
          11,
          14,
          24,
          17,
          28,
          29,
          33,
          18,
          16,
          24,
          11,
          28,
          25,
          31,
          17,
          22,
          12,
          32,
          11,
          28,
          14,
          22,
          32,
          24,
          28,
          33,
          29,
          10,
          26,
          14,
          18,
          25,
          23,
          35,
          22,
          12,
          16,
          30,
          14,
          20,
          26,
          35,
          16,
          17,
          16,
          29,
          22,
          29,
          12,
          25,
          12,
          27,
          15,
          27,
          25,
          26,
          14,
          30,
          21,
          27,
          13,
          17,
          18,
          22,
          25,
          32,
          27,
          9,
          24,
          33,
          31,
          16,
          22,
          27,
          26,
          10,
          17,
          16,
          18,
          20,
          21,
          30,
          13,
          22,
          33,
          10,
          30,
          21,
          19,
          27,
          17,
          21,
          18,
          30,
          8,
          31,
          29,
          26,
          25,
          23,
          17,
          17,
          14,
          19,
          14,
          12,
          20,
          18,
          18,
          27,
          14,
          21,
          19,
          13,
          25,
          33,
          28,
          24,
          21,
          21,
          26,
          15,
          14,
          22,
          27,
          13,
          17,
          25,
          20,
          32,
          31,
          27,
          9,
          12,
          29,
          19,
          23,
          23,
          21,
          14,
          31,
          29,
          33,
          9,
          18,
          16,
          27,
          20,
          32,
          12,
          17,
          29,
          23,
          24,
          24,
          18,
          25,
          19,
          15,
          23,
          26,
          16,
          27,
          22,
          13,
          32,
          16,
          34,
          21,
          19,
          27,
          13,
          32,
          20,
          28,
          15,
          20,
          28,
          23,
          25,
          32,
          14,
          13,
          15,
          16,
          25,
          16,
          9,
          13,
          27,
          29,
          29,
          18,
          14,
          22,
          13,
          18,
          20,
          32,
          16,
          17,
          23,
          23,
          14,
          15,
          14,
          32,
          13,
          18,
          30,
          29,
          16,
          30,
          14,
          28,
          20,
          24,
          14,
          20,
          24,
          17,
          34,
          22,
          16,
          25,
          8,
          24,
          19,
          13,
          25,
          30,
          7,
          27,
          18,
          21,
          26,
          15,
          24,
          30,
          17,
          35,
          30,
          27,
          23,
          32,
          11,
          13,
          15,
          15,
          23,
          15,
          24,
          12,
          23,
          10,
          31,
          22,
          16,
          27,
          27,
          32,
          18,
          25,
          11,
          23,
          22,
          23,
          12,
          11,
          20,
          15,
          17,
          11,
          22,
          18,
          21,
          18,
          21,
          17,
          23,
          33,
          19,
          17,
          15,
          19,
          27,
          33,
          22,
          19,
          33,
          25,
          12,
          25,
          15,
          16,
          23,
          20,
          28,
          30,
          26,
          16,
          16,
          26,
          26,
          24,
          21,
          11
         ],
         "xaxis": "x",
         "yaxis": "y"
        },
        {
         "alignmentgroup": "True",
         "bingroup": "x",
         "hovertemplate": "Top 1=False<br>mol_size=%{x}<br>count=%{y}<extra></extra>",
         "legendgroup": "False",
         "marker": {
          "color": "rgb(152, 146, 186)",
          "line": {
           "color": "DarkSlateGrey",
           "width": 0.2
          },
          "opacity": 0.5,
          "pattern": {
           "shape": ""
          }
         },
         "name": "False",
         "nbinsx": 30,
         "offsetgroup": "False",
         "opacity": 1,
         "orientation": "v",
         "showlegend": true,
         "type": "histogram",
         "x": [
          23,
          30,
          31,
          23,
          28,
          35,
          12,
          24,
          12,
          24,
          12,
          30,
          30,
          24,
          32,
          35,
          29,
          25,
          21,
          35,
          24,
          25,
          15,
          26,
          32,
          31,
          34,
          34,
          5,
          31,
          35,
          34,
          35,
          17,
          33,
          32,
          28,
          12,
          25,
          32,
          24,
          33,
          24,
          32,
          25,
          22,
          25,
          15,
          34,
          31,
          27,
          33,
          24,
          21,
          29,
          32,
          29,
          23,
          22,
          31,
          31,
          32,
          28,
          31,
          30,
          31,
          27,
          18,
          23,
          23,
          29,
          20,
          20,
          18,
          27,
          31,
          13,
          15,
          22,
          22,
          28,
          30,
          31,
          32,
          31,
          29,
          25,
          33,
          35,
          32,
          29,
          21,
          34,
          33,
          28,
          20,
          26,
          35,
          29,
          34,
          34,
          15,
          21,
          34,
          25,
          18,
          24,
          33,
          33,
          31,
          27,
          16,
          29,
          14,
          29,
          17,
          23,
          26,
          34,
          24,
          28,
          28,
          26,
          22,
          13,
          31,
          24,
          21,
          27,
          20,
          24,
          31,
          23,
          18,
          33,
          32,
          27,
          28,
          31,
          30,
          27,
          24,
          29,
          15,
          11,
          22,
          32,
          23,
          25,
          29,
          21,
          15,
          34,
          33,
          29,
          29,
          12,
          24,
          18,
          32,
          28,
          22,
          30,
          25,
          17,
          16,
          29,
          24,
          32,
          33,
          23,
          32,
          20,
          18,
          34,
          32,
          34,
          27,
          34,
          30,
          19,
          28,
          25,
          30,
          21,
          19,
          26,
          27,
          24,
          22,
          22,
          23,
          31,
          20,
          14,
          30,
          19,
          27,
          30,
          31,
          24,
          33,
          35,
          31,
          25,
          29,
          22,
          24,
          26,
          16,
          27,
          17,
          20,
          22,
          32,
          29,
          19,
          22,
          16,
          26,
          31,
          25,
          26,
          26,
          29,
          23,
          28,
          28,
          26,
          28,
          32,
          25,
          31,
          21,
          26,
          28,
          20,
          28,
          20,
          19
         ],
         "xaxis": "x",
         "yaxis": "y"
        }
       ],
       "layout": {
        "barmode": "overlay",
        "font": {
         "family": "CMU Sans Serif"
        },
        "height": 250,
        "legend": {
         "title": {
          "text": "Top 1"
         },
         "tracegroupgap": 0
        },
        "margin": {
         "b": 0,
         "l": 0,
         "r": 0,
         "t": 0
        },
        "plot_bgcolor": "white",
        "template": {
         "data": {
          "bar": [
           {
            "error_x": {
             "color": "#2a3f5f"
            },
            "error_y": {
             "color": "#2a3f5f"
            },
            "marker": {
             "line": {
              "color": "#E5ECF6",
              "width": 0.5
             },
             "pattern": {
              "fillmode": "overlay",
              "size": 10,
              "solidity": 0.2
             }
            },
            "type": "bar"
           }
          ],
          "barpolar": [
           {
            "marker": {
             "line": {
              "color": "#E5ECF6",
              "width": 0.5
             },
             "pattern": {
              "fillmode": "overlay",
              "size": 10,
              "solidity": 0.2
             }
            },
            "type": "barpolar"
           }
          ],
          "carpet": [
           {
            "aaxis": {
             "endlinecolor": "#2a3f5f",
             "gridcolor": "white",
             "linecolor": "white",
             "minorgridcolor": "white",
             "startlinecolor": "#2a3f5f"
            },
            "baxis": {
             "endlinecolor": "#2a3f5f",
             "gridcolor": "white",
             "linecolor": "white",
             "minorgridcolor": "white",
             "startlinecolor": "#2a3f5f"
            },
            "type": "carpet"
           }
          ],
          "choropleth": [
           {
            "colorbar": {
             "outlinewidth": 0,
             "ticks": ""
            },
            "type": "choropleth"
           }
          ],
          "contour": [
           {
            "colorbar": {
             "outlinewidth": 0,
             "ticks": ""
            },
            "colorscale": [
             [
              0,
              "#0d0887"
             ],
             [
              0.1111111111111111,
              "#46039f"
             ],
             [
              0.2222222222222222,
              "#7201a8"
             ],
             [
              0.3333333333333333,
              "#9c179e"
             ],
             [
              0.4444444444444444,
              "#bd3786"
             ],
             [
              0.5555555555555556,
              "#d8576b"
             ],
             [
              0.6666666666666666,
              "#ed7953"
             ],
             [
              0.7777777777777778,
              "#fb9f3a"
             ],
             [
              0.8888888888888888,
              "#fdca26"
             ],
             [
              1,
              "#f0f921"
             ]
            ],
            "type": "contour"
           }
          ],
          "contourcarpet": [
           {
            "colorbar": {
             "outlinewidth": 0,
             "ticks": ""
            },
            "type": "contourcarpet"
           }
          ],
          "heatmap": [
           {
            "colorbar": {
             "outlinewidth": 0,
             "ticks": ""
            },
            "colorscale": [
             [
              0,
              "#0d0887"
             ],
             [
              0.1111111111111111,
              "#46039f"
             ],
             [
              0.2222222222222222,
              "#7201a8"
             ],
             [
              0.3333333333333333,
              "#9c179e"
             ],
             [
              0.4444444444444444,
              "#bd3786"
             ],
             [
              0.5555555555555556,
              "#d8576b"
             ],
             [
              0.6666666666666666,
              "#ed7953"
             ],
             [
              0.7777777777777778,
              "#fb9f3a"
             ],
             [
              0.8888888888888888,
              "#fdca26"
             ],
             [
              1,
              "#f0f921"
             ]
            ],
            "type": "heatmap"
           }
          ],
          "heatmapgl": [
           {
            "colorbar": {
             "outlinewidth": 0,
             "ticks": ""
            },
            "colorscale": [
             [
              0,
              "#0d0887"
             ],
             [
              0.1111111111111111,
              "#46039f"
             ],
             [
              0.2222222222222222,
              "#7201a8"
             ],
             [
              0.3333333333333333,
              "#9c179e"
             ],
             [
              0.4444444444444444,
              "#bd3786"
             ],
             [
              0.5555555555555556,
              "#d8576b"
             ],
             [
              0.6666666666666666,
              "#ed7953"
             ],
             [
              0.7777777777777778,
              "#fb9f3a"
             ],
             [
              0.8888888888888888,
              "#fdca26"
             ],
             [
              1,
              "#f0f921"
             ]
            ],
            "type": "heatmapgl"
           }
          ],
          "histogram": [
           {
            "marker": {
             "pattern": {
              "fillmode": "overlay",
              "size": 10,
              "solidity": 0.2
             }
            },
            "type": "histogram"
           }
          ],
          "histogram2d": [
           {
            "colorbar": {
             "outlinewidth": 0,
             "ticks": ""
            },
            "colorscale": [
             [
              0,
              "#0d0887"
             ],
             [
              0.1111111111111111,
              "#46039f"
             ],
             [
              0.2222222222222222,
              "#7201a8"
             ],
             [
              0.3333333333333333,
              "#9c179e"
             ],
             [
              0.4444444444444444,
              "#bd3786"
             ],
             [
              0.5555555555555556,
              "#d8576b"
             ],
             [
              0.6666666666666666,
              "#ed7953"
             ],
             [
              0.7777777777777778,
              "#fb9f3a"
             ],
             [
              0.8888888888888888,
              "#fdca26"
             ],
             [
              1,
              "#f0f921"
             ]
            ],
            "type": "histogram2d"
           }
          ],
          "histogram2dcontour": [
           {
            "colorbar": {
             "outlinewidth": 0,
             "ticks": ""
            },
            "colorscale": [
             [
              0,
              "#0d0887"
             ],
             [
              0.1111111111111111,
              "#46039f"
             ],
             [
              0.2222222222222222,
              "#7201a8"
             ],
             [
              0.3333333333333333,
              "#9c179e"
             ],
             [
              0.4444444444444444,
              "#bd3786"
             ],
             [
              0.5555555555555556,
              "#d8576b"
             ],
             [
              0.6666666666666666,
              "#ed7953"
             ],
             [
              0.7777777777777778,
              "#fb9f3a"
             ],
             [
              0.8888888888888888,
              "#fdca26"
             ],
             [
              1,
              "#f0f921"
             ]
            ],
            "type": "histogram2dcontour"
           }
          ],
          "mesh3d": [
           {
            "colorbar": {
             "outlinewidth": 0,
             "ticks": ""
            },
            "type": "mesh3d"
           }
          ],
          "parcoords": [
           {
            "line": {
             "colorbar": {
              "outlinewidth": 0,
              "ticks": ""
             }
            },
            "type": "parcoords"
           }
          ],
          "pie": [
           {
            "automargin": true,
            "type": "pie"
           }
          ],
          "scatter": [
           {
            "fillpattern": {
             "fillmode": "overlay",
             "size": 10,
             "solidity": 0.2
            },
            "type": "scatter"
           }
          ],
          "scatter3d": [
           {
            "line": {
             "colorbar": {
              "outlinewidth": 0,
              "ticks": ""
             }
            },
            "marker": {
             "colorbar": {
              "outlinewidth": 0,
              "ticks": ""
             }
            },
            "type": "scatter3d"
           }
          ],
          "scattercarpet": [
           {
            "marker": {
             "colorbar": {
              "outlinewidth": 0,
              "ticks": ""
             }
            },
            "type": "scattercarpet"
           }
          ],
          "scattergeo": [
           {
            "marker": {
             "colorbar": {
              "outlinewidth": 0,
              "ticks": ""
             }
            },
            "type": "scattergeo"
           }
          ],
          "scattergl": [
           {
            "marker": {
             "colorbar": {
              "outlinewidth": 0,
              "ticks": ""
             }
            },
            "type": "scattergl"
           }
          ],
          "scattermapbox": [
           {
            "marker": {
             "colorbar": {
              "outlinewidth": 0,
              "ticks": ""
             }
            },
            "type": "scattermapbox"
           }
          ],
          "scatterpolar": [
           {
            "marker": {
             "colorbar": {
              "outlinewidth": 0,
              "ticks": ""
             }
            },
            "type": "scatterpolar"
           }
          ],
          "scatterpolargl": [
           {
            "marker": {
             "colorbar": {
              "outlinewidth": 0,
              "ticks": ""
             }
            },
            "type": "scatterpolargl"
           }
          ],
          "scatterternary": [
           {
            "marker": {
             "colorbar": {
              "outlinewidth": 0,
              "ticks": ""
             }
            },
            "type": "scatterternary"
           }
          ],
          "surface": [
           {
            "colorbar": {
             "outlinewidth": 0,
             "ticks": ""
            },
            "colorscale": [
             [
              0,
              "#0d0887"
             ],
             [
              0.1111111111111111,
              "#46039f"
             ],
             [
              0.2222222222222222,
              "#7201a8"
             ],
             [
              0.3333333333333333,
              "#9c179e"
             ],
             [
              0.4444444444444444,
              "#bd3786"
             ],
             [
              0.5555555555555556,
              "#d8576b"
             ],
             [
              0.6666666666666666,
              "#ed7953"
             ],
             [
              0.7777777777777778,
              "#fb9f3a"
             ],
             [
              0.8888888888888888,
              "#fdca26"
             ],
             [
              1,
              "#f0f921"
             ]
            ],
            "type": "surface"
           }
          ],
          "table": [
           {
            "cells": {
             "fill": {
              "color": "#EBF0F8"
             },
             "line": {
              "color": "white"
             }
            },
            "header": {
             "fill": {
              "color": "#C8D4E3"
             },
             "line": {
              "color": "white"
             }
            },
            "type": "table"
           }
          ]
         },
         "layout": {
          "annotationdefaults": {
           "arrowcolor": "#2a3f5f",
           "arrowhead": 0,
           "arrowwidth": 1
          },
          "autotypenumbers": "strict",
          "coloraxis": {
           "colorbar": {
            "outlinewidth": 0,
            "ticks": ""
           }
          },
          "colorscale": {
           "diverging": [
            [
             0,
             "#8e0152"
            ],
            [
             0.1,
             "#c51b7d"
            ],
            [
             0.2,
             "#de77ae"
            ],
            [
             0.3,
             "#f1b6da"
            ],
            [
             0.4,
             "#fde0ef"
            ],
            [
             0.5,
             "#f7f7f7"
            ],
            [
             0.6,
             "#e6f5d0"
            ],
            [
             0.7,
             "#b8e186"
            ],
            [
             0.8,
             "#7fbc41"
            ],
            [
             0.9,
             "#4d9221"
            ],
            [
             1,
             "#276419"
            ]
           ],
           "sequential": [
            [
             0,
             "#0d0887"
            ],
            [
             0.1111111111111111,
             "#46039f"
            ],
            [
             0.2222222222222222,
             "#7201a8"
            ],
            [
             0.3333333333333333,
             "#9c179e"
            ],
            [
             0.4444444444444444,
             "#bd3786"
            ],
            [
             0.5555555555555556,
             "#d8576b"
            ],
            [
             0.6666666666666666,
             "#ed7953"
            ],
            [
             0.7777777777777778,
             "#fb9f3a"
            ],
            [
             0.8888888888888888,
             "#fdca26"
            ],
            [
             1,
             "#f0f921"
            ]
           ],
           "sequentialminus": [
            [
             0,
             "#0d0887"
            ],
            [
             0.1111111111111111,
             "#46039f"
            ],
            [
             0.2222222222222222,
             "#7201a8"
            ],
            [
             0.3333333333333333,
             "#9c179e"
            ],
            [
             0.4444444444444444,
             "#bd3786"
            ],
            [
             0.5555555555555556,
             "#d8576b"
            ],
            [
             0.6666666666666666,
             "#ed7953"
            ],
            [
             0.7777777777777778,
             "#fb9f3a"
            ],
            [
             0.8888888888888888,
             "#fdca26"
            ],
            [
             1,
             "#f0f921"
            ]
           ]
          },
          "colorway": [
           "#636efa",
           "#EF553B",
           "#00cc96",
           "#ab63fa",
           "#FFA15A",
           "#19d3f3",
           "#FF6692",
           "#B6E880",
           "#FF97FF",
           "#FECB52"
          ],
          "font": {
           "color": "#2a3f5f"
          },
          "geo": {
           "bgcolor": "white",
           "lakecolor": "white",
           "landcolor": "#E5ECF6",
           "showlakes": true,
           "showland": true,
           "subunitcolor": "white"
          },
          "hoverlabel": {
           "align": "left"
          },
          "hovermode": "closest",
          "mapbox": {
           "style": "light"
          },
          "paper_bgcolor": "white",
          "plot_bgcolor": "#E5ECF6",
          "polar": {
           "angularaxis": {
            "gridcolor": "white",
            "linecolor": "white",
            "ticks": ""
           },
           "bgcolor": "#E5ECF6",
           "radialaxis": {
            "gridcolor": "white",
            "linecolor": "white",
            "ticks": ""
           }
          },
          "scene": {
           "xaxis": {
            "backgroundcolor": "#E5ECF6",
            "gridcolor": "white",
            "gridwidth": 2,
            "linecolor": "white",
            "showbackground": true,
            "ticks": "",
            "zerolinecolor": "white"
           },
           "yaxis": {
            "backgroundcolor": "#E5ECF6",
            "gridcolor": "white",
            "gridwidth": 2,
            "linecolor": "white",
            "showbackground": true,
            "ticks": "",
            "zerolinecolor": "white"
           },
           "zaxis": {
            "backgroundcolor": "#E5ECF6",
            "gridcolor": "white",
            "gridwidth": 2,
            "linecolor": "white",
            "showbackground": true,
            "ticks": "",
            "zerolinecolor": "white"
           }
          },
          "shapedefaults": {
           "line": {
            "color": "#2a3f5f"
           }
          },
          "ternary": {
           "aaxis": {
            "gridcolor": "white",
            "linecolor": "white",
            "ticks": ""
           },
           "baxis": {
            "gridcolor": "white",
            "linecolor": "white",
            "ticks": ""
           },
           "bgcolor": "#E5ECF6",
           "caxis": {
            "gridcolor": "white",
            "linecolor": "white",
            "ticks": ""
           }
          },
          "title": {
           "x": 0.05
          },
          "xaxis": {
           "automargin": true,
           "gridcolor": "white",
           "linecolor": "white",
           "ticks": "",
           "title": {
            "standoff": 15
           },
           "zerolinecolor": "white",
           "zerolinewidth": 2
          },
          "yaxis": {
           "automargin": true,
           "gridcolor": "white",
           "linecolor": "white",
           "ticks": "",
           "title": {
            "standoff": 15
           },
           "zerolinecolor": "white",
           "zerolinewidth": 2
          }
         }
        },
        "width": 404.508497175,
        "xaxis": {
         "anchor": "y",
         "domain": [
          0,
          1
         ],
         "range": [
          4,
          36
         ],
         "showgrid": false,
         "showline": false,
         "tickcolor": "rgb(120, 120, 120)",
         "ticklen": 5,
         "ticks": "outside",
         "tickwidth": 1,
         "title": {
          "text": "molecule size"
         },
         "zeroline": false
        },
        "yaxis": {
         "anchor": "x",
         "domain": [
          0,
          1
         ],
         "gridcolor": "rgba(173, 216, 230, 0.3)",
         "gridwidth": 1,
         "showgrid": false,
         "showline": false,
         "tickcolor": "rgb(120, 120, 120)",
         "ticklen": 5,
         "ticks": "outside",
         "tickwidth": 1,
         "title": {
          "text": "count"
         },
         "zeroline": false
        }
       }
      }
     },
     "metadata": {},
     "output_type": "display_data"
    },
    {
     "data": {
      "application/vnd.plotly.v1+json": {
       "config": {
        "plotlyServerURL": "https://plot.ly"
       },
       "data": [
        {
         "alignmentgroup": "True",
         "bingroup": "x",
         "hovertemplate": "Top 5=True<br>mol_size=%{x}<br>count=%{y}<extra></extra>",
         "legendgroup": "True",
         "marker": {
          "color": "rgb(152, 86, 86)",
          "line": {
           "color": "DarkSlateGrey",
           "width": 0.2
          },
          "opacity": 0.5,
          "pattern": {
           "shape": ""
          }
         },
         "name": "True",
         "nbinsx": 30,
         "offsetgroup": "True",
         "opacity": 1,
         "orientation": "v",
         "showlegend": true,
         "type": "histogram",
         "x": [
          22,
          16,
          18,
          18,
          24,
          29,
          13,
          35,
          30,
          13,
          20,
          31,
          27,
          21,
          29,
          23,
          25,
          22,
          19,
          23,
          18,
          24,
          30,
          12,
          17,
          14,
          31,
          14,
          20,
          23,
          31,
          15,
          25,
          34,
          15,
          33,
          18,
          26,
          10,
          21,
          30,
          33,
          28,
          18,
          24,
          24,
          23,
          27,
          15,
          28,
          28,
          18,
          22,
          12,
          17,
          15,
          28,
          12,
          18,
          32,
          27,
          29,
          13,
          20,
          16,
          29,
          25,
          29,
          13,
          14,
          32,
          34,
          18,
          10,
          27,
          21,
          21,
          33,
          16,
          15,
          25,
          20,
          14,
          35,
          26,
          14,
          33,
          30,
          25,
          26,
          24,
          29,
          17,
          22,
          19,
          25,
          22,
          15,
          17,
          18,
          31,
          35,
          14,
          5,
          33,
          18,
          31,
          20,
          20,
          20,
          24,
          16,
          19,
          14,
          22,
          11,
          27,
          23,
          29,
          26,
          34,
          11,
          35,
          11,
          33,
          11,
          29,
          9,
          17,
          11,
          27,
          28,
          14,
          21,
          13,
          21,
          23,
          12,
          28,
          23,
          29,
          20,
          12,
          25,
          17,
          12,
          27,
          24,
          10,
          14,
          33,
          19,
          16,
          24,
          31,
          10,
          33,
          35,
          22,
          21,
          27,
          12,
          14,
          15,
          22,
          19,
          18,
          33,
          17,
          30,
          30,
          35,
          26,
          18,
          15,
          32,
          18,
          17,
          25,
          14,
          13,
          22,
          27,
          17,
          25,
          26,
          13,
          25,
          15,
          27,
          13,
          18,
          22,
          35,
          17,
          18,
          14,
          27,
          23,
          21,
          35,
          29,
          24,
          32,
          27,
          34,
          19,
          27,
          24,
          22,
          22,
          22,
          23,
          21,
          32,
          15,
          12,
          29,
          14,
          17,
          31,
          18,
          31,
          20,
          17,
          23,
          33,
          18,
          14,
          28,
          31,
          20,
          28,
          32,
          16,
          24,
          30,
          25,
          32,
          12,
          20,
          25,
          25,
          22,
          29,
          15,
          31,
          30,
          30,
          18,
          25,
          34,
          21,
          18,
          30,
          16,
          23,
          22,
          25,
          14,
          16,
          22,
          17,
          22,
          9,
          15,
          33,
          13,
          20,
          18,
          20,
          19,
          31,
          13,
          18,
          27,
          17,
          13,
          23,
          24,
          13,
          32,
          28,
          23,
          31,
          26,
          22,
          22,
          24,
          31,
          27,
          22,
          21,
          20,
          26,
          31,
          12,
          15,
          17,
          23,
          35,
          16,
          31,
          27,
          18,
          27,
          31,
          12,
          21,
          32,
          25,
          14,
          17,
          31,
          29,
          20,
          20,
          31,
          29,
          28,
          16,
          21,
          21,
          22,
          34,
          29,
          33,
          31,
          13,
          19,
          17,
          23,
          18,
          16,
          29,
          15,
          28,
          33,
          35,
          22,
          19,
          20,
          20,
          26,
          13,
          23,
          25,
          17,
          26,
          26,
          30,
          16,
          11,
          24,
          14,
          31,
          13,
          20,
          12,
          28,
          20,
          22,
          18,
          13,
          9,
          18,
          27,
          30,
          34,
          34,
          35,
          19,
          15,
          31,
          25,
          21,
          33,
          24,
          16,
          14,
          25,
          7,
          18,
          23,
          34,
          16,
          18,
          12,
          27,
          20,
          25,
          18,
          25,
          29,
          24,
          18,
          25,
          33,
          19,
          28,
          18,
          20,
          22,
          34,
          28,
          18,
          23,
          14,
          33,
          17,
          29,
          24,
          14,
          25,
          10,
          17,
          20,
          13,
          9,
          25,
          16,
          18,
          19,
          13,
          27,
          32,
          30,
          26,
          15,
          23,
          17,
          31,
          10,
          22,
          35,
          23,
          17,
          21,
          26,
          17,
          13,
          15,
          11,
          18,
          11,
          28,
          12,
          18,
          24,
          24,
          13,
          29,
          20,
          19,
          24,
          24,
          32,
          23,
          20,
          27,
          21,
          27,
          13,
          17,
          23,
          23,
          18,
          25,
          18,
          30,
          18,
          20,
          26,
          22,
          24,
          15,
          29,
          18,
          33,
          17,
          17,
          15,
          18,
          18,
          11,
          29,
          16,
          15,
          11,
          22,
          27,
          26,
          21,
          23,
          31,
          18,
          19,
          13,
          15,
          29,
          16,
          14,
          20,
          19,
          19,
          19,
          31,
          34,
          16,
          23,
          20,
          31,
          31,
          23,
          22,
          24,
          35,
          25,
          25,
          11,
          14,
          24,
          17,
          28,
          29,
          33,
          18,
          16,
          24,
          11,
          28,
          25,
          31,
          17,
          22,
          12,
          11,
          32,
          32,
          23,
          25,
          11,
          28,
          14,
          22,
          32,
          24,
          28,
          34,
          33,
          29,
          10,
          26,
          14,
          29,
          18,
          25,
          23,
          35,
          22,
          12,
          16,
          30,
          14,
          20,
          26,
          35,
          16,
          17,
          16,
          29,
          22,
          29,
          12,
          25,
          12,
          27,
          15,
          27,
          25,
          26,
          14,
          18,
          30,
          21,
          27,
          13,
          17,
          18,
          22,
          28,
          22,
          30,
          17,
          25,
          32,
          27,
          16,
          9,
          29,
          24,
          24,
          33,
          32,
          31,
          16,
          22,
          27,
          26,
          10,
          17,
          16,
          18,
          20,
          21,
          30,
          13,
          22,
          33,
          33,
          10,
          30,
          21,
          23,
          19,
          27,
          17,
          21,
          32,
          20,
          18,
          18,
          30,
          34,
          32,
          8,
          31,
          29,
          26,
          25,
          23,
          17,
          17,
          14,
          19,
          14,
          27,
          12,
          20,
          18,
          28,
          18,
          27,
          14,
          21,
          21,
          19,
          13,
          25,
          19,
          33,
          28,
          24,
          21,
          21,
          26,
          15,
          27,
          14,
          22,
          27,
          13,
          17,
          25,
          20,
          32,
          31,
          27,
          9,
          12,
          29,
          19,
          23,
          23,
          21,
          14,
          31,
          29,
          33,
          9,
          14,
          30,
          18,
          16,
          27,
          20,
          32,
          12,
          17,
          29,
          23,
          24,
          24,
          18,
          25,
          19,
          15,
          23,
          26,
          16,
          27,
          22,
          13,
          32,
          16,
          34,
          21,
          19,
          27,
          13,
          31,
          24,
          32,
          20,
          28,
          35,
          31,
          15,
          20,
          28,
          23,
          25,
          32,
          14,
          13,
          15,
          16,
          25,
          16,
          9,
          13,
          27,
          29,
          29,
          18,
          14,
          22,
          13,
          18,
          20,
          32,
          16,
          17,
          23,
          23,
          14,
          24,
          15,
          14,
          32,
          13,
          16,
          18,
          30,
          29,
          16,
          30,
          20,
          14,
          28,
          20,
          24,
          14,
          20,
          32,
          24,
          17,
          34,
          22,
          16,
          25,
          29,
          8,
          24,
          19,
          13,
          25,
          19,
          30,
          7,
          27,
          18,
          22,
          21,
          26,
          15,
          24,
          26,
          30,
          17,
          35,
          30,
          27,
          23,
          32,
          11,
          25,
          13,
          15,
          15,
          23,
          15,
          24,
          12,
          26,
          23,
          10,
          29,
          31,
          22,
          16,
          27,
          27,
          23,
          32,
          18,
          25,
          28,
          11,
          23,
          22,
          23,
          12,
          11,
          20,
          15,
          17,
          11,
          22,
          18,
          21,
          18,
          21,
          17,
          23,
          33,
          19,
          17,
          15,
          19,
          27,
          31,
          33,
          26,
          22,
          28,
          19,
          33,
          20,
          25,
          12,
          25,
          15,
          16,
          23,
          20,
          28,
          30,
          26,
          16,
          16,
          28,
          26,
          26,
          24,
          21,
          20,
          19,
          11
         ],
         "xaxis": "x",
         "yaxis": "y"
        },
        {
         "alignmentgroup": "True",
         "bingroup": "x",
         "hovertemplate": "Top 5=False<br>mol_size=%{x}<br>count=%{y}<extra></extra>",
         "legendgroup": "False",
         "marker": {
          "color": "rgb(152, 146, 186)",
          "line": {
           "color": "DarkSlateGrey",
           "width": 0.2
          },
          "opacity": 0.5,
          "pattern": {
           "shape": ""
          }
         },
         "name": "False",
         "nbinsx": 30,
         "offsetgroup": "False",
         "opacity": 1,
         "orientation": "v",
         "showlegend": true,
         "type": "histogram",
         "x": [
          23,
          28,
          35,
          12,
          24,
          30,
          30,
          24,
          32,
          35,
          25,
          24,
          25,
          15,
          32,
          31,
          34,
          34,
          35,
          17,
          32,
          32,
          24,
          34,
          31,
          33,
          21,
          29,
          29,
          23,
          22,
          28,
          31,
          27,
          23,
          23,
          29,
          20,
          27,
          31,
          15,
          22,
          22,
          30,
          32,
          29,
          25,
          33,
          35,
          32,
          20,
          35,
          29,
          34,
          34,
          33,
          31,
          27,
          16,
          29,
          29,
          23,
          26,
          34,
          24,
          28,
          28,
          31,
          21,
          31,
          23,
          32,
          27,
          28,
          30,
          27,
          24,
          29,
          15,
          22,
          29,
          21,
          15,
          33,
          29,
          12,
          24,
          32,
          25,
          34,
          34,
          30,
          19,
          25,
          30,
          26,
          24,
          22,
          22,
          23,
          31,
          20,
          19,
          27,
          30,
          33,
          25,
          29,
          22,
          26,
          27,
          17,
          22,
          16,
          31,
          26,
          28,
          26,
          28,
          32,
          25,
          21
         ],
         "xaxis": "x",
         "yaxis": "y"
        }
       ],
       "layout": {
        "barmode": "overlay",
        "font": {
         "family": "CMU Sans Serif"
        },
        "height": 250,
        "legend": {
         "title": {
          "text": "Top 5"
         },
         "tracegroupgap": 0
        },
        "margin": {
         "b": 0,
         "l": 0,
         "r": 0,
         "t": 0
        },
        "plot_bgcolor": "white",
        "template": {
         "data": {
          "bar": [
           {
            "error_x": {
             "color": "#2a3f5f"
            },
            "error_y": {
             "color": "#2a3f5f"
            },
            "marker": {
             "line": {
              "color": "#E5ECF6",
              "width": 0.5
             },
             "pattern": {
              "fillmode": "overlay",
              "size": 10,
              "solidity": 0.2
             }
            },
            "type": "bar"
           }
          ],
          "barpolar": [
           {
            "marker": {
             "line": {
              "color": "#E5ECF6",
              "width": 0.5
             },
             "pattern": {
              "fillmode": "overlay",
              "size": 10,
              "solidity": 0.2
             }
            },
            "type": "barpolar"
           }
          ],
          "carpet": [
           {
            "aaxis": {
             "endlinecolor": "#2a3f5f",
             "gridcolor": "white",
             "linecolor": "white",
             "minorgridcolor": "white",
             "startlinecolor": "#2a3f5f"
            },
            "baxis": {
             "endlinecolor": "#2a3f5f",
             "gridcolor": "white",
             "linecolor": "white",
             "minorgridcolor": "white",
             "startlinecolor": "#2a3f5f"
            },
            "type": "carpet"
           }
          ],
          "choropleth": [
           {
            "colorbar": {
             "outlinewidth": 0,
             "ticks": ""
            },
            "type": "choropleth"
           }
          ],
          "contour": [
           {
            "colorbar": {
             "outlinewidth": 0,
             "ticks": ""
            },
            "colorscale": [
             [
              0,
              "#0d0887"
             ],
             [
              0.1111111111111111,
              "#46039f"
             ],
             [
              0.2222222222222222,
              "#7201a8"
             ],
             [
              0.3333333333333333,
              "#9c179e"
             ],
             [
              0.4444444444444444,
              "#bd3786"
             ],
             [
              0.5555555555555556,
              "#d8576b"
             ],
             [
              0.6666666666666666,
              "#ed7953"
             ],
             [
              0.7777777777777778,
              "#fb9f3a"
             ],
             [
              0.8888888888888888,
              "#fdca26"
             ],
             [
              1,
              "#f0f921"
             ]
            ],
            "type": "contour"
           }
          ],
          "contourcarpet": [
           {
            "colorbar": {
             "outlinewidth": 0,
             "ticks": ""
            },
            "type": "contourcarpet"
           }
          ],
          "heatmap": [
           {
            "colorbar": {
             "outlinewidth": 0,
             "ticks": ""
            },
            "colorscale": [
             [
              0,
              "#0d0887"
             ],
             [
              0.1111111111111111,
              "#46039f"
             ],
             [
              0.2222222222222222,
              "#7201a8"
             ],
             [
              0.3333333333333333,
              "#9c179e"
             ],
             [
              0.4444444444444444,
              "#bd3786"
             ],
             [
              0.5555555555555556,
              "#d8576b"
             ],
             [
              0.6666666666666666,
              "#ed7953"
             ],
             [
              0.7777777777777778,
              "#fb9f3a"
             ],
             [
              0.8888888888888888,
              "#fdca26"
             ],
             [
              1,
              "#f0f921"
             ]
            ],
            "type": "heatmap"
           }
          ],
          "heatmapgl": [
           {
            "colorbar": {
             "outlinewidth": 0,
             "ticks": ""
            },
            "colorscale": [
             [
              0,
              "#0d0887"
             ],
             [
              0.1111111111111111,
              "#46039f"
             ],
             [
              0.2222222222222222,
              "#7201a8"
             ],
             [
              0.3333333333333333,
              "#9c179e"
             ],
             [
              0.4444444444444444,
              "#bd3786"
             ],
             [
              0.5555555555555556,
              "#d8576b"
             ],
             [
              0.6666666666666666,
              "#ed7953"
             ],
             [
              0.7777777777777778,
              "#fb9f3a"
             ],
             [
              0.8888888888888888,
              "#fdca26"
             ],
             [
              1,
              "#f0f921"
             ]
            ],
            "type": "heatmapgl"
           }
          ],
          "histogram": [
           {
            "marker": {
             "pattern": {
              "fillmode": "overlay",
              "size": 10,
              "solidity": 0.2
             }
            },
            "type": "histogram"
           }
          ],
          "histogram2d": [
           {
            "colorbar": {
             "outlinewidth": 0,
             "ticks": ""
            },
            "colorscale": [
             [
              0,
              "#0d0887"
             ],
             [
              0.1111111111111111,
              "#46039f"
             ],
             [
              0.2222222222222222,
              "#7201a8"
             ],
             [
              0.3333333333333333,
              "#9c179e"
             ],
             [
              0.4444444444444444,
              "#bd3786"
             ],
             [
              0.5555555555555556,
              "#d8576b"
             ],
             [
              0.6666666666666666,
              "#ed7953"
             ],
             [
              0.7777777777777778,
              "#fb9f3a"
             ],
             [
              0.8888888888888888,
              "#fdca26"
             ],
             [
              1,
              "#f0f921"
             ]
            ],
            "type": "histogram2d"
           }
          ],
          "histogram2dcontour": [
           {
            "colorbar": {
             "outlinewidth": 0,
             "ticks": ""
            },
            "colorscale": [
             [
              0,
              "#0d0887"
             ],
             [
              0.1111111111111111,
              "#46039f"
             ],
             [
              0.2222222222222222,
              "#7201a8"
             ],
             [
              0.3333333333333333,
              "#9c179e"
             ],
             [
              0.4444444444444444,
              "#bd3786"
             ],
             [
              0.5555555555555556,
              "#d8576b"
             ],
             [
              0.6666666666666666,
              "#ed7953"
             ],
             [
              0.7777777777777778,
              "#fb9f3a"
             ],
             [
              0.8888888888888888,
              "#fdca26"
             ],
             [
              1,
              "#f0f921"
             ]
            ],
            "type": "histogram2dcontour"
           }
          ],
          "mesh3d": [
           {
            "colorbar": {
             "outlinewidth": 0,
             "ticks": ""
            },
            "type": "mesh3d"
           }
          ],
          "parcoords": [
           {
            "line": {
             "colorbar": {
              "outlinewidth": 0,
              "ticks": ""
             }
            },
            "type": "parcoords"
           }
          ],
          "pie": [
           {
            "automargin": true,
            "type": "pie"
           }
          ],
          "scatter": [
           {
            "fillpattern": {
             "fillmode": "overlay",
             "size": 10,
             "solidity": 0.2
            },
            "type": "scatter"
           }
          ],
          "scatter3d": [
           {
            "line": {
             "colorbar": {
              "outlinewidth": 0,
              "ticks": ""
             }
            },
            "marker": {
             "colorbar": {
              "outlinewidth": 0,
              "ticks": ""
             }
            },
            "type": "scatter3d"
           }
          ],
          "scattercarpet": [
           {
            "marker": {
             "colorbar": {
              "outlinewidth": 0,
              "ticks": ""
             }
            },
            "type": "scattercarpet"
           }
          ],
          "scattergeo": [
           {
            "marker": {
             "colorbar": {
              "outlinewidth": 0,
              "ticks": ""
             }
            },
            "type": "scattergeo"
           }
          ],
          "scattergl": [
           {
            "marker": {
             "colorbar": {
              "outlinewidth": 0,
              "ticks": ""
             }
            },
            "type": "scattergl"
           }
          ],
          "scattermapbox": [
           {
            "marker": {
             "colorbar": {
              "outlinewidth": 0,
              "ticks": ""
             }
            },
            "type": "scattermapbox"
           }
          ],
          "scatterpolar": [
           {
            "marker": {
             "colorbar": {
              "outlinewidth": 0,
              "ticks": ""
             }
            },
            "type": "scatterpolar"
           }
          ],
          "scatterpolargl": [
           {
            "marker": {
             "colorbar": {
              "outlinewidth": 0,
              "ticks": ""
             }
            },
            "type": "scatterpolargl"
           }
          ],
          "scatterternary": [
           {
            "marker": {
             "colorbar": {
              "outlinewidth": 0,
              "ticks": ""
             }
            },
            "type": "scatterternary"
           }
          ],
          "surface": [
           {
            "colorbar": {
             "outlinewidth": 0,
             "ticks": ""
            },
            "colorscale": [
             [
              0,
              "#0d0887"
             ],
             [
              0.1111111111111111,
              "#46039f"
             ],
             [
              0.2222222222222222,
              "#7201a8"
             ],
             [
              0.3333333333333333,
              "#9c179e"
             ],
             [
              0.4444444444444444,
              "#bd3786"
             ],
             [
              0.5555555555555556,
              "#d8576b"
             ],
             [
              0.6666666666666666,
              "#ed7953"
             ],
             [
              0.7777777777777778,
              "#fb9f3a"
             ],
             [
              0.8888888888888888,
              "#fdca26"
             ],
             [
              1,
              "#f0f921"
             ]
            ],
            "type": "surface"
           }
          ],
          "table": [
           {
            "cells": {
             "fill": {
              "color": "#EBF0F8"
             },
             "line": {
              "color": "white"
             }
            },
            "header": {
             "fill": {
              "color": "#C8D4E3"
             },
             "line": {
              "color": "white"
             }
            },
            "type": "table"
           }
          ]
         },
         "layout": {
          "annotationdefaults": {
           "arrowcolor": "#2a3f5f",
           "arrowhead": 0,
           "arrowwidth": 1
          },
          "autotypenumbers": "strict",
          "coloraxis": {
           "colorbar": {
            "outlinewidth": 0,
            "ticks": ""
           }
          },
          "colorscale": {
           "diverging": [
            [
             0,
             "#8e0152"
            ],
            [
             0.1,
             "#c51b7d"
            ],
            [
             0.2,
             "#de77ae"
            ],
            [
             0.3,
             "#f1b6da"
            ],
            [
             0.4,
             "#fde0ef"
            ],
            [
             0.5,
             "#f7f7f7"
            ],
            [
             0.6,
             "#e6f5d0"
            ],
            [
             0.7,
             "#b8e186"
            ],
            [
             0.8,
             "#7fbc41"
            ],
            [
             0.9,
             "#4d9221"
            ],
            [
             1,
             "#276419"
            ]
           ],
           "sequential": [
            [
             0,
             "#0d0887"
            ],
            [
             0.1111111111111111,
             "#46039f"
            ],
            [
             0.2222222222222222,
             "#7201a8"
            ],
            [
             0.3333333333333333,
             "#9c179e"
            ],
            [
             0.4444444444444444,
             "#bd3786"
            ],
            [
             0.5555555555555556,
             "#d8576b"
            ],
            [
             0.6666666666666666,
             "#ed7953"
            ],
            [
             0.7777777777777778,
             "#fb9f3a"
            ],
            [
             0.8888888888888888,
             "#fdca26"
            ],
            [
             1,
             "#f0f921"
            ]
           ],
           "sequentialminus": [
            [
             0,
             "#0d0887"
            ],
            [
             0.1111111111111111,
             "#46039f"
            ],
            [
             0.2222222222222222,
             "#7201a8"
            ],
            [
             0.3333333333333333,
             "#9c179e"
            ],
            [
             0.4444444444444444,
             "#bd3786"
            ],
            [
             0.5555555555555556,
             "#d8576b"
            ],
            [
             0.6666666666666666,
             "#ed7953"
            ],
            [
             0.7777777777777778,
             "#fb9f3a"
            ],
            [
             0.8888888888888888,
             "#fdca26"
            ],
            [
             1,
             "#f0f921"
            ]
           ]
          },
          "colorway": [
           "#636efa",
           "#EF553B",
           "#00cc96",
           "#ab63fa",
           "#FFA15A",
           "#19d3f3",
           "#FF6692",
           "#B6E880",
           "#FF97FF",
           "#FECB52"
          ],
          "font": {
           "color": "#2a3f5f"
          },
          "geo": {
           "bgcolor": "white",
           "lakecolor": "white",
           "landcolor": "#E5ECF6",
           "showlakes": true,
           "showland": true,
           "subunitcolor": "white"
          },
          "hoverlabel": {
           "align": "left"
          },
          "hovermode": "closest",
          "mapbox": {
           "style": "light"
          },
          "paper_bgcolor": "white",
          "plot_bgcolor": "#E5ECF6",
          "polar": {
           "angularaxis": {
            "gridcolor": "white",
            "linecolor": "white",
            "ticks": ""
           },
           "bgcolor": "#E5ECF6",
           "radialaxis": {
            "gridcolor": "white",
            "linecolor": "white",
            "ticks": ""
           }
          },
          "scene": {
           "xaxis": {
            "backgroundcolor": "#E5ECF6",
            "gridcolor": "white",
            "gridwidth": 2,
            "linecolor": "white",
            "showbackground": true,
            "ticks": "",
            "zerolinecolor": "white"
           },
           "yaxis": {
            "backgroundcolor": "#E5ECF6",
            "gridcolor": "white",
            "gridwidth": 2,
            "linecolor": "white",
            "showbackground": true,
            "ticks": "",
            "zerolinecolor": "white"
           },
           "zaxis": {
            "backgroundcolor": "#E5ECF6",
            "gridcolor": "white",
            "gridwidth": 2,
            "linecolor": "white",
            "showbackground": true,
            "ticks": "",
            "zerolinecolor": "white"
           }
          },
          "shapedefaults": {
           "line": {
            "color": "#2a3f5f"
           }
          },
          "ternary": {
           "aaxis": {
            "gridcolor": "white",
            "linecolor": "white",
            "ticks": ""
           },
           "baxis": {
            "gridcolor": "white",
            "linecolor": "white",
            "ticks": ""
           },
           "bgcolor": "#E5ECF6",
           "caxis": {
            "gridcolor": "white",
            "linecolor": "white",
            "ticks": ""
           }
          },
          "title": {
           "x": 0.05
          },
          "xaxis": {
           "automargin": true,
           "gridcolor": "white",
           "linecolor": "white",
           "ticks": "",
           "title": {
            "standoff": 15
           },
           "zerolinecolor": "white",
           "zerolinewidth": 2
          },
          "yaxis": {
           "automargin": true,
           "gridcolor": "white",
           "linecolor": "white",
           "ticks": "",
           "title": {
            "standoff": 15
           },
           "zerolinecolor": "white",
           "zerolinewidth": 2
          }
         }
        },
        "width": 404.508497175,
        "xaxis": {
         "anchor": "y",
         "domain": [
          0,
          1
         ],
         "range": [
          4,
          36
         ],
         "showgrid": false,
         "showline": false,
         "tickcolor": "rgb(120, 120, 120)",
         "ticklen": 5,
         "ticks": "outside",
         "tickwidth": 1,
         "title": {
          "text": "molecule size"
         },
         "zeroline": false
        },
        "yaxis": {
         "anchor": "x",
         "domain": [
          0,
          1
         ],
         "gridcolor": "rgba(173, 216, 230, 0.3)",
         "gridwidth": 1,
         "showgrid": false,
         "showline": false,
         "tickcolor": "rgb(120, 120, 120)",
         "ticklen": 5,
         "ticks": "outside",
         "tickwidth": 1,
         "title": {
          "text": "count"
         },
         "zeroline": false
        }
       }
      }
     },
     "metadata": {},
     "output_type": "display_data"
    },
    {
     "data": {
      "application/vnd.plotly.v1+json": {
       "config": {
        "plotlyServerURL": "https://plot.ly"
       },
       "data": [
        {
         "alignmentgroup": "True",
         "bingroup": "x",
         "hovertemplate": "Top 10=True<br>mol_size=%{x}<br>count=%{y}<extra></extra>",
         "legendgroup": "True",
         "marker": {
          "color": "rgb(152, 86, 86)",
          "line": {
           "color": "DarkSlateGrey",
           "width": 0.2
          },
          "opacity": 0.5,
          "pattern": {
           "shape": ""
          }
         },
         "name": "True",
         "nbinsx": 30,
         "offsetgroup": "True",
         "opacity": 1,
         "orientation": "v",
         "showlegend": true,
         "type": "histogram",
         "x": [
          22,
          16,
          18,
          18,
          24,
          29,
          13,
          23,
          35,
          30,
          13,
          20,
          31,
          27,
          21,
          29,
          23,
          25,
          22,
          19,
          23,
          18,
          24,
          30,
          12,
          17,
          14,
          31,
          14,
          20,
          23,
          31,
          15,
          25,
          34,
          15,
          33,
          18,
          26,
          10,
          21,
          12,
          30,
          33,
          28,
          18,
          24,
          24,
          23,
          27,
          15,
          28,
          28,
          18,
          22,
          12,
          17,
          15,
          28,
          12,
          18,
          32,
          27,
          29,
          13,
          20,
          16,
          29,
          25,
          25,
          29,
          13,
          14,
          32,
          34,
          18,
          10,
          27,
          21,
          21,
          33,
          16,
          15,
          25,
          20,
          14,
          35,
          26,
          14,
          25,
          33,
          30,
          25,
          26,
          24,
          29,
          17,
          22,
          19,
          34,
          25,
          22,
          15,
          17,
          18,
          31,
          35,
          14,
          5,
          33,
          18,
          31,
          20,
          20,
          20,
          24,
          16,
          19,
          14,
          22,
          11,
          27,
          23,
          29,
          26,
          34,
          11,
          35,
          11,
          33,
          11,
          29,
          9,
          17,
          11,
          27,
          28,
          14,
          21,
          13,
          21,
          23,
          12,
          28,
          23,
          29,
          20,
          12,
          25,
          17,
          12,
          27,
          24,
          10,
          14,
          32,
          33,
          19,
          16,
          24,
          31,
          10,
          33,
          35,
          22,
          21,
          27,
          12,
          14,
          15,
          22,
          19,
          18,
          33,
          17,
          30,
          30,
          35,
          26,
          18,
          15,
          32,
          18,
          17,
          25,
          14,
          13,
          22,
          27,
          17,
          25,
          26,
          13,
          25,
          15,
          27,
          13,
          18,
          22,
          35,
          17,
          18,
          14,
          27,
          23,
          21,
          35,
          29,
          24,
          32,
          27,
          34,
          19,
          27,
          24,
          22,
          22,
          22,
          23,
          21,
          32,
          15,
          12,
          29,
          14,
          17,
          31,
          18,
          31,
          20,
          17,
          23,
          33,
          18,
          14,
          28,
          31,
          20,
          28,
          32,
          16,
          24,
          30,
          25,
          32,
          12,
          20,
          25,
          25,
          22,
          29,
          15,
          31,
          30,
          30,
          18,
          25,
          34,
          21,
          18,
          30,
          16,
          23,
          22,
          25,
          14,
          16,
          22,
          17,
          22,
          9,
          15,
          33,
          13,
          20,
          18,
          20,
          19,
          31,
          13,
          18,
          27,
          17,
          13,
          23,
          24,
          13,
          32,
          22,
          28,
          23,
          31,
          26,
          22,
          22,
          24,
          31,
          27,
          22,
          21,
          20,
          26,
          31,
          12,
          15,
          17,
          23,
          35,
          16,
          31,
          27,
          18,
          27,
          31,
          12,
          21,
          32,
          25,
          14,
          17,
          31,
          29,
          20,
          20,
          31,
          29,
          28,
          16,
          21,
          21,
          22,
          34,
          29,
          33,
          31,
          13,
          19,
          17,
          23,
          18,
          16,
          29,
          15,
          28,
          33,
          35,
          22,
          19,
          20,
          20,
          26,
          13,
          23,
          25,
          17,
          26,
          26,
          30,
          16,
          11,
          24,
          14,
          31,
          13,
          20,
          12,
          28,
          20,
          22,
          18,
          13,
          9,
          18,
          27,
          30,
          34,
          34,
          35,
          19,
          15,
          31,
          25,
          21,
          33,
          24,
          16,
          14,
          25,
          7,
          18,
          23,
          34,
          16,
          18,
          12,
          27,
          34,
          20,
          25,
          18,
          25,
          29,
          24,
          18,
          25,
          33,
          19,
          28,
          18,
          20,
          22,
          34,
          28,
          18,
          23,
          14,
          33,
          17,
          29,
          24,
          14,
          25,
          10,
          17,
          20,
          13,
          9,
          25,
          16,
          18,
          19,
          13,
          27,
          32,
          30,
          26,
          15,
          23,
          17,
          31,
          10,
          22,
          35,
          23,
          17,
          21,
          26,
          17,
          13,
          15,
          11,
          18,
          11,
          28,
          12,
          18,
          24,
          24,
          13,
          29,
          20,
          19,
          24,
          24,
          32,
          23,
          20,
          27,
          21,
          27,
          13,
          17,
          23,
          23,
          18,
          25,
          18,
          30,
          18,
          20,
          26,
          22,
          24,
          15,
          29,
          18,
          33,
          17,
          17,
          15,
          18,
          18,
          11,
          29,
          16,
          15,
          11,
          22,
          27,
          26,
          21,
          23,
          31,
          18,
          19,
          13,
          15,
          29,
          16,
          14,
          20,
          19,
          19,
          19,
          31,
          34,
          16,
          23,
          20,
          31,
          31,
          23,
          22,
          24,
          35,
          25,
          25,
          11,
          14,
          24,
          17,
          28,
          29,
          33,
          18,
          16,
          24,
          11,
          28,
          25,
          31,
          17,
          22,
          12,
          11,
          22,
          32,
          32,
          23,
          25,
          11,
          28,
          14,
          22,
          32,
          24,
          28,
          34,
          33,
          29,
          10,
          26,
          14,
          29,
          18,
          25,
          23,
          35,
          22,
          12,
          16,
          30,
          14,
          20,
          26,
          35,
          16,
          17,
          16,
          29,
          22,
          29,
          12,
          25,
          12,
          27,
          15,
          27,
          25,
          26,
          24,
          14,
          18,
          30,
          21,
          27,
          13,
          17,
          18,
          22,
          28,
          22,
          30,
          17,
          25,
          32,
          27,
          16,
          9,
          29,
          24,
          24,
          33,
          32,
          31,
          16,
          22,
          27,
          26,
          10,
          17,
          16,
          18,
          20,
          21,
          30,
          13,
          22,
          33,
          33,
          10,
          30,
          21,
          23,
          19,
          27,
          17,
          21,
          32,
          20,
          18,
          18,
          30,
          34,
          32,
          8,
          31,
          29,
          26,
          25,
          23,
          17,
          17,
          14,
          19,
          14,
          27,
          12,
          20,
          18,
          28,
          18,
          27,
          14,
          21,
          21,
          19,
          13,
          25,
          19,
          33,
          28,
          24,
          21,
          21,
          26,
          15,
          27,
          14,
          22,
          27,
          13,
          17,
          25,
          20,
          22,
          32,
          31,
          27,
          9,
          12,
          29,
          19,
          23,
          23,
          21,
          14,
          31,
          29,
          33,
          9,
          14,
          30,
          18,
          16,
          27,
          20,
          32,
          12,
          17,
          29,
          23,
          24,
          24,
          18,
          25,
          19,
          15,
          23,
          26,
          16,
          27,
          22,
          13,
          32,
          16,
          34,
          21,
          19,
          27,
          13,
          31,
          24,
          32,
          20,
          28,
          35,
          31,
          15,
          20,
          28,
          23,
          25,
          32,
          14,
          13,
          15,
          16,
          25,
          16,
          9,
          13,
          27,
          29,
          29,
          18,
          14,
          22,
          13,
          18,
          20,
          32,
          16,
          17,
          23,
          23,
          14,
          24,
          15,
          14,
          32,
          13,
          16,
          18,
          30,
          29,
          16,
          30,
          20,
          14,
          28,
          20,
          24,
          14,
          20,
          32,
          24,
          17,
          34,
          22,
          16,
          25,
          29,
          8,
          24,
          19,
          13,
          25,
          19,
          30,
          7,
          27,
          18,
          22,
          21,
          26,
          15,
          24,
          26,
          30,
          17,
          35,
          30,
          27,
          23,
          32,
          11,
          25,
          13,
          15,
          15,
          23,
          15,
          24,
          12,
          26,
          23,
          10,
          29,
          31,
          22,
          16,
          27,
          27,
          23,
          32,
          18,
          25,
          28,
          11,
          23,
          22,
          23,
          12,
          11,
          20,
          15,
          17,
          11,
          22,
          18,
          21,
          18,
          21,
          17,
          23,
          33,
          19,
          17,
          15,
          19,
          27,
          31,
          33,
          26,
          22,
          28,
          19,
          33,
          20,
          25,
          12,
          25,
          15,
          16,
          23,
          20,
          28,
          30,
          26,
          16,
          16,
          28,
          26,
          26,
          24,
          21,
          20,
          19,
          11
         ],
         "xaxis": "x",
         "yaxis": "y"
        },
        {
         "alignmentgroup": "True",
         "bingroup": "x",
         "hovertemplate": "Top 10=False<br>mol_size=%{x}<br>count=%{y}<extra></extra>",
         "legendgroup": "False",
         "marker": {
          "color": "rgb(152, 146, 186)",
          "line": {
           "color": "DarkSlateGrey",
           "width": 0.2
          },
          "opacity": 0.5,
          "pattern": {
           "shape": ""
          }
         },
         "name": "False",
         "nbinsx": 30,
         "offsetgroup": "False",
         "opacity": 1,
         "orientation": "v",
         "showlegend": true,
         "type": "histogram",
         "x": [
          28,
          35,
          24,
          30,
          30,
          24,
          32,
          35,
          24,
          15,
          32,
          31,
          34,
          35,
          17,
          32,
          24,
          34,
          31,
          33,
          21,
          29,
          29,
          23,
          22,
          28,
          31,
          27,
          23,
          23,
          29,
          20,
          27,
          31,
          15,
          22,
          30,
          32,
          29,
          25,
          33,
          35,
          32,
          20,
          35,
          29,
          34,
          33,
          31,
          27,
          16,
          29,
          29,
          23,
          26,
          34,
          24,
          28,
          28,
          31,
          21,
          31,
          23,
          32,
          27,
          28,
          30,
          27,
          24,
          29,
          15,
          29,
          21,
          15,
          33,
          29,
          12,
          32,
          25,
          34,
          34,
          30,
          19,
          25,
          30,
          26,
          24,
          22,
          23,
          31,
          20,
          19,
          27,
          30,
          33,
          25,
          29,
          22,
          26,
          27,
          17,
          22,
          16,
          31,
          26,
          28,
          26,
          28,
          32,
          25,
          21
         ],
         "xaxis": "x",
         "yaxis": "y"
        }
       ],
       "layout": {
        "barmode": "overlay",
        "font": {
         "family": "CMU Sans Serif"
        },
        "height": 250,
        "legend": {
         "title": {
          "text": "Top 10"
         },
         "tracegroupgap": 0
        },
        "margin": {
         "b": 0,
         "l": 0,
         "r": 0,
         "t": 0
        },
        "plot_bgcolor": "white",
        "template": {
         "data": {
          "bar": [
           {
            "error_x": {
             "color": "#2a3f5f"
            },
            "error_y": {
             "color": "#2a3f5f"
            },
            "marker": {
             "line": {
              "color": "#E5ECF6",
              "width": 0.5
             },
             "pattern": {
              "fillmode": "overlay",
              "size": 10,
              "solidity": 0.2
             }
            },
            "type": "bar"
           }
          ],
          "barpolar": [
           {
            "marker": {
             "line": {
              "color": "#E5ECF6",
              "width": 0.5
             },
             "pattern": {
              "fillmode": "overlay",
              "size": 10,
              "solidity": 0.2
             }
            },
            "type": "barpolar"
           }
          ],
          "carpet": [
           {
            "aaxis": {
             "endlinecolor": "#2a3f5f",
             "gridcolor": "white",
             "linecolor": "white",
             "minorgridcolor": "white",
             "startlinecolor": "#2a3f5f"
            },
            "baxis": {
             "endlinecolor": "#2a3f5f",
             "gridcolor": "white",
             "linecolor": "white",
             "minorgridcolor": "white",
             "startlinecolor": "#2a3f5f"
            },
            "type": "carpet"
           }
          ],
          "choropleth": [
           {
            "colorbar": {
             "outlinewidth": 0,
             "ticks": ""
            },
            "type": "choropleth"
           }
          ],
          "contour": [
           {
            "colorbar": {
             "outlinewidth": 0,
             "ticks": ""
            },
            "colorscale": [
             [
              0,
              "#0d0887"
             ],
             [
              0.1111111111111111,
              "#46039f"
             ],
             [
              0.2222222222222222,
              "#7201a8"
             ],
             [
              0.3333333333333333,
              "#9c179e"
             ],
             [
              0.4444444444444444,
              "#bd3786"
             ],
             [
              0.5555555555555556,
              "#d8576b"
             ],
             [
              0.6666666666666666,
              "#ed7953"
             ],
             [
              0.7777777777777778,
              "#fb9f3a"
             ],
             [
              0.8888888888888888,
              "#fdca26"
             ],
             [
              1,
              "#f0f921"
             ]
            ],
            "type": "contour"
           }
          ],
          "contourcarpet": [
           {
            "colorbar": {
             "outlinewidth": 0,
             "ticks": ""
            },
            "type": "contourcarpet"
           }
          ],
          "heatmap": [
           {
            "colorbar": {
             "outlinewidth": 0,
             "ticks": ""
            },
            "colorscale": [
             [
              0,
              "#0d0887"
             ],
             [
              0.1111111111111111,
              "#46039f"
             ],
             [
              0.2222222222222222,
              "#7201a8"
             ],
             [
              0.3333333333333333,
              "#9c179e"
             ],
             [
              0.4444444444444444,
              "#bd3786"
             ],
             [
              0.5555555555555556,
              "#d8576b"
             ],
             [
              0.6666666666666666,
              "#ed7953"
             ],
             [
              0.7777777777777778,
              "#fb9f3a"
             ],
             [
              0.8888888888888888,
              "#fdca26"
             ],
             [
              1,
              "#f0f921"
             ]
            ],
            "type": "heatmap"
           }
          ],
          "heatmapgl": [
           {
            "colorbar": {
             "outlinewidth": 0,
             "ticks": ""
            },
            "colorscale": [
             [
              0,
              "#0d0887"
             ],
             [
              0.1111111111111111,
              "#46039f"
             ],
             [
              0.2222222222222222,
              "#7201a8"
             ],
             [
              0.3333333333333333,
              "#9c179e"
             ],
             [
              0.4444444444444444,
              "#bd3786"
             ],
             [
              0.5555555555555556,
              "#d8576b"
             ],
             [
              0.6666666666666666,
              "#ed7953"
             ],
             [
              0.7777777777777778,
              "#fb9f3a"
             ],
             [
              0.8888888888888888,
              "#fdca26"
             ],
             [
              1,
              "#f0f921"
             ]
            ],
            "type": "heatmapgl"
           }
          ],
          "histogram": [
           {
            "marker": {
             "pattern": {
              "fillmode": "overlay",
              "size": 10,
              "solidity": 0.2
             }
            },
            "type": "histogram"
           }
          ],
          "histogram2d": [
           {
            "colorbar": {
             "outlinewidth": 0,
             "ticks": ""
            },
            "colorscale": [
             [
              0,
              "#0d0887"
             ],
             [
              0.1111111111111111,
              "#46039f"
             ],
             [
              0.2222222222222222,
              "#7201a8"
             ],
             [
              0.3333333333333333,
              "#9c179e"
             ],
             [
              0.4444444444444444,
              "#bd3786"
             ],
             [
              0.5555555555555556,
              "#d8576b"
             ],
             [
              0.6666666666666666,
              "#ed7953"
             ],
             [
              0.7777777777777778,
              "#fb9f3a"
             ],
             [
              0.8888888888888888,
              "#fdca26"
             ],
             [
              1,
              "#f0f921"
             ]
            ],
            "type": "histogram2d"
           }
          ],
          "histogram2dcontour": [
           {
            "colorbar": {
             "outlinewidth": 0,
             "ticks": ""
            },
            "colorscale": [
             [
              0,
              "#0d0887"
             ],
             [
              0.1111111111111111,
              "#46039f"
             ],
             [
              0.2222222222222222,
              "#7201a8"
             ],
             [
              0.3333333333333333,
              "#9c179e"
             ],
             [
              0.4444444444444444,
              "#bd3786"
             ],
             [
              0.5555555555555556,
              "#d8576b"
             ],
             [
              0.6666666666666666,
              "#ed7953"
             ],
             [
              0.7777777777777778,
              "#fb9f3a"
             ],
             [
              0.8888888888888888,
              "#fdca26"
             ],
             [
              1,
              "#f0f921"
             ]
            ],
            "type": "histogram2dcontour"
           }
          ],
          "mesh3d": [
           {
            "colorbar": {
             "outlinewidth": 0,
             "ticks": ""
            },
            "type": "mesh3d"
           }
          ],
          "parcoords": [
           {
            "line": {
             "colorbar": {
              "outlinewidth": 0,
              "ticks": ""
             }
            },
            "type": "parcoords"
           }
          ],
          "pie": [
           {
            "automargin": true,
            "type": "pie"
           }
          ],
          "scatter": [
           {
            "fillpattern": {
             "fillmode": "overlay",
             "size": 10,
             "solidity": 0.2
            },
            "type": "scatter"
           }
          ],
          "scatter3d": [
           {
            "line": {
             "colorbar": {
              "outlinewidth": 0,
              "ticks": ""
             }
            },
            "marker": {
             "colorbar": {
              "outlinewidth": 0,
              "ticks": ""
             }
            },
            "type": "scatter3d"
           }
          ],
          "scattercarpet": [
           {
            "marker": {
             "colorbar": {
              "outlinewidth": 0,
              "ticks": ""
             }
            },
            "type": "scattercarpet"
           }
          ],
          "scattergeo": [
           {
            "marker": {
             "colorbar": {
              "outlinewidth": 0,
              "ticks": ""
             }
            },
            "type": "scattergeo"
           }
          ],
          "scattergl": [
           {
            "marker": {
             "colorbar": {
              "outlinewidth": 0,
              "ticks": ""
             }
            },
            "type": "scattergl"
           }
          ],
          "scattermapbox": [
           {
            "marker": {
             "colorbar": {
              "outlinewidth": 0,
              "ticks": ""
             }
            },
            "type": "scattermapbox"
           }
          ],
          "scatterpolar": [
           {
            "marker": {
             "colorbar": {
              "outlinewidth": 0,
              "ticks": ""
             }
            },
            "type": "scatterpolar"
           }
          ],
          "scatterpolargl": [
           {
            "marker": {
             "colorbar": {
              "outlinewidth": 0,
              "ticks": ""
             }
            },
            "type": "scatterpolargl"
           }
          ],
          "scatterternary": [
           {
            "marker": {
             "colorbar": {
              "outlinewidth": 0,
              "ticks": ""
             }
            },
            "type": "scatterternary"
           }
          ],
          "surface": [
           {
            "colorbar": {
             "outlinewidth": 0,
             "ticks": ""
            },
            "colorscale": [
             [
              0,
              "#0d0887"
             ],
             [
              0.1111111111111111,
              "#46039f"
             ],
             [
              0.2222222222222222,
              "#7201a8"
             ],
             [
              0.3333333333333333,
              "#9c179e"
             ],
             [
              0.4444444444444444,
              "#bd3786"
             ],
             [
              0.5555555555555556,
              "#d8576b"
             ],
             [
              0.6666666666666666,
              "#ed7953"
             ],
             [
              0.7777777777777778,
              "#fb9f3a"
             ],
             [
              0.8888888888888888,
              "#fdca26"
             ],
             [
              1,
              "#f0f921"
             ]
            ],
            "type": "surface"
           }
          ],
          "table": [
           {
            "cells": {
             "fill": {
              "color": "#EBF0F8"
             },
             "line": {
              "color": "white"
             }
            },
            "header": {
             "fill": {
              "color": "#C8D4E3"
             },
             "line": {
              "color": "white"
             }
            },
            "type": "table"
           }
          ]
         },
         "layout": {
          "annotationdefaults": {
           "arrowcolor": "#2a3f5f",
           "arrowhead": 0,
           "arrowwidth": 1
          },
          "autotypenumbers": "strict",
          "coloraxis": {
           "colorbar": {
            "outlinewidth": 0,
            "ticks": ""
           }
          },
          "colorscale": {
           "diverging": [
            [
             0,
             "#8e0152"
            ],
            [
             0.1,
             "#c51b7d"
            ],
            [
             0.2,
             "#de77ae"
            ],
            [
             0.3,
             "#f1b6da"
            ],
            [
             0.4,
             "#fde0ef"
            ],
            [
             0.5,
             "#f7f7f7"
            ],
            [
             0.6,
             "#e6f5d0"
            ],
            [
             0.7,
             "#b8e186"
            ],
            [
             0.8,
             "#7fbc41"
            ],
            [
             0.9,
             "#4d9221"
            ],
            [
             1,
             "#276419"
            ]
           ],
           "sequential": [
            [
             0,
             "#0d0887"
            ],
            [
             0.1111111111111111,
             "#46039f"
            ],
            [
             0.2222222222222222,
             "#7201a8"
            ],
            [
             0.3333333333333333,
             "#9c179e"
            ],
            [
             0.4444444444444444,
             "#bd3786"
            ],
            [
             0.5555555555555556,
             "#d8576b"
            ],
            [
             0.6666666666666666,
             "#ed7953"
            ],
            [
             0.7777777777777778,
             "#fb9f3a"
            ],
            [
             0.8888888888888888,
             "#fdca26"
            ],
            [
             1,
             "#f0f921"
            ]
           ],
           "sequentialminus": [
            [
             0,
             "#0d0887"
            ],
            [
             0.1111111111111111,
             "#46039f"
            ],
            [
             0.2222222222222222,
             "#7201a8"
            ],
            [
             0.3333333333333333,
             "#9c179e"
            ],
            [
             0.4444444444444444,
             "#bd3786"
            ],
            [
             0.5555555555555556,
             "#d8576b"
            ],
            [
             0.6666666666666666,
             "#ed7953"
            ],
            [
             0.7777777777777778,
             "#fb9f3a"
            ],
            [
             0.8888888888888888,
             "#fdca26"
            ],
            [
             1,
             "#f0f921"
            ]
           ]
          },
          "colorway": [
           "#636efa",
           "#EF553B",
           "#00cc96",
           "#ab63fa",
           "#FFA15A",
           "#19d3f3",
           "#FF6692",
           "#B6E880",
           "#FF97FF",
           "#FECB52"
          ],
          "font": {
           "color": "#2a3f5f"
          },
          "geo": {
           "bgcolor": "white",
           "lakecolor": "white",
           "landcolor": "#E5ECF6",
           "showlakes": true,
           "showland": true,
           "subunitcolor": "white"
          },
          "hoverlabel": {
           "align": "left"
          },
          "hovermode": "closest",
          "mapbox": {
           "style": "light"
          },
          "paper_bgcolor": "white",
          "plot_bgcolor": "#E5ECF6",
          "polar": {
           "angularaxis": {
            "gridcolor": "white",
            "linecolor": "white",
            "ticks": ""
           },
           "bgcolor": "#E5ECF6",
           "radialaxis": {
            "gridcolor": "white",
            "linecolor": "white",
            "ticks": ""
           }
          },
          "scene": {
           "xaxis": {
            "backgroundcolor": "#E5ECF6",
            "gridcolor": "white",
            "gridwidth": 2,
            "linecolor": "white",
            "showbackground": true,
            "ticks": "",
            "zerolinecolor": "white"
           },
           "yaxis": {
            "backgroundcolor": "#E5ECF6",
            "gridcolor": "white",
            "gridwidth": 2,
            "linecolor": "white",
            "showbackground": true,
            "ticks": "",
            "zerolinecolor": "white"
           },
           "zaxis": {
            "backgroundcolor": "#E5ECF6",
            "gridcolor": "white",
            "gridwidth": 2,
            "linecolor": "white",
            "showbackground": true,
            "ticks": "",
            "zerolinecolor": "white"
           }
          },
          "shapedefaults": {
           "line": {
            "color": "#2a3f5f"
           }
          },
          "ternary": {
           "aaxis": {
            "gridcolor": "white",
            "linecolor": "white",
            "ticks": ""
           },
           "baxis": {
            "gridcolor": "white",
            "linecolor": "white",
            "ticks": ""
           },
           "bgcolor": "#E5ECF6",
           "caxis": {
            "gridcolor": "white",
            "linecolor": "white",
            "ticks": ""
           }
          },
          "title": {
           "x": 0.05
          },
          "xaxis": {
           "automargin": true,
           "gridcolor": "white",
           "linecolor": "white",
           "ticks": "",
           "title": {
            "standoff": 15
           },
           "zerolinecolor": "white",
           "zerolinewidth": 2
          },
          "yaxis": {
           "automargin": true,
           "gridcolor": "white",
           "linecolor": "white",
           "ticks": "",
           "title": {
            "standoff": 15
           },
           "zerolinecolor": "white",
           "zerolinewidth": 2
          }
         }
        },
        "width": 404.508497175,
        "xaxis": {
         "anchor": "y",
         "domain": [
          0,
          1
         ],
         "range": [
          4,
          36
         ],
         "showgrid": false,
         "showline": false,
         "tickcolor": "rgb(120, 120, 120)",
         "ticklen": 5,
         "ticks": "outside",
         "tickwidth": 1,
         "title": {
          "text": "molecule size"
         },
         "zeroline": false
        },
        "yaxis": {
         "anchor": "x",
         "domain": [
          0,
          1
         ],
         "gridcolor": "rgba(173, 216, 230, 0.3)",
         "gridwidth": 1,
         "showgrid": false,
         "showline": false,
         "tickcolor": "rgb(120, 120, 120)",
         "ticklen": 5,
         "ticks": "outside",
         "tickwidth": 1,
         "title": {
          "text": "count"
         },
         "zeroline": false
        }
       }
      }
     },
     "metadata": {},
     "output_type": "display_data"
    },
    {
     "data": {
      "application/vnd.plotly.v1+json": {
       "config": {
        "plotlyServerURL": "https://plot.ly"
       },
       "data": [
        {
         "alignmentgroup": "True",
         "bingroup": "x",
         "hovertemplate": "Found=True<br>mol_size=%{x}<br>count=%{y}<extra></extra>",
         "legendgroup": "True",
         "marker": {
          "color": "rgb(152, 86, 86)",
          "line": {
           "color": "DarkSlateGrey",
           "width": 0.2
          },
          "opacity": 0.5,
          "pattern": {
           "shape": ""
          }
         },
         "name": "True",
         "nbinsx": 30,
         "offsetgroup": "True",
         "opacity": 1,
         "orientation": "v",
         "showlegend": true,
         "type": "histogram",
         "x": [
          22,
          16,
          18,
          18,
          24,
          29,
          13,
          23,
          35,
          30,
          13,
          20,
          31,
          27,
          21,
          29,
          23,
          25,
          22,
          19,
          23,
          18,
          24,
          30,
          12,
          17,
          14,
          31,
          14,
          20,
          23,
          31,
          35,
          15,
          25,
          34,
          15,
          33,
          18,
          26,
          10,
          21,
          12,
          30,
          33,
          28,
          18,
          24,
          24,
          23,
          27,
          15,
          28,
          28,
          18,
          22,
          12,
          17,
          15,
          28,
          12,
          18,
          32,
          27,
          29,
          13,
          20,
          16,
          29,
          25,
          25,
          29,
          13,
          14,
          32,
          34,
          18,
          10,
          27,
          21,
          21,
          33,
          16,
          15,
          25,
          20,
          14,
          35,
          26,
          24,
          14,
          25,
          33,
          30,
          25,
          26,
          24,
          29,
          17,
          22,
          19,
          34,
          25,
          22,
          15,
          17,
          18,
          31,
          35,
          14,
          5,
          33,
          18,
          31,
          20,
          20,
          20,
          24,
          16,
          19,
          14,
          22,
          11,
          27,
          23,
          29,
          26,
          34,
          11,
          35,
          11,
          33,
          11,
          29,
          9,
          17,
          11,
          27,
          28,
          14,
          21,
          13,
          21,
          23,
          12,
          28,
          23,
          29,
          20,
          12,
          25,
          17,
          12,
          27,
          24,
          10,
          14,
          32,
          33,
          19,
          16,
          24,
          31,
          10,
          33,
          35,
          22,
          21,
          27,
          12,
          14,
          15,
          22,
          19,
          18,
          33,
          17,
          30,
          30,
          35,
          26,
          18,
          15,
          32,
          18,
          17,
          25,
          14,
          13,
          22,
          27,
          17,
          25,
          26,
          13,
          25,
          15,
          27,
          13,
          18,
          22,
          35,
          17,
          18,
          14,
          27,
          23,
          21,
          35,
          29,
          24,
          32,
          27,
          34,
          19,
          27,
          24,
          22,
          22,
          22,
          23,
          21,
          32,
          15,
          12,
          29,
          14,
          17,
          31,
          18,
          31,
          20,
          17,
          23,
          33,
          18,
          14,
          28,
          31,
          20,
          28,
          32,
          16,
          24,
          30,
          25,
          32,
          12,
          20,
          25,
          25,
          22,
          29,
          15,
          31,
          30,
          30,
          18,
          25,
          34,
          21,
          18,
          30,
          16,
          23,
          22,
          25,
          14,
          16,
          22,
          17,
          22,
          9,
          15,
          33,
          13,
          20,
          18,
          20,
          19,
          31,
          13,
          18,
          27,
          17,
          13,
          23,
          24,
          13,
          32,
          22,
          28,
          23,
          31,
          26,
          22,
          22,
          24,
          31,
          27,
          22,
          21,
          20,
          26,
          31,
          12,
          15,
          17,
          23,
          35,
          16,
          31,
          27,
          18,
          27,
          31,
          12,
          21,
          32,
          25,
          14,
          17,
          31,
          29,
          20,
          20,
          31,
          29,
          28,
          16,
          21,
          21,
          22,
          34,
          29,
          33,
          31,
          13,
          19,
          17,
          23,
          18,
          16,
          29,
          15,
          28,
          33,
          35,
          22,
          19,
          20,
          20,
          26,
          13,
          23,
          25,
          17,
          26,
          26,
          30,
          16,
          35,
          11,
          24,
          14,
          31,
          13,
          20,
          12,
          28,
          34,
          20,
          22,
          18,
          13,
          9,
          18,
          27,
          30,
          34,
          34,
          35,
          19,
          15,
          31,
          25,
          21,
          33,
          24,
          16,
          14,
          25,
          7,
          18,
          23,
          34,
          16,
          18,
          12,
          27,
          34,
          20,
          25,
          18,
          25,
          29,
          24,
          18,
          25,
          33,
          19,
          28,
          18,
          20,
          22,
          34,
          16,
          28,
          18,
          23,
          29,
          14,
          33,
          17,
          29,
          24,
          14,
          25,
          10,
          17,
          24,
          20,
          13,
          9,
          25,
          16,
          18,
          19,
          13,
          27,
          32,
          30,
          26,
          15,
          23,
          17,
          31,
          10,
          22,
          35,
          23,
          17,
          21,
          26,
          17,
          13,
          15,
          11,
          18,
          11,
          28,
          12,
          18,
          24,
          24,
          13,
          29,
          20,
          19,
          24,
          24,
          32,
          23,
          20,
          27,
          21,
          27,
          13,
          17,
          23,
          23,
          18,
          25,
          18,
          30,
          18,
          20,
          26,
          22,
          24,
          15,
          29,
          18,
          33,
          17,
          17,
          15,
          18,
          18,
          11,
          29,
          16,
          15,
          11,
          22,
          27,
          26,
          21,
          23,
          31,
          18,
          19,
          13,
          15,
          29,
          16,
          14,
          30,
          20,
          19,
          19,
          19,
          31,
          34,
          16,
          23,
          20,
          31,
          31,
          23,
          22,
          24,
          35,
          25,
          25,
          11,
          14,
          24,
          17,
          28,
          29,
          33,
          18,
          16,
          24,
          11,
          28,
          25,
          31,
          17,
          22,
          12,
          11,
          22,
          32,
          32,
          23,
          25,
          11,
          28,
          14,
          22,
          32,
          24,
          28,
          34,
          33,
          29,
          10,
          26,
          14,
          29,
          18,
          25,
          23,
          35,
          22,
          12,
          16,
          30,
          14,
          20,
          26,
          35,
          16,
          17,
          16,
          29,
          22,
          29,
          12,
          25,
          12,
          27,
          15,
          27,
          25,
          26,
          24,
          14,
          18,
          30,
          21,
          27,
          13,
          17,
          18,
          22,
          28,
          22,
          30,
          17,
          25,
          32,
          27,
          16,
          9,
          29,
          24,
          24,
          33,
          32,
          31,
          16,
          22,
          27,
          26,
          10,
          17,
          16,
          18,
          20,
          21,
          30,
          13,
          22,
          33,
          33,
          10,
          30,
          21,
          23,
          19,
          27,
          17,
          21,
          32,
          20,
          18,
          18,
          30,
          34,
          32,
          8,
          31,
          29,
          26,
          25,
          23,
          17,
          17,
          14,
          19,
          14,
          27,
          12,
          20,
          18,
          28,
          18,
          27,
          14,
          21,
          21,
          19,
          13,
          25,
          19,
          33,
          28,
          24,
          21,
          21,
          26,
          15,
          27,
          14,
          22,
          27,
          13,
          17,
          25,
          20,
          22,
          32,
          31,
          27,
          9,
          12,
          29,
          19,
          23,
          23,
          21,
          14,
          31,
          29,
          33,
          9,
          14,
          30,
          18,
          16,
          27,
          20,
          32,
          12,
          17,
          29,
          23,
          24,
          24,
          18,
          25,
          19,
          15,
          23,
          26,
          16,
          27,
          22,
          13,
          32,
          16,
          34,
          21,
          19,
          27,
          13,
          31,
          24,
          32,
          20,
          28,
          35,
          31,
          15,
          20,
          28,
          23,
          25,
          32,
          14,
          13,
          15,
          16,
          25,
          16,
          9,
          13,
          27,
          29,
          29,
          18,
          14,
          22,
          13,
          18,
          20,
          32,
          16,
          17,
          23,
          23,
          14,
          24,
          15,
          14,
          32,
          13,
          16,
          18,
          30,
          29,
          16,
          30,
          20,
          14,
          28,
          20,
          24,
          14,
          20,
          32,
          24,
          17,
          34,
          22,
          16,
          25,
          29,
          8,
          24,
          19,
          13,
          25,
          19,
          30,
          7,
          27,
          18,
          22,
          16,
          21,
          26,
          15,
          24,
          26,
          30,
          17,
          35,
          30,
          27,
          23,
          32,
          11,
          25,
          13,
          15,
          15,
          23,
          15,
          24,
          12,
          26,
          23,
          10,
          29,
          31,
          22,
          16,
          27,
          27,
          23,
          32,
          18,
          25,
          28,
          11,
          23,
          22,
          23,
          12,
          11,
          20,
          15,
          17,
          11,
          22,
          18,
          21,
          18,
          21,
          17,
          23,
          33,
          19,
          17,
          15,
          19,
          27,
          31,
          33,
          26,
          22,
          28,
          19,
          33,
          20,
          25,
          12,
          25,
          15,
          16,
          23,
          20,
          28,
          30,
          26,
          16,
          16,
          28,
          26,
          26,
          24,
          21,
          20,
          19,
          11
         ],
         "xaxis": "x",
         "yaxis": "y"
        },
        {
         "alignmentgroup": "True",
         "bingroup": "x",
         "hovertemplate": "Found=False<br>mol_size=%{x}<br>count=%{y}<extra></extra>",
         "legendgroup": "False",
         "marker": {
          "color": "rgb(152, 146, 186)",
          "line": {
           "color": "DarkSlateGrey",
           "width": 0.2
          },
          "opacity": 0.5,
          "pattern": {
           "shape": ""
          }
         },
         "name": "False",
         "nbinsx": 30,
         "offsetgroup": "False",
         "opacity": 1,
         "orientation": "v",
         "showlegend": true,
         "type": "histogram",
         "x": [
          28,
          24,
          30,
          30,
          24,
          32,
          35,
          15,
          32,
          31,
          34,
          35,
          17,
          32,
          24,
          34,
          31,
          33,
          21,
          29,
          29,
          23,
          22,
          28,
          31,
          27,
          23,
          23,
          29,
          20,
          27,
          31,
          15,
          22,
          30,
          32,
          29,
          25,
          33,
          35,
          32,
          20,
          29,
          33,
          31,
          27,
          29,
          23,
          26,
          34,
          28,
          28,
          31,
          21,
          31,
          23,
          32,
          27,
          28,
          27,
          24,
          29,
          15,
          29,
          21,
          15,
          33,
          29,
          12,
          32,
          25,
          34,
          34,
          30,
          19,
          25,
          30,
          26,
          24,
          22,
          23,
          31,
          20,
          19,
          27,
          30,
          33,
          25,
          29,
          22,
          26,
          27,
          17,
          22,
          31,
          26,
          28,
          26,
          28,
          32,
          25,
          21
         ],
         "xaxis": "x",
         "yaxis": "y"
        }
       ],
       "layout": {
        "barmode": "overlay",
        "font": {
         "family": "CMU Sans Serif"
        },
        "height": 250,
        "legend": {
         "title": {
          "text": "Found"
         },
         "tracegroupgap": 0
        },
        "margin": {
         "b": 0,
         "l": 0,
         "r": 0,
         "t": 0
        },
        "plot_bgcolor": "white",
        "template": {
         "data": {
          "bar": [
           {
            "error_x": {
             "color": "#2a3f5f"
            },
            "error_y": {
             "color": "#2a3f5f"
            },
            "marker": {
             "line": {
              "color": "#E5ECF6",
              "width": 0.5
             },
             "pattern": {
              "fillmode": "overlay",
              "size": 10,
              "solidity": 0.2
             }
            },
            "type": "bar"
           }
          ],
          "barpolar": [
           {
            "marker": {
             "line": {
              "color": "#E5ECF6",
              "width": 0.5
             },
             "pattern": {
              "fillmode": "overlay",
              "size": 10,
              "solidity": 0.2
             }
            },
            "type": "barpolar"
           }
          ],
          "carpet": [
           {
            "aaxis": {
             "endlinecolor": "#2a3f5f",
             "gridcolor": "white",
             "linecolor": "white",
             "minorgridcolor": "white",
             "startlinecolor": "#2a3f5f"
            },
            "baxis": {
             "endlinecolor": "#2a3f5f",
             "gridcolor": "white",
             "linecolor": "white",
             "minorgridcolor": "white",
             "startlinecolor": "#2a3f5f"
            },
            "type": "carpet"
           }
          ],
          "choropleth": [
           {
            "colorbar": {
             "outlinewidth": 0,
             "ticks": ""
            },
            "type": "choropleth"
           }
          ],
          "contour": [
           {
            "colorbar": {
             "outlinewidth": 0,
             "ticks": ""
            },
            "colorscale": [
             [
              0,
              "#0d0887"
             ],
             [
              0.1111111111111111,
              "#46039f"
             ],
             [
              0.2222222222222222,
              "#7201a8"
             ],
             [
              0.3333333333333333,
              "#9c179e"
             ],
             [
              0.4444444444444444,
              "#bd3786"
             ],
             [
              0.5555555555555556,
              "#d8576b"
             ],
             [
              0.6666666666666666,
              "#ed7953"
             ],
             [
              0.7777777777777778,
              "#fb9f3a"
             ],
             [
              0.8888888888888888,
              "#fdca26"
             ],
             [
              1,
              "#f0f921"
             ]
            ],
            "type": "contour"
           }
          ],
          "contourcarpet": [
           {
            "colorbar": {
             "outlinewidth": 0,
             "ticks": ""
            },
            "type": "contourcarpet"
           }
          ],
          "heatmap": [
           {
            "colorbar": {
             "outlinewidth": 0,
             "ticks": ""
            },
            "colorscale": [
             [
              0,
              "#0d0887"
             ],
             [
              0.1111111111111111,
              "#46039f"
             ],
             [
              0.2222222222222222,
              "#7201a8"
             ],
             [
              0.3333333333333333,
              "#9c179e"
             ],
             [
              0.4444444444444444,
              "#bd3786"
             ],
             [
              0.5555555555555556,
              "#d8576b"
             ],
             [
              0.6666666666666666,
              "#ed7953"
             ],
             [
              0.7777777777777778,
              "#fb9f3a"
             ],
             [
              0.8888888888888888,
              "#fdca26"
             ],
             [
              1,
              "#f0f921"
             ]
            ],
            "type": "heatmap"
           }
          ],
          "heatmapgl": [
           {
            "colorbar": {
             "outlinewidth": 0,
             "ticks": ""
            },
            "colorscale": [
             [
              0,
              "#0d0887"
             ],
             [
              0.1111111111111111,
              "#46039f"
             ],
             [
              0.2222222222222222,
              "#7201a8"
             ],
             [
              0.3333333333333333,
              "#9c179e"
             ],
             [
              0.4444444444444444,
              "#bd3786"
             ],
             [
              0.5555555555555556,
              "#d8576b"
             ],
             [
              0.6666666666666666,
              "#ed7953"
             ],
             [
              0.7777777777777778,
              "#fb9f3a"
             ],
             [
              0.8888888888888888,
              "#fdca26"
             ],
             [
              1,
              "#f0f921"
             ]
            ],
            "type": "heatmapgl"
           }
          ],
          "histogram": [
           {
            "marker": {
             "pattern": {
              "fillmode": "overlay",
              "size": 10,
              "solidity": 0.2
             }
            },
            "type": "histogram"
           }
          ],
          "histogram2d": [
           {
            "colorbar": {
             "outlinewidth": 0,
             "ticks": ""
            },
            "colorscale": [
             [
              0,
              "#0d0887"
             ],
             [
              0.1111111111111111,
              "#46039f"
             ],
             [
              0.2222222222222222,
              "#7201a8"
             ],
             [
              0.3333333333333333,
              "#9c179e"
             ],
             [
              0.4444444444444444,
              "#bd3786"
             ],
             [
              0.5555555555555556,
              "#d8576b"
             ],
             [
              0.6666666666666666,
              "#ed7953"
             ],
             [
              0.7777777777777778,
              "#fb9f3a"
             ],
             [
              0.8888888888888888,
              "#fdca26"
             ],
             [
              1,
              "#f0f921"
             ]
            ],
            "type": "histogram2d"
           }
          ],
          "histogram2dcontour": [
           {
            "colorbar": {
             "outlinewidth": 0,
             "ticks": ""
            },
            "colorscale": [
             [
              0,
              "#0d0887"
             ],
             [
              0.1111111111111111,
              "#46039f"
             ],
             [
              0.2222222222222222,
              "#7201a8"
             ],
             [
              0.3333333333333333,
              "#9c179e"
             ],
             [
              0.4444444444444444,
              "#bd3786"
             ],
             [
              0.5555555555555556,
              "#d8576b"
             ],
             [
              0.6666666666666666,
              "#ed7953"
             ],
             [
              0.7777777777777778,
              "#fb9f3a"
             ],
             [
              0.8888888888888888,
              "#fdca26"
             ],
             [
              1,
              "#f0f921"
             ]
            ],
            "type": "histogram2dcontour"
           }
          ],
          "mesh3d": [
           {
            "colorbar": {
             "outlinewidth": 0,
             "ticks": ""
            },
            "type": "mesh3d"
           }
          ],
          "parcoords": [
           {
            "line": {
             "colorbar": {
              "outlinewidth": 0,
              "ticks": ""
             }
            },
            "type": "parcoords"
           }
          ],
          "pie": [
           {
            "automargin": true,
            "type": "pie"
           }
          ],
          "scatter": [
           {
            "fillpattern": {
             "fillmode": "overlay",
             "size": 10,
             "solidity": 0.2
            },
            "type": "scatter"
           }
          ],
          "scatter3d": [
           {
            "line": {
             "colorbar": {
              "outlinewidth": 0,
              "ticks": ""
             }
            },
            "marker": {
             "colorbar": {
              "outlinewidth": 0,
              "ticks": ""
             }
            },
            "type": "scatter3d"
           }
          ],
          "scattercarpet": [
           {
            "marker": {
             "colorbar": {
              "outlinewidth": 0,
              "ticks": ""
             }
            },
            "type": "scattercarpet"
           }
          ],
          "scattergeo": [
           {
            "marker": {
             "colorbar": {
              "outlinewidth": 0,
              "ticks": ""
             }
            },
            "type": "scattergeo"
           }
          ],
          "scattergl": [
           {
            "marker": {
             "colorbar": {
              "outlinewidth": 0,
              "ticks": ""
             }
            },
            "type": "scattergl"
           }
          ],
          "scattermapbox": [
           {
            "marker": {
             "colorbar": {
              "outlinewidth": 0,
              "ticks": ""
             }
            },
            "type": "scattermapbox"
           }
          ],
          "scatterpolar": [
           {
            "marker": {
             "colorbar": {
              "outlinewidth": 0,
              "ticks": ""
             }
            },
            "type": "scatterpolar"
           }
          ],
          "scatterpolargl": [
           {
            "marker": {
             "colorbar": {
              "outlinewidth": 0,
              "ticks": ""
             }
            },
            "type": "scatterpolargl"
           }
          ],
          "scatterternary": [
           {
            "marker": {
             "colorbar": {
              "outlinewidth": 0,
              "ticks": ""
             }
            },
            "type": "scatterternary"
           }
          ],
          "surface": [
           {
            "colorbar": {
             "outlinewidth": 0,
             "ticks": ""
            },
            "colorscale": [
             [
              0,
              "#0d0887"
             ],
             [
              0.1111111111111111,
              "#46039f"
             ],
             [
              0.2222222222222222,
              "#7201a8"
             ],
             [
              0.3333333333333333,
              "#9c179e"
             ],
             [
              0.4444444444444444,
              "#bd3786"
             ],
             [
              0.5555555555555556,
              "#d8576b"
             ],
             [
              0.6666666666666666,
              "#ed7953"
             ],
             [
              0.7777777777777778,
              "#fb9f3a"
             ],
             [
              0.8888888888888888,
              "#fdca26"
             ],
             [
              1,
              "#f0f921"
             ]
            ],
            "type": "surface"
           }
          ],
          "table": [
           {
            "cells": {
             "fill": {
              "color": "#EBF0F8"
             },
             "line": {
              "color": "white"
             }
            },
            "header": {
             "fill": {
              "color": "#C8D4E3"
             },
             "line": {
              "color": "white"
             }
            },
            "type": "table"
           }
          ]
         },
         "layout": {
          "annotationdefaults": {
           "arrowcolor": "#2a3f5f",
           "arrowhead": 0,
           "arrowwidth": 1
          },
          "autotypenumbers": "strict",
          "coloraxis": {
           "colorbar": {
            "outlinewidth": 0,
            "ticks": ""
           }
          },
          "colorscale": {
           "diverging": [
            [
             0,
             "#8e0152"
            ],
            [
             0.1,
             "#c51b7d"
            ],
            [
             0.2,
             "#de77ae"
            ],
            [
             0.3,
             "#f1b6da"
            ],
            [
             0.4,
             "#fde0ef"
            ],
            [
             0.5,
             "#f7f7f7"
            ],
            [
             0.6,
             "#e6f5d0"
            ],
            [
             0.7,
             "#b8e186"
            ],
            [
             0.8,
             "#7fbc41"
            ],
            [
             0.9,
             "#4d9221"
            ],
            [
             1,
             "#276419"
            ]
           ],
           "sequential": [
            [
             0,
             "#0d0887"
            ],
            [
             0.1111111111111111,
             "#46039f"
            ],
            [
             0.2222222222222222,
             "#7201a8"
            ],
            [
             0.3333333333333333,
             "#9c179e"
            ],
            [
             0.4444444444444444,
             "#bd3786"
            ],
            [
             0.5555555555555556,
             "#d8576b"
            ],
            [
             0.6666666666666666,
             "#ed7953"
            ],
            [
             0.7777777777777778,
             "#fb9f3a"
            ],
            [
             0.8888888888888888,
             "#fdca26"
            ],
            [
             1,
             "#f0f921"
            ]
           ],
           "sequentialminus": [
            [
             0,
             "#0d0887"
            ],
            [
             0.1111111111111111,
             "#46039f"
            ],
            [
             0.2222222222222222,
             "#7201a8"
            ],
            [
             0.3333333333333333,
             "#9c179e"
            ],
            [
             0.4444444444444444,
             "#bd3786"
            ],
            [
             0.5555555555555556,
             "#d8576b"
            ],
            [
             0.6666666666666666,
             "#ed7953"
            ],
            [
             0.7777777777777778,
             "#fb9f3a"
            ],
            [
             0.8888888888888888,
             "#fdca26"
            ],
            [
             1,
             "#f0f921"
            ]
           ]
          },
          "colorway": [
           "#636efa",
           "#EF553B",
           "#00cc96",
           "#ab63fa",
           "#FFA15A",
           "#19d3f3",
           "#FF6692",
           "#B6E880",
           "#FF97FF",
           "#FECB52"
          ],
          "font": {
           "color": "#2a3f5f"
          },
          "geo": {
           "bgcolor": "white",
           "lakecolor": "white",
           "landcolor": "#E5ECF6",
           "showlakes": true,
           "showland": true,
           "subunitcolor": "white"
          },
          "hoverlabel": {
           "align": "left"
          },
          "hovermode": "closest",
          "mapbox": {
           "style": "light"
          },
          "paper_bgcolor": "white",
          "plot_bgcolor": "#E5ECF6",
          "polar": {
           "angularaxis": {
            "gridcolor": "white",
            "linecolor": "white",
            "ticks": ""
           },
           "bgcolor": "#E5ECF6",
           "radialaxis": {
            "gridcolor": "white",
            "linecolor": "white",
            "ticks": ""
           }
          },
          "scene": {
           "xaxis": {
            "backgroundcolor": "#E5ECF6",
            "gridcolor": "white",
            "gridwidth": 2,
            "linecolor": "white",
            "showbackground": true,
            "ticks": "",
            "zerolinecolor": "white"
           },
           "yaxis": {
            "backgroundcolor": "#E5ECF6",
            "gridcolor": "white",
            "gridwidth": 2,
            "linecolor": "white",
            "showbackground": true,
            "ticks": "",
            "zerolinecolor": "white"
           },
           "zaxis": {
            "backgroundcolor": "#E5ECF6",
            "gridcolor": "white",
            "gridwidth": 2,
            "linecolor": "white",
            "showbackground": true,
            "ticks": "",
            "zerolinecolor": "white"
           }
          },
          "shapedefaults": {
           "line": {
            "color": "#2a3f5f"
           }
          },
          "ternary": {
           "aaxis": {
            "gridcolor": "white",
            "linecolor": "white",
            "ticks": ""
           },
           "baxis": {
            "gridcolor": "white",
            "linecolor": "white",
            "ticks": ""
           },
           "bgcolor": "#E5ECF6",
           "caxis": {
            "gridcolor": "white",
            "linecolor": "white",
            "ticks": ""
           }
          },
          "title": {
           "x": 0.05
          },
          "xaxis": {
           "automargin": true,
           "gridcolor": "white",
           "linecolor": "white",
           "ticks": "",
           "title": {
            "standoff": 15
           },
           "zerolinecolor": "white",
           "zerolinewidth": 2
          },
          "yaxis": {
           "automargin": true,
           "gridcolor": "white",
           "linecolor": "white",
           "ticks": "",
           "title": {
            "standoff": 15
           },
           "zerolinecolor": "white",
           "zerolinewidth": 2
          }
         }
        },
        "width": 404.508497175,
        "xaxis": {
         "anchor": "y",
         "domain": [
          0,
          1
         ],
         "range": [
          4,
          36
         ],
         "showgrid": false,
         "showline": false,
         "tickcolor": "rgb(120, 120, 120)",
         "ticklen": 5,
         "ticks": "outside",
         "tickwidth": 1,
         "title": {
          "text": "molecule size"
         },
         "zeroline": false
        },
        "yaxis": {
         "anchor": "x",
         "domain": [
          0,
          1
         ],
         "gridcolor": "rgba(173, 216, 230, 0.3)",
         "gridwidth": 1,
         "showgrid": false,
         "showline": false,
         "tickcolor": "rgb(120, 120, 120)",
         "ticklen": 5,
         "ticks": "outside",
         "tickwidth": 1,
         "title": {
          "text": "count"
         },
         "zeroline": false
        }
       }
      }
     },
     "metadata": {},
     "output_type": "display_data"
    },
    {
     "name": "stderr",
     "output_type": "stream",
     "text": [
      "\u001b[32m2024-11-12 11:05:42.812\u001b[0m | \u001b[1mINFO    \u001b[0m | \u001b[36m__main__\u001b[0m:\u001b[36mplot_distr_of_scores_when_correct_vs_not_correct\u001b[0m:\u001b[36m74\u001b[0m - \u001b[1m728.3674094826654\u001b[0m\n"
     ]
    },
    {
     "data": {
      "application/vnd.plotly.v1+json": {
       "config": {
        "plotlyServerURL": "https://plot.ly"
       },
       "data": [
        {
         "alignmentgroup": "True",
         "bingroup": "x",
         "hovertemplate": "Top 1=True<br>molecular_complexity=%{x}<br>count=%{y}<extra></extra>",
         "legendgroup": "True",
         "marker": {
          "color": "rgb(152, 86, 86)",
          "line": {
           "color": "DarkSlateGrey",
           "width": 0.2
          },
          "opacity": 0.5,
          "pattern": {
           "shape": ""
          }
         },
         "name": "True",
         "nbinsx": 30,
         "offsetgroup": "True",
         "opacity": 1,
         "orientation": "v",
         "showlegend": true,
         "type": "histogram",
         "x": [
          491.62066865134767,
          580.9107655461082,
          514.4249890908638,
          425.4668303994675,
          829.2300280733625,
          1110.6697674976117,
          308.7477157867921,
          1121.01293623976,
          262.00327665119903,
          449.62722164508494,
          622.8188198685896,
          594.2162401969236,
          913.2636625772705,
          978.9597000554704,
          588.4308479210993,
          501.35730516388327,
          536.030418649458,
          467.5329934853649,
          792.4112140517699,
          1076.0732215431733,
          294.58005142145214,
          411.8805312579436,
          437.295448941794,
          1404.8599639960505,
          414.14170243798173,
          389.12536704115627,
          798.8488617578801,
          916.1095020022692,
          482.1957975356598,
          866.5974994744281,
          1213.8185688010565,
          590.3978740145667,
          1379.5104421850724,
          448.9487052841436,
          860.9486568743597,
          235.04775799182192,
          673.5668192622804,
          999.8931308159232,
          1200.3304670956418,
          1000.7799674256346,
          538.6153754227819,
          693.2741160506625,
          763.5154522594863,
          960.8954735015668,
          387.43411358111575,
          1055.544858289374,
          1052.4479855089294,
          582.6862109768484,
          766.8071431912324,
          406.73531581186137,
          337.3598482774644,
          1064.9354613851062,
          323.0007936149917,
          1267.3077878419028,
          706.392548056631,
          289.2526032889556,
          772.2892698753013,
          317.9642958168396,
          1010.8459782270628,
          614.9727970791702,
          1017.1020507410776,
          235.1849910090012,
          356.14378849709453,
          1097.1034927589264,
          1266.3036368981116,
          536.4243144663171,
          237.04775799182192,
          1119.2960317818715,
          595.2403676077384,
          1284.7149188765563,
          476.6219889797812,
          465.97440034910335,
          754.38884913532,
          675.2186338750307,
          372.5503227966848,
          1090.0824847966214,
          213.41265043639197,
          1299.4442094736542,
          1049.8304997852808,
          653.4100414775911,
          734.1009242880399,
          1047.2366011772997,
          469.81020577969474,
          762.7167274976041,
          763.538424029911,
          890.8416712599033,
          748.0611192961054,
          400.4089037414234,
          628.5568559110059,
          566.1264362570621,
          1281.2049127980351,
          1415.8541966219427,
          459.01040037182304,
          1319.9550020521344,
          718.9296030606654,
          525.7047058585591,
          440.9899207282918,
          649.9369069327145,
          792.1431597285643,
          465.6137396214057,
          368.57484401695,
          252.02779400832603,
          779.745989107622,
          81.63191840205,
          1055.9248868744126,
          805.7027850188924,
          1114.3773460738123,
          935.5723608144036,
          274.8980131294879,
          230.57786591623355,
          257.4945752240396,
          1033.5962416517364,
          267.90565931309794,
          385.4530587502513,
          147.82350886146327,
          1007.6295128006362,
          434.3296467381504,
          455.9805997740772,
          186.05372307956137,
          718.0600722936209,
          965.8285966171612,
          369.65266631474674,
          749.1222406940616,
          1037.4610151663971,
          1147.505624883263,
          464.7901362679072,
          370.7301135831744,
          326.85561870596365,
          1094.660296993756,
          658.0719347946833,
          209.7781739221536,
          228.9664533845619,
          1326.8722764858069,
          699.7186702227497,
          405.79860546135353,
          1279.7429068922304,
          209.7781739221536,
          1056.454658655963,
          1127.1185756668438,
          578.4900902354271,
          500.04525782102615,
          898.1001098877524,
          290.4897943206525,
          508.628380635003,
          627.3354850466019,
          682.1837895274508,
          396.90214563698015,
          503.02174017887376,
          451.5354737626094,
          1253.2447827646645,
          1182.150536105066,
          1120.428954819677,
          1231.236847277015,
          561.967701298815,
          447.6511707804897,
          417.45231298264946,
          523.2068217496917,
          272.77916867903343,
          194.6260435051196,
          1279.2906166642156,
          657.5694230531814,
          701.2046929016038,
          249.30930073029745,
          1008.5733517117072,
          776.4300426717289,
          328.18689753098045,
          387.320023097217,
          567.6413666089501,
          1314.9035255360009,
          500.3741255270038,
          426.5018200090825,
          258.3796063606407,
          628.3990231475526,
          733.74637946666,
          1511.8092501327426,
          1200.5896637524422,
          729.7293200157983,
          1139.2896853707307,
          910.9540211592592,
          1293.6529323100508,
          356.7617244483167,
          856.4921900897778,
          650.6653796398543,
          476.6402186600015,
          665.0423031168627,
          726.8333019905402,
          704.3258303694996,
          290.99535838508575,
          408.6986224710208,
          774.2764082567767,
          323.8980789080516,
          453.8887814334611,
          850.6884043923255,
          656.6269579378583,
          698.9953058065239,
          525.3807012815957,
          920.2962289661256,
          1049.3192225448856,
          655.8720704356948,
          332.5529868353567,
          995.8572959919838,
          709.3264955078729,
          850.3072259009255,
          430.0866066240907,
          835.3412001403408,
          999.4290832501416,
          488.65788418920374,
          1012.9838554028246,
          239.7250739951881,
          615.3871725464028,
          814.7161360986477,
          882.2118534308195,
          761.8842101047592,
          916.0170449876704,
          522.9768903137902,
          867.7072748752115,
          750.9529913298634,
          838.4928643409173,
          1452.0093018459308,
          611.3872168952889,
          712.9589182428551,
          465.0004402969103,
          804.8718783884727,
          464.8070987256584,
          944.11499056533,
          411.6767229032693,
          406.2308382366979,
          832.9661904023092,
          604.272617549191,
          717.1892222551064,
          137.99328661116542,
          395.5744368852867,
          1207.80938787074,
          186.9828401313287,
          613.7706203254762,
          607.8332962041516,
          1172.813348894891,
          679.1238705046104,
          848.3977622642395,
          386.2631390357507,
          436.4572907059942,
          762.3780264686237,
          701.1740824825704,
          364.2260085613387,
          1155.8130452052965,
          541.1351674028975,
          943.5167050762371,
          1176.799088727034,
          533.3789605177348,
          583.4431669758688,
          777.9572591581169,
          1298.1839561129057,
          783.2140094872503,
          526.5842516095686,
          843.4116990481858,
          631.6060864020177,
          956.3910630719566,
          407.8207819124433,
          501.50238501043304,
          491.39047628592266,
          792.955844210918,
          1297.861648412514,
          568.403384874486,
          834.5822992448336,
          1042.7944767932463,
          630.7700671146332,
          713.382059123856,
          347.6639128453302,
          453.65804614951674,
          1109.0418816693712,
          835.2099337158286,
          218.5871814239507,
          550.9382880837543,
          1209.4031578631138,
          749.8773718504262,
          706.3134947433754,
          460.48716735910085,
          1043.1466413361263,
          1011.2060530123769,
          244.36911753832655,
          869.0846344425426,
          493.37219945909385,
          841.9949778301598,
          939.7284081319176,
          322.8915159733637,
          731.4903182520695,
          559.1212374951486,
          916.5486596643004,
          408.95467038435584,
          511.57880775270854,
          1014.3314295235735,
          329.51589188262676,
          1149.8235384192385,
          958.641701619704,
          545.0371822548029,
          608.6910466738085,
          670.4492348804527,
          674.8183822455389,
          576.3738512419105,
          419.7820090914246,
          825.2385038996421,
          291.6206365834133,
          405.92839118280784,
          835.3821237448202,
          1309.2785633511153,
          410.835991013075,
          259.68985710945424,
          783.8082512658289,
          404.23882539199127,
          1074.3651532260435,
          143.0617569290273,
          639.2094453361456,
          406.42773038215967,
          914.9531157519845,
          503.8954093358506,
          575.389107954436,
          284.21818880923297,
          344.02313678649665,
          89.57949822591905,
          391.2375344506235,
          1028.0061279030704,
          862.3549802249413,
          1075.1984685046643,
          1662.726240365401,
          469.4585329518814,
          649.0991558446115,
          842.5756337576312,
          1212.2216077068094,
          784.6546868118381,
          303.106423438976,
          351.3799021506579,
          981.7145875576336,
          35.06139398862029,
          388.08003325829304,
          770.9278657206092,
          1171.3844549260168,
          471.6999059485861,
          528.9173802794729,
          301.68734400453286,
          874.1018786910632,
          679.0879212208301,
          694.2971667218993,
          1289.0417289106251,
          557.1644878218654,
          892.2437032331906,
          371.3775914439778,
          700.9785707387836,
          435.6308993831408,
          365.80514056097553,
          679.9035400678605,
          1031.3208659035347,
          1029.57535468814,
          355.11474275241824,
          630.4747745211114,
          1130.8245113364394,
          1002.30955024198,
          502.2451538404194,
          489.8276972429593,
          626.2655096229885,
          93.7792291661388,
          380.9108652237542,
          601.0168156609751,
          282.89699828956014,
          219.54299954784685,
          683.4323401314331,
          211.55452496564175,
          684.3272391952121,
          633.8656899513373,
          492.4591607261773,
          934.1233621771976,
          1020.987843799002,
          1013.1133640481712,
          384.1743532955767,
          585.5159804484063,
          524.6080948683215,
          629.0936183746094,
          260.46646199109995,
          1346.3516177106403,
          876.1330060513365,
          570.605939404904,
          462.0012385812976,
          1094.0036184436397,
          566.6059394049041,
          222.90712145792597,
          104.01464778770251,
          607.6910984790119,
          242.77390023702037,
          1018.1164983253228,
          174.1761330130197,
          651.2166822028839,
          578.9337661559941,
          1099.8739232480436,
          462.84208672802305,
          717.3457737916788,
          758.0503618421599,
          534.9251378703718,
          689.6791380827159,
          1306.003842557404,
          711.5612613847367,
          535.738749698584,
          790.6444166378485,
          607.1898575300982,
          310.6863411889369,
          283.52992519544233,
          630.4926869668425,
          546.3720399229871,
          558.4278978541366,
          676.2763247490468,
          427.8459320655499,
          1101.406781893999,
          451.5038618460872,
          1108.259814656348,
          1075.097457375346,
          512.8521248737759,
          1446.7845610582667,
          278.0598581212913,
          566.2934169735495,
          352.0585192955091,
          550.1652140865369,
          646.2166822028838,
          216.62217283529887,
          1037.557129752768,
          439.0527140673131,
          185.02694288582543,
          127.52442279202944,
          551.5045005474049,
          804.528875177975,
          790.6633058580651,
          476.8232921318308,
          685.675870372734,
          498.9622580106285,
          590.1373479506202,
          348.95820522022603,
          326.5868597859925,
          1247.2198082973016,
          566.192470173006,
          297.2020152239527,
          643.1356535851737,
          517.3647227665037,
          292.06022418553414,
          547.8119354063189,
          1071.1228657002105,
          1125.0237466001213,
          592.289635895091,
          755.0570564447128,
          662.0737729942598,
          902.3149342375884,
          1186.9468529849405,
          607.197642337094,
          726.3489190885209,
          573.1168719334516,
          1252.728305478564,
          894.3952035332,
          729.7039934060001,
          252.1382381251609,
          230.06985643232213,
          891.0197307552506,
          395.47158508728745,
          1122.0570007945923,
          1095.8255004027928,
          1248.7612265346345,
          582.4563266437717,
          527.7445762354075,
          1119.9233992549243,
          253.49457522403964,
          906.0472409007456,
          873.0966528047687,
          769.8246761786658,
          220.7523244227379,
          820.5554872531005,
          407.59521942326063,
          1099.1603713108268,
          156.1710478569335,
          968.9457975199904,
          309.170530848947,
          665.8956449989771,
          1413.699020031363,
          813.7604741471048,
          941.1291508343998,
          941.6500457505592,
          964.9827634689634,
          135.66369253840438,
          899.5679601728307,
          264.7404070332149,
          760.2956546799153,
          945.9100417031236,
          948.7974180255528,
          1431.5988634319183,
          684.1857521837227,
          307.39688695312145,
          316.95584342662085,
          1285.1413825522902,
          350.6847828061791,
          542.7849870464745,
          815.1853852693438,
          1447.655890046921,
          548.6676329711794,
          416.2118100829604,
          451.3924838974225,
          1203.8347762502788,
          474.29396702691423,
          906.1683378549124,
          263.38150377072884,
          979.5849737253044,
          336.0748996548373,
          926.9165006196736,
          266.1410340318074,
          472.6983341908494,
          646.9810798755046,
          834.0193252131489,
          156.32058642575467,
          911.3192085924776,
          523.3755159389312,
          713.5387785571529,
          472.66459181614175,
          403.94817124808776,
          398.5353943754878,
          502.3761045169052,
          941.8894280761476,
          1384.8404200766536,
          805.6443554979896,
          103.23098268032228,
          663.158326021262,
          1200.7000946213984,
          1093.3809022557866,
          414.8664113623562,
          668.4356489939471,
          1034.6024003617806,
          953.5987315539724,
          313.2557528676839,
          688.990980596612,
          402.9857257388615,
          456.2846528120546,
          422.4418969105164,
          696.4584868748468,
          1140.007882246999,
          329.1610659820176,
          578.1439954565993,
          1369.0905619158902,
          64.27793097483524,
          1027.179083250142,
          513.2485282988569,
          672.5097296076208,
          880.8851269680121,
          426.9324997887675,
          749.7259898766752,
          321.88548674218765,
          1027.9138488854285,
          58,
          667.0947189442646,
          1000.5999825152164,
          1084.5695670120672,
          795.6820434540797,
          451.214407226472,
          353.65990399546155,
          616.335838847091,
          473.58536344623127,
          643.4262898615415,
          359.04358214983137,
          317.3241659524457,
          565.6038193959355,
          539.4447945489236,
          515.1470091562182,
          803.5686315861201,
          330.09780984827137,
          528.0965750172644,
          647.0494331069514,
          219.5128819073926,
          821.0665460493635,
          1098.013336850672,
          783.5892786343044,
          726.2608026586753,
          572.7662553369746,
          725.6785399542862,
          708.2529993051123,
          300.81692104857575,
          487.5630347364688,
          671.4745134783159,
          796.1629109691996,
          318.20156003747087,
          455.7327263355815,
          660.3841302785556,
          526.6048403884491,
          1158.1707742632536,
          1203.2187284838226,
          879.9206284160656,
          128.919684538544,
          255.86732816458755,
          856.4966120190758,
          483.10799415501407,
          910.5763182510524,
          852.1658068370504,
          785.0484753592324,
          322.323372337454,
          1054.708236793328,
          1005.5135079061256,
          1028.5771770125991,
          139.89342114105557,
          586.5103150202975,
          354.2766641820712,
          781.5129837125126,
          550.1268535365518,
          1195.7782672034746,
          106.40620687739316,
          415.9925013399086,
          1148.8034935032235,
          789.7243891730828,
          929.6076244782269,
          737.8041102661554,
          266.1573917227327,
          769.1983929800646,
          382.9850399973725,
          557.2860541028068,
          790.6886591020381,
          944.039748358181,
          404.9710779511588,
          912.070383368411,
          913.8957066576908,
          163.55279339565334,
          853.4574678381783,
          515.5134801782334,
          1123.3097902424322,
          546.1493499439013,
          584.6930845761613,
          961.7233960674564,
          314.6554447774625,
          1096.8563363478231,
          690.8779897536325,
          1030.9093230988717,
          355.27566688695373,
          620.6289283498221,
          1092.4864671753774,
          696.0361834966216,
          742.1065274910521,
          1083.4177867803446,
          377.0747455887142,
          511.0490520651429,
          493.6064431773597,
          382.6909137493687,
          1035.0046251891645,
          443.3460824574985,
          224.29788705001033,
          253.44812008925533,
          1019.8070741274188,
          937.1132186996256,
          1006.5399178990696,
          529.2596077728405,
          461.08997972579624,
          722.6708195249173,
          433.352476659887,
          588.2947881447792,
          467.42647967716965,
          1285.4833180947758,
          398.9710779511589,
          403.1403062622705,
          902.235025649542,
          575.6294719097823,
          395.2111492823123,
          397.06466188095976,
          291.69496835976435,
          1173.857326969163,
          352.2424177353704,
          578.0451574320451,
          891.3338710989681,
          955.6868555150288,
          363.2815474162533,
          1000.4090626439462,
          385.9769658313049,
          825.9213954027784,
          518.2735643335866,
          1085.6080772701928,
          518.7514657886744,
          642.1515889251757,
          890.4919756818654,
          260.8841466481723,
          1414.334927686201,
          818.4184901694919,
          282.19937490806194,
          892.6956307426595,
          98.6017921972316,
          695.4587307377393,
          637.8487633790621,
          303.00122507333003,
          891.8197618396946,
          1109.8351922907511,
          40.671034463057104,
          939.69068998001,
          557.6730103519732,
          975.3207831682688,
          1022.1834921368442,
          227.77661841421016,
          849.2456844813132,
          1265.8095495903112,
          392.4961191275538,
          1318.7466469366384,
          879.5653678735154,
          682.2735597411408,
          635.2736466933019,
          1187.5747234000664,
          325.5993224468667,
          389.3729202401019,
          397.73235938432526,
          584.6101804904074,
          652.7738976432676,
          296.6640795600689,
          701.5491068521926,
          147.85263754543286,
          697.5718798669932,
          259.67965837655686,
          907.387502169524,
          662.2874156146992,
          316.7670432438673,
          842.0643408759729,
          962.8381661264934,
          1147.8025727711042,
          647.2850253679019,
          677.7581082452708,
          137.64737584844357,
          744.3508700863298,
          597.6955104275896,
          647.2533799640017,
          250.56810563069448,
          137.51770940319489,
          795.4227792424292,
          507.4839272222681,
          542.6677364511717,
          193.97752353949224,
          602.1046182120276,
          536.7595690452015,
          786.0839169685988,
          500.2977111302938,
          649.1183289461125,
          417.2118100829604,
          715.9777185243012,
          1068.589872370872,
          539.8318493224938,
          491.9486493151155,
          428.6757194003393,
          568.0377936809936,
          1118.523696684174,
          1407.6602886490764,
          740.4110445205903,
          454.45883819146025,
          1060.6476368652209,
          626.0613051774699,
          304.7069310172286,
          814.639472621438,
          449.63290369291343,
          300.703787110121,
          986.6442984390864,
          652.0264902860007,
          1321.1062051519714,
          1008.6901245958222,
          711.2594971455062,
          451.2782765564959,
          317.64199945095794,
          917.6578262314166,
          724.4221484787079,
          697.6649903450676,
          765.5824336344882,
          277.3882381251609
         ],
         "xaxis": "x",
         "yaxis": "y"
        },
        {
         "alignmentgroup": "True",
         "bingroup": "x",
         "hovertemplate": "Top 1=False<br>molecular_complexity=%{x}<br>count=%{y}<extra></extra>",
         "legendgroup": "False",
         "marker": {
          "color": "rgb(152, 146, 186)",
          "line": {
           "color": "DarkSlateGrey",
           "width": 0.2
          },
          "opacity": 0.5,
          "pattern": {
           "shape": ""
          }
         },
         "name": "False",
         "nbinsx": 30,
         "offsetgroup": "False",
         "opacity": 1,
         "orientation": "v",
         "showlegend": true,
         "type": "histogram",
         "x": [
          889.8687669010689,
          912.4822090970408,
          1100.5135478635586,
          779.3693675394458,
          1040.9698320049329,
          1645.4503569054934,
          103.57174002125652,
          643.0844693591861,
          348.15625140819,
          920.795305912841,
          296.3349389236156,
          1460.772072172928,
          1010.561349611933,
          634.6413106733855,
          754.0050253466031,
          1477.50054583751,
          951.6725340573402,
          801.5714335515272,
          812.615078883664,
          998.8220686535024,
          485.2323586640967,
          720.7113917571904,
          420.1285697756128,
          956.0333456096332,
          1120.1605833543313,
          1130.5954219485975,
          1364.6817115095266,
          1509.3690275255683,
          41.60964047443681,
          978.187053747616,
          1491.0410935037005,
          1105.6137263054975,
          1131.4540426367455,
          721.3565486547941,
          991.8423295710786,
          1068.1344716198591,
          1016.0844730293062,
          253.03125589421745,
          817.5800647275189,
          1360.4675492236963,
          1021.920315888696,
          1264.0431279817765,
          619.5214865919598,
          1154.2228156191206,
          859.3493285725925,
          334.3847211971289,
          995.8305022911828,
          312.70138558440243,
          1204.1666067078029,
          1308.3687455534557,
          603.0777077670676,
          1127.4107682095066,
          548.2387397512872,
          834.0535845764279,
          850.1923725978387,
          1031.4777138222596,
          1241.7132352949106,
          1006.4462017422994,
          383.9238199322565,
          1280.7871083278385,
          1182.0957555612963,
          1230.938065416393,
          996.774107534609,
          1072.763413078006,
          1394.3298288206877,
          1412.85191147024,
          973.0001453716792,
          333.13265415394,
          625.8712510142407,
          889.2062033939401,
          1084.625599080999,
          780.4731692677506,
          358.5704301640317,
          520.5168526767102,
          1046.3865834393491,
          1095.3599891962829,
          225.16436636179583,
          506.6352732948717,
          690.3586940928477,
          432.6235972256891,
          1071.404501402299,
          886.2116306482009,
          1084.5047042892354,
          1098.515486545336,
          1230.7228755767055,
          1102.026559010425,
          981.915435308735,
          1546.8421806731683,
          1370.3332275506973,
          922.9323808979908,
          1018.15734452235,
          661.2642365004298,
          1025.4613410053862,
          1208.0096624689472,
          935.2499585724714,
          719.7961927128348,
          702.277201164219,
          1414.7452949519948,
          979.2032769841272,
          1315.6063436683378,
          1671.9206184624247,
          297.7502458872492,
          497.5406104244327,
          1384.3054344655689,
          809.9448908184264,
          286.6825822559432,
          929.8756436791346,
          1409.5469668724809,
          1280.9546798712695,
          1114.610354991227,
          792.5514037601564,
          270.4992626103369,
          829.1956034735972,
          513.227042996645,
          647.1822768546679,
          558.3894324212293,
          930.1371902461912,
          627.2923747165826,
          1100.6668994797249,
          705.0130176156014,
          830.9613259736622,
          1370.5975582073795,
          849.4548676591462,
          420.4171562260134,
          447.301694548688,
          1091.0398076010074,
          999.0966742753932,
          607.094786815807,
          768.2511167987132,
          730.0696714391546,
          965.5620541401888,
          1185.504432585902,
          860.4164741337664,
          362.8116660442259,
          1383.8436783382576,
          1235.9427550858643,
          1098.251821827516,
          373.6138240144492,
          1126.6557710237366,
          902.3052187354378,
          1107.757568138525,
          894.899615898138,
          1109.2580338295422,
          486.5586059366732,
          283.2467570952085,
          631.0510442150293,
          1230.4820515193114,
          477.1136609931022,
          665.8599374969845,
          1230.3267712541624,
          949.4773525825948,
          375.86536060970866,
          1476.4742987994996,
          1150.7629305382654,
          1201.879571432483,
          870.1329120257209,
          292.47357154412316,
          815.2050072063593,
          579.9658112625143,
          1043.648170158034,
          894.1481918571958,
          902.3967763739248,
          1362.5862514254009,
          658.5381990937202,
          445.34272576308126,
          498.9786054302784,
          951.8040547523632,
          1184.503315116595,
          1216.5156251242788,
          1054.0317322894753,
          907.2594671692392,
          1351.3743856607125,
          468.5501340263287,
          580.8854958010583,
          1131.940308804644,
          1025.0193174012454,
          1561.701123093437,
          996.928735284814,
          1234.460564890264,
          982.501455831049,
          673.4778547583704,
          1068.305769128744,
          994.0680192999836,
          1166.4476987565365,
          810.2937617762396,
          507.8549477621768,
          804.3219335022271,
          985.5959810009716,
          868.6498501663026,
          801.9086926143272,
          991.7074876546023,
          563.8949424072244,
          1393.170035153977,
          823.0074248445177,
          283.2438592039191,
          694.6021582046693,
          538.1922662571395,
          1087.7311119679284,
          1089.047918048498,
          1146.4016444640376,
          751.0836119423528,
          779.4205369741054,
          1707.376540652972,
          1340.1269658860656,
          994.1303531638546,
          1281.4233553964752,
          817.2705533492613,
          911.0115296993988,
          715.1057446974716,
          530.6627454690159,
          848.4272243160995,
          318.09227258016466,
          655.6804886228049,
          734.7426427263267,
          1281.7263833746474,
          903.6253253050024,
          652.4544810797163,
          895.1704891468415,
          425.7557415693456,
          1227.827348827233,
          1183.0262866367138,
          898.5327162116987,
          982.2349059947936,
          865.8142141939265,
          1040.8871218642455,
          963.3589065541776,
          1031.3995480945448,
          1061.013735457254,
          897.6807955374186,
          1052.3652353959023,
          979.901691315795,
          697.3956575094135,
          1124.6437571427443,
          797.7345113271242,
          689.342297974226,
          901.916860252784,
          609.6419984605117,
          1142.5795376809324,
          691.8880319110799,
          467.7589229772027
         ],
         "xaxis": "x",
         "yaxis": "y"
        }
       ],
       "layout": {
        "barmode": "overlay",
        "font": {
         "family": "CMU Sans Serif"
        },
        "height": 250,
        "legend": {
         "title": {
          "text": "Top 1"
         },
         "tracegroupgap": 0
        },
        "margin": {
         "b": 0,
         "l": 0,
         "r": 0,
         "t": 0
        },
        "plot_bgcolor": "white",
        "template": {
         "data": {
          "bar": [
           {
            "error_x": {
             "color": "#2a3f5f"
            },
            "error_y": {
             "color": "#2a3f5f"
            },
            "marker": {
             "line": {
              "color": "#E5ECF6",
              "width": 0.5
             },
             "pattern": {
              "fillmode": "overlay",
              "size": 10,
              "solidity": 0.2
             }
            },
            "type": "bar"
           }
          ],
          "barpolar": [
           {
            "marker": {
             "line": {
              "color": "#E5ECF6",
              "width": 0.5
             },
             "pattern": {
              "fillmode": "overlay",
              "size": 10,
              "solidity": 0.2
             }
            },
            "type": "barpolar"
           }
          ],
          "carpet": [
           {
            "aaxis": {
             "endlinecolor": "#2a3f5f",
             "gridcolor": "white",
             "linecolor": "white",
             "minorgridcolor": "white",
             "startlinecolor": "#2a3f5f"
            },
            "baxis": {
             "endlinecolor": "#2a3f5f",
             "gridcolor": "white",
             "linecolor": "white",
             "minorgridcolor": "white",
             "startlinecolor": "#2a3f5f"
            },
            "type": "carpet"
           }
          ],
          "choropleth": [
           {
            "colorbar": {
             "outlinewidth": 0,
             "ticks": ""
            },
            "type": "choropleth"
           }
          ],
          "contour": [
           {
            "colorbar": {
             "outlinewidth": 0,
             "ticks": ""
            },
            "colorscale": [
             [
              0,
              "#0d0887"
             ],
             [
              0.1111111111111111,
              "#46039f"
             ],
             [
              0.2222222222222222,
              "#7201a8"
             ],
             [
              0.3333333333333333,
              "#9c179e"
             ],
             [
              0.4444444444444444,
              "#bd3786"
             ],
             [
              0.5555555555555556,
              "#d8576b"
             ],
             [
              0.6666666666666666,
              "#ed7953"
             ],
             [
              0.7777777777777778,
              "#fb9f3a"
             ],
             [
              0.8888888888888888,
              "#fdca26"
             ],
             [
              1,
              "#f0f921"
             ]
            ],
            "type": "contour"
           }
          ],
          "contourcarpet": [
           {
            "colorbar": {
             "outlinewidth": 0,
             "ticks": ""
            },
            "type": "contourcarpet"
           }
          ],
          "heatmap": [
           {
            "colorbar": {
             "outlinewidth": 0,
             "ticks": ""
            },
            "colorscale": [
             [
              0,
              "#0d0887"
             ],
             [
              0.1111111111111111,
              "#46039f"
             ],
             [
              0.2222222222222222,
              "#7201a8"
             ],
             [
              0.3333333333333333,
              "#9c179e"
             ],
             [
              0.4444444444444444,
              "#bd3786"
             ],
             [
              0.5555555555555556,
              "#d8576b"
             ],
             [
              0.6666666666666666,
              "#ed7953"
             ],
             [
              0.7777777777777778,
              "#fb9f3a"
             ],
             [
              0.8888888888888888,
              "#fdca26"
             ],
             [
              1,
              "#f0f921"
             ]
            ],
            "type": "heatmap"
           }
          ],
          "heatmapgl": [
           {
            "colorbar": {
             "outlinewidth": 0,
             "ticks": ""
            },
            "colorscale": [
             [
              0,
              "#0d0887"
             ],
             [
              0.1111111111111111,
              "#46039f"
             ],
             [
              0.2222222222222222,
              "#7201a8"
             ],
             [
              0.3333333333333333,
              "#9c179e"
             ],
             [
              0.4444444444444444,
              "#bd3786"
             ],
             [
              0.5555555555555556,
              "#d8576b"
             ],
             [
              0.6666666666666666,
              "#ed7953"
             ],
             [
              0.7777777777777778,
              "#fb9f3a"
             ],
             [
              0.8888888888888888,
              "#fdca26"
             ],
             [
              1,
              "#f0f921"
             ]
            ],
            "type": "heatmapgl"
           }
          ],
          "histogram": [
           {
            "marker": {
             "pattern": {
              "fillmode": "overlay",
              "size": 10,
              "solidity": 0.2
             }
            },
            "type": "histogram"
           }
          ],
          "histogram2d": [
           {
            "colorbar": {
             "outlinewidth": 0,
             "ticks": ""
            },
            "colorscale": [
             [
              0,
              "#0d0887"
             ],
             [
              0.1111111111111111,
              "#46039f"
             ],
             [
              0.2222222222222222,
              "#7201a8"
             ],
             [
              0.3333333333333333,
              "#9c179e"
             ],
             [
              0.4444444444444444,
              "#bd3786"
             ],
             [
              0.5555555555555556,
              "#d8576b"
             ],
             [
              0.6666666666666666,
              "#ed7953"
             ],
             [
              0.7777777777777778,
              "#fb9f3a"
             ],
             [
              0.8888888888888888,
              "#fdca26"
             ],
             [
              1,
              "#f0f921"
             ]
            ],
            "type": "histogram2d"
           }
          ],
          "histogram2dcontour": [
           {
            "colorbar": {
             "outlinewidth": 0,
             "ticks": ""
            },
            "colorscale": [
             [
              0,
              "#0d0887"
             ],
             [
              0.1111111111111111,
              "#46039f"
             ],
             [
              0.2222222222222222,
              "#7201a8"
             ],
             [
              0.3333333333333333,
              "#9c179e"
             ],
             [
              0.4444444444444444,
              "#bd3786"
             ],
             [
              0.5555555555555556,
              "#d8576b"
             ],
             [
              0.6666666666666666,
              "#ed7953"
             ],
             [
              0.7777777777777778,
              "#fb9f3a"
             ],
             [
              0.8888888888888888,
              "#fdca26"
             ],
             [
              1,
              "#f0f921"
             ]
            ],
            "type": "histogram2dcontour"
           }
          ],
          "mesh3d": [
           {
            "colorbar": {
             "outlinewidth": 0,
             "ticks": ""
            },
            "type": "mesh3d"
           }
          ],
          "parcoords": [
           {
            "line": {
             "colorbar": {
              "outlinewidth": 0,
              "ticks": ""
             }
            },
            "type": "parcoords"
           }
          ],
          "pie": [
           {
            "automargin": true,
            "type": "pie"
           }
          ],
          "scatter": [
           {
            "fillpattern": {
             "fillmode": "overlay",
             "size": 10,
             "solidity": 0.2
            },
            "type": "scatter"
           }
          ],
          "scatter3d": [
           {
            "line": {
             "colorbar": {
              "outlinewidth": 0,
              "ticks": ""
             }
            },
            "marker": {
             "colorbar": {
              "outlinewidth": 0,
              "ticks": ""
             }
            },
            "type": "scatter3d"
           }
          ],
          "scattercarpet": [
           {
            "marker": {
             "colorbar": {
              "outlinewidth": 0,
              "ticks": ""
             }
            },
            "type": "scattercarpet"
           }
          ],
          "scattergeo": [
           {
            "marker": {
             "colorbar": {
              "outlinewidth": 0,
              "ticks": ""
             }
            },
            "type": "scattergeo"
           }
          ],
          "scattergl": [
           {
            "marker": {
             "colorbar": {
              "outlinewidth": 0,
              "ticks": ""
             }
            },
            "type": "scattergl"
           }
          ],
          "scattermapbox": [
           {
            "marker": {
             "colorbar": {
              "outlinewidth": 0,
              "ticks": ""
             }
            },
            "type": "scattermapbox"
           }
          ],
          "scatterpolar": [
           {
            "marker": {
             "colorbar": {
              "outlinewidth": 0,
              "ticks": ""
             }
            },
            "type": "scatterpolar"
           }
          ],
          "scatterpolargl": [
           {
            "marker": {
             "colorbar": {
              "outlinewidth": 0,
              "ticks": ""
             }
            },
            "type": "scatterpolargl"
           }
          ],
          "scatterternary": [
           {
            "marker": {
             "colorbar": {
              "outlinewidth": 0,
              "ticks": ""
             }
            },
            "type": "scatterternary"
           }
          ],
          "surface": [
           {
            "colorbar": {
             "outlinewidth": 0,
             "ticks": ""
            },
            "colorscale": [
             [
              0,
              "#0d0887"
             ],
             [
              0.1111111111111111,
              "#46039f"
             ],
             [
              0.2222222222222222,
              "#7201a8"
             ],
             [
              0.3333333333333333,
              "#9c179e"
             ],
             [
              0.4444444444444444,
              "#bd3786"
             ],
             [
              0.5555555555555556,
              "#d8576b"
             ],
             [
              0.6666666666666666,
              "#ed7953"
             ],
             [
              0.7777777777777778,
              "#fb9f3a"
             ],
             [
              0.8888888888888888,
              "#fdca26"
             ],
             [
              1,
              "#f0f921"
             ]
            ],
            "type": "surface"
           }
          ],
          "table": [
           {
            "cells": {
             "fill": {
              "color": "#EBF0F8"
             },
             "line": {
              "color": "white"
             }
            },
            "header": {
             "fill": {
              "color": "#C8D4E3"
             },
             "line": {
              "color": "white"
             }
            },
            "type": "table"
           }
          ]
         },
         "layout": {
          "annotationdefaults": {
           "arrowcolor": "#2a3f5f",
           "arrowhead": 0,
           "arrowwidth": 1
          },
          "autotypenumbers": "strict",
          "coloraxis": {
           "colorbar": {
            "outlinewidth": 0,
            "ticks": ""
           }
          },
          "colorscale": {
           "diverging": [
            [
             0,
             "#8e0152"
            ],
            [
             0.1,
             "#c51b7d"
            ],
            [
             0.2,
             "#de77ae"
            ],
            [
             0.3,
             "#f1b6da"
            ],
            [
             0.4,
             "#fde0ef"
            ],
            [
             0.5,
             "#f7f7f7"
            ],
            [
             0.6,
             "#e6f5d0"
            ],
            [
             0.7,
             "#b8e186"
            ],
            [
             0.8,
             "#7fbc41"
            ],
            [
             0.9,
             "#4d9221"
            ],
            [
             1,
             "#276419"
            ]
           ],
           "sequential": [
            [
             0,
             "#0d0887"
            ],
            [
             0.1111111111111111,
             "#46039f"
            ],
            [
             0.2222222222222222,
             "#7201a8"
            ],
            [
             0.3333333333333333,
             "#9c179e"
            ],
            [
             0.4444444444444444,
             "#bd3786"
            ],
            [
             0.5555555555555556,
             "#d8576b"
            ],
            [
             0.6666666666666666,
             "#ed7953"
            ],
            [
             0.7777777777777778,
             "#fb9f3a"
            ],
            [
             0.8888888888888888,
             "#fdca26"
            ],
            [
             1,
             "#f0f921"
            ]
           ],
           "sequentialminus": [
            [
             0,
             "#0d0887"
            ],
            [
             0.1111111111111111,
             "#46039f"
            ],
            [
             0.2222222222222222,
             "#7201a8"
            ],
            [
             0.3333333333333333,
             "#9c179e"
            ],
            [
             0.4444444444444444,
             "#bd3786"
            ],
            [
             0.5555555555555556,
             "#d8576b"
            ],
            [
             0.6666666666666666,
             "#ed7953"
            ],
            [
             0.7777777777777778,
             "#fb9f3a"
            ],
            [
             0.8888888888888888,
             "#fdca26"
            ],
            [
             1,
             "#f0f921"
            ]
           ]
          },
          "colorway": [
           "#636efa",
           "#EF553B",
           "#00cc96",
           "#ab63fa",
           "#FFA15A",
           "#19d3f3",
           "#FF6692",
           "#B6E880",
           "#FF97FF",
           "#FECB52"
          ],
          "font": {
           "color": "#2a3f5f"
          },
          "geo": {
           "bgcolor": "white",
           "lakecolor": "white",
           "landcolor": "#E5ECF6",
           "showlakes": true,
           "showland": true,
           "subunitcolor": "white"
          },
          "hoverlabel": {
           "align": "left"
          },
          "hovermode": "closest",
          "mapbox": {
           "style": "light"
          },
          "paper_bgcolor": "white",
          "plot_bgcolor": "#E5ECF6",
          "polar": {
           "angularaxis": {
            "gridcolor": "white",
            "linecolor": "white",
            "ticks": ""
           },
           "bgcolor": "#E5ECF6",
           "radialaxis": {
            "gridcolor": "white",
            "linecolor": "white",
            "ticks": ""
           }
          },
          "scene": {
           "xaxis": {
            "backgroundcolor": "#E5ECF6",
            "gridcolor": "white",
            "gridwidth": 2,
            "linecolor": "white",
            "showbackground": true,
            "ticks": "",
            "zerolinecolor": "white"
           },
           "yaxis": {
            "backgroundcolor": "#E5ECF6",
            "gridcolor": "white",
            "gridwidth": 2,
            "linecolor": "white",
            "showbackground": true,
            "ticks": "",
            "zerolinecolor": "white"
           },
           "zaxis": {
            "backgroundcolor": "#E5ECF6",
            "gridcolor": "white",
            "gridwidth": 2,
            "linecolor": "white",
            "showbackground": true,
            "ticks": "",
            "zerolinecolor": "white"
           }
          },
          "shapedefaults": {
           "line": {
            "color": "#2a3f5f"
           }
          },
          "ternary": {
           "aaxis": {
            "gridcolor": "white",
            "linecolor": "white",
            "ticks": ""
           },
           "baxis": {
            "gridcolor": "white",
            "linecolor": "white",
            "ticks": ""
           },
           "bgcolor": "#E5ECF6",
           "caxis": {
            "gridcolor": "white",
            "linecolor": "white",
            "ticks": ""
           }
          },
          "title": {
           "x": 0.05
          },
          "xaxis": {
           "automargin": true,
           "gridcolor": "white",
           "linecolor": "white",
           "ticks": "",
           "title": {
            "standoff": 15
           },
           "zerolinecolor": "white",
           "zerolinewidth": 2
          },
          "yaxis": {
           "automargin": true,
           "gridcolor": "white",
           "linecolor": "white",
           "ticks": "",
           "title": {
            "standoff": 15
           },
           "zerolinecolor": "white",
           "zerolinewidth": 2
          }
         }
        },
        "width": 404.508497175,
        "xaxis": {
         "anchor": "y",
         "domain": [
          0,
          1
         ],
         "showgrid": false,
         "showline": false,
         "tickcolor": "rgb(120, 120, 120)",
         "ticklen": 5,
         "ticks": "outside",
         "tickwidth": 1,
         "title": {
          "text": "Bertz complexity"
         },
         "zeroline": false
        },
        "yaxis": {
         "anchor": "x",
         "domain": [
          0,
          1
         ],
         "gridcolor": "rgba(173, 216, 230, 0.3)",
         "gridwidth": 1,
         "showgrid": false,
         "showline": false,
         "tickcolor": "rgb(120, 120, 120)",
         "ticklen": 5,
         "ticks": "outside",
         "tickwidth": 1,
         "title": {
          "text": "count"
         },
         "zeroline": false
        }
       }
      }
     },
     "metadata": {},
     "output_type": "display_data"
    },
    {
     "name": "stderr",
     "output_type": "stream",
     "text": [
      "\u001b[32m2024-11-12 11:05:42.865\u001b[0m | \u001b[1mINFO    \u001b[0m | \u001b[36m__main__\u001b[0m:\u001b[36mplot_distr_of_scores_when_correct_vs_not_correct\u001b[0m:\u001b[36m74\u001b[0m - \u001b[1m728.3674094826654\u001b[0m\n"
     ]
    },
    {
     "data": {
      "application/vnd.plotly.v1+json": {
       "config": {
        "plotlyServerURL": "https://plot.ly"
       },
       "data": [
        {
         "alignmentgroup": "True",
         "bingroup": "x",
         "hovertemplate": "Top 5=True<br>molecular_complexity=%{x}<br>count=%{y}<extra></extra>",
         "legendgroup": "True",
         "marker": {
          "color": "rgb(152, 86, 86)",
          "line": {
           "color": "DarkSlateGrey",
           "width": 0.2
          },
          "opacity": 0.5,
          "pattern": {
           "shape": ""
          }
         },
         "name": "True",
         "nbinsx": 30,
         "offsetgroup": "True",
         "opacity": 1,
         "orientation": "v",
         "showlegend": true,
         "type": "histogram",
         "x": [
          491.62066865134767,
          580.9107655461082,
          514.4249890908638,
          425.4668303994675,
          829.2300280733625,
          1110.6697674976117,
          308.7477157867921,
          1121.01293623976,
          912.4822090970408,
          262.00327665119903,
          449.62722164508494,
          1100.5135478635586,
          622.8188198685896,
          594.2162401969236,
          913.2636625772705,
          779.3693675394458,
          978.9597000554704,
          588.4308479210993,
          501.35730516388327,
          536.030418649458,
          467.5329934853649,
          792.4112140517699,
          1076.0732215431733,
          294.58005142145214,
          411.8805312579436,
          437.295448941794,
          1404.8599639960505,
          414.14170243798173,
          389.12536704115627,
          798.8488617578801,
          916.1095020022692,
          482.1957975356598,
          866.5974994744281,
          1213.8185688010565,
          590.3978740145667,
          1379.5104421850724,
          448.9487052841436,
          860.9486568743597,
          235.04775799182192,
          673.5668192622804,
          999.8931308159232,
          1200.3304670956418,
          1000.7799674256346,
          538.6153754227819,
          643.0844693591861,
          693.2741160506625,
          763.5154522594863,
          960.8954735015668,
          387.43411358111575,
          1055.544858289374,
          1052.4479855089294,
          582.6862109768484,
          766.8071431912324,
          348.15625140819,
          406.73531581186137,
          337.3598482774644,
          1064.9354613851062,
          296.3349389236156,
          323.0007936149917,
          1267.3077878419028,
          706.392548056631,
          951.6725340573402,
          289.2526032889556,
          772.2892698753013,
          317.9642958168396,
          1010.8459782270628,
          614.9727970791702,
          1017.1020507410776,
          235.1849910090012,
          356.14378849709453,
          1097.1034927589264,
          1266.3036368981116,
          536.4243144663171,
          237.04775799182192,
          1119.2960317818715,
          812.615078883664,
          595.2403676077384,
          1284.7149188765563,
          476.6219889797812,
          465.97440034910335,
          754.38884913532,
          675.2186338750307,
          372.5503227966848,
          998.8220686535024,
          1090.0824847966214,
          213.41265043639197,
          1299.4442094736542,
          1049.8304997852808,
          653.4100414775911,
          956.0333456096332,
          734.1009242880399,
          1047.2366011772997,
          469.81020577969474,
          762.7167274976041,
          763.538424029911,
          890.8416712599033,
          748.0611192961054,
          400.4089037414234,
          628.5568559110059,
          566.1264362570621,
          1281.2049127980351,
          1415.8541966219427,
          459.01040037182304,
          41.60964047443681,
          1319.9550020521344,
          718.9296030606654,
          978.187053747616,
          525.7047058585591,
          440.9899207282918,
          649.9369069327145,
          792.1431597285643,
          465.6137396214057,
          368.57484401695,
          252.02779400832603,
          779.745989107622,
          81.63191840205,
          1055.9248868744126,
          805.7027850188924,
          1114.3773460738123,
          935.5723608144036,
          1105.6137263054975,
          274.8980131294879,
          1131.4540426367455,
          230.57786591623355,
          991.8423295710786,
          257.4945752240396,
          1033.5962416517364,
          267.90565931309794,
          385.4530587502513,
          147.82350886146327,
          1007.6295128006362,
          1016.0844730293062,
          434.3296467381504,
          455.9805997740772,
          186.05372307956137,
          718.0600722936209,
          965.8285966171612,
          369.65266631474674,
          749.1222406940616,
          1037.4610151663971,
          1147.505624883263,
          464.7901362679072,
          253.03125589421745,
          817.5800647275189,
          370.7301135831744,
          326.85561870596365,
          1094.660296993756,
          658.0719347946833,
          209.7781739221536,
          228.9664533845619,
          1326.8722764858069,
          699.7186702227497,
          405.79860546135353,
          1021.920315888696,
          1279.7429068922304,
          209.7781739221536,
          1056.454658655963,
          1127.1185756668438,
          578.4900902354271,
          500.04525782102615,
          898.1001098877524,
          290.4897943206525,
          508.628380635003,
          627.3354850466019,
          682.1837895274508,
          396.90214563698015,
          503.02174017887376,
          1264.0431279817765,
          451.5354737626094,
          1253.2447827646645,
          1182.150536105066,
          1120.428954819677,
          1231.236847277015,
          561.967701298815,
          447.6511707804897,
          1154.2228156191206,
          417.45231298264946,
          523.2068217496917,
          859.3493285725925,
          272.77916867903343,
          194.6260435051196,
          334.3847211971289,
          1279.2906166642156,
          657.5694230531814,
          995.8305022911828,
          701.2046929016038,
          249.30930073029745,
          1008.5733517117072,
          312.70138558440243,
          776.4300426717289,
          328.18689753098045,
          387.320023097217,
          567.6413666089501,
          1314.9035255360009,
          500.3741255270038,
          426.5018200090825,
          258.3796063606407,
          603.0777077670676,
          628.3990231475526,
          733.74637946666,
          1511.8092501327426,
          1200.5896637524422,
          729.7293200157983,
          1139.2896853707307,
          910.9540211592592,
          1293.6529323100508,
          356.7617244483167,
          856.4921900897778,
          548.2387397512872,
          650.6653796398543,
          476.6402186600015,
          665.0423031168627,
          726.8333019905402,
          704.3258303694996,
          1031.4777138222596,
          290.99535838508575,
          408.6986224710208,
          774.2764082567767,
          323.8980789080516,
          453.8887814334611,
          850.6884043923255,
          656.6269579378583,
          1280.7871083278385,
          698.9953058065239,
          525.3807012815957,
          920.2962289661256,
          1049.3192225448856,
          655.8720704356948,
          332.5529868353567,
          995.8572959919838,
          1182.0957555612963,
          709.3264955078729,
          850.3072259009255,
          1230.938065416393,
          430.0866066240907,
          835.3412001403408,
          999.4290832501416,
          488.65788418920374,
          1012.9838554028246,
          239.7250739951881,
          615.3871725464028,
          814.7161360986477,
          882.2118534308195,
          761.8842101047592,
          916.0170449876704,
          522.9768903137902,
          1072.763413078006,
          867.7072748752115,
          1394.3298288206877,
          750.9529913298634,
          838.4928643409173,
          1452.0093018459308,
          611.3872168952889,
          333.13265415394,
          712.9589182428551,
          465.0004402969103,
          804.8718783884727,
          464.8070987256584,
          944.11499056533,
          411.6767229032693,
          406.2308382366979,
          832.9661904023092,
          604.272617549191,
          717.1892222551064,
          137.99328661116542,
          395.5744368852867,
          1207.80938787074,
          186.9828401313287,
          780.4731692677506,
          520.5168526767102,
          613.7706203254762,
          607.8332962041516,
          1172.813348894891,
          225.16436636179583,
          679.1238705046104,
          848.3977622642395,
          386.2631390357507,
          436.4572907059942,
          762.3780264686237,
          701.1740824825704,
          364.2260085613387,
          1155.8130452052965,
          1071.404501402299,
          541.1351674028975,
          943.5167050762371,
          1176.799088727034,
          533.3789605177348,
          583.4431669758688,
          777.9572591581169,
          1298.1839561129057,
          783.2140094872503,
          526.5842516095686,
          843.4116990481858,
          631.6060864020177,
          956.3910630719566,
          1084.5047042892354,
          407.8207819124433,
          501.50238501043304,
          491.39047628592266,
          792.955844210918,
          1297.861648412514,
          568.403384874486,
          834.5822992448336,
          1042.7944767932463,
          630.7700671146332,
          713.382059123856,
          1230.7228755767055,
          347.6639128453302,
          453.65804614951674,
          1109.0418816693712,
          835.2099337158286,
          218.5871814239507,
          550.9382880837543,
          1209.4031578631138,
          749.8773718504262,
          706.3134947433754,
          460.48716735910085,
          1043.1466413361263,
          1018.15734452235,
          1011.2060530123769,
          244.36911753832655,
          869.0846344425426,
          661.2642365004298,
          493.37219945909385,
          1025.4613410053862,
          841.9949778301598,
          1208.0096624689472,
          939.7284081319176,
          322.8915159733637,
          731.4903182520695,
          559.1212374951486,
          916.5486596643004,
          408.95467038435584,
          511.57880775270854,
          1014.3314295235735,
          329.51589188262676,
          935.2499585724714,
          1149.8235384192385,
          958.641701619704,
          545.0371822548029,
          608.6910466738085,
          670.4492348804527,
          674.8183822455389,
          576.3738512419105,
          419.7820090914246,
          825.2385038996421,
          291.6206365834133,
          405.92839118280784,
          835.3821237448202,
          702.277201164219,
          1309.2785633511153,
          410.835991013075,
          259.68985710945424,
          783.8082512658289,
          404.23882539199127,
          1074.3651532260435,
          143.0617569290273,
          639.2094453361456,
          406.42773038215967,
          914.9531157519845,
          503.8954093358506,
          575.389107954436,
          284.21818880923297,
          344.02313678649665,
          89.57949822591905,
          391.2375344506235,
          1028.0061279030704,
          862.3549802249413,
          1671.9206184624247,
          1075.1984685046643,
          1662.726240365401,
          469.4585329518814,
          297.7502458872492,
          649.0991558446115,
          842.5756337576312,
          497.5406104244327,
          1212.2216077068094,
          784.6546868118381,
          303.106423438976,
          351.3799021506579,
          981.7145875576336,
          35.06139398862029,
          388.08003325829304,
          770.9278657206092,
          1171.3844549260168,
          471.6999059485861,
          528.9173802794729,
          301.68734400453286,
          874.1018786910632,
          679.0879212208301,
          809.9448908184264,
          286.6825822559432,
          694.2971667218993,
          1289.0417289106251,
          929.8756436791346,
          557.1644878218654,
          892.2437032331906,
          1409.5469668724809,
          371.3775914439778,
          700.9785707387836,
          435.6308993831408,
          365.80514056097553,
          679.9035400678605,
          1031.3208659035347,
          1029.57535468814,
          355.11474275241824,
          630.4747745211114,
          513.227042996645,
          1130.8245113364394,
          558.3894324212293,
          1002.30955024198,
          502.2451538404194,
          489.8276972429593,
          626.2655096229885,
          93.7792291661388,
          380.9108652237542,
          601.0168156609751,
          282.89699828956014,
          219.54299954784685,
          683.4323401314331,
          211.55452496564175,
          684.3272391952121,
          633.8656899513373,
          492.4591607261773,
          934.1233621771976,
          1020.987843799002,
          1013.1133640481712,
          849.4548676591462,
          384.1743532955767,
          585.5159804484063,
          524.6080948683215,
          629.0936183746094,
          260.46646199109995,
          420.4171562260134,
          1346.3516177106403,
          876.1330060513365,
          570.605939404904,
          462.0012385812976,
          1094.0036184436397,
          566.6059394049041,
          447.301694548688,
          222.90712145792597,
          104.01464778770251,
          607.6910984790119,
          242.77390023702037,
          1018.1164983253228,
          174.1761330130197,
          651.2166822028839,
          578.9337661559941,
          1099.8739232480436,
          462.84208672802305,
          717.3457737916788,
          758.0503618421599,
          534.9251378703718,
          999.0966742753932,
          689.6791380827159,
          1306.003842557404,
          711.5612613847367,
          535.738749698584,
          790.6444166378485,
          607.1898575300982,
          768.2511167987132,
          310.6863411889369,
          283.52992519544233,
          630.4926869668425,
          546.3720399229871,
          558.4278978541366,
          676.2763247490468,
          427.8459320655499,
          1101.406781893999,
          451.5038618460872,
          730.0696714391546,
          1108.259814656348,
          1075.097457375346,
          965.5620541401888,
          512.8521248737759,
          1446.7845610582667,
          362.8116660442259,
          1383.8436783382576,
          278.0598581212913,
          566.2934169735495,
          352.0585192955091,
          550.1652140865369,
          646.2166822028838,
          216.62217283529887,
          1037.557129752768,
          439.0527140673131,
          185.02694288582543,
          127.52442279202944,
          551.5045005474049,
          804.528875177975,
          790.6633058580651,
          476.8232921318308,
          685.675870372734,
          1126.6557710237366,
          498.9622580106285,
          590.1373479506202,
          348.95820522022603,
          326.5868597859925,
          1247.2198082973016,
          566.192470173006,
          297.2020152239527,
          643.1356535851737,
          517.3647227665037,
          292.06022418553414,
          547.8119354063189,
          1071.1228657002105,
          1125.0237466001213,
          592.289635895091,
          755.0570564447128,
          662.0737729942598,
          902.3149342375884,
          1186.9468529849405,
          607.197642337094,
          726.3489190885209,
          573.1168719334516,
          1252.728305478564,
          894.3952035332,
          729.7039934060001,
          252.1382381251609,
          230.06985643232213,
          891.0197307552506,
          395.47158508728745,
          1122.0570007945923,
          1095.8255004027928,
          1248.7612265346345,
          582.4563266437717,
          527.7445762354075,
          1119.9233992549243,
          253.49457522403964,
          906.0472409007456,
          873.0966528047687,
          769.8246761786658,
          220.7523244227379,
          820.5554872531005,
          407.59521942326063,
          283.2467570952085,
          1099.1603713108268,
          1230.4820515193114,
          477.1136609931022,
          665.8599374969845,
          156.1710478569335,
          968.9457975199904,
          309.170530848947,
          665.8956449989771,
          1413.699020031363,
          813.7604741471048,
          941.1291508343998,
          1476.4742987994996,
          941.6500457505592,
          964.9827634689634,
          135.66369253840438,
          899.5679601728307,
          264.7404070332149,
          870.1329120257209,
          760.2956546799153,
          945.9100417031236,
          948.7974180255528,
          1431.5988634319183,
          684.1857521837227,
          307.39688695312145,
          316.95584342662085,
          1285.1413825522902,
          350.6847828061791,
          542.7849870464745,
          815.1853852693438,
          1447.655890046921,
          548.6676329711794,
          416.2118100829604,
          451.3924838974225,
          1203.8347762502788,
          474.29396702691423,
          906.1683378549124,
          263.38150377072884,
          979.5849737253044,
          336.0748996548373,
          926.9165006196736,
          266.1410340318074,
          472.6983341908494,
          646.9810798755046,
          834.0193252131489,
          156.32058642575467,
          579.9658112625143,
          911.3192085924776,
          523.3755159389312,
          713.5387785571529,
          472.66459181614175,
          403.94817124808776,
          398.5353943754878,
          502.3761045169052,
          894.1481918571958,
          902.3967763739248,
          1362.5862514254009,
          445.34272576308126,
          941.8894280761476,
          1384.8404200766536,
          805.6443554979896,
          498.9786054302784,
          103.23098268032228,
          951.8040547523632,
          663.158326021262,
          1184.503315116595,
          1200.7000946213984,
          1216.5156251242788,
          1093.3809022557866,
          414.8664113623562,
          668.4356489939471,
          1034.6024003617806,
          953.5987315539724,
          313.2557528676839,
          688.990980596612,
          402.9857257388615,
          456.2846528120546,
          422.4418969105164,
          696.4584868748468,
          1140.007882246999,
          329.1610659820176,
          578.1439954565993,
          1054.0317322894753,
          1369.0905619158902,
          64.27793097483524,
          1027.179083250142,
          513.2485282988569,
          907.2594671692392,
          672.5097296076208,
          880.8851269680121,
          426.9324997887675,
          749.7259898766752,
          1351.3743856607125,
          468.5501340263287,
          580.8854958010583,
          321.88548674218765,
          1027.9138488854285,
          1131.940308804644,
          1025.0193174012454,
          58,
          667.0947189442646,
          1000.5999825152164,
          1084.5695670120672,
          795.6820434540797,
          451.214407226472,
          353.65990399546155,
          616.335838847091,
          473.58536344623127,
          643.4262898615415,
          359.04358214983137,
          996.928735284814,
          317.3241659524457,
          565.6038193959355,
          539.4447945489236,
          1068.305769128744,
          515.1470091562182,
          803.5686315861201,
          330.09780984827137,
          810.2937617762396,
          528.0965750172644,
          647.0494331069514,
          219.5128819073926,
          821.0665460493635,
          507.8549477621768,
          1098.013336850672,
          783.5892786343044,
          726.2608026586753,
          572.7662553369746,
          725.6785399542862,
          708.2529993051123,
          300.81692104857575,
          985.5959810009716,
          487.5630347364688,
          671.4745134783159,
          796.1629109691996,
          318.20156003747087,
          455.7327263355815,
          660.3841302785556,
          526.6048403884491,
          1158.1707742632536,
          1203.2187284838226,
          879.9206284160656,
          128.919684538544,
          255.86732816458755,
          856.4966120190758,
          483.10799415501407,
          910.5763182510524,
          852.1658068370504,
          785.0484753592324,
          322.323372337454,
          1054.708236793328,
          1005.5135079061256,
          1028.5771770125991,
          139.89342114105557,
          283.2438592039191,
          694.6021582046693,
          586.5103150202975,
          354.2766641820712,
          781.5129837125126,
          550.1268535365518,
          1195.7782672034746,
          106.40620687739316,
          415.9925013399086,
          1148.8034935032235,
          789.7243891730828,
          929.6076244782269,
          737.8041102661554,
          266.1573917227327,
          769.1983929800646,
          382.9850399973725,
          557.2860541028068,
          790.6886591020381,
          944.039748358181,
          404.9710779511588,
          912.070383368411,
          913.8957066576908,
          163.55279339565334,
          853.4574678381783,
          515.5134801782334,
          1123.3097902424322,
          546.1493499439013,
          584.6930845761613,
          961.7233960674564,
          314.6554447774625,
          1146.4016444640376,
          751.0836119423528,
          1096.8563363478231,
          690.8779897536325,
          1030.9093230988717,
          1707.376540652972,
          1340.1269658860656,
          355.27566688695373,
          620.6289283498221,
          1092.4864671753774,
          696.0361834966216,
          742.1065274910521,
          1083.4177867803446,
          377.0747455887142,
          511.0490520651429,
          493.6064431773597,
          382.6909137493687,
          1035.0046251891645,
          443.3460824574985,
          224.29788705001033,
          253.44812008925533,
          1019.8070741274188,
          937.1132186996256,
          1006.5399178990696,
          529.2596077728405,
          461.08997972579624,
          722.6708195249173,
          433.352476659887,
          588.2947881447792,
          467.42647967716965,
          1285.4833180947758,
          398.9710779511589,
          403.1403062622705,
          902.235025649542,
          575.6294719097823,
          395.2111492823123,
          911.0115296993988,
          397.06466188095976,
          291.69496835976435,
          1173.857326969163,
          352.2424177353704,
          530.6627454690159,
          578.0451574320451,
          891.3338710989681,
          955.6868555150288,
          363.2815474162533,
          1000.4090626439462,
          655.6804886228049,
          385.9769658313049,
          825.9213954027784,
          518.2735643335866,
          1085.6080772701928,
          518.7514657886744,
          642.1515889251757,
          1281.7263833746474,
          890.4919756818654,
          260.8841466481723,
          1414.334927686201,
          818.4184901694919,
          282.19937490806194,
          892.6956307426595,
          903.6253253050024,
          98.6017921972316,
          695.4587307377393,
          637.8487633790621,
          303.00122507333003,
          891.8197618396946,
          652.4544810797163,
          1109.8351922907511,
          40.671034463057104,
          939.69068998001,
          557.6730103519732,
          895.1704891468415,
          975.3207831682688,
          1022.1834921368442,
          227.77661841421016,
          849.2456844813132,
          1227.827348827233,
          1265.8095495903112,
          392.4961191275538,
          1318.7466469366384,
          879.5653678735154,
          682.2735597411408,
          635.2736466933019,
          1187.5747234000664,
          325.5993224468667,
          898.5327162116987,
          389.3729202401019,
          397.73235938432526,
          584.6101804904074,
          652.7738976432676,
          296.6640795600689,
          701.5491068521926,
          147.85263754543286,
          982.2349059947936,
          697.5718798669932,
          259.67965837655686,
          1040.8871218642455,
          907.387502169524,
          662.2874156146992,
          316.7670432438673,
          842.0643408759729,
          962.8381661264934,
          963.3589065541776,
          1147.8025727711042,
          647.2850253679019,
          677.7581082452708,
          1061.013735457254,
          137.64737584844357,
          744.3508700863298,
          597.6955104275896,
          647.2533799640017,
          250.56810563069448,
          137.51770940319489,
          795.4227792424292,
          507.4839272222681,
          542.6677364511717,
          193.97752353949224,
          602.1046182120276,
          536.7595690452015,
          786.0839169685988,
          500.2977111302938,
          649.1183289461125,
          417.2118100829604,
          715.9777185243012,
          1068.589872370872,
          539.8318493224938,
          491.9486493151155,
          428.6757194003393,
          568.0377936809936,
          1118.523696684174,
          1124.6437571427443,
          1407.6602886490764,
          689.342297974226,
          740.4110445205903,
          901.916860252784,
          454.45883819146025,
          1060.6476368652209,
          609.6419984605117,
          626.0613051774699,
          304.7069310172286,
          814.639472621438,
          449.63290369291343,
          300.703787110121,
          986.6442984390864,
          652.0264902860007,
          1321.1062051519714,
          1008.6901245958222,
          711.2594971455062,
          451.2782765564959,
          317.64199945095794,
          1142.5795376809324,
          917.6578262314166,
          724.4221484787079,
          697.6649903450676,
          765.5824336344882,
          691.8880319110799,
          467.7589229772027,
          277.3882381251609
         ],
         "xaxis": "x",
         "yaxis": "y"
        },
        {
         "alignmentgroup": "True",
         "bingroup": "x",
         "hovertemplate": "Top 5=False<br>molecular_complexity=%{x}<br>count=%{y}<extra></extra>",
         "legendgroup": "False",
         "marker": {
          "color": "rgb(152, 146, 186)",
          "line": {
           "color": "DarkSlateGrey",
           "width": 0.2
          },
          "opacity": 0.5,
          "pattern": {
           "shape": ""
          }
         },
         "name": "False",
         "nbinsx": 30,
         "offsetgroup": "False",
         "opacity": 1,
         "orientation": "v",
         "showlegend": true,
         "type": "histogram",
         "x": [
          889.8687669010689,
          1040.9698320049329,
          1645.4503569054934,
          103.57174002125652,
          920.795305912841,
          1460.772072172928,
          1010.561349611933,
          634.6413106733855,
          754.0050253466031,
          1477.50054583751,
          801.5714335515272,
          485.2323586640967,
          720.7113917571904,
          420.1285697756128,
          1120.1605833543313,
          1130.5954219485975,
          1364.6817115095266,
          1509.3690275255683,
          1491.0410935037005,
          721.3565486547941,
          1068.1344716198591,
          1360.4675492236963,
          619.5214865919598,
          1204.1666067078029,
          1308.3687455534557,
          1127.4107682095066,
          834.0535845764279,
          850.1923725978387,
          1241.7132352949106,
          1006.4462017422994,
          383.9238199322565,
          996.774107534609,
          1412.85191147024,
          973.0001453716792,
          625.8712510142407,
          889.2062033939401,
          1084.625599080999,
          358.5704301640317,
          1046.3865834393491,
          1095.3599891962829,
          506.6352732948717,
          690.3586940928477,
          432.6235972256891,
          886.2116306482009,
          1098.515486545336,
          1102.026559010425,
          981.915435308735,
          1546.8421806731683,
          1370.3332275506973,
          922.9323808979908,
          719.7961927128348,
          1414.7452949519948,
          979.2032769841272,
          1315.6063436683378,
          1384.3054344655689,
          1280.9546798712695,
          1114.610354991227,
          792.5514037601564,
          270.4992626103369,
          829.1956034735972,
          647.1822768546679,
          930.1371902461912,
          627.2923747165826,
          1100.6668994797249,
          705.0130176156014,
          830.9613259736622,
          1370.5975582073795,
          1091.0398076010074,
          607.094786815807,
          1185.504432585902,
          860.4164741337664,
          1235.9427550858643,
          1098.251821827516,
          373.6138240144492,
          902.3052187354378,
          1107.757568138525,
          894.899615898138,
          1109.2580338295422,
          486.5586059366732,
          631.0510442150293,
          1230.3267712541624,
          949.4773525825948,
          375.86536060970866,
          1150.7629305382654,
          1201.879571432483,
          292.47357154412316,
          815.2050072063593,
          1043.648170158034,
          658.5381990937202,
          1561.701123093437,
          1234.460564890264,
          982.501455831049,
          673.4778547583704,
          994.0680192999836,
          1166.4476987565365,
          804.3219335022271,
          868.6498501663026,
          801.9086926143272,
          991.7074876546023,
          563.8949424072244,
          1393.170035153977,
          823.0074248445177,
          538.1922662571395,
          1087.7311119679284,
          1089.047918048498,
          779.4205369741054,
          994.1303531638546,
          1281.4233553964752,
          817.2705533492613,
          715.1057446974716,
          848.4272243160995,
          318.09227258016466,
          734.7426427263267,
          425.7557415693456,
          1183.0262866367138,
          865.8142141939265,
          1031.3995480945448,
          897.6807955374186,
          1052.3652353959023,
          979.901691315795,
          697.3956575094135,
          797.7345113271242
         ],
         "xaxis": "x",
         "yaxis": "y"
        }
       ],
       "layout": {
        "barmode": "overlay",
        "font": {
         "family": "CMU Sans Serif"
        },
        "height": 250,
        "legend": {
         "title": {
          "text": "Top 5"
         },
         "tracegroupgap": 0
        },
        "margin": {
         "b": 0,
         "l": 0,
         "r": 0,
         "t": 0
        },
        "plot_bgcolor": "white",
        "template": {
         "data": {
          "bar": [
           {
            "error_x": {
             "color": "#2a3f5f"
            },
            "error_y": {
             "color": "#2a3f5f"
            },
            "marker": {
             "line": {
              "color": "#E5ECF6",
              "width": 0.5
             },
             "pattern": {
              "fillmode": "overlay",
              "size": 10,
              "solidity": 0.2
             }
            },
            "type": "bar"
           }
          ],
          "barpolar": [
           {
            "marker": {
             "line": {
              "color": "#E5ECF6",
              "width": 0.5
             },
             "pattern": {
              "fillmode": "overlay",
              "size": 10,
              "solidity": 0.2
             }
            },
            "type": "barpolar"
           }
          ],
          "carpet": [
           {
            "aaxis": {
             "endlinecolor": "#2a3f5f",
             "gridcolor": "white",
             "linecolor": "white",
             "minorgridcolor": "white",
             "startlinecolor": "#2a3f5f"
            },
            "baxis": {
             "endlinecolor": "#2a3f5f",
             "gridcolor": "white",
             "linecolor": "white",
             "minorgridcolor": "white",
             "startlinecolor": "#2a3f5f"
            },
            "type": "carpet"
           }
          ],
          "choropleth": [
           {
            "colorbar": {
             "outlinewidth": 0,
             "ticks": ""
            },
            "type": "choropleth"
           }
          ],
          "contour": [
           {
            "colorbar": {
             "outlinewidth": 0,
             "ticks": ""
            },
            "colorscale": [
             [
              0,
              "#0d0887"
             ],
             [
              0.1111111111111111,
              "#46039f"
             ],
             [
              0.2222222222222222,
              "#7201a8"
             ],
             [
              0.3333333333333333,
              "#9c179e"
             ],
             [
              0.4444444444444444,
              "#bd3786"
             ],
             [
              0.5555555555555556,
              "#d8576b"
             ],
             [
              0.6666666666666666,
              "#ed7953"
             ],
             [
              0.7777777777777778,
              "#fb9f3a"
             ],
             [
              0.8888888888888888,
              "#fdca26"
             ],
             [
              1,
              "#f0f921"
             ]
            ],
            "type": "contour"
           }
          ],
          "contourcarpet": [
           {
            "colorbar": {
             "outlinewidth": 0,
             "ticks": ""
            },
            "type": "contourcarpet"
           }
          ],
          "heatmap": [
           {
            "colorbar": {
             "outlinewidth": 0,
             "ticks": ""
            },
            "colorscale": [
             [
              0,
              "#0d0887"
             ],
             [
              0.1111111111111111,
              "#46039f"
             ],
             [
              0.2222222222222222,
              "#7201a8"
             ],
             [
              0.3333333333333333,
              "#9c179e"
             ],
             [
              0.4444444444444444,
              "#bd3786"
             ],
             [
              0.5555555555555556,
              "#d8576b"
             ],
             [
              0.6666666666666666,
              "#ed7953"
             ],
             [
              0.7777777777777778,
              "#fb9f3a"
             ],
             [
              0.8888888888888888,
              "#fdca26"
             ],
             [
              1,
              "#f0f921"
             ]
            ],
            "type": "heatmap"
           }
          ],
          "heatmapgl": [
           {
            "colorbar": {
             "outlinewidth": 0,
             "ticks": ""
            },
            "colorscale": [
             [
              0,
              "#0d0887"
             ],
             [
              0.1111111111111111,
              "#46039f"
             ],
             [
              0.2222222222222222,
              "#7201a8"
             ],
             [
              0.3333333333333333,
              "#9c179e"
             ],
             [
              0.4444444444444444,
              "#bd3786"
             ],
             [
              0.5555555555555556,
              "#d8576b"
             ],
             [
              0.6666666666666666,
              "#ed7953"
             ],
             [
              0.7777777777777778,
              "#fb9f3a"
             ],
             [
              0.8888888888888888,
              "#fdca26"
             ],
             [
              1,
              "#f0f921"
             ]
            ],
            "type": "heatmapgl"
           }
          ],
          "histogram": [
           {
            "marker": {
             "pattern": {
              "fillmode": "overlay",
              "size": 10,
              "solidity": 0.2
             }
            },
            "type": "histogram"
           }
          ],
          "histogram2d": [
           {
            "colorbar": {
             "outlinewidth": 0,
             "ticks": ""
            },
            "colorscale": [
             [
              0,
              "#0d0887"
             ],
             [
              0.1111111111111111,
              "#46039f"
             ],
             [
              0.2222222222222222,
              "#7201a8"
             ],
             [
              0.3333333333333333,
              "#9c179e"
             ],
             [
              0.4444444444444444,
              "#bd3786"
             ],
             [
              0.5555555555555556,
              "#d8576b"
             ],
             [
              0.6666666666666666,
              "#ed7953"
             ],
             [
              0.7777777777777778,
              "#fb9f3a"
             ],
             [
              0.8888888888888888,
              "#fdca26"
             ],
             [
              1,
              "#f0f921"
             ]
            ],
            "type": "histogram2d"
           }
          ],
          "histogram2dcontour": [
           {
            "colorbar": {
             "outlinewidth": 0,
             "ticks": ""
            },
            "colorscale": [
             [
              0,
              "#0d0887"
             ],
             [
              0.1111111111111111,
              "#46039f"
             ],
             [
              0.2222222222222222,
              "#7201a8"
             ],
             [
              0.3333333333333333,
              "#9c179e"
             ],
             [
              0.4444444444444444,
              "#bd3786"
             ],
             [
              0.5555555555555556,
              "#d8576b"
             ],
             [
              0.6666666666666666,
              "#ed7953"
             ],
             [
              0.7777777777777778,
              "#fb9f3a"
             ],
             [
              0.8888888888888888,
              "#fdca26"
             ],
             [
              1,
              "#f0f921"
             ]
            ],
            "type": "histogram2dcontour"
           }
          ],
          "mesh3d": [
           {
            "colorbar": {
             "outlinewidth": 0,
             "ticks": ""
            },
            "type": "mesh3d"
           }
          ],
          "parcoords": [
           {
            "line": {
             "colorbar": {
              "outlinewidth": 0,
              "ticks": ""
             }
            },
            "type": "parcoords"
           }
          ],
          "pie": [
           {
            "automargin": true,
            "type": "pie"
           }
          ],
          "scatter": [
           {
            "fillpattern": {
             "fillmode": "overlay",
             "size": 10,
             "solidity": 0.2
            },
            "type": "scatter"
           }
          ],
          "scatter3d": [
           {
            "line": {
             "colorbar": {
              "outlinewidth": 0,
              "ticks": ""
             }
            },
            "marker": {
             "colorbar": {
              "outlinewidth": 0,
              "ticks": ""
             }
            },
            "type": "scatter3d"
           }
          ],
          "scattercarpet": [
           {
            "marker": {
             "colorbar": {
              "outlinewidth": 0,
              "ticks": ""
             }
            },
            "type": "scattercarpet"
           }
          ],
          "scattergeo": [
           {
            "marker": {
             "colorbar": {
              "outlinewidth": 0,
              "ticks": ""
             }
            },
            "type": "scattergeo"
           }
          ],
          "scattergl": [
           {
            "marker": {
             "colorbar": {
              "outlinewidth": 0,
              "ticks": ""
             }
            },
            "type": "scattergl"
           }
          ],
          "scattermapbox": [
           {
            "marker": {
             "colorbar": {
              "outlinewidth": 0,
              "ticks": ""
             }
            },
            "type": "scattermapbox"
           }
          ],
          "scatterpolar": [
           {
            "marker": {
             "colorbar": {
              "outlinewidth": 0,
              "ticks": ""
             }
            },
            "type": "scatterpolar"
           }
          ],
          "scatterpolargl": [
           {
            "marker": {
             "colorbar": {
              "outlinewidth": 0,
              "ticks": ""
             }
            },
            "type": "scatterpolargl"
           }
          ],
          "scatterternary": [
           {
            "marker": {
             "colorbar": {
              "outlinewidth": 0,
              "ticks": ""
             }
            },
            "type": "scatterternary"
           }
          ],
          "surface": [
           {
            "colorbar": {
             "outlinewidth": 0,
             "ticks": ""
            },
            "colorscale": [
             [
              0,
              "#0d0887"
             ],
             [
              0.1111111111111111,
              "#46039f"
             ],
             [
              0.2222222222222222,
              "#7201a8"
             ],
             [
              0.3333333333333333,
              "#9c179e"
             ],
             [
              0.4444444444444444,
              "#bd3786"
             ],
             [
              0.5555555555555556,
              "#d8576b"
             ],
             [
              0.6666666666666666,
              "#ed7953"
             ],
             [
              0.7777777777777778,
              "#fb9f3a"
             ],
             [
              0.8888888888888888,
              "#fdca26"
             ],
             [
              1,
              "#f0f921"
             ]
            ],
            "type": "surface"
           }
          ],
          "table": [
           {
            "cells": {
             "fill": {
              "color": "#EBF0F8"
             },
             "line": {
              "color": "white"
             }
            },
            "header": {
             "fill": {
              "color": "#C8D4E3"
             },
             "line": {
              "color": "white"
             }
            },
            "type": "table"
           }
          ]
         },
         "layout": {
          "annotationdefaults": {
           "arrowcolor": "#2a3f5f",
           "arrowhead": 0,
           "arrowwidth": 1
          },
          "autotypenumbers": "strict",
          "coloraxis": {
           "colorbar": {
            "outlinewidth": 0,
            "ticks": ""
           }
          },
          "colorscale": {
           "diverging": [
            [
             0,
             "#8e0152"
            ],
            [
             0.1,
             "#c51b7d"
            ],
            [
             0.2,
             "#de77ae"
            ],
            [
             0.3,
             "#f1b6da"
            ],
            [
             0.4,
             "#fde0ef"
            ],
            [
             0.5,
             "#f7f7f7"
            ],
            [
             0.6,
             "#e6f5d0"
            ],
            [
             0.7,
             "#b8e186"
            ],
            [
             0.8,
             "#7fbc41"
            ],
            [
             0.9,
             "#4d9221"
            ],
            [
             1,
             "#276419"
            ]
           ],
           "sequential": [
            [
             0,
             "#0d0887"
            ],
            [
             0.1111111111111111,
             "#46039f"
            ],
            [
             0.2222222222222222,
             "#7201a8"
            ],
            [
             0.3333333333333333,
             "#9c179e"
            ],
            [
             0.4444444444444444,
             "#bd3786"
            ],
            [
             0.5555555555555556,
             "#d8576b"
            ],
            [
             0.6666666666666666,
             "#ed7953"
            ],
            [
             0.7777777777777778,
             "#fb9f3a"
            ],
            [
             0.8888888888888888,
             "#fdca26"
            ],
            [
             1,
             "#f0f921"
            ]
           ],
           "sequentialminus": [
            [
             0,
             "#0d0887"
            ],
            [
             0.1111111111111111,
             "#46039f"
            ],
            [
             0.2222222222222222,
             "#7201a8"
            ],
            [
             0.3333333333333333,
             "#9c179e"
            ],
            [
             0.4444444444444444,
             "#bd3786"
            ],
            [
             0.5555555555555556,
             "#d8576b"
            ],
            [
             0.6666666666666666,
             "#ed7953"
            ],
            [
             0.7777777777777778,
             "#fb9f3a"
            ],
            [
             0.8888888888888888,
             "#fdca26"
            ],
            [
             1,
             "#f0f921"
            ]
           ]
          },
          "colorway": [
           "#636efa",
           "#EF553B",
           "#00cc96",
           "#ab63fa",
           "#FFA15A",
           "#19d3f3",
           "#FF6692",
           "#B6E880",
           "#FF97FF",
           "#FECB52"
          ],
          "font": {
           "color": "#2a3f5f"
          },
          "geo": {
           "bgcolor": "white",
           "lakecolor": "white",
           "landcolor": "#E5ECF6",
           "showlakes": true,
           "showland": true,
           "subunitcolor": "white"
          },
          "hoverlabel": {
           "align": "left"
          },
          "hovermode": "closest",
          "mapbox": {
           "style": "light"
          },
          "paper_bgcolor": "white",
          "plot_bgcolor": "#E5ECF6",
          "polar": {
           "angularaxis": {
            "gridcolor": "white",
            "linecolor": "white",
            "ticks": ""
           },
           "bgcolor": "#E5ECF6",
           "radialaxis": {
            "gridcolor": "white",
            "linecolor": "white",
            "ticks": ""
           }
          },
          "scene": {
           "xaxis": {
            "backgroundcolor": "#E5ECF6",
            "gridcolor": "white",
            "gridwidth": 2,
            "linecolor": "white",
            "showbackground": true,
            "ticks": "",
            "zerolinecolor": "white"
           },
           "yaxis": {
            "backgroundcolor": "#E5ECF6",
            "gridcolor": "white",
            "gridwidth": 2,
            "linecolor": "white",
            "showbackground": true,
            "ticks": "",
            "zerolinecolor": "white"
           },
           "zaxis": {
            "backgroundcolor": "#E5ECF6",
            "gridcolor": "white",
            "gridwidth": 2,
            "linecolor": "white",
            "showbackground": true,
            "ticks": "",
            "zerolinecolor": "white"
           }
          },
          "shapedefaults": {
           "line": {
            "color": "#2a3f5f"
           }
          },
          "ternary": {
           "aaxis": {
            "gridcolor": "white",
            "linecolor": "white",
            "ticks": ""
           },
           "baxis": {
            "gridcolor": "white",
            "linecolor": "white",
            "ticks": ""
           },
           "bgcolor": "#E5ECF6",
           "caxis": {
            "gridcolor": "white",
            "linecolor": "white",
            "ticks": ""
           }
          },
          "title": {
           "x": 0.05
          },
          "xaxis": {
           "automargin": true,
           "gridcolor": "white",
           "linecolor": "white",
           "ticks": "",
           "title": {
            "standoff": 15
           },
           "zerolinecolor": "white",
           "zerolinewidth": 2
          },
          "yaxis": {
           "automargin": true,
           "gridcolor": "white",
           "linecolor": "white",
           "ticks": "",
           "title": {
            "standoff": 15
           },
           "zerolinecolor": "white",
           "zerolinewidth": 2
          }
         }
        },
        "width": 404.508497175,
        "xaxis": {
         "anchor": "y",
         "domain": [
          0,
          1
         ],
         "showgrid": false,
         "showline": false,
         "tickcolor": "rgb(120, 120, 120)",
         "ticklen": 5,
         "ticks": "outside",
         "tickwidth": 1,
         "title": {
          "text": "Bertz complexity"
         },
         "zeroline": false
        },
        "yaxis": {
         "anchor": "x",
         "domain": [
          0,
          1
         ],
         "gridcolor": "rgba(173, 216, 230, 0.3)",
         "gridwidth": 1,
         "showgrid": false,
         "showline": false,
         "tickcolor": "rgb(120, 120, 120)",
         "ticklen": 5,
         "ticks": "outside",
         "tickwidth": 1,
         "title": {
          "text": "count"
         },
         "zeroline": false
        }
       }
      }
     },
     "metadata": {},
     "output_type": "display_data"
    },
    {
     "name": "stderr",
     "output_type": "stream",
     "text": [
      "\u001b[32m2024-11-12 11:05:42.918\u001b[0m | \u001b[1mINFO    \u001b[0m | \u001b[36m__main__\u001b[0m:\u001b[36mplot_distr_of_scores_when_correct_vs_not_correct\u001b[0m:\u001b[36m74\u001b[0m - \u001b[1m728.3674094826654\u001b[0m\n"
     ]
    },
    {
     "data": {
      "application/vnd.plotly.v1+json": {
       "config": {
        "plotlyServerURL": "https://plot.ly"
       },
       "data": [
        {
         "alignmentgroup": "True",
         "bingroup": "x",
         "hovertemplate": "Top 10=True<br>molecular_complexity=%{x}<br>count=%{y}<extra></extra>",
         "legendgroup": "True",
         "marker": {
          "color": "rgb(152, 86, 86)",
          "line": {
           "color": "DarkSlateGrey",
           "width": 0.2
          },
          "opacity": 0.5,
          "pattern": {
           "shape": ""
          }
         },
         "name": "True",
         "nbinsx": 30,
         "offsetgroup": "True",
         "opacity": 1,
         "orientation": "v",
         "showlegend": true,
         "type": "histogram",
         "x": [
          491.62066865134767,
          580.9107655461082,
          514.4249890908638,
          425.4668303994675,
          829.2300280733625,
          1110.6697674976117,
          308.7477157867921,
          889.8687669010689,
          1121.01293623976,
          912.4822090970408,
          262.00327665119903,
          449.62722164508494,
          1100.5135478635586,
          622.8188198685896,
          594.2162401969236,
          913.2636625772705,
          779.3693675394458,
          978.9597000554704,
          588.4308479210993,
          501.35730516388327,
          536.030418649458,
          467.5329934853649,
          792.4112140517699,
          1076.0732215431733,
          294.58005142145214,
          411.8805312579436,
          437.295448941794,
          1404.8599639960505,
          414.14170243798173,
          389.12536704115627,
          798.8488617578801,
          916.1095020022692,
          482.1957975356598,
          866.5974994744281,
          1213.8185688010565,
          590.3978740145667,
          1379.5104421850724,
          448.9487052841436,
          860.9486568743597,
          235.04775799182192,
          673.5668192622804,
          103.57174002125652,
          999.8931308159232,
          1200.3304670956418,
          1000.7799674256346,
          538.6153754227819,
          643.0844693591861,
          693.2741160506625,
          763.5154522594863,
          960.8954735015668,
          387.43411358111575,
          1055.544858289374,
          1052.4479855089294,
          582.6862109768484,
          766.8071431912324,
          348.15625140819,
          406.73531581186137,
          337.3598482774644,
          1064.9354613851062,
          296.3349389236156,
          323.0007936149917,
          1267.3077878419028,
          706.392548056631,
          951.6725340573402,
          289.2526032889556,
          772.2892698753013,
          317.9642958168396,
          1010.8459782270628,
          801.5714335515272,
          614.9727970791702,
          1017.1020507410776,
          235.1849910090012,
          356.14378849709453,
          1097.1034927589264,
          1266.3036368981116,
          536.4243144663171,
          237.04775799182192,
          1119.2960317818715,
          812.615078883664,
          595.2403676077384,
          1284.7149188765563,
          476.6219889797812,
          465.97440034910335,
          754.38884913532,
          675.2186338750307,
          372.5503227966848,
          998.8220686535024,
          1090.0824847966214,
          213.41265043639197,
          720.7113917571904,
          1299.4442094736542,
          1049.8304997852808,
          653.4100414775911,
          956.0333456096332,
          734.1009242880399,
          1047.2366011772997,
          469.81020577969474,
          762.7167274976041,
          763.538424029911,
          1509.3690275255683,
          890.8416712599033,
          748.0611192961054,
          400.4089037414234,
          628.5568559110059,
          566.1264362570621,
          1281.2049127980351,
          1415.8541966219427,
          459.01040037182304,
          41.60964047443681,
          1319.9550020521344,
          718.9296030606654,
          978.187053747616,
          525.7047058585591,
          440.9899207282918,
          649.9369069327145,
          792.1431597285643,
          465.6137396214057,
          368.57484401695,
          252.02779400832603,
          779.745989107622,
          81.63191840205,
          1055.9248868744126,
          805.7027850188924,
          1114.3773460738123,
          935.5723608144036,
          1105.6137263054975,
          274.8980131294879,
          1131.4540426367455,
          230.57786591623355,
          991.8423295710786,
          257.4945752240396,
          1033.5962416517364,
          267.90565931309794,
          385.4530587502513,
          147.82350886146327,
          1007.6295128006362,
          1016.0844730293062,
          434.3296467381504,
          455.9805997740772,
          186.05372307956137,
          718.0600722936209,
          965.8285966171612,
          369.65266631474674,
          749.1222406940616,
          1037.4610151663971,
          1147.505624883263,
          464.7901362679072,
          253.03125589421745,
          817.5800647275189,
          370.7301135831744,
          326.85561870596365,
          1094.660296993756,
          658.0719347946833,
          209.7781739221536,
          228.9664533845619,
          1360.4675492236963,
          1326.8722764858069,
          699.7186702227497,
          405.79860546135353,
          1021.920315888696,
          1279.7429068922304,
          209.7781739221536,
          1056.454658655963,
          1127.1185756668438,
          578.4900902354271,
          500.04525782102615,
          898.1001098877524,
          290.4897943206525,
          508.628380635003,
          627.3354850466019,
          682.1837895274508,
          396.90214563698015,
          503.02174017887376,
          1264.0431279817765,
          451.5354737626094,
          1253.2447827646645,
          1182.150536105066,
          1120.428954819677,
          1231.236847277015,
          561.967701298815,
          447.6511707804897,
          1154.2228156191206,
          417.45231298264946,
          523.2068217496917,
          859.3493285725925,
          272.77916867903343,
          194.6260435051196,
          334.3847211971289,
          1279.2906166642156,
          657.5694230531814,
          995.8305022911828,
          701.2046929016038,
          249.30930073029745,
          1008.5733517117072,
          312.70138558440243,
          776.4300426717289,
          328.18689753098045,
          387.320023097217,
          567.6413666089501,
          1314.9035255360009,
          500.3741255270038,
          426.5018200090825,
          258.3796063606407,
          603.0777077670676,
          628.3990231475526,
          733.74637946666,
          1511.8092501327426,
          1200.5896637524422,
          729.7293200157983,
          1139.2896853707307,
          910.9540211592592,
          1293.6529323100508,
          356.7617244483167,
          856.4921900897778,
          548.2387397512872,
          650.6653796398543,
          476.6402186600015,
          665.0423031168627,
          726.8333019905402,
          704.3258303694996,
          1031.4777138222596,
          290.99535838508575,
          408.6986224710208,
          774.2764082567767,
          323.8980789080516,
          453.8887814334611,
          850.6884043923255,
          656.6269579378583,
          1280.7871083278385,
          698.9953058065239,
          525.3807012815957,
          920.2962289661256,
          1049.3192225448856,
          655.8720704356948,
          332.5529868353567,
          995.8572959919838,
          1182.0957555612963,
          709.3264955078729,
          850.3072259009255,
          1230.938065416393,
          430.0866066240907,
          835.3412001403408,
          999.4290832501416,
          488.65788418920374,
          1012.9838554028246,
          239.7250739951881,
          615.3871725464028,
          814.7161360986477,
          882.2118534308195,
          761.8842101047592,
          916.0170449876704,
          522.9768903137902,
          1072.763413078006,
          867.7072748752115,
          1394.3298288206877,
          750.9529913298634,
          838.4928643409173,
          1452.0093018459308,
          611.3872168952889,
          333.13265415394,
          712.9589182428551,
          465.0004402969103,
          804.8718783884727,
          464.8070987256584,
          944.11499056533,
          411.6767229032693,
          406.2308382366979,
          832.9661904023092,
          604.272617549191,
          717.1892222551064,
          137.99328661116542,
          395.5744368852867,
          1207.80938787074,
          186.9828401313287,
          780.4731692677506,
          520.5168526767102,
          613.7706203254762,
          607.8332962041516,
          1172.813348894891,
          225.16436636179583,
          679.1238705046104,
          848.3977622642395,
          386.2631390357507,
          436.4572907059942,
          762.3780264686237,
          701.1740824825704,
          364.2260085613387,
          1155.8130452052965,
          432.6235972256891,
          1071.404501402299,
          541.1351674028975,
          943.5167050762371,
          1176.799088727034,
          533.3789605177348,
          583.4431669758688,
          777.9572591581169,
          1298.1839561129057,
          783.2140094872503,
          526.5842516095686,
          843.4116990481858,
          631.6060864020177,
          956.3910630719566,
          1084.5047042892354,
          407.8207819124433,
          501.50238501043304,
          491.39047628592266,
          792.955844210918,
          1297.861648412514,
          568.403384874486,
          834.5822992448336,
          1042.7944767932463,
          630.7700671146332,
          713.382059123856,
          1230.7228755767055,
          347.6639128453302,
          453.65804614951674,
          1109.0418816693712,
          835.2099337158286,
          218.5871814239507,
          550.9382880837543,
          1209.4031578631138,
          749.8773718504262,
          706.3134947433754,
          460.48716735910085,
          1043.1466413361263,
          1018.15734452235,
          1011.2060530123769,
          244.36911753832655,
          869.0846344425426,
          661.2642365004298,
          493.37219945909385,
          1025.4613410053862,
          841.9949778301598,
          1208.0096624689472,
          939.7284081319176,
          322.8915159733637,
          731.4903182520695,
          559.1212374951486,
          916.5486596643004,
          408.95467038435584,
          511.57880775270854,
          1014.3314295235735,
          329.51589188262676,
          935.2499585724714,
          1149.8235384192385,
          958.641701619704,
          545.0371822548029,
          608.6910466738085,
          670.4492348804527,
          674.8183822455389,
          576.3738512419105,
          419.7820090914246,
          825.2385038996421,
          291.6206365834133,
          405.92839118280784,
          835.3821237448202,
          702.277201164219,
          1309.2785633511153,
          410.835991013075,
          259.68985710945424,
          783.8082512658289,
          404.23882539199127,
          1074.3651532260435,
          143.0617569290273,
          639.2094453361456,
          406.42773038215967,
          914.9531157519845,
          503.8954093358506,
          575.389107954436,
          284.21818880923297,
          344.02313678649665,
          89.57949822591905,
          391.2375344506235,
          1028.0061279030704,
          862.3549802249413,
          1671.9206184624247,
          1075.1984685046643,
          1662.726240365401,
          469.4585329518814,
          297.7502458872492,
          649.0991558446115,
          842.5756337576312,
          497.5406104244327,
          1212.2216077068094,
          784.6546868118381,
          303.106423438976,
          351.3799021506579,
          981.7145875576336,
          35.06139398862029,
          388.08003325829304,
          770.9278657206092,
          1171.3844549260168,
          471.6999059485861,
          528.9173802794729,
          301.68734400453286,
          874.1018786910632,
          1384.3054344655689,
          679.0879212208301,
          809.9448908184264,
          286.6825822559432,
          694.2971667218993,
          1289.0417289106251,
          929.8756436791346,
          557.1644878218654,
          892.2437032331906,
          1409.5469668724809,
          371.3775914439778,
          700.9785707387836,
          435.6308993831408,
          365.80514056097553,
          679.9035400678605,
          1031.3208659035347,
          1029.57535468814,
          355.11474275241824,
          630.4747745211114,
          513.227042996645,
          1130.8245113364394,
          558.3894324212293,
          1002.30955024198,
          502.2451538404194,
          489.8276972429593,
          626.2655096229885,
          93.7792291661388,
          380.9108652237542,
          601.0168156609751,
          282.89699828956014,
          219.54299954784685,
          683.4323401314331,
          211.55452496564175,
          684.3272391952121,
          633.8656899513373,
          492.4591607261773,
          934.1233621771976,
          1020.987843799002,
          1013.1133640481712,
          849.4548676591462,
          384.1743532955767,
          585.5159804484063,
          524.6080948683215,
          629.0936183746094,
          260.46646199109995,
          420.4171562260134,
          1346.3516177106403,
          876.1330060513365,
          570.605939404904,
          462.0012385812976,
          1094.0036184436397,
          566.6059394049041,
          447.301694548688,
          222.90712145792597,
          104.01464778770251,
          607.6910984790119,
          242.77390023702037,
          1018.1164983253228,
          174.1761330130197,
          651.2166822028839,
          578.9337661559941,
          1099.8739232480436,
          462.84208672802305,
          717.3457737916788,
          758.0503618421599,
          534.9251378703718,
          999.0966742753932,
          689.6791380827159,
          1306.003842557404,
          711.5612613847367,
          535.738749698584,
          790.6444166378485,
          607.1898575300982,
          768.2511167987132,
          310.6863411889369,
          283.52992519544233,
          630.4926869668425,
          546.3720399229871,
          558.4278978541366,
          676.2763247490468,
          427.8459320655499,
          1101.406781893999,
          451.5038618460872,
          730.0696714391546,
          1108.259814656348,
          1075.097457375346,
          965.5620541401888,
          512.8521248737759,
          1446.7845610582667,
          362.8116660442259,
          1383.8436783382576,
          278.0598581212913,
          566.2934169735495,
          352.0585192955091,
          550.1652140865369,
          646.2166822028838,
          216.62217283529887,
          1037.557129752768,
          439.0527140673131,
          185.02694288582543,
          127.52442279202944,
          551.5045005474049,
          804.528875177975,
          790.6633058580651,
          476.8232921318308,
          685.675870372734,
          1126.6557710237366,
          498.9622580106285,
          590.1373479506202,
          348.95820522022603,
          326.5868597859925,
          1247.2198082973016,
          566.192470173006,
          297.2020152239527,
          643.1356535851737,
          517.3647227665037,
          292.06022418553414,
          547.8119354063189,
          1071.1228657002105,
          1125.0237466001213,
          592.289635895091,
          755.0570564447128,
          662.0737729942598,
          902.3149342375884,
          1186.9468529849405,
          607.197642337094,
          726.3489190885209,
          573.1168719334516,
          1252.728305478564,
          894.3952035332,
          729.7039934060001,
          252.1382381251609,
          230.06985643232213,
          891.0197307552506,
          395.47158508728745,
          1122.0570007945923,
          1095.8255004027928,
          1248.7612265346345,
          582.4563266437717,
          527.7445762354075,
          1119.9233992549243,
          253.49457522403964,
          906.0472409007456,
          873.0966528047687,
          769.8246761786658,
          220.7523244227379,
          820.5554872531005,
          407.59521942326063,
          283.2467570952085,
          631.0510442150293,
          1099.1603713108268,
          1230.4820515193114,
          477.1136609931022,
          665.8599374969845,
          156.1710478569335,
          968.9457975199904,
          309.170530848947,
          665.8956449989771,
          1413.699020031363,
          813.7604741471048,
          941.1291508343998,
          1476.4742987994996,
          941.6500457505592,
          964.9827634689634,
          135.66369253840438,
          899.5679601728307,
          264.7404070332149,
          870.1329120257209,
          760.2956546799153,
          945.9100417031236,
          948.7974180255528,
          1431.5988634319183,
          684.1857521837227,
          307.39688695312145,
          316.95584342662085,
          1285.1413825522902,
          350.6847828061791,
          542.7849870464745,
          815.1853852693438,
          1447.655890046921,
          548.6676329711794,
          416.2118100829604,
          451.3924838974225,
          1203.8347762502788,
          474.29396702691423,
          906.1683378549124,
          263.38150377072884,
          979.5849737253044,
          336.0748996548373,
          926.9165006196736,
          266.1410340318074,
          472.6983341908494,
          646.9810798755046,
          834.0193252131489,
          815.2050072063593,
          156.32058642575467,
          579.9658112625143,
          911.3192085924776,
          523.3755159389312,
          713.5387785571529,
          472.66459181614175,
          403.94817124808776,
          398.5353943754878,
          502.3761045169052,
          894.1481918571958,
          902.3967763739248,
          1362.5862514254009,
          445.34272576308126,
          941.8894280761476,
          1384.8404200766536,
          805.6443554979896,
          498.9786054302784,
          103.23098268032228,
          951.8040547523632,
          663.158326021262,
          1184.503315116595,
          1200.7000946213984,
          1216.5156251242788,
          1093.3809022557866,
          414.8664113623562,
          668.4356489939471,
          1034.6024003617806,
          953.5987315539724,
          313.2557528676839,
          688.990980596612,
          402.9857257388615,
          456.2846528120546,
          422.4418969105164,
          696.4584868748468,
          1140.007882246999,
          329.1610659820176,
          578.1439954565993,
          1054.0317322894753,
          1369.0905619158902,
          64.27793097483524,
          1027.179083250142,
          513.2485282988569,
          907.2594671692392,
          672.5097296076208,
          880.8851269680121,
          426.9324997887675,
          749.7259898766752,
          1351.3743856607125,
          468.5501340263287,
          580.8854958010583,
          321.88548674218765,
          1027.9138488854285,
          1131.940308804644,
          1025.0193174012454,
          58,
          667.0947189442646,
          1000.5999825152164,
          1084.5695670120672,
          795.6820434540797,
          451.214407226472,
          353.65990399546155,
          616.335838847091,
          473.58536344623127,
          643.4262898615415,
          359.04358214983137,
          996.928735284814,
          317.3241659524457,
          565.6038193959355,
          539.4447945489236,
          1068.305769128744,
          515.1470091562182,
          803.5686315861201,
          330.09780984827137,
          810.2937617762396,
          528.0965750172644,
          647.0494331069514,
          219.5128819073926,
          821.0665460493635,
          507.8549477621768,
          1098.013336850672,
          783.5892786343044,
          726.2608026586753,
          572.7662553369746,
          725.6785399542862,
          708.2529993051123,
          300.81692104857575,
          985.5959810009716,
          487.5630347364688,
          671.4745134783159,
          796.1629109691996,
          318.20156003747087,
          455.7327263355815,
          660.3841302785556,
          526.6048403884491,
          801.9086926143272,
          1158.1707742632536,
          1203.2187284838226,
          879.9206284160656,
          128.919684538544,
          255.86732816458755,
          856.4966120190758,
          483.10799415501407,
          910.5763182510524,
          852.1658068370504,
          785.0484753592324,
          322.323372337454,
          1054.708236793328,
          1005.5135079061256,
          1028.5771770125991,
          139.89342114105557,
          283.2438592039191,
          694.6021582046693,
          586.5103150202975,
          354.2766641820712,
          781.5129837125126,
          550.1268535365518,
          1195.7782672034746,
          106.40620687739316,
          415.9925013399086,
          1148.8034935032235,
          789.7243891730828,
          929.6076244782269,
          737.8041102661554,
          266.1573917227327,
          769.1983929800646,
          382.9850399973725,
          557.2860541028068,
          790.6886591020381,
          944.039748358181,
          404.9710779511588,
          912.070383368411,
          913.8957066576908,
          163.55279339565334,
          853.4574678381783,
          515.5134801782334,
          1123.3097902424322,
          546.1493499439013,
          584.6930845761613,
          961.7233960674564,
          314.6554447774625,
          1146.4016444640376,
          751.0836119423528,
          1096.8563363478231,
          690.8779897536325,
          1030.9093230988717,
          1707.376540652972,
          1340.1269658860656,
          355.27566688695373,
          620.6289283498221,
          1092.4864671753774,
          696.0361834966216,
          742.1065274910521,
          1083.4177867803446,
          377.0747455887142,
          511.0490520651429,
          493.6064431773597,
          382.6909137493687,
          1035.0046251891645,
          443.3460824574985,
          224.29788705001033,
          253.44812008925533,
          1019.8070741274188,
          937.1132186996256,
          1006.5399178990696,
          529.2596077728405,
          461.08997972579624,
          722.6708195249173,
          433.352476659887,
          588.2947881447792,
          467.42647967716965,
          1285.4833180947758,
          398.9710779511589,
          403.1403062622705,
          902.235025649542,
          575.6294719097823,
          395.2111492823123,
          911.0115296993988,
          397.06466188095976,
          291.69496835976435,
          1173.857326969163,
          352.2424177353704,
          530.6627454690159,
          578.0451574320451,
          891.3338710989681,
          955.6868555150288,
          363.2815474162533,
          1000.4090626439462,
          655.6804886228049,
          385.9769658313049,
          825.9213954027784,
          518.2735643335866,
          1085.6080772701928,
          518.7514657886744,
          642.1515889251757,
          1281.7263833746474,
          890.4919756818654,
          260.8841466481723,
          1414.334927686201,
          818.4184901694919,
          282.19937490806194,
          892.6956307426595,
          903.6253253050024,
          98.6017921972316,
          695.4587307377393,
          637.8487633790621,
          303.00122507333003,
          891.8197618396946,
          652.4544810797163,
          1109.8351922907511,
          40.671034463057104,
          939.69068998001,
          557.6730103519732,
          895.1704891468415,
          975.3207831682688,
          1022.1834921368442,
          227.77661841421016,
          849.2456844813132,
          1227.827348827233,
          1265.8095495903112,
          392.4961191275538,
          1318.7466469366384,
          879.5653678735154,
          682.2735597411408,
          635.2736466933019,
          1187.5747234000664,
          325.5993224468667,
          898.5327162116987,
          389.3729202401019,
          397.73235938432526,
          584.6101804904074,
          652.7738976432676,
          296.6640795600689,
          701.5491068521926,
          147.85263754543286,
          982.2349059947936,
          697.5718798669932,
          259.67965837655686,
          1040.8871218642455,
          907.387502169524,
          662.2874156146992,
          316.7670432438673,
          842.0643408759729,
          962.8381661264934,
          963.3589065541776,
          1147.8025727711042,
          647.2850253679019,
          677.7581082452708,
          1061.013735457254,
          137.64737584844357,
          744.3508700863298,
          597.6955104275896,
          647.2533799640017,
          250.56810563069448,
          137.51770940319489,
          795.4227792424292,
          507.4839272222681,
          542.6677364511717,
          193.97752353949224,
          602.1046182120276,
          536.7595690452015,
          786.0839169685988,
          500.2977111302938,
          649.1183289461125,
          417.2118100829604,
          715.9777185243012,
          1068.589872370872,
          539.8318493224938,
          491.9486493151155,
          428.6757194003393,
          568.0377936809936,
          1118.523696684174,
          1124.6437571427443,
          1407.6602886490764,
          689.342297974226,
          740.4110445205903,
          901.916860252784,
          454.45883819146025,
          1060.6476368652209,
          609.6419984605117,
          626.0613051774699,
          304.7069310172286,
          814.639472621438,
          449.63290369291343,
          300.703787110121,
          986.6442984390864,
          652.0264902860007,
          1321.1062051519714,
          1008.6901245958222,
          711.2594971455062,
          451.2782765564959,
          317.64199945095794,
          1142.5795376809324,
          917.6578262314166,
          724.4221484787079,
          697.6649903450676,
          765.5824336344882,
          691.8880319110799,
          467.7589229772027,
          277.3882381251609
         ],
         "xaxis": "x",
         "yaxis": "y"
        },
        {
         "alignmentgroup": "True",
         "bingroup": "x",
         "hovertemplate": "Top 10=False<br>molecular_complexity=%{x}<br>count=%{y}<extra></extra>",
         "legendgroup": "False",
         "marker": {
          "color": "rgb(152, 146, 186)",
          "line": {
           "color": "DarkSlateGrey",
           "width": 0.2
          },
          "opacity": 0.5,
          "pattern": {
           "shape": ""
          }
         },
         "name": "False",
         "nbinsx": 30,
         "offsetgroup": "False",
         "opacity": 1,
         "orientation": "v",
         "showlegend": true,
         "type": "histogram",
         "x": [
          1040.9698320049329,
          1645.4503569054934,
          920.795305912841,
          1460.772072172928,
          1010.561349611933,
          634.6413106733855,
          754.0050253466031,
          1477.50054583751,
          485.2323586640967,
          420.1285697756128,
          1120.1605833543313,
          1130.5954219485975,
          1364.6817115095266,
          1491.0410935037005,
          721.3565486547941,
          1068.1344716198591,
          619.5214865919598,
          1204.1666067078029,
          1308.3687455534557,
          1127.4107682095066,
          834.0535845764279,
          850.1923725978387,
          1241.7132352949106,
          1006.4462017422994,
          383.9238199322565,
          996.774107534609,
          1412.85191147024,
          973.0001453716792,
          625.8712510142407,
          889.2062033939401,
          1084.625599080999,
          358.5704301640317,
          1046.3865834393491,
          1095.3599891962829,
          506.6352732948717,
          690.3586940928477,
          886.2116306482009,
          1098.515486545336,
          1102.026559010425,
          981.915435308735,
          1546.8421806731683,
          1370.3332275506973,
          922.9323808979908,
          719.7961927128348,
          1414.7452949519948,
          979.2032769841272,
          1315.6063436683378,
          1280.9546798712695,
          1114.610354991227,
          792.5514037601564,
          270.4992626103369,
          829.1956034735972,
          647.1822768546679,
          930.1371902461912,
          627.2923747165826,
          1100.6668994797249,
          705.0130176156014,
          830.9613259736622,
          1370.5975582073795,
          1091.0398076010074,
          607.094786815807,
          1185.504432585902,
          860.4164741337664,
          1235.9427550858643,
          1098.251821827516,
          373.6138240144492,
          902.3052187354378,
          1107.757568138525,
          894.899615898138,
          1109.2580338295422,
          486.5586059366732,
          1230.3267712541624,
          949.4773525825948,
          375.86536060970866,
          1150.7629305382654,
          1201.879571432483,
          292.47357154412316,
          1043.648170158034,
          658.5381990937202,
          1561.701123093437,
          1234.460564890264,
          982.501455831049,
          673.4778547583704,
          994.0680192999836,
          1166.4476987565365,
          804.3219335022271,
          868.6498501663026,
          991.7074876546023,
          563.8949424072244,
          1393.170035153977,
          823.0074248445177,
          538.1922662571395,
          1087.7311119679284,
          1089.047918048498,
          779.4205369741054,
          994.1303531638546,
          1281.4233553964752,
          817.2705533492613,
          715.1057446974716,
          848.4272243160995,
          318.09227258016466,
          734.7426427263267,
          425.7557415693456,
          1183.0262866367138,
          865.8142141939265,
          1031.3995480945448,
          897.6807955374186,
          1052.3652353959023,
          979.901691315795,
          697.3956575094135,
          797.7345113271242
         ],
         "xaxis": "x",
         "yaxis": "y"
        }
       ],
       "layout": {
        "barmode": "overlay",
        "font": {
         "family": "CMU Sans Serif"
        },
        "height": 250,
        "legend": {
         "title": {
          "text": "Top 10"
         },
         "tracegroupgap": 0
        },
        "margin": {
         "b": 0,
         "l": 0,
         "r": 0,
         "t": 0
        },
        "plot_bgcolor": "white",
        "template": {
         "data": {
          "bar": [
           {
            "error_x": {
             "color": "#2a3f5f"
            },
            "error_y": {
             "color": "#2a3f5f"
            },
            "marker": {
             "line": {
              "color": "#E5ECF6",
              "width": 0.5
             },
             "pattern": {
              "fillmode": "overlay",
              "size": 10,
              "solidity": 0.2
             }
            },
            "type": "bar"
           }
          ],
          "barpolar": [
           {
            "marker": {
             "line": {
              "color": "#E5ECF6",
              "width": 0.5
             },
             "pattern": {
              "fillmode": "overlay",
              "size": 10,
              "solidity": 0.2
             }
            },
            "type": "barpolar"
           }
          ],
          "carpet": [
           {
            "aaxis": {
             "endlinecolor": "#2a3f5f",
             "gridcolor": "white",
             "linecolor": "white",
             "minorgridcolor": "white",
             "startlinecolor": "#2a3f5f"
            },
            "baxis": {
             "endlinecolor": "#2a3f5f",
             "gridcolor": "white",
             "linecolor": "white",
             "minorgridcolor": "white",
             "startlinecolor": "#2a3f5f"
            },
            "type": "carpet"
           }
          ],
          "choropleth": [
           {
            "colorbar": {
             "outlinewidth": 0,
             "ticks": ""
            },
            "type": "choropleth"
           }
          ],
          "contour": [
           {
            "colorbar": {
             "outlinewidth": 0,
             "ticks": ""
            },
            "colorscale": [
             [
              0,
              "#0d0887"
             ],
             [
              0.1111111111111111,
              "#46039f"
             ],
             [
              0.2222222222222222,
              "#7201a8"
             ],
             [
              0.3333333333333333,
              "#9c179e"
             ],
             [
              0.4444444444444444,
              "#bd3786"
             ],
             [
              0.5555555555555556,
              "#d8576b"
             ],
             [
              0.6666666666666666,
              "#ed7953"
             ],
             [
              0.7777777777777778,
              "#fb9f3a"
             ],
             [
              0.8888888888888888,
              "#fdca26"
             ],
             [
              1,
              "#f0f921"
             ]
            ],
            "type": "contour"
           }
          ],
          "contourcarpet": [
           {
            "colorbar": {
             "outlinewidth": 0,
             "ticks": ""
            },
            "type": "contourcarpet"
           }
          ],
          "heatmap": [
           {
            "colorbar": {
             "outlinewidth": 0,
             "ticks": ""
            },
            "colorscale": [
             [
              0,
              "#0d0887"
             ],
             [
              0.1111111111111111,
              "#46039f"
             ],
             [
              0.2222222222222222,
              "#7201a8"
             ],
             [
              0.3333333333333333,
              "#9c179e"
             ],
             [
              0.4444444444444444,
              "#bd3786"
             ],
             [
              0.5555555555555556,
              "#d8576b"
             ],
             [
              0.6666666666666666,
              "#ed7953"
             ],
             [
              0.7777777777777778,
              "#fb9f3a"
             ],
             [
              0.8888888888888888,
              "#fdca26"
             ],
             [
              1,
              "#f0f921"
             ]
            ],
            "type": "heatmap"
           }
          ],
          "heatmapgl": [
           {
            "colorbar": {
             "outlinewidth": 0,
             "ticks": ""
            },
            "colorscale": [
             [
              0,
              "#0d0887"
             ],
             [
              0.1111111111111111,
              "#46039f"
             ],
             [
              0.2222222222222222,
              "#7201a8"
             ],
             [
              0.3333333333333333,
              "#9c179e"
             ],
             [
              0.4444444444444444,
              "#bd3786"
             ],
             [
              0.5555555555555556,
              "#d8576b"
             ],
             [
              0.6666666666666666,
              "#ed7953"
             ],
             [
              0.7777777777777778,
              "#fb9f3a"
             ],
             [
              0.8888888888888888,
              "#fdca26"
             ],
             [
              1,
              "#f0f921"
             ]
            ],
            "type": "heatmapgl"
           }
          ],
          "histogram": [
           {
            "marker": {
             "pattern": {
              "fillmode": "overlay",
              "size": 10,
              "solidity": 0.2
             }
            },
            "type": "histogram"
           }
          ],
          "histogram2d": [
           {
            "colorbar": {
             "outlinewidth": 0,
             "ticks": ""
            },
            "colorscale": [
             [
              0,
              "#0d0887"
             ],
             [
              0.1111111111111111,
              "#46039f"
             ],
             [
              0.2222222222222222,
              "#7201a8"
             ],
             [
              0.3333333333333333,
              "#9c179e"
             ],
             [
              0.4444444444444444,
              "#bd3786"
             ],
             [
              0.5555555555555556,
              "#d8576b"
             ],
             [
              0.6666666666666666,
              "#ed7953"
             ],
             [
              0.7777777777777778,
              "#fb9f3a"
             ],
             [
              0.8888888888888888,
              "#fdca26"
             ],
             [
              1,
              "#f0f921"
             ]
            ],
            "type": "histogram2d"
           }
          ],
          "histogram2dcontour": [
           {
            "colorbar": {
             "outlinewidth": 0,
             "ticks": ""
            },
            "colorscale": [
             [
              0,
              "#0d0887"
             ],
             [
              0.1111111111111111,
              "#46039f"
             ],
             [
              0.2222222222222222,
              "#7201a8"
             ],
             [
              0.3333333333333333,
              "#9c179e"
             ],
             [
              0.4444444444444444,
              "#bd3786"
             ],
             [
              0.5555555555555556,
              "#d8576b"
             ],
             [
              0.6666666666666666,
              "#ed7953"
             ],
             [
              0.7777777777777778,
              "#fb9f3a"
             ],
             [
              0.8888888888888888,
              "#fdca26"
             ],
             [
              1,
              "#f0f921"
             ]
            ],
            "type": "histogram2dcontour"
           }
          ],
          "mesh3d": [
           {
            "colorbar": {
             "outlinewidth": 0,
             "ticks": ""
            },
            "type": "mesh3d"
           }
          ],
          "parcoords": [
           {
            "line": {
             "colorbar": {
              "outlinewidth": 0,
              "ticks": ""
             }
            },
            "type": "parcoords"
           }
          ],
          "pie": [
           {
            "automargin": true,
            "type": "pie"
           }
          ],
          "scatter": [
           {
            "fillpattern": {
             "fillmode": "overlay",
             "size": 10,
             "solidity": 0.2
            },
            "type": "scatter"
           }
          ],
          "scatter3d": [
           {
            "line": {
             "colorbar": {
              "outlinewidth": 0,
              "ticks": ""
             }
            },
            "marker": {
             "colorbar": {
              "outlinewidth": 0,
              "ticks": ""
             }
            },
            "type": "scatter3d"
           }
          ],
          "scattercarpet": [
           {
            "marker": {
             "colorbar": {
              "outlinewidth": 0,
              "ticks": ""
             }
            },
            "type": "scattercarpet"
           }
          ],
          "scattergeo": [
           {
            "marker": {
             "colorbar": {
              "outlinewidth": 0,
              "ticks": ""
             }
            },
            "type": "scattergeo"
           }
          ],
          "scattergl": [
           {
            "marker": {
             "colorbar": {
              "outlinewidth": 0,
              "ticks": ""
             }
            },
            "type": "scattergl"
           }
          ],
          "scattermapbox": [
           {
            "marker": {
             "colorbar": {
              "outlinewidth": 0,
              "ticks": ""
             }
            },
            "type": "scattermapbox"
           }
          ],
          "scatterpolar": [
           {
            "marker": {
             "colorbar": {
              "outlinewidth": 0,
              "ticks": ""
             }
            },
            "type": "scatterpolar"
           }
          ],
          "scatterpolargl": [
           {
            "marker": {
             "colorbar": {
              "outlinewidth": 0,
              "ticks": ""
             }
            },
            "type": "scatterpolargl"
           }
          ],
          "scatterternary": [
           {
            "marker": {
             "colorbar": {
              "outlinewidth": 0,
              "ticks": ""
             }
            },
            "type": "scatterternary"
           }
          ],
          "surface": [
           {
            "colorbar": {
             "outlinewidth": 0,
             "ticks": ""
            },
            "colorscale": [
             [
              0,
              "#0d0887"
             ],
             [
              0.1111111111111111,
              "#46039f"
             ],
             [
              0.2222222222222222,
              "#7201a8"
             ],
             [
              0.3333333333333333,
              "#9c179e"
             ],
             [
              0.4444444444444444,
              "#bd3786"
             ],
             [
              0.5555555555555556,
              "#d8576b"
             ],
             [
              0.6666666666666666,
              "#ed7953"
             ],
             [
              0.7777777777777778,
              "#fb9f3a"
             ],
             [
              0.8888888888888888,
              "#fdca26"
             ],
             [
              1,
              "#f0f921"
             ]
            ],
            "type": "surface"
           }
          ],
          "table": [
           {
            "cells": {
             "fill": {
              "color": "#EBF0F8"
             },
             "line": {
              "color": "white"
             }
            },
            "header": {
             "fill": {
              "color": "#C8D4E3"
             },
             "line": {
              "color": "white"
             }
            },
            "type": "table"
           }
          ]
         },
         "layout": {
          "annotationdefaults": {
           "arrowcolor": "#2a3f5f",
           "arrowhead": 0,
           "arrowwidth": 1
          },
          "autotypenumbers": "strict",
          "coloraxis": {
           "colorbar": {
            "outlinewidth": 0,
            "ticks": ""
           }
          },
          "colorscale": {
           "diverging": [
            [
             0,
             "#8e0152"
            ],
            [
             0.1,
             "#c51b7d"
            ],
            [
             0.2,
             "#de77ae"
            ],
            [
             0.3,
             "#f1b6da"
            ],
            [
             0.4,
             "#fde0ef"
            ],
            [
             0.5,
             "#f7f7f7"
            ],
            [
             0.6,
             "#e6f5d0"
            ],
            [
             0.7,
             "#b8e186"
            ],
            [
             0.8,
             "#7fbc41"
            ],
            [
             0.9,
             "#4d9221"
            ],
            [
             1,
             "#276419"
            ]
           ],
           "sequential": [
            [
             0,
             "#0d0887"
            ],
            [
             0.1111111111111111,
             "#46039f"
            ],
            [
             0.2222222222222222,
             "#7201a8"
            ],
            [
             0.3333333333333333,
             "#9c179e"
            ],
            [
             0.4444444444444444,
             "#bd3786"
            ],
            [
             0.5555555555555556,
             "#d8576b"
            ],
            [
             0.6666666666666666,
             "#ed7953"
            ],
            [
             0.7777777777777778,
             "#fb9f3a"
            ],
            [
             0.8888888888888888,
             "#fdca26"
            ],
            [
             1,
             "#f0f921"
            ]
           ],
           "sequentialminus": [
            [
             0,
             "#0d0887"
            ],
            [
             0.1111111111111111,
             "#46039f"
            ],
            [
             0.2222222222222222,
             "#7201a8"
            ],
            [
             0.3333333333333333,
             "#9c179e"
            ],
            [
             0.4444444444444444,
             "#bd3786"
            ],
            [
             0.5555555555555556,
             "#d8576b"
            ],
            [
             0.6666666666666666,
             "#ed7953"
            ],
            [
             0.7777777777777778,
             "#fb9f3a"
            ],
            [
             0.8888888888888888,
             "#fdca26"
            ],
            [
             1,
             "#f0f921"
            ]
           ]
          },
          "colorway": [
           "#636efa",
           "#EF553B",
           "#00cc96",
           "#ab63fa",
           "#FFA15A",
           "#19d3f3",
           "#FF6692",
           "#B6E880",
           "#FF97FF",
           "#FECB52"
          ],
          "font": {
           "color": "#2a3f5f"
          },
          "geo": {
           "bgcolor": "white",
           "lakecolor": "white",
           "landcolor": "#E5ECF6",
           "showlakes": true,
           "showland": true,
           "subunitcolor": "white"
          },
          "hoverlabel": {
           "align": "left"
          },
          "hovermode": "closest",
          "mapbox": {
           "style": "light"
          },
          "paper_bgcolor": "white",
          "plot_bgcolor": "#E5ECF6",
          "polar": {
           "angularaxis": {
            "gridcolor": "white",
            "linecolor": "white",
            "ticks": ""
           },
           "bgcolor": "#E5ECF6",
           "radialaxis": {
            "gridcolor": "white",
            "linecolor": "white",
            "ticks": ""
           }
          },
          "scene": {
           "xaxis": {
            "backgroundcolor": "#E5ECF6",
            "gridcolor": "white",
            "gridwidth": 2,
            "linecolor": "white",
            "showbackground": true,
            "ticks": "",
            "zerolinecolor": "white"
           },
           "yaxis": {
            "backgroundcolor": "#E5ECF6",
            "gridcolor": "white",
            "gridwidth": 2,
            "linecolor": "white",
            "showbackground": true,
            "ticks": "",
            "zerolinecolor": "white"
           },
           "zaxis": {
            "backgroundcolor": "#E5ECF6",
            "gridcolor": "white",
            "gridwidth": 2,
            "linecolor": "white",
            "showbackground": true,
            "ticks": "",
            "zerolinecolor": "white"
           }
          },
          "shapedefaults": {
           "line": {
            "color": "#2a3f5f"
           }
          },
          "ternary": {
           "aaxis": {
            "gridcolor": "white",
            "linecolor": "white",
            "ticks": ""
           },
           "baxis": {
            "gridcolor": "white",
            "linecolor": "white",
            "ticks": ""
           },
           "bgcolor": "#E5ECF6",
           "caxis": {
            "gridcolor": "white",
            "linecolor": "white",
            "ticks": ""
           }
          },
          "title": {
           "x": 0.05
          },
          "xaxis": {
           "automargin": true,
           "gridcolor": "white",
           "linecolor": "white",
           "ticks": "",
           "title": {
            "standoff": 15
           },
           "zerolinecolor": "white",
           "zerolinewidth": 2
          },
          "yaxis": {
           "automargin": true,
           "gridcolor": "white",
           "linecolor": "white",
           "ticks": "",
           "title": {
            "standoff": 15
           },
           "zerolinecolor": "white",
           "zerolinewidth": 2
          }
         }
        },
        "width": 404.508497175,
        "xaxis": {
         "anchor": "y",
         "domain": [
          0,
          1
         ],
         "showgrid": false,
         "showline": false,
         "tickcolor": "rgb(120, 120, 120)",
         "ticklen": 5,
         "ticks": "outside",
         "tickwidth": 1,
         "title": {
          "text": "Bertz complexity"
         },
         "zeroline": false
        },
        "yaxis": {
         "anchor": "x",
         "domain": [
          0,
          1
         ],
         "gridcolor": "rgba(173, 216, 230, 0.3)",
         "gridwidth": 1,
         "showgrid": false,
         "showline": false,
         "tickcolor": "rgb(120, 120, 120)",
         "ticklen": 5,
         "ticks": "outside",
         "tickwidth": 1,
         "title": {
          "text": "count"
         },
         "zeroline": false
        }
       }
      }
     },
     "metadata": {},
     "output_type": "display_data"
    },
    {
     "name": "stderr",
     "output_type": "stream",
     "text": [
      "\u001b[32m2024-11-12 11:05:42.969\u001b[0m | \u001b[1mINFO    \u001b[0m | \u001b[36m__main__\u001b[0m:\u001b[36mplot_distr_of_scores_when_correct_vs_not_correct\u001b[0m:\u001b[36m74\u001b[0m - \u001b[1m728.3674094826654\u001b[0m\n"
     ]
    },
    {
     "data": {
      "application/vnd.plotly.v1+json": {
       "config": {
        "plotlyServerURL": "https://plot.ly"
       },
       "data": [
        {
         "alignmentgroup": "True",
         "bingroup": "x",
         "hovertemplate": "Found=True<br>molecular_complexity=%{x}<br>count=%{y}<extra></extra>",
         "legendgroup": "True",
         "marker": {
          "color": "rgb(152, 86, 86)",
          "line": {
           "color": "DarkSlateGrey",
           "width": 0.2
          },
          "opacity": 0.5,
          "pattern": {
           "shape": ""
          }
         },
         "name": "True",
         "nbinsx": 30,
         "offsetgroup": "True",
         "opacity": 1,
         "orientation": "v",
         "showlegend": true,
         "type": "histogram",
         "x": [
          491.62066865134767,
          580.9107655461082,
          514.4249890908638,
          425.4668303994675,
          829.2300280733625,
          1110.6697674976117,
          308.7477157867921,
          889.8687669010689,
          1121.01293623976,
          912.4822090970408,
          262.00327665119903,
          449.62722164508494,
          1100.5135478635586,
          622.8188198685896,
          594.2162401969236,
          913.2636625772705,
          779.3693675394458,
          978.9597000554704,
          588.4308479210993,
          501.35730516388327,
          536.030418649458,
          467.5329934853649,
          792.4112140517699,
          1076.0732215431733,
          294.58005142145214,
          411.8805312579436,
          437.295448941794,
          1404.8599639960505,
          414.14170243798173,
          389.12536704115627,
          798.8488617578801,
          916.1095020022692,
          1645.4503569054934,
          482.1957975356598,
          866.5974994744281,
          1213.8185688010565,
          590.3978740145667,
          1379.5104421850724,
          448.9487052841436,
          860.9486568743597,
          235.04775799182192,
          673.5668192622804,
          103.57174002125652,
          999.8931308159232,
          1200.3304670956418,
          1000.7799674256346,
          538.6153754227819,
          643.0844693591861,
          693.2741160506625,
          763.5154522594863,
          960.8954735015668,
          387.43411358111575,
          1055.544858289374,
          1052.4479855089294,
          582.6862109768484,
          766.8071431912324,
          348.15625140819,
          406.73531581186137,
          337.3598482774644,
          1064.9354613851062,
          296.3349389236156,
          323.0007936149917,
          1267.3077878419028,
          706.392548056631,
          951.6725340573402,
          289.2526032889556,
          772.2892698753013,
          317.9642958168396,
          1010.8459782270628,
          801.5714335515272,
          614.9727970791702,
          1017.1020507410776,
          235.1849910090012,
          356.14378849709453,
          1097.1034927589264,
          1266.3036368981116,
          536.4243144663171,
          237.04775799182192,
          1119.2960317818715,
          812.615078883664,
          595.2403676077384,
          1284.7149188765563,
          476.6219889797812,
          465.97440034910335,
          754.38884913532,
          675.2186338750307,
          372.5503227966848,
          998.8220686535024,
          1090.0824847966214,
          485.2323586640967,
          213.41265043639197,
          720.7113917571904,
          1299.4442094736542,
          1049.8304997852808,
          653.4100414775911,
          956.0333456096332,
          734.1009242880399,
          1047.2366011772997,
          469.81020577969474,
          762.7167274976041,
          763.538424029911,
          1509.3690275255683,
          890.8416712599033,
          748.0611192961054,
          400.4089037414234,
          628.5568559110059,
          566.1264362570621,
          1281.2049127980351,
          1415.8541966219427,
          459.01040037182304,
          41.60964047443681,
          1319.9550020521344,
          718.9296030606654,
          978.187053747616,
          525.7047058585591,
          440.9899207282918,
          649.9369069327145,
          792.1431597285643,
          465.6137396214057,
          368.57484401695,
          252.02779400832603,
          779.745989107622,
          81.63191840205,
          1055.9248868744126,
          805.7027850188924,
          1114.3773460738123,
          935.5723608144036,
          1105.6137263054975,
          274.8980131294879,
          1131.4540426367455,
          230.57786591623355,
          991.8423295710786,
          257.4945752240396,
          1033.5962416517364,
          267.90565931309794,
          385.4530587502513,
          147.82350886146327,
          1007.6295128006362,
          1016.0844730293062,
          434.3296467381504,
          455.9805997740772,
          186.05372307956137,
          718.0600722936209,
          965.8285966171612,
          369.65266631474674,
          749.1222406940616,
          1037.4610151663971,
          1147.505624883263,
          464.7901362679072,
          253.03125589421745,
          817.5800647275189,
          370.7301135831744,
          326.85561870596365,
          1094.660296993756,
          658.0719347946833,
          209.7781739221536,
          228.9664533845619,
          1360.4675492236963,
          1326.8722764858069,
          699.7186702227497,
          405.79860546135353,
          1021.920315888696,
          1279.7429068922304,
          209.7781739221536,
          1056.454658655963,
          1127.1185756668438,
          578.4900902354271,
          500.04525782102615,
          898.1001098877524,
          290.4897943206525,
          508.628380635003,
          627.3354850466019,
          682.1837895274508,
          396.90214563698015,
          503.02174017887376,
          1264.0431279817765,
          451.5354737626094,
          1253.2447827646645,
          1182.150536105066,
          1120.428954819677,
          1231.236847277015,
          561.967701298815,
          447.6511707804897,
          1154.2228156191206,
          417.45231298264946,
          523.2068217496917,
          859.3493285725925,
          272.77916867903343,
          194.6260435051196,
          334.3847211971289,
          1279.2906166642156,
          657.5694230531814,
          995.8305022911828,
          701.2046929016038,
          249.30930073029745,
          1008.5733517117072,
          312.70138558440243,
          776.4300426717289,
          328.18689753098045,
          387.320023097217,
          567.6413666089501,
          1314.9035255360009,
          500.3741255270038,
          426.5018200090825,
          258.3796063606407,
          603.0777077670676,
          628.3990231475526,
          733.74637946666,
          1511.8092501327426,
          1200.5896637524422,
          729.7293200157983,
          1139.2896853707307,
          910.9540211592592,
          1293.6529323100508,
          356.7617244483167,
          856.4921900897778,
          548.2387397512872,
          650.6653796398543,
          476.6402186600015,
          665.0423031168627,
          726.8333019905402,
          704.3258303694996,
          1031.4777138222596,
          290.99535838508575,
          408.6986224710208,
          774.2764082567767,
          323.8980789080516,
          453.8887814334611,
          850.6884043923255,
          656.6269579378583,
          1280.7871083278385,
          698.9953058065239,
          525.3807012815957,
          920.2962289661256,
          1049.3192225448856,
          655.8720704356948,
          332.5529868353567,
          995.8572959919838,
          1182.0957555612963,
          709.3264955078729,
          850.3072259009255,
          1230.938065416393,
          430.0866066240907,
          835.3412001403408,
          999.4290832501416,
          488.65788418920374,
          1012.9838554028246,
          239.7250739951881,
          615.3871725464028,
          814.7161360986477,
          882.2118534308195,
          761.8842101047592,
          916.0170449876704,
          522.9768903137902,
          1072.763413078006,
          867.7072748752115,
          1394.3298288206877,
          750.9529913298634,
          838.4928643409173,
          1452.0093018459308,
          611.3872168952889,
          333.13265415394,
          712.9589182428551,
          465.0004402969103,
          804.8718783884727,
          464.8070987256584,
          944.11499056533,
          411.6767229032693,
          406.2308382366979,
          832.9661904023092,
          604.272617549191,
          717.1892222551064,
          137.99328661116542,
          395.5744368852867,
          1207.80938787074,
          186.9828401313287,
          780.4731692677506,
          520.5168526767102,
          613.7706203254762,
          607.8332962041516,
          1172.813348894891,
          225.16436636179583,
          679.1238705046104,
          848.3977622642395,
          386.2631390357507,
          436.4572907059942,
          762.3780264686237,
          701.1740824825704,
          364.2260085613387,
          1155.8130452052965,
          432.6235972256891,
          1071.404501402299,
          541.1351674028975,
          943.5167050762371,
          1176.799088727034,
          533.3789605177348,
          583.4431669758688,
          777.9572591581169,
          1298.1839561129057,
          783.2140094872503,
          526.5842516095686,
          843.4116990481858,
          631.6060864020177,
          956.3910630719566,
          1084.5047042892354,
          407.8207819124433,
          501.50238501043304,
          491.39047628592266,
          792.955844210918,
          1297.861648412514,
          568.403384874486,
          834.5822992448336,
          1042.7944767932463,
          630.7700671146332,
          713.382059123856,
          1230.7228755767055,
          347.6639128453302,
          453.65804614951674,
          1109.0418816693712,
          835.2099337158286,
          218.5871814239507,
          550.9382880837543,
          1209.4031578631138,
          749.8773718504262,
          706.3134947433754,
          460.48716735910085,
          1043.1466413361263,
          1018.15734452235,
          1011.2060530123769,
          244.36911753832655,
          869.0846344425426,
          661.2642365004298,
          493.37219945909385,
          1025.4613410053862,
          841.9949778301598,
          1208.0096624689472,
          939.7284081319176,
          322.8915159733637,
          731.4903182520695,
          559.1212374951486,
          916.5486596643004,
          408.95467038435584,
          511.57880775270854,
          1014.3314295235735,
          329.51589188262676,
          935.2499585724714,
          1149.8235384192385,
          958.641701619704,
          545.0371822548029,
          608.6910466738085,
          670.4492348804527,
          674.8183822455389,
          576.3738512419105,
          419.7820090914246,
          825.2385038996421,
          291.6206365834133,
          405.92839118280784,
          835.3821237448202,
          702.277201164219,
          1309.2785633511153,
          410.835991013075,
          1414.7452949519948,
          259.68985710945424,
          783.8082512658289,
          404.23882539199127,
          1074.3651532260435,
          143.0617569290273,
          639.2094453361456,
          406.42773038215967,
          914.9531157519845,
          1315.6063436683378,
          503.8954093358506,
          575.389107954436,
          284.21818880923297,
          344.02313678649665,
          89.57949822591905,
          391.2375344506235,
          1028.0061279030704,
          862.3549802249413,
          1671.9206184624247,
          1075.1984685046643,
          1662.726240365401,
          469.4585329518814,
          297.7502458872492,
          649.0991558446115,
          842.5756337576312,
          497.5406104244327,
          1212.2216077068094,
          784.6546868118381,
          303.106423438976,
          351.3799021506579,
          981.7145875576336,
          35.06139398862029,
          388.08003325829304,
          770.9278657206092,
          1171.3844549260168,
          471.6999059485861,
          528.9173802794729,
          301.68734400453286,
          874.1018786910632,
          1384.3054344655689,
          679.0879212208301,
          809.9448908184264,
          286.6825822559432,
          694.2971667218993,
          1289.0417289106251,
          929.8756436791346,
          557.1644878218654,
          892.2437032331906,
          1409.5469668724809,
          371.3775914439778,
          700.9785707387836,
          435.6308993831408,
          365.80514056097553,
          679.9035400678605,
          1031.3208659035347,
          270.4992626103369,
          1029.57535468814,
          355.11474275241824,
          630.4747745211114,
          829.1956034735972,
          513.227042996645,
          1130.8245113364394,
          558.3894324212293,
          1002.30955024198,
          502.2451538404194,
          489.8276972429593,
          626.2655096229885,
          93.7792291661388,
          380.9108652237542,
          705.0130176156014,
          601.0168156609751,
          282.89699828956014,
          219.54299954784685,
          683.4323401314331,
          211.55452496564175,
          684.3272391952121,
          633.8656899513373,
          492.4591607261773,
          934.1233621771976,
          1020.987843799002,
          1013.1133640481712,
          849.4548676591462,
          384.1743532955767,
          585.5159804484063,
          524.6080948683215,
          629.0936183746094,
          260.46646199109995,
          420.4171562260134,
          1346.3516177106403,
          876.1330060513365,
          570.605939404904,
          462.0012385812976,
          1094.0036184436397,
          566.6059394049041,
          447.301694548688,
          222.90712145792597,
          104.01464778770251,
          607.6910984790119,
          242.77390023702037,
          1018.1164983253228,
          174.1761330130197,
          651.2166822028839,
          578.9337661559941,
          1099.8739232480436,
          462.84208672802305,
          717.3457737916788,
          758.0503618421599,
          534.9251378703718,
          999.0966742753932,
          689.6791380827159,
          1306.003842557404,
          711.5612613847367,
          535.738749698584,
          790.6444166378485,
          607.1898575300982,
          768.2511167987132,
          310.6863411889369,
          283.52992519544233,
          630.4926869668425,
          546.3720399229871,
          558.4278978541366,
          676.2763247490468,
          427.8459320655499,
          1101.406781893999,
          451.5038618460872,
          730.0696714391546,
          1108.259814656348,
          1075.097457375346,
          965.5620541401888,
          512.8521248737759,
          1446.7845610582667,
          362.8116660442259,
          1383.8436783382576,
          278.0598581212913,
          566.2934169735495,
          352.0585192955091,
          550.1652140865369,
          646.2166822028838,
          216.62217283529887,
          1037.557129752768,
          439.0527140673131,
          185.02694288582543,
          127.52442279202944,
          551.5045005474049,
          804.528875177975,
          790.6633058580651,
          476.8232921318308,
          685.675870372734,
          1126.6557710237366,
          498.9622580106285,
          590.1373479506202,
          348.95820522022603,
          326.5868597859925,
          1247.2198082973016,
          566.192470173006,
          297.2020152239527,
          902.3052187354378,
          643.1356535851737,
          517.3647227665037,
          292.06022418553414,
          547.8119354063189,
          1071.1228657002105,
          1125.0237466001213,
          592.289635895091,
          755.0570564447128,
          662.0737729942598,
          902.3149342375884,
          1186.9468529849405,
          607.197642337094,
          726.3489190885209,
          573.1168719334516,
          1252.728305478564,
          894.3952035332,
          729.7039934060001,
          252.1382381251609,
          230.06985643232213,
          891.0197307552506,
          395.47158508728745,
          1122.0570007945923,
          1095.8255004027928,
          1248.7612265346345,
          582.4563266437717,
          527.7445762354075,
          1119.9233992549243,
          253.49457522403964,
          906.0472409007456,
          873.0966528047687,
          769.8246761786658,
          220.7523244227379,
          820.5554872531005,
          407.59521942326063,
          283.2467570952085,
          631.0510442150293,
          1099.1603713108268,
          1230.4820515193114,
          477.1136609931022,
          665.8599374969845,
          156.1710478569335,
          968.9457975199904,
          309.170530848947,
          665.8956449989771,
          1413.699020031363,
          813.7604741471048,
          941.1291508343998,
          1476.4742987994996,
          941.6500457505592,
          964.9827634689634,
          135.66369253840438,
          899.5679601728307,
          264.7404070332149,
          870.1329120257209,
          760.2956546799153,
          945.9100417031236,
          948.7974180255528,
          1431.5988634319183,
          684.1857521837227,
          307.39688695312145,
          316.95584342662085,
          1285.1413825522902,
          350.6847828061791,
          542.7849870464745,
          815.1853852693438,
          1447.655890046921,
          548.6676329711794,
          416.2118100829604,
          451.3924838974225,
          1203.8347762502788,
          474.29396702691423,
          906.1683378549124,
          263.38150377072884,
          979.5849737253044,
          336.0748996548373,
          926.9165006196736,
          266.1410340318074,
          472.6983341908494,
          646.9810798755046,
          834.0193252131489,
          815.2050072063593,
          156.32058642575467,
          579.9658112625143,
          911.3192085924776,
          523.3755159389312,
          713.5387785571529,
          472.66459181614175,
          403.94817124808776,
          398.5353943754878,
          502.3761045169052,
          894.1481918571958,
          902.3967763739248,
          1362.5862514254009,
          445.34272576308126,
          941.8894280761476,
          1384.8404200766536,
          805.6443554979896,
          498.9786054302784,
          103.23098268032228,
          951.8040547523632,
          663.158326021262,
          1184.503315116595,
          1200.7000946213984,
          1216.5156251242788,
          1093.3809022557866,
          414.8664113623562,
          668.4356489939471,
          1034.6024003617806,
          953.5987315539724,
          313.2557528676839,
          688.990980596612,
          402.9857257388615,
          456.2846528120546,
          422.4418969105164,
          696.4584868748468,
          1140.007882246999,
          329.1610659820176,
          578.1439954565993,
          1054.0317322894753,
          1369.0905619158902,
          64.27793097483524,
          1027.179083250142,
          513.2485282988569,
          907.2594671692392,
          672.5097296076208,
          880.8851269680121,
          426.9324997887675,
          749.7259898766752,
          1351.3743856607125,
          468.5501340263287,
          580.8854958010583,
          321.88548674218765,
          1027.9138488854285,
          1131.940308804644,
          1025.0193174012454,
          58,
          667.0947189442646,
          1000.5999825152164,
          1084.5695670120672,
          795.6820434540797,
          451.214407226472,
          353.65990399546155,
          616.335838847091,
          473.58536344623127,
          643.4262898615415,
          359.04358214983137,
          996.928735284814,
          317.3241659524457,
          565.6038193959355,
          539.4447945489236,
          1068.305769128744,
          515.1470091562182,
          803.5686315861201,
          330.09780984827137,
          810.2937617762396,
          528.0965750172644,
          647.0494331069514,
          219.5128819073926,
          821.0665460493635,
          507.8549477621768,
          1098.013336850672,
          783.5892786343044,
          726.2608026586753,
          572.7662553369746,
          725.6785399542862,
          708.2529993051123,
          300.81692104857575,
          985.5959810009716,
          487.5630347364688,
          671.4745134783159,
          796.1629109691996,
          318.20156003747087,
          455.7327263355815,
          660.3841302785556,
          526.6048403884491,
          801.9086926143272,
          1158.1707742632536,
          1203.2187284838226,
          879.9206284160656,
          128.919684538544,
          255.86732816458755,
          856.4966120190758,
          483.10799415501407,
          910.5763182510524,
          852.1658068370504,
          785.0484753592324,
          322.323372337454,
          1054.708236793328,
          1005.5135079061256,
          1028.5771770125991,
          139.89342114105557,
          283.2438592039191,
          694.6021582046693,
          586.5103150202975,
          354.2766641820712,
          781.5129837125126,
          550.1268535365518,
          1195.7782672034746,
          106.40620687739316,
          415.9925013399086,
          1148.8034935032235,
          789.7243891730828,
          929.6076244782269,
          737.8041102661554,
          266.1573917227327,
          769.1983929800646,
          382.9850399973725,
          557.2860541028068,
          790.6886591020381,
          944.039748358181,
          404.9710779511588,
          912.070383368411,
          913.8957066576908,
          163.55279339565334,
          853.4574678381783,
          515.5134801782334,
          1123.3097902424322,
          546.1493499439013,
          584.6930845761613,
          961.7233960674564,
          314.6554447774625,
          1146.4016444640376,
          751.0836119423528,
          1096.8563363478231,
          690.8779897536325,
          1030.9093230988717,
          1707.376540652972,
          1340.1269658860656,
          355.27566688695373,
          620.6289283498221,
          1092.4864671753774,
          696.0361834966216,
          742.1065274910521,
          1083.4177867803446,
          377.0747455887142,
          511.0490520651429,
          493.6064431773597,
          382.6909137493687,
          1035.0046251891645,
          443.3460824574985,
          224.29788705001033,
          253.44812008925533,
          1019.8070741274188,
          937.1132186996256,
          1006.5399178990696,
          529.2596077728405,
          461.08997972579624,
          722.6708195249173,
          433.352476659887,
          588.2947881447792,
          467.42647967716965,
          1285.4833180947758,
          398.9710779511589,
          403.1403062622705,
          902.235025649542,
          575.6294719097823,
          395.2111492823123,
          911.0115296993988,
          397.06466188095976,
          291.69496835976435,
          1173.857326969163,
          352.2424177353704,
          530.6627454690159,
          578.0451574320451,
          891.3338710989681,
          955.6868555150288,
          363.2815474162533,
          1000.4090626439462,
          655.6804886228049,
          385.9769658313049,
          825.9213954027784,
          518.2735643335866,
          1085.6080772701928,
          518.7514657886744,
          642.1515889251757,
          1281.7263833746474,
          890.4919756818654,
          260.8841466481723,
          1414.334927686201,
          818.4184901694919,
          282.19937490806194,
          892.6956307426595,
          903.6253253050024,
          98.6017921972316,
          695.4587307377393,
          637.8487633790621,
          303.00122507333003,
          891.8197618396946,
          652.4544810797163,
          1109.8351922907511,
          40.671034463057104,
          939.69068998001,
          557.6730103519732,
          895.1704891468415,
          425.7557415693456,
          975.3207831682688,
          1022.1834921368442,
          227.77661841421016,
          849.2456844813132,
          1227.827348827233,
          1265.8095495903112,
          392.4961191275538,
          1318.7466469366384,
          879.5653678735154,
          682.2735597411408,
          635.2736466933019,
          1187.5747234000664,
          325.5993224468667,
          898.5327162116987,
          389.3729202401019,
          397.73235938432526,
          584.6101804904074,
          652.7738976432676,
          296.6640795600689,
          701.5491068521926,
          147.85263754543286,
          982.2349059947936,
          697.5718798669932,
          259.67965837655686,
          1040.8871218642455,
          907.387502169524,
          662.2874156146992,
          316.7670432438673,
          842.0643408759729,
          962.8381661264934,
          963.3589065541776,
          1147.8025727711042,
          647.2850253679019,
          677.7581082452708,
          1061.013735457254,
          137.64737584844357,
          744.3508700863298,
          597.6955104275896,
          647.2533799640017,
          250.56810563069448,
          137.51770940319489,
          795.4227792424292,
          507.4839272222681,
          542.6677364511717,
          193.97752353949224,
          602.1046182120276,
          536.7595690452015,
          786.0839169685988,
          500.2977111302938,
          649.1183289461125,
          417.2118100829604,
          715.9777185243012,
          1068.589872370872,
          539.8318493224938,
          491.9486493151155,
          428.6757194003393,
          568.0377936809936,
          1118.523696684174,
          1124.6437571427443,
          1407.6602886490764,
          689.342297974226,
          740.4110445205903,
          901.916860252784,
          454.45883819146025,
          1060.6476368652209,
          609.6419984605117,
          626.0613051774699,
          304.7069310172286,
          814.639472621438,
          449.63290369291343,
          300.703787110121,
          986.6442984390864,
          652.0264902860007,
          1321.1062051519714,
          1008.6901245958222,
          711.2594971455062,
          451.2782765564959,
          317.64199945095794,
          1142.5795376809324,
          917.6578262314166,
          724.4221484787079,
          697.6649903450676,
          765.5824336344882,
          691.8880319110799,
          467.7589229772027,
          277.3882381251609
         ],
         "xaxis": "x",
         "yaxis": "y"
        },
        {
         "alignmentgroup": "True",
         "bingroup": "x",
         "hovertemplate": "Found=False<br>molecular_complexity=%{x}<br>count=%{y}<extra></extra>",
         "legendgroup": "False",
         "marker": {
          "color": "rgb(152, 146, 186)",
          "line": {
           "color": "DarkSlateGrey",
           "width": 0.2
          },
          "opacity": 0.5,
          "pattern": {
           "shape": ""
          }
         },
         "name": "False",
         "nbinsx": 30,
         "offsetgroup": "False",
         "opacity": 1,
         "orientation": "v",
         "showlegend": true,
         "type": "histogram",
         "x": [
          1040.9698320049329,
          920.795305912841,
          1460.772072172928,
          1010.561349611933,
          634.6413106733855,
          754.0050253466031,
          1477.50054583751,
          420.1285697756128,
          1120.1605833543313,
          1130.5954219485975,
          1364.6817115095266,
          1491.0410935037005,
          721.3565486547941,
          1068.1344716198591,
          619.5214865919598,
          1204.1666067078029,
          1308.3687455534557,
          1127.4107682095066,
          834.0535845764279,
          850.1923725978387,
          1241.7132352949106,
          1006.4462017422994,
          383.9238199322565,
          996.774107534609,
          1412.85191147024,
          973.0001453716792,
          625.8712510142407,
          889.2062033939401,
          1084.625599080999,
          358.5704301640317,
          1046.3865834393491,
          1095.3599891962829,
          506.6352732948717,
          690.3586940928477,
          886.2116306482009,
          1098.515486545336,
          1102.026559010425,
          981.915435308735,
          1546.8421806731683,
          1370.3332275506973,
          922.9323808979908,
          719.7961927128348,
          979.2032769841272,
          1280.9546798712695,
          1114.610354991227,
          792.5514037601564,
          647.1822768546679,
          930.1371902461912,
          627.2923747165826,
          1100.6668994797249,
          830.9613259736622,
          1370.5975582073795,
          1091.0398076010074,
          607.094786815807,
          1185.504432585902,
          860.4164741337664,
          1235.9427550858643,
          1098.251821827516,
          373.6138240144492,
          1107.757568138525,
          894.899615898138,
          1109.2580338295422,
          486.5586059366732,
          1230.3267712541624,
          949.4773525825948,
          375.86536060970866,
          1150.7629305382654,
          1201.879571432483,
          292.47357154412316,
          1043.648170158034,
          658.5381990937202,
          1561.701123093437,
          1234.460564890264,
          982.501455831049,
          673.4778547583704,
          994.0680192999836,
          1166.4476987565365,
          804.3219335022271,
          868.6498501663026,
          991.7074876546023,
          563.8949424072244,
          1393.170035153977,
          823.0074248445177,
          538.1922662571395,
          1087.7311119679284,
          1089.047918048498,
          779.4205369741054,
          994.1303531638546,
          1281.4233553964752,
          817.2705533492613,
          715.1057446974716,
          848.4272243160995,
          318.09227258016466,
          734.7426427263267,
          1183.0262866367138,
          865.8142141939265,
          1031.3995480945448,
          897.6807955374186,
          1052.3652353959023,
          979.901691315795,
          697.3956575094135,
          797.7345113271242
         ],
         "xaxis": "x",
         "yaxis": "y"
        }
       ],
       "layout": {
        "barmode": "overlay",
        "font": {
         "family": "CMU Sans Serif"
        },
        "height": 250,
        "legend": {
         "title": {
          "text": "Found"
         },
         "tracegroupgap": 0
        },
        "margin": {
         "b": 0,
         "l": 0,
         "r": 0,
         "t": 0
        },
        "plot_bgcolor": "white",
        "template": {
         "data": {
          "bar": [
           {
            "error_x": {
             "color": "#2a3f5f"
            },
            "error_y": {
             "color": "#2a3f5f"
            },
            "marker": {
             "line": {
              "color": "#E5ECF6",
              "width": 0.5
             },
             "pattern": {
              "fillmode": "overlay",
              "size": 10,
              "solidity": 0.2
             }
            },
            "type": "bar"
           }
          ],
          "barpolar": [
           {
            "marker": {
             "line": {
              "color": "#E5ECF6",
              "width": 0.5
             },
             "pattern": {
              "fillmode": "overlay",
              "size": 10,
              "solidity": 0.2
             }
            },
            "type": "barpolar"
           }
          ],
          "carpet": [
           {
            "aaxis": {
             "endlinecolor": "#2a3f5f",
             "gridcolor": "white",
             "linecolor": "white",
             "minorgridcolor": "white",
             "startlinecolor": "#2a3f5f"
            },
            "baxis": {
             "endlinecolor": "#2a3f5f",
             "gridcolor": "white",
             "linecolor": "white",
             "minorgridcolor": "white",
             "startlinecolor": "#2a3f5f"
            },
            "type": "carpet"
           }
          ],
          "choropleth": [
           {
            "colorbar": {
             "outlinewidth": 0,
             "ticks": ""
            },
            "type": "choropleth"
           }
          ],
          "contour": [
           {
            "colorbar": {
             "outlinewidth": 0,
             "ticks": ""
            },
            "colorscale": [
             [
              0,
              "#0d0887"
             ],
             [
              0.1111111111111111,
              "#46039f"
             ],
             [
              0.2222222222222222,
              "#7201a8"
             ],
             [
              0.3333333333333333,
              "#9c179e"
             ],
             [
              0.4444444444444444,
              "#bd3786"
             ],
             [
              0.5555555555555556,
              "#d8576b"
             ],
             [
              0.6666666666666666,
              "#ed7953"
             ],
             [
              0.7777777777777778,
              "#fb9f3a"
             ],
             [
              0.8888888888888888,
              "#fdca26"
             ],
             [
              1,
              "#f0f921"
             ]
            ],
            "type": "contour"
           }
          ],
          "contourcarpet": [
           {
            "colorbar": {
             "outlinewidth": 0,
             "ticks": ""
            },
            "type": "contourcarpet"
           }
          ],
          "heatmap": [
           {
            "colorbar": {
             "outlinewidth": 0,
             "ticks": ""
            },
            "colorscale": [
             [
              0,
              "#0d0887"
             ],
             [
              0.1111111111111111,
              "#46039f"
             ],
             [
              0.2222222222222222,
              "#7201a8"
             ],
             [
              0.3333333333333333,
              "#9c179e"
             ],
             [
              0.4444444444444444,
              "#bd3786"
             ],
             [
              0.5555555555555556,
              "#d8576b"
             ],
             [
              0.6666666666666666,
              "#ed7953"
             ],
             [
              0.7777777777777778,
              "#fb9f3a"
             ],
             [
              0.8888888888888888,
              "#fdca26"
             ],
             [
              1,
              "#f0f921"
             ]
            ],
            "type": "heatmap"
           }
          ],
          "heatmapgl": [
           {
            "colorbar": {
             "outlinewidth": 0,
             "ticks": ""
            },
            "colorscale": [
             [
              0,
              "#0d0887"
             ],
             [
              0.1111111111111111,
              "#46039f"
             ],
             [
              0.2222222222222222,
              "#7201a8"
             ],
             [
              0.3333333333333333,
              "#9c179e"
             ],
             [
              0.4444444444444444,
              "#bd3786"
             ],
             [
              0.5555555555555556,
              "#d8576b"
             ],
             [
              0.6666666666666666,
              "#ed7953"
             ],
             [
              0.7777777777777778,
              "#fb9f3a"
             ],
             [
              0.8888888888888888,
              "#fdca26"
             ],
             [
              1,
              "#f0f921"
             ]
            ],
            "type": "heatmapgl"
           }
          ],
          "histogram": [
           {
            "marker": {
             "pattern": {
              "fillmode": "overlay",
              "size": 10,
              "solidity": 0.2
             }
            },
            "type": "histogram"
           }
          ],
          "histogram2d": [
           {
            "colorbar": {
             "outlinewidth": 0,
             "ticks": ""
            },
            "colorscale": [
             [
              0,
              "#0d0887"
             ],
             [
              0.1111111111111111,
              "#46039f"
             ],
             [
              0.2222222222222222,
              "#7201a8"
             ],
             [
              0.3333333333333333,
              "#9c179e"
             ],
             [
              0.4444444444444444,
              "#bd3786"
             ],
             [
              0.5555555555555556,
              "#d8576b"
             ],
             [
              0.6666666666666666,
              "#ed7953"
             ],
             [
              0.7777777777777778,
              "#fb9f3a"
             ],
             [
              0.8888888888888888,
              "#fdca26"
             ],
             [
              1,
              "#f0f921"
             ]
            ],
            "type": "histogram2d"
           }
          ],
          "histogram2dcontour": [
           {
            "colorbar": {
             "outlinewidth": 0,
             "ticks": ""
            },
            "colorscale": [
             [
              0,
              "#0d0887"
             ],
             [
              0.1111111111111111,
              "#46039f"
             ],
             [
              0.2222222222222222,
              "#7201a8"
             ],
             [
              0.3333333333333333,
              "#9c179e"
             ],
             [
              0.4444444444444444,
              "#bd3786"
             ],
             [
              0.5555555555555556,
              "#d8576b"
             ],
             [
              0.6666666666666666,
              "#ed7953"
             ],
             [
              0.7777777777777778,
              "#fb9f3a"
             ],
             [
              0.8888888888888888,
              "#fdca26"
             ],
             [
              1,
              "#f0f921"
             ]
            ],
            "type": "histogram2dcontour"
           }
          ],
          "mesh3d": [
           {
            "colorbar": {
             "outlinewidth": 0,
             "ticks": ""
            },
            "type": "mesh3d"
           }
          ],
          "parcoords": [
           {
            "line": {
             "colorbar": {
              "outlinewidth": 0,
              "ticks": ""
             }
            },
            "type": "parcoords"
           }
          ],
          "pie": [
           {
            "automargin": true,
            "type": "pie"
           }
          ],
          "scatter": [
           {
            "fillpattern": {
             "fillmode": "overlay",
             "size": 10,
             "solidity": 0.2
            },
            "type": "scatter"
           }
          ],
          "scatter3d": [
           {
            "line": {
             "colorbar": {
              "outlinewidth": 0,
              "ticks": ""
             }
            },
            "marker": {
             "colorbar": {
              "outlinewidth": 0,
              "ticks": ""
             }
            },
            "type": "scatter3d"
           }
          ],
          "scattercarpet": [
           {
            "marker": {
             "colorbar": {
              "outlinewidth": 0,
              "ticks": ""
             }
            },
            "type": "scattercarpet"
           }
          ],
          "scattergeo": [
           {
            "marker": {
             "colorbar": {
              "outlinewidth": 0,
              "ticks": ""
             }
            },
            "type": "scattergeo"
           }
          ],
          "scattergl": [
           {
            "marker": {
             "colorbar": {
              "outlinewidth": 0,
              "ticks": ""
             }
            },
            "type": "scattergl"
           }
          ],
          "scattermapbox": [
           {
            "marker": {
             "colorbar": {
              "outlinewidth": 0,
              "ticks": ""
             }
            },
            "type": "scattermapbox"
           }
          ],
          "scatterpolar": [
           {
            "marker": {
             "colorbar": {
              "outlinewidth": 0,
              "ticks": ""
             }
            },
            "type": "scatterpolar"
           }
          ],
          "scatterpolargl": [
           {
            "marker": {
             "colorbar": {
              "outlinewidth": 0,
              "ticks": ""
             }
            },
            "type": "scatterpolargl"
           }
          ],
          "scatterternary": [
           {
            "marker": {
             "colorbar": {
              "outlinewidth": 0,
              "ticks": ""
             }
            },
            "type": "scatterternary"
           }
          ],
          "surface": [
           {
            "colorbar": {
             "outlinewidth": 0,
             "ticks": ""
            },
            "colorscale": [
             [
              0,
              "#0d0887"
             ],
             [
              0.1111111111111111,
              "#46039f"
             ],
             [
              0.2222222222222222,
              "#7201a8"
             ],
             [
              0.3333333333333333,
              "#9c179e"
             ],
             [
              0.4444444444444444,
              "#bd3786"
             ],
             [
              0.5555555555555556,
              "#d8576b"
             ],
             [
              0.6666666666666666,
              "#ed7953"
             ],
             [
              0.7777777777777778,
              "#fb9f3a"
             ],
             [
              0.8888888888888888,
              "#fdca26"
             ],
             [
              1,
              "#f0f921"
             ]
            ],
            "type": "surface"
           }
          ],
          "table": [
           {
            "cells": {
             "fill": {
              "color": "#EBF0F8"
             },
             "line": {
              "color": "white"
             }
            },
            "header": {
             "fill": {
              "color": "#C8D4E3"
             },
             "line": {
              "color": "white"
             }
            },
            "type": "table"
           }
          ]
         },
         "layout": {
          "annotationdefaults": {
           "arrowcolor": "#2a3f5f",
           "arrowhead": 0,
           "arrowwidth": 1
          },
          "autotypenumbers": "strict",
          "coloraxis": {
           "colorbar": {
            "outlinewidth": 0,
            "ticks": ""
           }
          },
          "colorscale": {
           "diverging": [
            [
             0,
             "#8e0152"
            ],
            [
             0.1,
             "#c51b7d"
            ],
            [
             0.2,
             "#de77ae"
            ],
            [
             0.3,
             "#f1b6da"
            ],
            [
             0.4,
             "#fde0ef"
            ],
            [
             0.5,
             "#f7f7f7"
            ],
            [
             0.6,
             "#e6f5d0"
            ],
            [
             0.7,
             "#b8e186"
            ],
            [
             0.8,
             "#7fbc41"
            ],
            [
             0.9,
             "#4d9221"
            ],
            [
             1,
             "#276419"
            ]
           ],
           "sequential": [
            [
             0,
             "#0d0887"
            ],
            [
             0.1111111111111111,
             "#46039f"
            ],
            [
             0.2222222222222222,
             "#7201a8"
            ],
            [
             0.3333333333333333,
             "#9c179e"
            ],
            [
             0.4444444444444444,
             "#bd3786"
            ],
            [
             0.5555555555555556,
             "#d8576b"
            ],
            [
             0.6666666666666666,
             "#ed7953"
            ],
            [
             0.7777777777777778,
             "#fb9f3a"
            ],
            [
             0.8888888888888888,
             "#fdca26"
            ],
            [
             1,
             "#f0f921"
            ]
           ],
           "sequentialminus": [
            [
             0,
             "#0d0887"
            ],
            [
             0.1111111111111111,
             "#46039f"
            ],
            [
             0.2222222222222222,
             "#7201a8"
            ],
            [
             0.3333333333333333,
             "#9c179e"
            ],
            [
             0.4444444444444444,
             "#bd3786"
            ],
            [
             0.5555555555555556,
             "#d8576b"
            ],
            [
             0.6666666666666666,
             "#ed7953"
            ],
            [
             0.7777777777777778,
             "#fb9f3a"
            ],
            [
             0.8888888888888888,
             "#fdca26"
            ],
            [
             1,
             "#f0f921"
            ]
           ]
          },
          "colorway": [
           "#636efa",
           "#EF553B",
           "#00cc96",
           "#ab63fa",
           "#FFA15A",
           "#19d3f3",
           "#FF6692",
           "#B6E880",
           "#FF97FF",
           "#FECB52"
          ],
          "font": {
           "color": "#2a3f5f"
          },
          "geo": {
           "bgcolor": "white",
           "lakecolor": "white",
           "landcolor": "#E5ECF6",
           "showlakes": true,
           "showland": true,
           "subunitcolor": "white"
          },
          "hoverlabel": {
           "align": "left"
          },
          "hovermode": "closest",
          "mapbox": {
           "style": "light"
          },
          "paper_bgcolor": "white",
          "plot_bgcolor": "#E5ECF6",
          "polar": {
           "angularaxis": {
            "gridcolor": "white",
            "linecolor": "white",
            "ticks": ""
           },
           "bgcolor": "#E5ECF6",
           "radialaxis": {
            "gridcolor": "white",
            "linecolor": "white",
            "ticks": ""
           }
          },
          "scene": {
           "xaxis": {
            "backgroundcolor": "#E5ECF6",
            "gridcolor": "white",
            "gridwidth": 2,
            "linecolor": "white",
            "showbackground": true,
            "ticks": "",
            "zerolinecolor": "white"
           },
           "yaxis": {
            "backgroundcolor": "#E5ECF6",
            "gridcolor": "white",
            "gridwidth": 2,
            "linecolor": "white",
            "showbackground": true,
            "ticks": "",
            "zerolinecolor": "white"
           },
           "zaxis": {
            "backgroundcolor": "#E5ECF6",
            "gridcolor": "white",
            "gridwidth": 2,
            "linecolor": "white",
            "showbackground": true,
            "ticks": "",
            "zerolinecolor": "white"
           }
          },
          "shapedefaults": {
           "line": {
            "color": "#2a3f5f"
           }
          },
          "ternary": {
           "aaxis": {
            "gridcolor": "white",
            "linecolor": "white",
            "ticks": ""
           },
           "baxis": {
            "gridcolor": "white",
            "linecolor": "white",
            "ticks": ""
           },
           "bgcolor": "#E5ECF6",
           "caxis": {
            "gridcolor": "white",
            "linecolor": "white",
            "ticks": ""
           }
          },
          "title": {
           "x": 0.05
          },
          "xaxis": {
           "automargin": true,
           "gridcolor": "white",
           "linecolor": "white",
           "ticks": "",
           "title": {
            "standoff": 15
           },
           "zerolinecolor": "white",
           "zerolinewidth": 2
          },
          "yaxis": {
           "automargin": true,
           "gridcolor": "white",
           "linecolor": "white",
           "ticks": "",
           "title": {
            "standoff": 15
           },
           "zerolinecolor": "white",
           "zerolinewidth": 2
          }
         }
        },
        "width": 404.508497175,
        "xaxis": {
         "anchor": "y",
         "domain": [
          0,
          1
         ],
         "showgrid": false,
         "showline": false,
         "tickcolor": "rgb(120, 120, 120)",
         "ticklen": 5,
         "ticks": "outside",
         "tickwidth": 1,
         "title": {
          "text": "Bertz complexity"
         },
         "zeroline": false
        },
        "yaxis": {
         "anchor": "x",
         "domain": [
          0,
          1
         ],
         "gridcolor": "rgba(173, 216, 230, 0.3)",
         "gridwidth": 1,
         "showgrid": false,
         "showline": false,
         "tickcolor": "rgb(120, 120, 120)",
         "ticklen": 5,
         "ticks": "outside",
         "tickwidth": 1,
         "title": {
          "text": "count"
         },
         "zeroline": false
        }
       }
      }
     },
     "metadata": {},
     "output_type": "display_data"
    },
    {
     "data": {
      "application/vnd.plotly.v1+json": {
       "config": {
        "plotlyServerURL": "https://plot.ly"
       },
       "data": [
        {
         "alignmentgroup": "True",
         "bingroup": "x",
         "hovertemplate": "Top 1=True<br>best_score=%{x}<br>count=%{y}<extra></extra>",
         "legendgroup": "True",
         "marker": {
          "color": "rgb(152, 86, 86)",
          "line": {
           "color": "DarkSlateGrey",
           "width": 0.2
          },
          "opacity": 0.5,
          "pattern": {
           "shape": ""
          }
         },
         "name": "True",
         "nbinsx": 30,
         "offsetgroup": "True",
         "opacity": 1,
         "orientation": "v",
         "showlegend": true,
         "type": "histogram",
         "x": [
          0.9341856837272644,
          0.870604932308197,
          0.8201072812080383,
          0.9002046585083008,
          0.9092275500297546,
          0.90948224067688,
          0.9236085414886476,
          0.9020073413848876,
          0.8916189670562744,
          0.8667073249816895,
          0.903291404247284,
          0.9359109997749328,
          0.9055249094963074,
          0.8507476449012756,
          0.9197999835014344,
          0.9235647320747375,
          0.9461750984191896,
          0.9337528347969056,
          0.8718451857566833,
          0.9098743796348572,
          0.9063963890075684,
          0.8602045178413391,
          0.8948753476142883,
          0.8719852566719055,
          0.9095284342765808,
          0.93304842710495,
          0.8745808601379395,
          0.8680000305175781,
          0.8981709480285645,
          0.9239187240600586,
          0.9066829681396484,
          0.7548858523368835,
          0.921501398086548,
          0.9098081588745116,
          0.9136590361595154,
          0.9245960116386414,
          0.836341381072998,
          0.8147218823432922,
          0.9118881225585938,
          0.8980627059936523,
          0.8687158226966858,
          0.8913955688476562,
          0.8477694392204285,
          0.8941697478294373,
          0.9210515022277832,
          0.8755321502685547,
          0.8790825009346008,
          0.8499038815498352,
          0.8598337769508362,
          0.9158304333686828,
          0.8902544975280762,
          0.9345299601554872,
          0.897741973400116,
          0.9413161277770996,
          0.921863853931427,
          0.8317718505859375,
          0.7968083024024963,
          0.9123886227607728,
          0.9114511013031006,
          0.9351800084114076,
          0.9275733828544616,
          0.9473955035209656,
          0.817815363407135,
          0.950632393360138,
          0.8262335658073425,
          0.8744053840637207,
          0.9200296998023988,
          0.9142245650291444,
          0.891096293926239,
          0.9048946499824524,
          0.9258796572685242,
          0.8854045271873474,
          0.9516477584838868,
          0.8332379460334778,
          0.9371193051338196,
          0.865227997303009,
          0.9200751781463624,
          0.8952575325965881,
          0.8923537135124207,
          0.8721485137939453,
          0.8324839472770691,
          0.9160885810852052,
          0.9248211979866028,
          0.8992447853088379,
          0.8630852699279785,
          0.8800275921821594,
          0.8990536332130432,
          0.9061398506164552,
          0.8945669531822205,
          0.8216466903686523,
          0.9308626055717468,
          0.9038529992103576,
          0.9295583367347716,
          0.8751950860023499,
          0.8496440052986145,
          0.9213703274726868,
          0.9136262536048888,
          0.898306667804718,
          0.8479970097541809,
          0.8561270833015442,
          0.8703303337097168,
          0.8912830948829651,
          0.8788817524909973,
          0.8903570175170898,
          0.8664218783378601,
          0.8939020037651062,
          0.9303801655769348,
          0.9043272137641908,
          0.9174373745918274,
          0.9497756361961364,
          0.9477668404579164,
          0.9248619079589844,
          0.869489848613739,
          0.912830114364624,
          0.8839914202690125,
          0.8806917071342468,
          0.884661853313446,
          0.9245970845222472,
          0.9454850554466248,
          0.8118846416473389,
          0.8643906712532043,
          0.8300486207008362,
          0.9267361164093018,
          0.8861995339393616,
          0.8718605637550354,
          0.919363021850586,
          0.9191659092903136,
          0.8820815086364746,
          0.8889002203941345,
          0.9046571850776672,
          0.9090045094490052,
          0.926381289958954,
          0.8963767886161804,
          0.8322268128395081,
          0.8583250045776367,
          0.8525727391242981,
          0.8597145080566406,
          0.9156503677368164,
          0.9068378806114196,
          0.9058923721313475,
          0.9175691604614258,
          0.923931360244751,
          0.9257760643959044,
          0.8577896952629089,
          0.862118661403656,
          0.8947364687919617,
          0.8896563649177551,
          0.9365944862365724,
          0.8614732623100281,
          0.9037914872169496,
          0.9260393977165222,
          0.878316342830658,
          0.8580287098884583,
          0.8917656540870667,
          0.9219891428947448,
          0.8891423344612122,
          0.871819019317627,
          0.9539335370063782,
          0.8993862271308899,
          0.8772838711738586,
          0.901909351348877,
          0.8777040839195251,
          0.8948243260383606,
          0.8925606608390808,
          0.9154589772224426,
          0.8569677472114563,
          0.8711149096488953,
          0.9342343211174012,
          0.7733685374259949,
          0.7968538403511047,
          0.8330556750297546,
          0.9127655625343324,
          0.7982230186462402,
          0.8032142519950867,
          0.8828484416007996,
          0.8854119777679443,
          0.8452339768409729,
          0.9071474671363832,
          0.9162426590919496,
          0.849360466003418,
          0.9446752667427064,
          0.890688955783844,
          0.9058310389518738,
          0.922369658946991,
          0.9017510414123536,
          0.8912491798400879,
          0.8931695818901062,
          0.9315690994262696,
          0.8320708870887756,
          0.9268052577972412,
          0.8619623780250549,
          0.9323905110359192,
          0.9030466079711914,
          0.9128270149230956,
          0.8931990265846252,
          0.935603678226471,
          0.9297487139701844,
          0.9103935360908508,
          0.9066211581230164,
          0.8570517897605896,
          0.8842077851295471,
          0.8954222798347473,
          0.8984808325767517,
          0.9086378216743468,
          0.8327655792236328,
          0.8587881922721863,
          0.8990669250488281,
          0.9160112738609314,
          0.9100780487060548,
          0.891533613204956,
          0.9061558842658995,
          0.877949059009552,
          0.8804302215576172,
          0.9279757142066956,
          0.8837141990661621,
          0.8880617618560791,
          0.835113525390625,
          0.8703980445861816,
          0.9060657024383544,
          0.8812358975410461,
          0.9508347511291504,
          0.8778017163276672,
          0.8981143832206726,
          0.8757719993591309,
          0.8676058650016785,
          0.9507490992546082,
          0.9240818619728088,
          0.8783168792724609,
          0.9108875393867492,
          0.90136981010437,
          0.7981720566749573,
          0.8950974345207214,
          0.9296360611915588,
          0.8618965148925781,
          0.906329870223999,
          0.8580252528190613,
          0.8825117945671082,
          0.868532657623291,
          0.9021449089050292,
          0.8979948163032532,
          0.9316772818565368,
          0.8866254687309265,
          0.934121310710907,
          0.8522974848747253,
          0.9313047528266908,
          0.8779522776603699,
          0.8935079574584961,
          0.915931224822998,
          0.929807186126709,
          0.8980811238288879,
          0.9149348735809326,
          0.8859386444091797,
          0.8158397674560547,
          0.9304394721984864,
          0.939070999622345,
          0.8399766087532043,
          0.8996017575263977,
          0.8863916993141174,
          0.9056429862976074,
          0.8535928726196289,
          0.7540791034698486,
          0.8896691203117371,
          0.9123328328132628,
          0.9093943238258362,
          0.8635323643684387,
          0.8827285170555115,
          0.9081380367279052,
          0.8662284016609192,
          0.9315363764762878,
          0.8592534065246582,
          0.840362548828125,
          0.8972930908203125,
          0.8881244659423828,
          0.914851725101471,
          0.9476823806762696,
          0.8187362551689148,
          0.931052029132843,
          0.8986639976501465,
          0.8804141879081726,
          0.9194104075431824,
          0.8918452262878418,
          0.9034693837165833,
          0.921531856060028,
          0.9497189521789552,
          0.8819271922111511,
          0.84187251329422,
          0.9105551242828368,
          0.9228543639183044,
          0.9080396294593812,
          0.8099570274353027,
          0.9322843551635742,
          0.9140160083770752,
          0.853253185749054,
          0.9276158213615416,
          0.8573828339576721,
          0.8483729362487793,
          0.9139980673789978,
          0.8952848315238953,
          0.9401662349700928,
          0.9297576546669006,
          0.8982963562011719,
          0.906508445739746,
          0.9339740872383118,
          0.8940639495849609,
          0.8823370933532715,
          0.9318035244941713,
          0.8710100054740906,
          0.9081032276153564,
          0.8958337903022766,
          0.9096224904060364,
          0.9428424835205078,
          0.8896427154541016,
          0.8010251522064209,
          0.8649213314056396,
          0.9181211590766908,
          0.9185875058174132,
          0.9224227070808412,
          0.9009904265403748,
          0.8990461230278015,
          0.9168317317962646,
          0.9251301288604736,
          0.8817408084869385,
          0.9205009937286376,
          0.9264823794364928,
          0.8723204135894775,
          0.9173426032066344,
          0.9184820055961608,
          0.9168422222137452,
          0.8873436450958252,
          0.9062795639038086,
          0.9142348170280457,
          0.9110148549079896,
          0.9266654849052428,
          0.903669536113739,
          0.9085747599601746,
          0.9208831191062928,
          0.9342580437660216,
          0.9235023856163024,
          0.8589817881584167,
          0.9011229872703552,
          0.9400973320007324,
          0.9306278824806212,
          0.8346700668334961,
          0.9303469657897948,
          0.8922433853149414,
          0.9219026565551758,
          0.8875823020935059,
          0.8766595721244812,
          0.9416780471801758,
          0.8835474848747253,
          0.8735397458076477,
          0.8567021489143372,
          0.8754522800445557,
          0.9129478335380554,
          0.8872144818305969,
          0.8998055458068848,
          0.927646815776825,
          0.917349636554718,
          0.8944482803344727,
          0.868503749370575,
          0.9352943897247314,
          0.8910074234008789,
          0.9082090258598328,
          0.8929793238639832,
          0.9119723439216614,
          0.9107242226600648,
          0.8352160453796387,
          0.8741270899772644,
          0.7940970063209534,
          0.8960258364677429,
          0.9149976372718812,
          0.8994333744049072,
          0.916893720626831,
          0.8788912892341614,
          0.9067394137382508,
          0.9304320216178894,
          0.8965933918952942,
          0.8712514042854309,
          0.8968431353569031,
          0.9012039303779602,
          0.8417122960090637,
          0.8449479937553406,
          0.9120805859565736,
          0.9397530555725098,
          0.8371105790138245,
          0.9409777522087096,
          0.772072970867157,
          0.8886032104492188,
          0.8110551834106445,
          0.8346018195152283,
          0.9325867295265198,
          0.9146924018859864,
          0.9181969165802002,
          0.8656752705574036,
          0.9120573401451112,
          0.9225635528564452,
          0.9084946513175964,
          0.941844642162323,
          0.8834443688392639,
          0.9299087524414062,
          0.916143238544464,
          0.9504733085632324,
          0.9224888682365416,
          0.8883511424064636,
          0.9288285374641418,
          0.8679175972938538,
          0.908188819885254,
          0.925271213054657,
          0.8719226717948914,
          0.8913996815681458,
          0.8923006653785706,
          0.9309199452400208,
          0.8350949883460999,
          0.8750899434089661,
          0.8366138935089111,
          0.9274754524230956,
          0.9349047541618348,
          0.9176270365715028,
          0.899005651473999,
          0.8596009612083435,
          0.8668341636657715,
          0.8894317150115967,
          0.9117690920829772,
          0.9274885654449464,
          0.7927713394165039,
          0.9341629147529602,
          0.8381366729736328,
          0.9366743564605712,
          0.8784869313240051,
          0.9098322987556458,
          0.8481786251068115,
          0.9151269793510436,
          0.8587214350700378,
          0.9128627181053162,
          0.9159628748893738,
          0.8433067798614502,
          0.9264594912528992,
          0.922955334186554,
          0.9106340408325196,
          0.9371424317359924,
          0.9377202391624452,
          0.8808588981628418,
          0.9193754196166992,
          0.8735232949256897,
          0.923245906829834,
          0.919967234134674,
          0.9115855097770692,
          0.907348930835724,
          0.9368641972541808,
          0.8774247169494629,
          0.914336919784546,
          0.8657719492912292,
          0.9079321026802064,
          0.9263949394226074,
          0.8752150535583496,
          0.9134095311164856,
          0.861254870891571,
          0.9134038090705872,
          0.9077402949333192,
          0.9023287892341614,
          0.8980086445808411,
          0.9046802520751952,
          0.9105091094970704,
          0.8780642151832581,
          0.8534591197967529,
          0.8900560736656189,
          0.8974210619926453,
          0.918755054473877,
          0.9260337352752686,
          0.8975426554679871,
          0.8622746467590332,
          0.9203760027885436,
          0.9052870869636536,
          0.9076853394508362,
          0.9264692664146424,
          0.8557187914848328,
          0.8977081179618835,
          0.8458418250083923,
          0.857661783695221,
          0.9401361346244812,
          0.9062712788581848,
          0.8778123259544373,
          0.9319815039634703,
          0.8813274502754211,
          0.8612887859344482,
          0.8880687355995178,
          0.8875524401664734,
          0.8747334480285645,
          0.9008255004882812,
          0.8444004058837891,
          0.9094708561897278,
          0.8717148303985596,
          0.8438613414764404,
          0.9306758046150208,
          0.8654851913452148,
          0.880718469619751,
          0.7913641333580017,
          0.8841031193733215,
          0.923128604888916,
          0.8959627151489258,
          0.8392764925956726,
          0.8711715340614319,
          0.8934845924377441,
          0.8638739585876465,
          0.8113574385643005,
          0.8800304532051086,
          0.8867500424385071,
          0.9262781143188475,
          0.8644478917121887,
          0.8994308114051819,
          0.9287431240081788,
          0.9211103916168212,
          0.8235475420951843,
          0.926799476146698,
          0.7745040059089661,
          0.9294192790985109,
          0.9417497515678406,
          0.8976478576660156,
          0.9200922846794128,
          0.8627047538757324,
          0.8621973991394043,
          0.9280501008033752,
          0.8842949867248535,
          0.8931007981300354,
          0.901427447795868,
          0.9203136563301086,
          0.9108452200889589,
          0.8792799115180969,
          0.8287294507026672,
          0.8959444165229797,
          0.9120234847068788,
          0.92672997713089,
          0.9139373898506165,
          0.9197594523429872,
          0.9031838774681092,
          0.9051454663276672,
          0.8586726188659668,
          0.9343438744544984,
          0.9319729208946228,
          0.9187359809875488,
          0.8935471177101135,
          0.9159550666809082,
          0.8765574097633362,
          0.8932766318321228,
          0.7788781523704529,
          0.8603640198707581,
          0.9520682692527772,
          0.9047164916992188,
          0.8971319198608398,
          0.9422280192375184,
          0.9073030352592468,
          0.9241226315498352,
          0.8835228085517883,
          0.9098119139671326,
          0.8562234044075012,
          0.8646786212921143,
          0.9283928871154784,
          0.8715924620628357,
          0.88909912109375,
          0.8985845446586609,
          0.8824604153633118,
          0.8965960144996643,
          0.8853011131286621,
          0.8808755874633789,
          0.8808255195617676,
          0.8974206447601318,
          0.914633333683014,
          0.9351277947425842,
          0.8980873227119446,
          0.8966425061225891,
          0.8934297561645508,
          0.9348604083061218,
          0.87516188621521,
          0.7648000717163086,
          0.8981518745422363,
          0.95755797624588,
          0.9099811911582948,
          0.9072468876838684,
          0.8769999146461487,
          0.8653032183647156,
          0.88031005859375,
          0.8976526260375977,
          0.8502516746520996,
          0.9314818382263184,
          0.9262424111366272,
          0.8556739687919617,
          0.8672075867652893,
          0.8857707381248474,
          0.9116864204406738,
          0.813391387462616,
          0.8483619689941406,
          0.8862683176994324,
          0.8932008147239685,
          0.9120230078697203,
          0.8989202380180359,
          0.9097988605499268,
          0.8986496925354004,
          0.8991199135780334,
          0.9256626963615416,
          0.8936150074005127,
          0.9081149697303772,
          0.9203228950500488,
          0.8567405343055725,
          0.899432897567749,
          0.9215216636657716,
          0.9159119725227356,
          0.8769925236701965,
          0.8717781901359558,
          0.8952034115791321,
          0.942371129989624,
          0.926262378692627,
          0.8263948559761047,
          0.9302056431770324,
          0.9226850867271424,
          0.9250832200050354,
          0.9298446774482728,
          0.8771657943725586,
          0.8718261122703552,
          0.9180364608764648,
          0.931929886341095,
          0.9358698725700378,
          0.9098532795906068,
          0.8784844875335693,
          0.8546436429023743,
          0.920381724834442,
          0.8824949264526367,
          0.9055206775665284,
          0.9029043316841124,
          0.9327068328857422,
          0.8723686337471008,
          0.8898900151252747,
          0.8942182064056396,
          0.8980072140693665,
          0.8812869191169739,
          0.8771214485168457,
          0.8529908061027527,
          0.8069934844970703,
          0.8598175644874573,
          0.8517869114875793,
          0.8709478378295898,
          0.8846297860145569,
          0.8891833424568176,
          0.9244142174720764,
          0.9337220191955566,
          0.9286447167396544,
          0.884198009967804,
          0.8859716057777405,
          0.865630567073822,
          0.8966178894042969,
          0.7973911762237549,
          0.8813726305961609,
          0.8471514582633972,
          0.8716815114021301,
          0.8900348544120789,
          0.9177221655845642,
          0.8860042691230774,
          0.924705684185028,
          0.9116430282592772,
          0.9345905780792236,
          0.8939347267150879,
          0.9004759788513184,
          0.9202682375907898,
          0.9144068360328674,
          0.9134820103645324,
          0.9020843505859376,
          0.9298226237297058,
          0.8913721442222595,
          0.8573708534240723,
          0.9277365803718568,
          0.9123730063438416,
          0.8920698165893555,
          0.888836145401001,
          0.8786017298698425,
          0.896913468837738,
          0.9724306464195251,
          0.8927131295204163,
          0.8891348242759705,
          0.9285969734191896,
          0.8679807782173157,
          0.8645426630973816,
          0.9201110005378724,
          0.909485399723053,
          0.9130086898803712,
          0.8384738564491272,
          0.8760092258453369,
          0.8921205997467041,
          0.9002636075019836,
          0.8372510075569153,
          0.8611004948616028,
          0.8839214444160461,
          0.8695874810218811,
          0.916124165058136,
          0.9108818173408508,
          0.8888309597969055,
          0.8956703543663025,
          0.9229952692985536,
          0.8797462582588196,
          0.9120176434516908,
          0.9366338849067688,
          0.920029640197754,
          0.9127233028411864,
          0.910904586315155,
          0.910243809223175,
          0.842795193195343,
          0.9107314944267272,
          0.9155381321907043,
          0.9471468925476074,
          0.872707188129425,
          0.8104256987571716,
          0.932608127593994,
          0.9107043743133544,
          0.8464104533195496,
          0.8754326701164246,
          0.9228241443634032,
          0.9146990180015564,
          0.8971081376075745,
          0.9308002591133118,
          0.9097930788993835,
          0.9283096194267272,
          0.8904516696929932,
          0.8582490086555481,
          0.8784690499305725,
          0.8956108689308167,
          0.8977468609809875,
          0.9033182263374328,
          0.8540053367614746,
          0.8728516101837158,
          0.9218635559082032,
          0.9340352416038512,
          0.8961980938911438,
          0.9048493504524232,
          0.889839231967926,
          0.8789100646972656,
          0.9174123406410216,
          0.9059578776359558,
          0.9152374267578124,
          0.8468095660209656,
          0.8983898758888245,
          0.8494895100593567,
          0.9166532158851624,
          0.9385022521018982,
          0.8739097714424133,
          0.9009097218513488,
          0.9180102348327636,
          0.9125723838806152,
          0.9295222163200378,
          0.905340015888214,
          0.8338068127632141,
          0.8926826119422913,
          0.8712785840034485,
          0.9290701746940612,
          0.9086635112762452,
          0.9166327118873596,
          0.9478759765625,
          0.9202005863189696,
          0.9155049324035645,
          0.9225430488586426,
          0.9323157668113708,
          0.9287105202674866,
          0.9174885749816896,
          0.8517284989356995
         ],
         "xaxis": "x",
         "yaxis": "y"
        },
        {
         "alignmentgroup": "True",
         "bingroup": "x",
         "hovertemplate": "Top 1=False<br>best_score=%{x}<br>count=%{y}<extra></extra>",
         "legendgroup": "False",
         "marker": {
          "color": "rgb(152, 146, 186)",
          "line": {
           "color": "DarkSlateGrey",
           "width": 0.2
          },
          "opacity": 0.5,
          "pattern": {
           "shape": ""
          }
         },
         "name": "False",
         "nbinsx": 30,
         "offsetgroup": "False",
         "opacity": 1,
         "orientation": "v",
         "showlegend": true,
         "type": "histogram",
         "x": [
          0.8304759860038757,
          0.9268882870674132,
          0.894974946975708,
          0.7688820958137512,
          0.8158319592475891,
          0.8665885925292969,
          0.8908098340034485,
          0.840294361114502,
          0.8483359217643738,
          0.6164323687553406,
          0.8914079666137695,
          0.7761929631233215,
          0.6070111393928528,
          0.9064161777496338,
          0.8841152787208557,
          0.7685653567314148,
          0.8270714282989502,
          0.8618311882019043,
          0.9328722953796388,
          0.8910157680511475,
          0.8852182030677795,
          0.912987232208252,
          0.7277321219444275,
          0.9154756665229796,
          0.6551876664161682,
          0.7768466472625732,
          0.8475110530853271,
          0.8890848159790039,
          0.684786856174469,
          0.9135823249816896,
          0.6068989038467407,
          0.8553428053855896,
          0.8888848423957825,
          0.8781024813652039,
          0.8963112831115723,
          0.8777818083763123,
          0.9115622639656068,
          0.9032487869262696,
          0.8471770286560059,
          0.8365249037742615,
          0.8802523612976074,
          0.8449807167053223,
          0.836341381072998,
          0.9196057319641112,
          0.9054169654846193,
          0.9124987721443176,
          0.9277029037475586,
          0.9054080843925476,
          0.7379732728004456,
          0.7607024312019348,
          0.8887372612953186,
          0.7350957989692688,
          0.89992755651474,
          0.7685306072235107,
          0.7864556312561035,
          0.8911647796630859,
          0.6898514628410339,
          0.8281461596488953,
          0.7439859509468079,
          0.922174632549286,
          0.8792764544487,
          0.897305428981781,
          0.6679396629333496,
          0.8646861910820007,
          0.862507164478302,
          0.8609711527824402,
          0.734329879283905,
          0.91468745470047,
          0.7216501832008362,
          0.7879233360290527,
          0.8918607831001282,
          0.8822175860404968,
          0.8445056080818176,
          0.8371804356575012,
          0.5632674694061279,
          0.805997908115387,
          0.8732094764709473,
          0.8607075810432434,
          0.8537638187408447,
          0.9091315865516664,
          0.8374261856079102,
          0.8402484059333801,
          0.8369081020355225,
          0.894281804561615,
          0.8763313293457031,
          0.7496656775474548,
          0.8530269265174866,
          0.7000365257263184,
          0.8203926086425781,
          0.8343140482902527,
          0.856621503829956,
          0.8308671116828918,
          0.9207944273948668,
          0.8575647473335266,
          0.7802679538726807,
          0.6977083086967468,
          0.8962803483009338,
          0.7908785939216614,
          0.71184903383255,
          0.8272848129272461,
          0.8592982292175293,
          0.8444749712944031,
          0.8174943327903748,
          0.9115554690361024,
          0.928769052028656,
          0.7718877196311951,
          0.8108615279197693,
          0.8730788230895996,
          0.7470418810844421,
          0.7950035929679871,
          0.8029270172119141,
          0.901662826538086,
          0.8423855900764465,
          0.90891432762146,
          0.8849377632141113,
          0.7148346900939941,
          0.8068025708198547,
          0.8148840069770813,
          0.8653035759925842,
          0.8676126599311829,
          0.8697071671485901,
          0.7298042178153992,
          0.8582494854927063,
          0.8700777888298035,
          0.8576946258544922,
          0.8499727845191956,
          0.9037922024726868,
          0.8113973140716553,
          0.8985121846199036,
          0.8559355735778809,
          0.8732080459594727,
          0.8026638627052307,
          0.8925740718841553,
          0.9239797592163086,
          0.8084123730659485,
          0.6550797820091248,
          0.8884789347648621,
          0.8240869045257568,
          0.9206819534301758,
          0.8218135237693787,
          0.6838350296020508,
          0.7196730971336365,
          0.7176907062530518,
          0.8111971020698547,
          0.8805792927742004,
          0.8716694712638855,
          0.82914137840271,
          0.8753032684326172,
          0.8676508069038391,
          0.6088051199913025,
          0.7688083052635193,
          0.6039125323295593,
          0.8189333081245422,
          0.7425405383110046,
          0.8518214225769043,
          0.7801762223243713,
          0.6691441535949707,
          0.9025383591651917,
          0.8655725121498108,
          0.5470348000526428,
          0.8668120503425598,
          0.8696549534797668,
          0.8810194134712219,
          0.7822647094726562,
          0.8712077736854553,
          0.8195123672485352,
          0.9029161930084229,
          0.89703768491745,
          0.8732703328132629,
          0.9235773086547852,
          0.9245864748954772,
          0.8580682277679443,
          0.8814888596534729,
          0.8964921832084656,
          0.8932790756225586,
          0.876724898815155,
          0.8248014450073242,
          0.9060096144676208,
          0.7494552731513977,
          0.7587442398071289,
          0.8114145398139954,
          0.861685574054718,
          0.8217940330505371,
          0.7022884488105774,
          0.8761212229728699,
          0.8654723167419434,
          0.8329699635505676,
          0.9104002118110656,
          0.920936405658722,
          0.8624046444892883,
          0.8593009114265442,
          0.8290464282035828,
          0.8243533968925476,
          0.8475539088249207,
          0.7143791317939758,
          0.894642174243927,
          0.8760921359062195,
          0.6894457936286926,
          0.7268795967102051,
          0.8945476412773132,
          0.8409810066223145,
          0.9075767397880554,
          0.8557310700416565,
          0.8742033839225769,
          0.7512670159339905,
          0.8149495124816895,
          0.7759985327720642,
          0.8757316470146179,
          0.7821134924888611,
          0.8295285701751709,
          0.6980800628662109,
          0.8462550044059753,
          0.8459132313728333,
          0.7420156598091125,
          0.9077643752098083,
          0.7656800150871277,
          0.8314620852470398,
          0.8592772483825684,
          0.8663522601127625,
          0.8931260108947754,
          0.7149648666381836,
          0.8411262035369873,
          0.8774217963218689,
          0.6698508262634277,
          0.8914867043495178,
          0.8538530468940735,
          0.8792238831520081,
          0.7765938639640808,
          0.8803394436836243,
          0.8334570527076721,
          0.6389371752738953,
          0.7763025164604187,
          0.8648621439933777,
          0.7951211929321289,
          0.8944203853607178,
          0.8408992886543274,
          0.8749117851257324,
          0.9179811477661132,
          0.8651320934295654,
          0.8730654716491699
         ],
         "xaxis": "x",
         "yaxis": "y"
        }
       ],
       "layout": {
        "annotations": [
         {
          "showarrow": false,
          "text": "perfect similarity",
          "textangle": 90,
          "x": 1,
          "xanchor": "left",
          "xref": "x",
          "y": 0,
          "yanchor": "bottom",
          "yref": "y domain"
         }
        ],
        "barmode": "overlay",
        "font": {
         "family": "CMU Sans Serif"
        },
        "height": 250,
        "legend": {
         "title": {
          "text": "Top 1"
         },
         "tracegroupgap": 0
        },
        "margin": {
         "b": 0,
         "l": 0,
         "r": 0,
         "t": 0
        },
        "plot_bgcolor": "white",
        "shapes": [
         {
          "line": {
           "dash": "dot"
          },
          "type": "line",
          "x0": 1,
          "x1": 1,
          "xref": "x",
          "y0": 0,
          "y1": 1,
          "yref": "y domain"
         }
        ],
        "template": {
         "data": {
          "bar": [
           {
            "error_x": {
             "color": "#2a3f5f"
            },
            "error_y": {
             "color": "#2a3f5f"
            },
            "marker": {
             "line": {
              "color": "#E5ECF6",
              "width": 0.5
             },
             "pattern": {
              "fillmode": "overlay",
              "size": 10,
              "solidity": 0.2
             }
            },
            "type": "bar"
           }
          ],
          "barpolar": [
           {
            "marker": {
             "line": {
              "color": "#E5ECF6",
              "width": 0.5
             },
             "pattern": {
              "fillmode": "overlay",
              "size": 10,
              "solidity": 0.2
             }
            },
            "type": "barpolar"
           }
          ],
          "carpet": [
           {
            "aaxis": {
             "endlinecolor": "#2a3f5f",
             "gridcolor": "white",
             "linecolor": "white",
             "minorgridcolor": "white",
             "startlinecolor": "#2a3f5f"
            },
            "baxis": {
             "endlinecolor": "#2a3f5f",
             "gridcolor": "white",
             "linecolor": "white",
             "minorgridcolor": "white",
             "startlinecolor": "#2a3f5f"
            },
            "type": "carpet"
           }
          ],
          "choropleth": [
           {
            "colorbar": {
             "outlinewidth": 0,
             "ticks": ""
            },
            "type": "choropleth"
           }
          ],
          "contour": [
           {
            "colorbar": {
             "outlinewidth": 0,
             "ticks": ""
            },
            "colorscale": [
             [
              0,
              "#0d0887"
             ],
             [
              0.1111111111111111,
              "#46039f"
             ],
             [
              0.2222222222222222,
              "#7201a8"
             ],
             [
              0.3333333333333333,
              "#9c179e"
             ],
             [
              0.4444444444444444,
              "#bd3786"
             ],
             [
              0.5555555555555556,
              "#d8576b"
             ],
             [
              0.6666666666666666,
              "#ed7953"
             ],
             [
              0.7777777777777778,
              "#fb9f3a"
             ],
             [
              0.8888888888888888,
              "#fdca26"
             ],
             [
              1,
              "#f0f921"
             ]
            ],
            "type": "contour"
           }
          ],
          "contourcarpet": [
           {
            "colorbar": {
             "outlinewidth": 0,
             "ticks": ""
            },
            "type": "contourcarpet"
           }
          ],
          "heatmap": [
           {
            "colorbar": {
             "outlinewidth": 0,
             "ticks": ""
            },
            "colorscale": [
             [
              0,
              "#0d0887"
             ],
             [
              0.1111111111111111,
              "#46039f"
             ],
             [
              0.2222222222222222,
              "#7201a8"
             ],
             [
              0.3333333333333333,
              "#9c179e"
             ],
             [
              0.4444444444444444,
              "#bd3786"
             ],
             [
              0.5555555555555556,
              "#d8576b"
             ],
             [
              0.6666666666666666,
              "#ed7953"
             ],
             [
              0.7777777777777778,
              "#fb9f3a"
             ],
             [
              0.8888888888888888,
              "#fdca26"
             ],
             [
              1,
              "#f0f921"
             ]
            ],
            "type": "heatmap"
           }
          ],
          "heatmapgl": [
           {
            "colorbar": {
             "outlinewidth": 0,
             "ticks": ""
            },
            "colorscale": [
             [
              0,
              "#0d0887"
             ],
             [
              0.1111111111111111,
              "#46039f"
             ],
             [
              0.2222222222222222,
              "#7201a8"
             ],
             [
              0.3333333333333333,
              "#9c179e"
             ],
             [
              0.4444444444444444,
              "#bd3786"
             ],
             [
              0.5555555555555556,
              "#d8576b"
             ],
             [
              0.6666666666666666,
              "#ed7953"
             ],
             [
              0.7777777777777778,
              "#fb9f3a"
             ],
             [
              0.8888888888888888,
              "#fdca26"
             ],
             [
              1,
              "#f0f921"
             ]
            ],
            "type": "heatmapgl"
           }
          ],
          "histogram": [
           {
            "marker": {
             "pattern": {
              "fillmode": "overlay",
              "size": 10,
              "solidity": 0.2
             }
            },
            "type": "histogram"
           }
          ],
          "histogram2d": [
           {
            "colorbar": {
             "outlinewidth": 0,
             "ticks": ""
            },
            "colorscale": [
             [
              0,
              "#0d0887"
             ],
             [
              0.1111111111111111,
              "#46039f"
             ],
             [
              0.2222222222222222,
              "#7201a8"
             ],
             [
              0.3333333333333333,
              "#9c179e"
             ],
             [
              0.4444444444444444,
              "#bd3786"
             ],
             [
              0.5555555555555556,
              "#d8576b"
             ],
             [
              0.6666666666666666,
              "#ed7953"
             ],
             [
              0.7777777777777778,
              "#fb9f3a"
             ],
             [
              0.8888888888888888,
              "#fdca26"
             ],
             [
              1,
              "#f0f921"
             ]
            ],
            "type": "histogram2d"
           }
          ],
          "histogram2dcontour": [
           {
            "colorbar": {
             "outlinewidth": 0,
             "ticks": ""
            },
            "colorscale": [
             [
              0,
              "#0d0887"
             ],
             [
              0.1111111111111111,
              "#46039f"
             ],
             [
              0.2222222222222222,
              "#7201a8"
             ],
             [
              0.3333333333333333,
              "#9c179e"
             ],
             [
              0.4444444444444444,
              "#bd3786"
             ],
             [
              0.5555555555555556,
              "#d8576b"
             ],
             [
              0.6666666666666666,
              "#ed7953"
             ],
             [
              0.7777777777777778,
              "#fb9f3a"
             ],
             [
              0.8888888888888888,
              "#fdca26"
             ],
             [
              1,
              "#f0f921"
             ]
            ],
            "type": "histogram2dcontour"
           }
          ],
          "mesh3d": [
           {
            "colorbar": {
             "outlinewidth": 0,
             "ticks": ""
            },
            "type": "mesh3d"
           }
          ],
          "parcoords": [
           {
            "line": {
             "colorbar": {
              "outlinewidth": 0,
              "ticks": ""
             }
            },
            "type": "parcoords"
           }
          ],
          "pie": [
           {
            "automargin": true,
            "type": "pie"
           }
          ],
          "scatter": [
           {
            "fillpattern": {
             "fillmode": "overlay",
             "size": 10,
             "solidity": 0.2
            },
            "type": "scatter"
           }
          ],
          "scatter3d": [
           {
            "line": {
             "colorbar": {
              "outlinewidth": 0,
              "ticks": ""
             }
            },
            "marker": {
             "colorbar": {
              "outlinewidth": 0,
              "ticks": ""
             }
            },
            "type": "scatter3d"
           }
          ],
          "scattercarpet": [
           {
            "marker": {
             "colorbar": {
              "outlinewidth": 0,
              "ticks": ""
             }
            },
            "type": "scattercarpet"
           }
          ],
          "scattergeo": [
           {
            "marker": {
             "colorbar": {
              "outlinewidth": 0,
              "ticks": ""
             }
            },
            "type": "scattergeo"
           }
          ],
          "scattergl": [
           {
            "marker": {
             "colorbar": {
              "outlinewidth": 0,
              "ticks": ""
             }
            },
            "type": "scattergl"
           }
          ],
          "scattermapbox": [
           {
            "marker": {
             "colorbar": {
              "outlinewidth": 0,
              "ticks": ""
             }
            },
            "type": "scattermapbox"
           }
          ],
          "scatterpolar": [
           {
            "marker": {
             "colorbar": {
              "outlinewidth": 0,
              "ticks": ""
             }
            },
            "type": "scatterpolar"
           }
          ],
          "scatterpolargl": [
           {
            "marker": {
             "colorbar": {
              "outlinewidth": 0,
              "ticks": ""
             }
            },
            "type": "scatterpolargl"
           }
          ],
          "scatterternary": [
           {
            "marker": {
             "colorbar": {
              "outlinewidth": 0,
              "ticks": ""
             }
            },
            "type": "scatterternary"
           }
          ],
          "surface": [
           {
            "colorbar": {
             "outlinewidth": 0,
             "ticks": ""
            },
            "colorscale": [
             [
              0,
              "#0d0887"
             ],
             [
              0.1111111111111111,
              "#46039f"
             ],
             [
              0.2222222222222222,
              "#7201a8"
             ],
             [
              0.3333333333333333,
              "#9c179e"
             ],
             [
              0.4444444444444444,
              "#bd3786"
             ],
             [
              0.5555555555555556,
              "#d8576b"
             ],
             [
              0.6666666666666666,
              "#ed7953"
             ],
             [
              0.7777777777777778,
              "#fb9f3a"
             ],
             [
              0.8888888888888888,
              "#fdca26"
             ],
             [
              1,
              "#f0f921"
             ]
            ],
            "type": "surface"
           }
          ],
          "table": [
           {
            "cells": {
             "fill": {
              "color": "#EBF0F8"
             },
             "line": {
              "color": "white"
             }
            },
            "header": {
             "fill": {
              "color": "#C8D4E3"
             },
             "line": {
              "color": "white"
             }
            },
            "type": "table"
           }
          ]
         },
         "layout": {
          "annotationdefaults": {
           "arrowcolor": "#2a3f5f",
           "arrowhead": 0,
           "arrowwidth": 1
          },
          "autotypenumbers": "strict",
          "coloraxis": {
           "colorbar": {
            "outlinewidth": 0,
            "ticks": ""
           }
          },
          "colorscale": {
           "diverging": [
            [
             0,
             "#8e0152"
            ],
            [
             0.1,
             "#c51b7d"
            ],
            [
             0.2,
             "#de77ae"
            ],
            [
             0.3,
             "#f1b6da"
            ],
            [
             0.4,
             "#fde0ef"
            ],
            [
             0.5,
             "#f7f7f7"
            ],
            [
             0.6,
             "#e6f5d0"
            ],
            [
             0.7,
             "#b8e186"
            ],
            [
             0.8,
             "#7fbc41"
            ],
            [
             0.9,
             "#4d9221"
            ],
            [
             1,
             "#276419"
            ]
           ],
           "sequential": [
            [
             0,
             "#0d0887"
            ],
            [
             0.1111111111111111,
             "#46039f"
            ],
            [
             0.2222222222222222,
             "#7201a8"
            ],
            [
             0.3333333333333333,
             "#9c179e"
            ],
            [
             0.4444444444444444,
             "#bd3786"
            ],
            [
             0.5555555555555556,
             "#d8576b"
            ],
            [
             0.6666666666666666,
             "#ed7953"
            ],
            [
             0.7777777777777778,
             "#fb9f3a"
            ],
            [
             0.8888888888888888,
             "#fdca26"
            ],
            [
             1,
             "#f0f921"
            ]
           ],
           "sequentialminus": [
            [
             0,
             "#0d0887"
            ],
            [
             0.1111111111111111,
             "#46039f"
            ],
            [
             0.2222222222222222,
             "#7201a8"
            ],
            [
             0.3333333333333333,
             "#9c179e"
            ],
            [
             0.4444444444444444,
             "#bd3786"
            ],
            [
             0.5555555555555556,
             "#d8576b"
            ],
            [
             0.6666666666666666,
             "#ed7953"
            ],
            [
             0.7777777777777778,
             "#fb9f3a"
            ],
            [
             0.8888888888888888,
             "#fdca26"
            ],
            [
             1,
             "#f0f921"
            ]
           ]
          },
          "colorway": [
           "#636efa",
           "#EF553B",
           "#00cc96",
           "#ab63fa",
           "#FFA15A",
           "#19d3f3",
           "#FF6692",
           "#B6E880",
           "#FF97FF",
           "#FECB52"
          ],
          "font": {
           "color": "#2a3f5f"
          },
          "geo": {
           "bgcolor": "white",
           "lakecolor": "white",
           "landcolor": "#E5ECF6",
           "showlakes": true,
           "showland": true,
           "subunitcolor": "white"
          },
          "hoverlabel": {
           "align": "left"
          },
          "hovermode": "closest",
          "mapbox": {
           "style": "light"
          },
          "paper_bgcolor": "white",
          "plot_bgcolor": "#E5ECF6",
          "polar": {
           "angularaxis": {
            "gridcolor": "white",
            "linecolor": "white",
            "ticks": ""
           },
           "bgcolor": "#E5ECF6",
           "radialaxis": {
            "gridcolor": "white",
            "linecolor": "white",
            "ticks": ""
           }
          },
          "scene": {
           "xaxis": {
            "backgroundcolor": "#E5ECF6",
            "gridcolor": "white",
            "gridwidth": 2,
            "linecolor": "white",
            "showbackground": true,
            "ticks": "",
            "zerolinecolor": "white"
           },
           "yaxis": {
            "backgroundcolor": "#E5ECF6",
            "gridcolor": "white",
            "gridwidth": 2,
            "linecolor": "white",
            "showbackground": true,
            "ticks": "",
            "zerolinecolor": "white"
           },
           "zaxis": {
            "backgroundcolor": "#E5ECF6",
            "gridcolor": "white",
            "gridwidth": 2,
            "linecolor": "white",
            "showbackground": true,
            "ticks": "",
            "zerolinecolor": "white"
           }
          },
          "shapedefaults": {
           "line": {
            "color": "#2a3f5f"
           }
          },
          "ternary": {
           "aaxis": {
            "gridcolor": "white",
            "linecolor": "white",
            "ticks": ""
           },
           "baxis": {
            "gridcolor": "white",
            "linecolor": "white",
            "ticks": ""
           },
           "bgcolor": "#E5ECF6",
           "caxis": {
            "gridcolor": "white",
            "linecolor": "white",
            "ticks": ""
           }
          },
          "title": {
           "x": 0.05
          },
          "xaxis": {
           "automargin": true,
           "gridcolor": "white",
           "linecolor": "white",
           "ticks": "",
           "title": {
            "standoff": 15
           },
           "zerolinecolor": "white",
           "zerolinewidth": 2
          },
          "yaxis": {
           "automargin": true,
           "gridcolor": "white",
           "linecolor": "white",
           "ticks": "",
           "title": {
            "standoff": 15
           },
           "zerolinecolor": "white",
           "zerolinewidth": 2
          }
         }
        },
        "width": 404.508497175,
        "xaxis": {
         "anchor": "y",
         "domain": [
          0,
          1
         ],
         "range": [
          0.5,
          1
         ],
         "showgrid": false,
         "showline": false,
         "tickcolor": "rgb(120, 120, 120)",
         "ticklen": 5,
         "ticks": "outside",
         "tickvals": [
          0.6,
          0.7,
          0.7999999999999999,
          0.8999999999999999,
          0.9999999999999999,
          1.0999999999999999
         ],
         "tickwidth": 1,
         "title": {
          "text": "cosine similarity"
         },
         "zeroline": false
        },
        "yaxis": {
         "anchor": "x",
         "domain": [
          0,
          1
         ],
         "gridcolor": "rgba(173, 216, 230, 0.3)",
         "gridwidth": 1,
         "showgrid": false,
         "showline": false,
         "tickcolor": "rgb(120, 120, 120)",
         "ticklen": 5,
         "ticks": "outside",
         "tickwidth": 1,
         "title": {
          "text": "count"
         },
         "zeroline": false
        }
       }
      }
     },
     "metadata": {},
     "output_type": "display_data"
    },
    {
     "data": {
      "application/vnd.plotly.v1+json": {
       "config": {
        "plotlyServerURL": "https://plot.ly"
       },
       "data": [
        {
         "alignmentgroup": "True",
         "bingroup": "x",
         "hovertemplate": "Top 5=True<br>best_score=%{x}<br>count=%{y}<extra></extra>",
         "legendgroup": "True",
         "marker": {
          "color": "rgb(152, 86, 86)",
          "line": {
           "color": "DarkSlateGrey",
           "width": 0.2
          },
          "opacity": 0.5,
          "pattern": {
           "shape": ""
          }
         },
         "name": "True",
         "nbinsx": 30,
         "offsetgroup": "True",
         "opacity": 1,
         "orientation": "v",
         "showlegend": true,
         "type": "histogram",
         "x": [
          0.9341856837272644,
          0.870604932308197,
          0.8201072812080383,
          0.9002046585083008,
          0.9092275500297546,
          0.90948224067688,
          0.9236085414886476,
          0.9020073413848876,
          0.9268882870674132,
          0.8916189670562744,
          0.8667073249816895,
          0.894974946975708,
          0.903291404247284,
          0.9359109997749328,
          0.9055249094963074,
          0.7688820958137512,
          0.8507476449012756,
          0.9197999835014344,
          0.9235647320747375,
          0.9461750984191896,
          0.9337528347969056,
          0.8718451857566833,
          0.9098743796348572,
          0.9063963890075684,
          0.8602045178413391,
          0.8948753476142883,
          0.8719852566719055,
          0.9095284342765808,
          0.93304842710495,
          0.8745808601379395,
          0.8680000305175781,
          0.8981709480285645,
          0.9239187240600586,
          0.9066829681396484,
          0.7548858523368835,
          0.921501398086548,
          0.9098081588745116,
          0.9136590361595154,
          0.9245960116386414,
          0.836341381072998,
          0.8147218823432922,
          0.9118881225585938,
          0.8980627059936523,
          0.8687158226966858,
          0.840294361114502,
          0.8913955688476562,
          0.8477694392204285,
          0.8941697478294373,
          0.9210515022277832,
          0.8755321502685547,
          0.8790825009346008,
          0.8499038815498352,
          0.8598337769508362,
          0.8483359217643738,
          0.9158304333686828,
          0.8902544975280762,
          0.9345299601554872,
          0.8914079666137695,
          0.897741973400116,
          0.9413161277770996,
          0.921863853931427,
          0.8270714282989502,
          0.8317718505859375,
          0.7968083024024963,
          0.9123886227607728,
          0.9114511013031006,
          0.9351800084114076,
          0.9275733828544616,
          0.9473955035209656,
          0.817815363407135,
          0.950632393360138,
          0.8262335658073425,
          0.8744053840637207,
          0.9200296998023988,
          0.9142245650291444,
          0.9328722953796388,
          0.891096293926239,
          0.9048946499824524,
          0.9258796572685242,
          0.8854045271873474,
          0.9516477584838868,
          0.8332379460334778,
          0.9371193051338196,
          0.8910157680511475,
          0.865227997303009,
          0.9200751781463624,
          0.8952575325965881,
          0.8923537135124207,
          0.8721485137939453,
          0.9154756665229796,
          0.8324839472770691,
          0.9160885810852052,
          0.9248211979866028,
          0.8992447853088379,
          0.8630852699279785,
          0.8800275921821594,
          0.8990536332130432,
          0.9061398506164552,
          0.8945669531822205,
          0.8216466903686523,
          0.9308626055717468,
          0.9038529992103576,
          0.9295583367347716,
          0.684786856174469,
          0.8751950860023499,
          0.8496440052986145,
          0.9135823249816896,
          0.9213703274726868,
          0.9136262536048888,
          0.898306667804718,
          0.8479970097541809,
          0.8561270833015442,
          0.8703303337097168,
          0.8912830948829651,
          0.8788817524909973,
          0.8903570175170898,
          0.8664218783378601,
          0.8939020037651062,
          0.9303801655769348,
          0.9043272137641908,
          0.8553428053855896,
          0.9174373745918274,
          0.8888848423957825,
          0.9497756361961364,
          0.8963112831115723,
          0.9477668404579164,
          0.9248619079589844,
          0.869489848613739,
          0.912830114364624,
          0.8839914202690125,
          0.8806917071342468,
          0.9115622639656068,
          0.884661853313446,
          0.9245970845222472,
          0.9454850554466248,
          0.8118846416473389,
          0.8643906712532043,
          0.8300486207008362,
          0.9267361164093018,
          0.8861995339393616,
          0.8718605637550354,
          0.919363021850586,
          0.9032487869262696,
          0.8471770286560059,
          0.9191659092903136,
          0.8820815086364746,
          0.8889002203941345,
          0.9046571850776672,
          0.9090045094490052,
          0.926381289958954,
          0.8963767886161804,
          0.8322268128395081,
          0.8583250045776367,
          0.8802523612976074,
          0.8525727391242981,
          0.8597145080566406,
          0.9156503677368164,
          0.9068378806114196,
          0.9058923721313475,
          0.9175691604614258,
          0.923931360244751,
          0.9257760643959044,
          0.8577896952629089,
          0.862118661403656,
          0.8947364687919617,
          0.8896563649177551,
          0.9365944862365724,
          0.8449807167053223,
          0.8614732623100281,
          0.9037914872169496,
          0.9260393977165222,
          0.878316342830658,
          0.8580287098884583,
          0.8917656540870667,
          0.9219891428947448,
          0.9196057319641112,
          0.8891423344612122,
          0.871819019317627,
          0.9054169654846193,
          0.9539335370063782,
          0.8993862271308899,
          0.9124987721443176,
          0.8772838711738586,
          0.901909351348877,
          0.9277029037475586,
          0.8777040839195251,
          0.8948243260383606,
          0.8925606608390808,
          0.9054080843925476,
          0.9154589772224426,
          0.8569677472114563,
          0.8711149096488953,
          0.9342343211174012,
          0.7733685374259949,
          0.7968538403511047,
          0.8330556750297546,
          0.9127655625343324,
          0.8887372612953186,
          0.7982230186462402,
          0.8032142519950867,
          0.8828484416007996,
          0.8854119777679443,
          0.8452339768409729,
          0.9071474671363832,
          0.9162426590919496,
          0.849360466003418,
          0.9446752667427064,
          0.890688955783844,
          0.89992755651474,
          0.9058310389518738,
          0.922369658946991,
          0.9017510414123536,
          0.8912491798400879,
          0.8931695818901062,
          0.8911647796630859,
          0.9315690994262696,
          0.8320708870887756,
          0.9268052577972412,
          0.8619623780250549,
          0.9323905110359192,
          0.9030466079711914,
          0.9128270149230956,
          0.922174632549286,
          0.8931990265846252,
          0.935603678226471,
          0.9297487139701844,
          0.9103935360908508,
          0.9066211581230164,
          0.8570517897605896,
          0.8842077851295471,
          0.8792764544487,
          0.8954222798347473,
          0.8984808325767517,
          0.897305428981781,
          0.9086378216743468,
          0.8327655792236328,
          0.8587881922721863,
          0.8990669250488281,
          0.9160112738609314,
          0.9100780487060548,
          0.891533613204956,
          0.9061558842658995,
          0.877949059009552,
          0.8804302215576172,
          0.9279757142066956,
          0.8837141990661621,
          0.8646861910820007,
          0.8880617618560791,
          0.862507164478302,
          0.835113525390625,
          0.8703980445861816,
          0.9060657024383544,
          0.8812358975410461,
          0.91468745470047,
          0.9508347511291504,
          0.8778017163276672,
          0.8981143832206726,
          0.8757719993591309,
          0.8676058650016785,
          0.9507490992546082,
          0.9240818619728088,
          0.8783168792724609,
          0.9108875393867492,
          0.90136981010437,
          0.7981720566749573,
          0.8950974345207214,
          0.9296360611915588,
          0.8618965148925781,
          0.8822175860404968,
          0.8371804356575012,
          0.906329870223999,
          0.8580252528190613,
          0.8825117945671082,
          0.8732094764709473,
          0.868532657623291,
          0.9021449089050292,
          0.8979948163032532,
          0.9316772818565368,
          0.8866254687309265,
          0.934121310710907,
          0.8522974848747253,
          0.9313047528266908,
          0.8374261856079102,
          0.8779522776603699,
          0.8935079574584961,
          0.915931224822998,
          0.929807186126709,
          0.8980811238288879,
          0.9149348735809326,
          0.8859386444091797,
          0.8158397674560547,
          0.9304394721984864,
          0.939070999622345,
          0.8399766087532043,
          0.8996017575263977,
          0.8369081020355225,
          0.8863916993141174,
          0.9056429862976074,
          0.8535928726196289,
          0.7540791034698486,
          0.8896691203117371,
          0.9123328328132628,
          0.9093943238258362,
          0.8635323643684387,
          0.8827285170555115,
          0.9081380367279052,
          0.8763313293457031,
          0.8662284016609192,
          0.9315363764762878,
          0.8592534065246582,
          0.840362548828125,
          0.8972930908203125,
          0.8881244659423828,
          0.914851725101471,
          0.9476823806762696,
          0.8187362551689148,
          0.931052029132843,
          0.8986639976501465,
          0.856621503829956,
          0.8804141879081726,
          0.9194104075431824,
          0.8918452262878418,
          0.8308671116828918,
          0.9034693837165833,
          0.9207944273948668,
          0.921531856060028,
          0.8575647473335266,
          0.9497189521789552,
          0.8819271922111511,
          0.84187251329422,
          0.9105551242828368,
          0.9228543639183044,
          0.9080396294593812,
          0.8099570274353027,
          0.9322843551635742,
          0.9140160083770752,
          0.7802679538726807,
          0.853253185749054,
          0.9276158213615416,
          0.8573828339576721,
          0.8483729362487793,
          0.9139980673789978,
          0.8952848315238953,
          0.9401662349700928,
          0.9297576546669006,
          0.8982963562011719,
          0.906508445739746,
          0.9339740872383118,
          0.8940639495849609,
          0.8962803483009338,
          0.8823370933532715,
          0.9318035244941713,
          0.8710100054740906,
          0.9081032276153564,
          0.8958337903022766,
          0.9096224904060364,
          0.9428424835205078,
          0.8896427154541016,
          0.8010251522064209,
          0.8649213314056396,
          0.9181211590766908,
          0.9185875058174132,
          0.9224227070808412,
          0.9009904265403748,
          0.8990461230278015,
          0.9168317317962646,
          0.9251301288604736,
          0.8817408084869385,
          0.8592982292175293,
          0.9205009937286376,
          0.9264823794364928,
          0.8723204135894775,
          0.8444749712944031,
          0.9173426032066344,
          0.9184820055961608,
          0.8174943327903748,
          0.9168422222137452,
          0.8873436450958252,
          0.9062795639038086,
          0.9142348170280457,
          0.9110148549079896,
          0.9266654849052428,
          0.903669536113739,
          0.9085747599601746,
          0.9208831191062928,
          0.9342580437660216,
          0.9235023856163024,
          0.8589817881584167,
          0.9011229872703552,
          0.9400973320007324,
          0.928769052028656,
          0.7718877196311951,
          0.9306278824806212,
          0.8346700668334961,
          0.8108615279197693,
          0.9303469657897948,
          0.8922433853149414,
          0.8730788230895996,
          0.9219026565551758,
          0.8875823020935059,
          0.8766595721244812,
          0.9416780471801758,
          0.8835474848747253,
          0.8735397458076477,
          0.8567021489143372,
          0.8754522800445557,
          0.9129478335380554,
          0.90891432762146,
          0.8872144818305969,
          0.7148346900939941,
          0.8998055458068848,
          0.927646815776825,
          0.917349636554718,
          0.8944482803344727,
          0.868503749370575,
          0.9352943897247314,
          0.8910074234008789,
          0.9082090258598328,
          0.8929793238639832,
          0.9119723439216614,
          0.9107242226600648,
          0.8352160453796387,
          0.8741270899772644,
          0.7940970063209534,
          0.8960258364677429,
          0.9149976372718812,
          0.8994333744049072,
          0.8582494854927063,
          0.916893720626831,
          0.8788912892341614,
          0.9067394137382508,
          0.9304320216178894,
          0.8965933918952942,
          0.8700777888298035,
          0.8712514042854309,
          0.8968431353569031,
          0.9012039303779602,
          0.8417122960090637,
          0.8449479937553406,
          0.9120805859565736,
          0.8576946258544922,
          0.9397530555725098,
          0.8371105790138245,
          0.9409777522087096,
          0.772072970867157,
          0.8886032104492188,
          0.8110551834106445,
          0.8346018195152283,
          0.9325867295265198,
          0.9146924018859864,
          0.9181969165802002,
          0.8656752705574036,
          0.9120573401451112,
          0.9225635528564452,
          0.9037922024726868,
          0.9084946513175964,
          0.941844642162323,
          0.8834443688392639,
          0.9299087524414062,
          0.916143238544464,
          0.9504733085632324,
          0.8985121846199036,
          0.9224888682365416,
          0.8883511424064636,
          0.9288285374641418,
          0.8679175972938538,
          0.908188819885254,
          0.925271213054657,
          0.8719226717948914,
          0.8913996815681458,
          0.8923006653785706,
          0.8559355735778809,
          0.9309199452400208,
          0.8350949883460999,
          0.8732080459594727,
          0.8750899434089661,
          0.8366138935089111,
          0.9239797592163086,
          0.8084123730659485,
          0.9274754524230956,
          0.9349047541618348,
          0.9176270365715028,
          0.899005651473999,
          0.8596009612083435,
          0.8668341636657715,
          0.8894317150115967,
          0.9117690920829772,
          0.9274885654449464,
          0.7927713394165039,
          0.9341629147529602,
          0.8381366729736328,
          0.9366743564605712,
          0.8784869313240051,
          0.9098322987556458,
          0.9206819534301758,
          0.8481786251068115,
          0.9151269793510436,
          0.8587214350700378,
          0.9128627181053162,
          0.9159628748893738,
          0.8433067798614502,
          0.9264594912528992,
          0.922955334186554,
          0.9106340408325196,
          0.9371424317359924,
          0.9377202391624452,
          0.8808588981628418,
          0.9193754196166992,
          0.8735232949256897,
          0.923245906829834,
          0.919967234134674,
          0.9115855097770692,
          0.907348930835724,
          0.9368641972541808,
          0.8774247169494629,
          0.914336919784546,
          0.8657719492912292,
          0.9079321026802064,
          0.9263949394226074,
          0.8752150535583496,
          0.9134095311164856,
          0.861254870891571,
          0.9134038090705872,
          0.9077402949333192,
          0.9023287892341614,
          0.8980086445808411,
          0.9046802520751952,
          0.9105091094970704,
          0.8780642151832581,
          0.8534591197967529,
          0.8900560736656189,
          0.8974210619926453,
          0.918755054473877,
          0.9260337352752686,
          0.8975426554679871,
          0.8622746467590332,
          0.8805792927742004,
          0.9203760027885436,
          0.82914137840271,
          0.8753032684326172,
          0.8676508069038391,
          0.9052870869636536,
          0.9076853394508362,
          0.9264692664146424,
          0.8557187914848328,
          0.8977081179618835,
          0.8458418250083923,
          0.857661783695221,
          0.8189333081245422,
          0.9401361346244812,
          0.9062712788581848,
          0.8778123259544373,
          0.9319815039634703,
          0.8813274502754211,
          0.7801762223243713,
          0.8612887859344482,
          0.8880687355995178,
          0.8875524401664734,
          0.8747334480285645,
          0.9008255004882812,
          0.8444004058837891,
          0.9094708561897278,
          0.8717148303985596,
          0.8438613414764404,
          0.9306758046150208,
          0.8654851913452148,
          0.880718469619751,
          0.7913641333580017,
          0.8841031193733215,
          0.923128604888916,
          0.8959627151489258,
          0.8392764925956726,
          0.8711715340614319,
          0.8934845924377441,
          0.8638739585876465,
          0.8113574385643005,
          0.8800304532051086,
          0.8867500424385071,
          0.9262781143188475,
          0.8644478917121887,
          0.8994308114051819,
          0.9287431240081788,
          0.8655725121498108,
          0.9211103916168212,
          0.8235475420951843,
          0.926799476146698,
          0.7745040059089661,
          0.9294192790985109,
          0.9417497515678406,
          0.8976478576660156,
          0.8668120503425598,
          0.8696549534797668,
          0.8810194134712219,
          0.8712077736854553,
          0.9200922846794128,
          0.8627047538757324,
          0.8621973991394043,
          0.8195123672485352,
          0.9280501008033752,
          0.9029161930084229,
          0.8842949867248535,
          0.89703768491745,
          0.8931007981300354,
          0.8732703328132629,
          0.901427447795868,
          0.9203136563301086,
          0.9108452200889589,
          0.8792799115180969,
          0.8287294507026672,
          0.8959444165229797,
          0.9120234847068788,
          0.92672997713089,
          0.9139373898506165,
          0.9197594523429872,
          0.9031838774681092,
          0.9051454663276672,
          0.8586726188659668,
          0.9343438744544984,
          0.9235773086547852,
          0.9319729208946228,
          0.9187359809875488,
          0.8935471177101135,
          0.9159550666809082,
          0.9245864748954772,
          0.8765574097633362,
          0.8932766318321228,
          0.7788781523704529,
          0.8603640198707581,
          0.8580682277679443,
          0.8814888596534729,
          0.8964921832084656,
          0.9520682692527772,
          0.9047164916992188,
          0.8932790756225586,
          0.876724898815155,
          0.8971319198608398,
          0.9422280192375184,
          0.9073030352592468,
          0.9241226315498352,
          0.8835228085517883,
          0.9098119139671326,
          0.8562234044075012,
          0.8646786212921143,
          0.9283928871154784,
          0.8715924620628357,
          0.88909912109375,
          0.9060096144676208,
          0.8985845446586609,
          0.8824604153633118,
          0.8965960144996643,
          0.861685574054718,
          0.8853011131286621,
          0.8808755874633789,
          0.8808255195617676,
          0.8761212229728699,
          0.8974206447601318,
          0.914633333683014,
          0.9351277947425842,
          0.8980873227119446,
          0.8654723167419434,
          0.8966425061225891,
          0.8934297561645508,
          0.9348604083061218,
          0.87516188621521,
          0.7648000717163086,
          0.8981518745422363,
          0.95755797624588,
          0.9104002118110656,
          0.9099811911582948,
          0.9072468876838684,
          0.8769999146461487,
          0.8653032183647156,
          0.88031005859375,
          0.8976526260375977,
          0.8502516746520996,
          0.9314818382263184,
          0.9262424111366272,
          0.8556739687919617,
          0.8672075867652893,
          0.8857707381248474,
          0.9116864204406738,
          0.813391387462616,
          0.8483619689941406,
          0.8862683176994324,
          0.8932008147239685,
          0.9120230078697203,
          0.8989202380180359,
          0.9097988605499268,
          0.8986496925354004,
          0.8991199135780334,
          0.7143791317939758,
          0.894642174243927,
          0.9256626963615416,
          0.8936150074005127,
          0.9081149697303772,
          0.9203228950500488,
          0.8567405343055725,
          0.899432897567749,
          0.9215216636657716,
          0.9159119725227356,
          0.8769925236701965,
          0.8717781901359558,
          0.8952034115791321,
          0.942371129989624,
          0.926262378692627,
          0.8263948559761047,
          0.9302056431770324,
          0.9226850867271424,
          0.9250832200050354,
          0.9298446774482728,
          0.8771657943725586,
          0.8718261122703552,
          0.9180364608764648,
          0.931929886341095,
          0.9358698725700378,
          0.9098532795906068,
          0.8784844875335693,
          0.8546436429023743,
          0.920381724834442,
          0.8824949264526367,
          0.8945476412773132,
          0.8409810066223145,
          0.9055206775665284,
          0.9029043316841124,
          0.9327068328857422,
          0.8557310700416565,
          0.8742033839225769,
          0.8723686337471008,
          0.8898900151252747,
          0.8942182064056396,
          0.8980072140693665,
          0.8812869191169739,
          0.8771214485168457,
          0.8529908061027527,
          0.8069934844970703,
          0.8598175644874573,
          0.8517869114875793,
          0.8709478378295898,
          0.8846297860145569,
          0.8891833424568176,
          0.9244142174720764,
          0.9337220191955566,
          0.9286447167396544,
          0.884198009967804,
          0.8859716057777405,
          0.865630567073822,
          0.8966178894042969,
          0.7973911762237549,
          0.8813726305961609,
          0.8471514582633972,
          0.8716815114021301,
          0.8900348544120789,
          0.9177221655845642,
          0.8860042691230774,
          0.924705684185028,
          0.9116430282592772,
          0.8757316470146179,
          0.9345905780792236,
          0.8939347267150879,
          0.9004759788513184,
          0.9202682375907898,
          0.8295285701751709,
          0.9144068360328674,
          0.9134820103645324,
          0.9020843505859376,
          0.9298226237297058,
          0.8913721442222595,
          0.8459132313728333,
          0.8573708534240723,
          0.9277365803718568,
          0.9123730063438416,
          0.8920698165893555,
          0.888836145401001,
          0.8786017298698425,
          0.9077643752098083,
          0.896913468837738,
          0.9724306464195251,
          0.8927131295204163,
          0.8891348242759705,
          0.9285969734191896,
          0.8679807782173157,
          0.7656800150871277,
          0.8645426630973816,
          0.9201110005378724,
          0.909485399723053,
          0.9130086898803712,
          0.8384738564491272,
          0.8314620852470398,
          0.8760092258453369,
          0.8921205997467041,
          0.9002636075019836,
          0.8372510075569153,
          0.8592772483825684,
          0.8611004948616028,
          0.8839214444160461,
          0.8695874810218811,
          0.916124165058136,
          0.8931260108947754,
          0.9108818173408508,
          0.8888309597969055,
          0.8956703543663025,
          0.9229952692985536,
          0.8797462582588196,
          0.9120176434516908,
          0.9366338849067688,
          0.920029640197754,
          0.8411262035369873,
          0.9127233028411864,
          0.910904586315155,
          0.910243809223175,
          0.842795193195343,
          0.9107314944267272,
          0.9155381321907043,
          0.9471468925476074,
          0.8774217963218689,
          0.872707188129425,
          0.8104256987571716,
          0.8914867043495178,
          0.932608127593994,
          0.9107043743133544,
          0.8464104533195496,
          0.8754326701164246,
          0.9228241443634032,
          0.8538530468940735,
          0.9146990180015564,
          0.8971081376075745,
          0.9308002591133118,
          0.7765938639640808,
          0.9097930788993835,
          0.9283096194267272,
          0.8904516696929932,
          0.8582490086555481,
          0.8784690499305725,
          0.8956108689308167,
          0.8977468609809875,
          0.9033182263374328,
          0.8540053367614746,
          0.8728516101837158,
          0.9218635559082032,
          0.9340352416038512,
          0.8961980938911438,
          0.9048493504524232,
          0.889839231967926,
          0.8789100646972656,
          0.9174123406410216,
          0.9059578776359558,
          0.9152374267578124,
          0.8468095660209656,
          0.8983898758888245,
          0.8494895100593567,
          0.9166532158851624,
          0.8648621439933777,
          0.9385022521018982,
          0.8944203853607178,
          0.8739097714424133,
          0.8408992886543274,
          0.9009097218513488,
          0.9180102348327636,
          0.8749117851257324,
          0.9125723838806152,
          0.9295222163200378,
          0.905340015888214,
          0.8338068127632141,
          0.8926826119422913,
          0.8712785840034485,
          0.9290701746940612,
          0.9086635112762452,
          0.9166327118873596,
          0.9478759765625,
          0.9202005863189696,
          0.9155049324035645,
          0.9179811477661132,
          0.9225430488586426,
          0.9323157668113708,
          0.9287105202674866,
          0.9174885749816896,
          0.8651320934295654,
          0.8730654716491699,
          0.8517284989356995
         ],
         "xaxis": "x",
         "yaxis": "y"
        },
        {
         "alignmentgroup": "True",
         "bingroup": "x",
         "hovertemplate": "Top 5=False<br>best_score=%{x}<br>count=%{y}<extra></extra>",
         "legendgroup": "False",
         "marker": {
          "color": "rgb(152, 146, 186)",
          "line": {
           "color": "DarkSlateGrey",
           "width": 0.2
          },
          "opacity": 0.5,
          "pattern": {
           "shape": ""
          }
         },
         "name": "False",
         "nbinsx": 30,
         "offsetgroup": "False",
         "opacity": 1,
         "orientation": "v",
         "showlegend": true,
         "type": "histogram",
         "x": [
          0.8304759860038757,
          0.8158319592475891,
          0.8665885925292969,
          0.8908098340034485,
          0.6164323687553406,
          0.7761929631233215,
          0.6070111393928528,
          0.9064161777496338,
          0.8841152787208557,
          0.7685653567314148,
          0.8618311882019043,
          0.8852182030677795,
          0.912987232208252,
          0.7277321219444275,
          0.6551876664161682,
          0.7768466472625732,
          0.8475110530853271,
          0.8890848159790039,
          0.6068989038467407,
          0.8781024813652039,
          0.8777818083763123,
          0.8365249037742615,
          0.836341381072998,
          0.7379732728004456,
          0.7607024312019348,
          0.7350957989692688,
          0.7685306072235107,
          0.7864556312561035,
          0.6898514628410339,
          0.8281461596488953,
          0.7439859509468079,
          0.6679396629333496,
          0.8609711527824402,
          0.734329879283905,
          0.7216501832008362,
          0.7879233360290527,
          0.8918607831001282,
          0.8445056080818176,
          0.5632674694061279,
          0.805997908115387,
          0.8607075810432434,
          0.8537638187408447,
          0.9091315865516664,
          0.8402484059333801,
          0.894281804561615,
          0.7496656775474548,
          0.8530269265174866,
          0.7000365257263184,
          0.8203926086425781,
          0.8343140482902527,
          0.6977083086967468,
          0.7908785939216614,
          0.71184903383255,
          0.8272848129272461,
          0.9115554690361024,
          0.7470418810844421,
          0.7950035929679871,
          0.8029270172119141,
          0.901662826538086,
          0.8423855900764465,
          0.8849377632141113,
          0.8068025708198547,
          0.8148840069770813,
          0.8653035759925842,
          0.8676126599311829,
          0.8697071671485901,
          0.7298042178153992,
          0.8499727845191956,
          0.8113973140716553,
          0.8026638627052307,
          0.8925740718841553,
          0.6550797820091248,
          0.8884789347648621,
          0.8240869045257568,
          0.8218135237693787,
          0.6838350296020508,
          0.7196730971336365,
          0.7176907062530518,
          0.8111971020698547,
          0.8716694712638855,
          0.6088051199913025,
          0.7688083052635193,
          0.6039125323295593,
          0.7425405383110046,
          0.8518214225769043,
          0.6691441535949707,
          0.9025383591651917,
          0.5470348000526428,
          0.7822647094726562,
          0.8248014450073242,
          0.7494552731513977,
          0.7587442398071289,
          0.8114145398139954,
          0.8217940330505371,
          0.7022884488105774,
          0.8329699635505676,
          0.920936405658722,
          0.8624046444892883,
          0.8593009114265442,
          0.8290464282035828,
          0.8243533968925476,
          0.8475539088249207,
          0.8760921359062195,
          0.6894457936286926,
          0.7268795967102051,
          0.9075767397880554,
          0.7512670159339905,
          0.8149495124816895,
          0.7759985327720642,
          0.7821134924888611,
          0.6980800628662109,
          0.8462550044059753,
          0.7420156598091125,
          0.8663522601127625,
          0.7149648666381836,
          0.6698508262634277,
          0.8792238831520081,
          0.8803394436836243,
          0.8334570527076721,
          0.6389371752738953,
          0.7763025164604187,
          0.7951211929321289
         ],
         "xaxis": "x",
         "yaxis": "y"
        }
       ],
       "layout": {
        "annotations": [
         {
          "showarrow": false,
          "text": "perfect similarity",
          "textangle": 90,
          "x": 1,
          "xanchor": "left",
          "xref": "x",
          "y": 0,
          "yanchor": "bottom",
          "yref": "y domain"
         }
        ],
        "barmode": "overlay",
        "font": {
         "family": "CMU Sans Serif"
        },
        "height": 250,
        "legend": {
         "title": {
          "text": "Top 5"
         },
         "tracegroupgap": 0
        },
        "margin": {
         "b": 0,
         "l": 0,
         "r": 0,
         "t": 0
        },
        "plot_bgcolor": "white",
        "shapes": [
         {
          "line": {
           "dash": "dot"
          },
          "type": "line",
          "x0": 1,
          "x1": 1,
          "xref": "x",
          "y0": 0,
          "y1": 1,
          "yref": "y domain"
         }
        ],
        "template": {
         "data": {
          "bar": [
           {
            "error_x": {
             "color": "#2a3f5f"
            },
            "error_y": {
             "color": "#2a3f5f"
            },
            "marker": {
             "line": {
              "color": "#E5ECF6",
              "width": 0.5
             },
             "pattern": {
              "fillmode": "overlay",
              "size": 10,
              "solidity": 0.2
             }
            },
            "type": "bar"
           }
          ],
          "barpolar": [
           {
            "marker": {
             "line": {
              "color": "#E5ECF6",
              "width": 0.5
             },
             "pattern": {
              "fillmode": "overlay",
              "size": 10,
              "solidity": 0.2
             }
            },
            "type": "barpolar"
           }
          ],
          "carpet": [
           {
            "aaxis": {
             "endlinecolor": "#2a3f5f",
             "gridcolor": "white",
             "linecolor": "white",
             "minorgridcolor": "white",
             "startlinecolor": "#2a3f5f"
            },
            "baxis": {
             "endlinecolor": "#2a3f5f",
             "gridcolor": "white",
             "linecolor": "white",
             "minorgridcolor": "white",
             "startlinecolor": "#2a3f5f"
            },
            "type": "carpet"
           }
          ],
          "choropleth": [
           {
            "colorbar": {
             "outlinewidth": 0,
             "ticks": ""
            },
            "type": "choropleth"
           }
          ],
          "contour": [
           {
            "colorbar": {
             "outlinewidth": 0,
             "ticks": ""
            },
            "colorscale": [
             [
              0,
              "#0d0887"
             ],
             [
              0.1111111111111111,
              "#46039f"
             ],
             [
              0.2222222222222222,
              "#7201a8"
             ],
             [
              0.3333333333333333,
              "#9c179e"
             ],
             [
              0.4444444444444444,
              "#bd3786"
             ],
             [
              0.5555555555555556,
              "#d8576b"
             ],
             [
              0.6666666666666666,
              "#ed7953"
             ],
             [
              0.7777777777777778,
              "#fb9f3a"
             ],
             [
              0.8888888888888888,
              "#fdca26"
             ],
             [
              1,
              "#f0f921"
             ]
            ],
            "type": "contour"
           }
          ],
          "contourcarpet": [
           {
            "colorbar": {
             "outlinewidth": 0,
             "ticks": ""
            },
            "type": "contourcarpet"
           }
          ],
          "heatmap": [
           {
            "colorbar": {
             "outlinewidth": 0,
             "ticks": ""
            },
            "colorscale": [
             [
              0,
              "#0d0887"
             ],
             [
              0.1111111111111111,
              "#46039f"
             ],
             [
              0.2222222222222222,
              "#7201a8"
             ],
             [
              0.3333333333333333,
              "#9c179e"
             ],
             [
              0.4444444444444444,
              "#bd3786"
             ],
             [
              0.5555555555555556,
              "#d8576b"
             ],
             [
              0.6666666666666666,
              "#ed7953"
             ],
             [
              0.7777777777777778,
              "#fb9f3a"
             ],
             [
              0.8888888888888888,
              "#fdca26"
             ],
             [
              1,
              "#f0f921"
             ]
            ],
            "type": "heatmap"
           }
          ],
          "heatmapgl": [
           {
            "colorbar": {
             "outlinewidth": 0,
             "ticks": ""
            },
            "colorscale": [
             [
              0,
              "#0d0887"
             ],
             [
              0.1111111111111111,
              "#46039f"
             ],
             [
              0.2222222222222222,
              "#7201a8"
             ],
             [
              0.3333333333333333,
              "#9c179e"
             ],
             [
              0.4444444444444444,
              "#bd3786"
             ],
             [
              0.5555555555555556,
              "#d8576b"
             ],
             [
              0.6666666666666666,
              "#ed7953"
             ],
             [
              0.7777777777777778,
              "#fb9f3a"
             ],
             [
              0.8888888888888888,
              "#fdca26"
             ],
             [
              1,
              "#f0f921"
             ]
            ],
            "type": "heatmapgl"
           }
          ],
          "histogram": [
           {
            "marker": {
             "pattern": {
              "fillmode": "overlay",
              "size": 10,
              "solidity": 0.2
             }
            },
            "type": "histogram"
           }
          ],
          "histogram2d": [
           {
            "colorbar": {
             "outlinewidth": 0,
             "ticks": ""
            },
            "colorscale": [
             [
              0,
              "#0d0887"
             ],
             [
              0.1111111111111111,
              "#46039f"
             ],
             [
              0.2222222222222222,
              "#7201a8"
             ],
             [
              0.3333333333333333,
              "#9c179e"
             ],
             [
              0.4444444444444444,
              "#bd3786"
             ],
             [
              0.5555555555555556,
              "#d8576b"
             ],
             [
              0.6666666666666666,
              "#ed7953"
             ],
             [
              0.7777777777777778,
              "#fb9f3a"
             ],
             [
              0.8888888888888888,
              "#fdca26"
             ],
             [
              1,
              "#f0f921"
             ]
            ],
            "type": "histogram2d"
           }
          ],
          "histogram2dcontour": [
           {
            "colorbar": {
             "outlinewidth": 0,
             "ticks": ""
            },
            "colorscale": [
             [
              0,
              "#0d0887"
             ],
             [
              0.1111111111111111,
              "#46039f"
             ],
             [
              0.2222222222222222,
              "#7201a8"
             ],
             [
              0.3333333333333333,
              "#9c179e"
             ],
             [
              0.4444444444444444,
              "#bd3786"
             ],
             [
              0.5555555555555556,
              "#d8576b"
             ],
             [
              0.6666666666666666,
              "#ed7953"
             ],
             [
              0.7777777777777778,
              "#fb9f3a"
             ],
             [
              0.8888888888888888,
              "#fdca26"
             ],
             [
              1,
              "#f0f921"
             ]
            ],
            "type": "histogram2dcontour"
           }
          ],
          "mesh3d": [
           {
            "colorbar": {
             "outlinewidth": 0,
             "ticks": ""
            },
            "type": "mesh3d"
           }
          ],
          "parcoords": [
           {
            "line": {
             "colorbar": {
              "outlinewidth": 0,
              "ticks": ""
             }
            },
            "type": "parcoords"
           }
          ],
          "pie": [
           {
            "automargin": true,
            "type": "pie"
           }
          ],
          "scatter": [
           {
            "fillpattern": {
             "fillmode": "overlay",
             "size": 10,
             "solidity": 0.2
            },
            "type": "scatter"
           }
          ],
          "scatter3d": [
           {
            "line": {
             "colorbar": {
              "outlinewidth": 0,
              "ticks": ""
             }
            },
            "marker": {
             "colorbar": {
              "outlinewidth": 0,
              "ticks": ""
             }
            },
            "type": "scatter3d"
           }
          ],
          "scattercarpet": [
           {
            "marker": {
             "colorbar": {
              "outlinewidth": 0,
              "ticks": ""
             }
            },
            "type": "scattercarpet"
           }
          ],
          "scattergeo": [
           {
            "marker": {
             "colorbar": {
              "outlinewidth": 0,
              "ticks": ""
             }
            },
            "type": "scattergeo"
           }
          ],
          "scattergl": [
           {
            "marker": {
             "colorbar": {
              "outlinewidth": 0,
              "ticks": ""
             }
            },
            "type": "scattergl"
           }
          ],
          "scattermapbox": [
           {
            "marker": {
             "colorbar": {
              "outlinewidth": 0,
              "ticks": ""
             }
            },
            "type": "scattermapbox"
           }
          ],
          "scatterpolar": [
           {
            "marker": {
             "colorbar": {
              "outlinewidth": 0,
              "ticks": ""
             }
            },
            "type": "scatterpolar"
           }
          ],
          "scatterpolargl": [
           {
            "marker": {
             "colorbar": {
              "outlinewidth": 0,
              "ticks": ""
             }
            },
            "type": "scatterpolargl"
           }
          ],
          "scatterternary": [
           {
            "marker": {
             "colorbar": {
              "outlinewidth": 0,
              "ticks": ""
             }
            },
            "type": "scatterternary"
           }
          ],
          "surface": [
           {
            "colorbar": {
             "outlinewidth": 0,
             "ticks": ""
            },
            "colorscale": [
             [
              0,
              "#0d0887"
             ],
             [
              0.1111111111111111,
              "#46039f"
             ],
             [
              0.2222222222222222,
              "#7201a8"
             ],
             [
              0.3333333333333333,
              "#9c179e"
             ],
             [
              0.4444444444444444,
              "#bd3786"
             ],
             [
              0.5555555555555556,
              "#d8576b"
             ],
             [
              0.6666666666666666,
              "#ed7953"
             ],
             [
              0.7777777777777778,
              "#fb9f3a"
             ],
             [
              0.8888888888888888,
              "#fdca26"
             ],
             [
              1,
              "#f0f921"
             ]
            ],
            "type": "surface"
           }
          ],
          "table": [
           {
            "cells": {
             "fill": {
              "color": "#EBF0F8"
             },
             "line": {
              "color": "white"
             }
            },
            "header": {
             "fill": {
              "color": "#C8D4E3"
             },
             "line": {
              "color": "white"
             }
            },
            "type": "table"
           }
          ]
         },
         "layout": {
          "annotationdefaults": {
           "arrowcolor": "#2a3f5f",
           "arrowhead": 0,
           "arrowwidth": 1
          },
          "autotypenumbers": "strict",
          "coloraxis": {
           "colorbar": {
            "outlinewidth": 0,
            "ticks": ""
           }
          },
          "colorscale": {
           "diverging": [
            [
             0,
             "#8e0152"
            ],
            [
             0.1,
             "#c51b7d"
            ],
            [
             0.2,
             "#de77ae"
            ],
            [
             0.3,
             "#f1b6da"
            ],
            [
             0.4,
             "#fde0ef"
            ],
            [
             0.5,
             "#f7f7f7"
            ],
            [
             0.6,
             "#e6f5d0"
            ],
            [
             0.7,
             "#b8e186"
            ],
            [
             0.8,
             "#7fbc41"
            ],
            [
             0.9,
             "#4d9221"
            ],
            [
             1,
             "#276419"
            ]
           ],
           "sequential": [
            [
             0,
             "#0d0887"
            ],
            [
             0.1111111111111111,
             "#46039f"
            ],
            [
             0.2222222222222222,
             "#7201a8"
            ],
            [
             0.3333333333333333,
             "#9c179e"
            ],
            [
             0.4444444444444444,
             "#bd3786"
            ],
            [
             0.5555555555555556,
             "#d8576b"
            ],
            [
             0.6666666666666666,
             "#ed7953"
            ],
            [
             0.7777777777777778,
             "#fb9f3a"
            ],
            [
             0.8888888888888888,
             "#fdca26"
            ],
            [
             1,
             "#f0f921"
            ]
           ],
           "sequentialminus": [
            [
             0,
             "#0d0887"
            ],
            [
             0.1111111111111111,
             "#46039f"
            ],
            [
             0.2222222222222222,
             "#7201a8"
            ],
            [
             0.3333333333333333,
             "#9c179e"
            ],
            [
             0.4444444444444444,
             "#bd3786"
            ],
            [
             0.5555555555555556,
             "#d8576b"
            ],
            [
             0.6666666666666666,
             "#ed7953"
            ],
            [
             0.7777777777777778,
             "#fb9f3a"
            ],
            [
             0.8888888888888888,
             "#fdca26"
            ],
            [
             1,
             "#f0f921"
            ]
           ]
          },
          "colorway": [
           "#636efa",
           "#EF553B",
           "#00cc96",
           "#ab63fa",
           "#FFA15A",
           "#19d3f3",
           "#FF6692",
           "#B6E880",
           "#FF97FF",
           "#FECB52"
          ],
          "font": {
           "color": "#2a3f5f"
          },
          "geo": {
           "bgcolor": "white",
           "lakecolor": "white",
           "landcolor": "#E5ECF6",
           "showlakes": true,
           "showland": true,
           "subunitcolor": "white"
          },
          "hoverlabel": {
           "align": "left"
          },
          "hovermode": "closest",
          "mapbox": {
           "style": "light"
          },
          "paper_bgcolor": "white",
          "plot_bgcolor": "#E5ECF6",
          "polar": {
           "angularaxis": {
            "gridcolor": "white",
            "linecolor": "white",
            "ticks": ""
           },
           "bgcolor": "#E5ECF6",
           "radialaxis": {
            "gridcolor": "white",
            "linecolor": "white",
            "ticks": ""
           }
          },
          "scene": {
           "xaxis": {
            "backgroundcolor": "#E5ECF6",
            "gridcolor": "white",
            "gridwidth": 2,
            "linecolor": "white",
            "showbackground": true,
            "ticks": "",
            "zerolinecolor": "white"
           },
           "yaxis": {
            "backgroundcolor": "#E5ECF6",
            "gridcolor": "white",
            "gridwidth": 2,
            "linecolor": "white",
            "showbackground": true,
            "ticks": "",
            "zerolinecolor": "white"
           },
           "zaxis": {
            "backgroundcolor": "#E5ECF6",
            "gridcolor": "white",
            "gridwidth": 2,
            "linecolor": "white",
            "showbackground": true,
            "ticks": "",
            "zerolinecolor": "white"
           }
          },
          "shapedefaults": {
           "line": {
            "color": "#2a3f5f"
           }
          },
          "ternary": {
           "aaxis": {
            "gridcolor": "white",
            "linecolor": "white",
            "ticks": ""
           },
           "baxis": {
            "gridcolor": "white",
            "linecolor": "white",
            "ticks": ""
           },
           "bgcolor": "#E5ECF6",
           "caxis": {
            "gridcolor": "white",
            "linecolor": "white",
            "ticks": ""
           }
          },
          "title": {
           "x": 0.05
          },
          "xaxis": {
           "automargin": true,
           "gridcolor": "white",
           "linecolor": "white",
           "ticks": "",
           "title": {
            "standoff": 15
           },
           "zerolinecolor": "white",
           "zerolinewidth": 2
          },
          "yaxis": {
           "automargin": true,
           "gridcolor": "white",
           "linecolor": "white",
           "ticks": "",
           "title": {
            "standoff": 15
           },
           "zerolinecolor": "white",
           "zerolinewidth": 2
          }
         }
        },
        "width": 404.508497175,
        "xaxis": {
         "anchor": "y",
         "domain": [
          0,
          1
         ],
         "range": [
          0.5,
          1
         ],
         "showgrid": false,
         "showline": false,
         "tickcolor": "rgb(120, 120, 120)",
         "ticklen": 5,
         "ticks": "outside",
         "tickvals": [
          0.6,
          0.7,
          0.7999999999999999,
          0.8999999999999999,
          0.9999999999999999,
          1.0999999999999999
         ],
         "tickwidth": 1,
         "title": {
          "text": "cosine similarity"
         },
         "zeroline": false
        },
        "yaxis": {
         "anchor": "x",
         "domain": [
          0,
          1
         ],
         "gridcolor": "rgba(173, 216, 230, 0.3)",
         "gridwidth": 1,
         "showgrid": false,
         "showline": false,
         "tickcolor": "rgb(120, 120, 120)",
         "ticklen": 5,
         "ticks": "outside",
         "tickwidth": 1,
         "title": {
          "text": "count"
         },
         "zeroline": false
        }
       }
      }
     },
     "metadata": {},
     "output_type": "display_data"
    },
    {
     "data": {
      "application/vnd.plotly.v1+json": {
       "config": {
        "plotlyServerURL": "https://plot.ly"
       },
       "data": [
        {
         "alignmentgroup": "True",
         "bingroup": "x",
         "hovertemplate": "Top 10=True<br>best_score=%{x}<br>count=%{y}<extra></extra>",
         "legendgroup": "True",
         "marker": {
          "color": "rgb(152, 86, 86)",
          "line": {
           "color": "DarkSlateGrey",
           "width": 0.2
          },
          "opacity": 0.5,
          "pattern": {
           "shape": ""
          }
         },
         "name": "True",
         "nbinsx": 30,
         "offsetgroup": "True",
         "opacity": 1,
         "orientation": "v",
         "showlegend": true,
         "type": "histogram",
         "x": [
          0.9341856837272644,
          0.870604932308197,
          0.8201072812080383,
          0.9002046585083008,
          0.9092275500297546,
          0.90948224067688,
          0.9236085414886476,
          0.8304759860038757,
          0.9020073413848876,
          0.9268882870674132,
          0.8916189670562744,
          0.8667073249816895,
          0.894974946975708,
          0.903291404247284,
          0.9359109997749328,
          0.9055249094963074,
          0.7688820958137512,
          0.8507476449012756,
          0.9197999835014344,
          0.9235647320747375,
          0.9461750984191896,
          0.9337528347969056,
          0.8718451857566833,
          0.9098743796348572,
          0.9063963890075684,
          0.8602045178413391,
          0.8948753476142883,
          0.8719852566719055,
          0.9095284342765808,
          0.93304842710495,
          0.8745808601379395,
          0.8680000305175781,
          0.8981709480285645,
          0.9239187240600586,
          0.9066829681396484,
          0.7548858523368835,
          0.921501398086548,
          0.9098081588745116,
          0.9136590361595154,
          0.9245960116386414,
          0.836341381072998,
          0.8908098340034485,
          0.8147218823432922,
          0.9118881225585938,
          0.8980627059936523,
          0.8687158226966858,
          0.840294361114502,
          0.8913955688476562,
          0.8477694392204285,
          0.8941697478294373,
          0.9210515022277832,
          0.8755321502685547,
          0.8790825009346008,
          0.8499038815498352,
          0.8598337769508362,
          0.8483359217643738,
          0.9158304333686828,
          0.8902544975280762,
          0.9345299601554872,
          0.8914079666137695,
          0.897741973400116,
          0.9413161277770996,
          0.921863853931427,
          0.8270714282989502,
          0.8317718505859375,
          0.7968083024024963,
          0.9123886227607728,
          0.9114511013031006,
          0.8618311882019043,
          0.9351800084114076,
          0.9275733828544616,
          0.9473955035209656,
          0.817815363407135,
          0.950632393360138,
          0.8262335658073425,
          0.8744053840637207,
          0.9200296998023988,
          0.9142245650291444,
          0.9328722953796388,
          0.891096293926239,
          0.9048946499824524,
          0.9258796572685242,
          0.8854045271873474,
          0.9516477584838868,
          0.8332379460334778,
          0.9371193051338196,
          0.8910157680511475,
          0.865227997303009,
          0.9200751781463624,
          0.912987232208252,
          0.8952575325965881,
          0.8923537135124207,
          0.8721485137939453,
          0.9154756665229796,
          0.8324839472770691,
          0.9160885810852052,
          0.9248211979866028,
          0.8992447853088379,
          0.8630852699279785,
          0.8890848159790039,
          0.8800275921821594,
          0.8990536332130432,
          0.9061398506164552,
          0.8945669531822205,
          0.8216466903686523,
          0.9308626055717468,
          0.9038529992103576,
          0.9295583367347716,
          0.684786856174469,
          0.8751950860023499,
          0.8496440052986145,
          0.9135823249816896,
          0.9213703274726868,
          0.9136262536048888,
          0.898306667804718,
          0.8479970097541809,
          0.8561270833015442,
          0.8703303337097168,
          0.8912830948829651,
          0.8788817524909973,
          0.8903570175170898,
          0.8664218783378601,
          0.8939020037651062,
          0.9303801655769348,
          0.9043272137641908,
          0.8553428053855896,
          0.9174373745918274,
          0.8888848423957825,
          0.9497756361961364,
          0.8963112831115723,
          0.9477668404579164,
          0.9248619079589844,
          0.869489848613739,
          0.912830114364624,
          0.8839914202690125,
          0.8806917071342468,
          0.9115622639656068,
          0.884661853313446,
          0.9245970845222472,
          0.9454850554466248,
          0.8118846416473389,
          0.8643906712532043,
          0.8300486207008362,
          0.9267361164093018,
          0.8861995339393616,
          0.8718605637550354,
          0.919363021850586,
          0.9032487869262696,
          0.8471770286560059,
          0.9191659092903136,
          0.8820815086364746,
          0.8889002203941345,
          0.9046571850776672,
          0.9090045094490052,
          0.926381289958954,
          0.8365249037742615,
          0.8963767886161804,
          0.8322268128395081,
          0.8583250045776367,
          0.8802523612976074,
          0.8525727391242981,
          0.8597145080566406,
          0.9156503677368164,
          0.9068378806114196,
          0.9058923721313475,
          0.9175691604614258,
          0.923931360244751,
          0.9257760643959044,
          0.8577896952629089,
          0.862118661403656,
          0.8947364687919617,
          0.8896563649177551,
          0.9365944862365724,
          0.8449807167053223,
          0.8614732623100281,
          0.9037914872169496,
          0.9260393977165222,
          0.878316342830658,
          0.8580287098884583,
          0.8917656540870667,
          0.9219891428947448,
          0.9196057319641112,
          0.8891423344612122,
          0.871819019317627,
          0.9054169654846193,
          0.9539335370063782,
          0.8993862271308899,
          0.9124987721443176,
          0.8772838711738586,
          0.901909351348877,
          0.9277029037475586,
          0.8777040839195251,
          0.8948243260383606,
          0.8925606608390808,
          0.9054080843925476,
          0.9154589772224426,
          0.8569677472114563,
          0.8711149096488953,
          0.9342343211174012,
          0.7733685374259949,
          0.7968538403511047,
          0.8330556750297546,
          0.9127655625343324,
          0.8887372612953186,
          0.7982230186462402,
          0.8032142519950867,
          0.8828484416007996,
          0.8854119777679443,
          0.8452339768409729,
          0.9071474671363832,
          0.9162426590919496,
          0.849360466003418,
          0.9446752667427064,
          0.890688955783844,
          0.89992755651474,
          0.9058310389518738,
          0.922369658946991,
          0.9017510414123536,
          0.8912491798400879,
          0.8931695818901062,
          0.8911647796630859,
          0.9315690994262696,
          0.8320708870887756,
          0.9268052577972412,
          0.8619623780250549,
          0.9323905110359192,
          0.9030466079711914,
          0.9128270149230956,
          0.922174632549286,
          0.8931990265846252,
          0.935603678226471,
          0.9297487139701844,
          0.9103935360908508,
          0.9066211581230164,
          0.8570517897605896,
          0.8842077851295471,
          0.8792764544487,
          0.8954222798347473,
          0.8984808325767517,
          0.897305428981781,
          0.9086378216743468,
          0.8327655792236328,
          0.8587881922721863,
          0.8990669250488281,
          0.9160112738609314,
          0.9100780487060548,
          0.891533613204956,
          0.9061558842658995,
          0.877949059009552,
          0.8804302215576172,
          0.9279757142066956,
          0.8837141990661621,
          0.8646861910820007,
          0.8880617618560791,
          0.862507164478302,
          0.835113525390625,
          0.8703980445861816,
          0.9060657024383544,
          0.8812358975410461,
          0.91468745470047,
          0.9508347511291504,
          0.8778017163276672,
          0.8981143832206726,
          0.8757719993591309,
          0.8676058650016785,
          0.9507490992546082,
          0.9240818619728088,
          0.8783168792724609,
          0.9108875393867492,
          0.90136981010437,
          0.7981720566749573,
          0.8950974345207214,
          0.9296360611915588,
          0.8618965148925781,
          0.8822175860404968,
          0.8371804356575012,
          0.906329870223999,
          0.8580252528190613,
          0.8825117945671082,
          0.8732094764709473,
          0.868532657623291,
          0.9021449089050292,
          0.8979948163032532,
          0.9316772818565368,
          0.8866254687309265,
          0.934121310710907,
          0.8522974848747253,
          0.9313047528266908,
          0.9091315865516664,
          0.8374261856079102,
          0.8779522776603699,
          0.8935079574584961,
          0.915931224822998,
          0.929807186126709,
          0.8980811238288879,
          0.9149348735809326,
          0.8859386444091797,
          0.8158397674560547,
          0.9304394721984864,
          0.939070999622345,
          0.8399766087532043,
          0.8996017575263977,
          0.8369081020355225,
          0.8863916993141174,
          0.9056429862976074,
          0.8535928726196289,
          0.7540791034698486,
          0.8896691203117371,
          0.9123328328132628,
          0.9093943238258362,
          0.8635323643684387,
          0.8827285170555115,
          0.9081380367279052,
          0.8763313293457031,
          0.8662284016609192,
          0.9315363764762878,
          0.8592534065246582,
          0.840362548828125,
          0.8972930908203125,
          0.8881244659423828,
          0.914851725101471,
          0.9476823806762696,
          0.8187362551689148,
          0.931052029132843,
          0.8986639976501465,
          0.856621503829956,
          0.8804141879081726,
          0.9194104075431824,
          0.8918452262878418,
          0.8308671116828918,
          0.9034693837165833,
          0.9207944273948668,
          0.921531856060028,
          0.8575647473335266,
          0.9497189521789552,
          0.8819271922111511,
          0.84187251329422,
          0.9105551242828368,
          0.9228543639183044,
          0.9080396294593812,
          0.8099570274353027,
          0.9322843551635742,
          0.9140160083770752,
          0.7802679538726807,
          0.853253185749054,
          0.9276158213615416,
          0.8573828339576721,
          0.8483729362487793,
          0.9139980673789978,
          0.8952848315238953,
          0.9401662349700928,
          0.9297576546669006,
          0.8982963562011719,
          0.906508445739746,
          0.9339740872383118,
          0.8940639495849609,
          0.8962803483009338,
          0.8823370933532715,
          0.9318035244941713,
          0.8710100054740906,
          0.9081032276153564,
          0.8958337903022766,
          0.9096224904060364,
          0.9428424835205078,
          0.8896427154541016,
          0.8010251522064209,
          0.8649213314056396,
          0.9181211590766908,
          0.9185875058174132,
          0.9224227070808412,
          0.9009904265403748,
          0.8990461230278015,
          0.9168317317962646,
          0.9251301288604736,
          0.8817408084869385,
          0.8592982292175293,
          0.9205009937286376,
          0.9264823794364928,
          0.8723204135894775,
          0.8444749712944031,
          0.9173426032066344,
          0.9184820055961608,
          0.8174943327903748,
          0.9168422222137452,
          0.8873436450958252,
          0.9062795639038086,
          0.9142348170280457,
          0.9110148549079896,
          0.9266654849052428,
          0.903669536113739,
          0.9085747599601746,
          0.9208831191062928,
          0.9342580437660216,
          0.9235023856163024,
          0.8589817881584167,
          0.9011229872703552,
          0.9115554690361024,
          0.9400973320007324,
          0.928769052028656,
          0.7718877196311951,
          0.9306278824806212,
          0.8346700668334961,
          0.8108615279197693,
          0.9303469657897948,
          0.8922433853149414,
          0.8730788230895996,
          0.9219026565551758,
          0.8875823020935059,
          0.8766595721244812,
          0.9416780471801758,
          0.8835474848747253,
          0.8735397458076477,
          0.8567021489143372,
          0.8754522800445557,
          0.9129478335380554,
          0.90891432762146,
          0.8872144818305969,
          0.7148346900939941,
          0.8998055458068848,
          0.927646815776825,
          0.917349636554718,
          0.8944482803344727,
          0.868503749370575,
          0.9352943897247314,
          0.8910074234008789,
          0.9082090258598328,
          0.8929793238639832,
          0.9119723439216614,
          0.9107242226600648,
          0.8352160453796387,
          0.8741270899772644,
          0.7940970063209534,
          0.8960258364677429,
          0.9149976372718812,
          0.8994333744049072,
          0.8582494854927063,
          0.916893720626831,
          0.8788912892341614,
          0.9067394137382508,
          0.9304320216178894,
          0.8965933918952942,
          0.8700777888298035,
          0.8712514042854309,
          0.8968431353569031,
          0.9012039303779602,
          0.8417122960090637,
          0.8449479937553406,
          0.9120805859565736,
          0.8576946258544922,
          0.9397530555725098,
          0.8371105790138245,
          0.9409777522087096,
          0.772072970867157,
          0.8886032104492188,
          0.8110551834106445,
          0.8346018195152283,
          0.9325867295265198,
          0.9146924018859864,
          0.9181969165802002,
          0.8656752705574036,
          0.9120573401451112,
          0.9225635528564452,
          0.9037922024726868,
          0.9084946513175964,
          0.941844642162323,
          0.8834443688392639,
          0.9299087524414062,
          0.916143238544464,
          0.9504733085632324,
          0.8985121846199036,
          0.9224888682365416,
          0.8883511424064636,
          0.9288285374641418,
          0.8679175972938538,
          0.908188819885254,
          0.925271213054657,
          0.8719226717948914,
          0.8913996815681458,
          0.8923006653785706,
          0.8559355735778809,
          0.9309199452400208,
          0.8350949883460999,
          0.8732080459594727,
          0.8750899434089661,
          0.8366138935089111,
          0.9239797592163086,
          0.8084123730659485,
          0.9274754524230956,
          0.9349047541618348,
          0.9176270365715028,
          0.899005651473999,
          0.8596009612083435,
          0.8668341636657715,
          0.8894317150115967,
          0.9117690920829772,
          0.9274885654449464,
          0.7927713394165039,
          0.9341629147529602,
          0.8381366729736328,
          0.9366743564605712,
          0.8784869313240051,
          0.9098322987556458,
          0.9206819534301758,
          0.8481786251068115,
          0.9151269793510436,
          0.8587214350700378,
          0.9128627181053162,
          0.9159628748893738,
          0.8433067798614502,
          0.9264594912528992,
          0.922955334186554,
          0.9106340408325196,
          0.9371424317359924,
          0.9377202391624452,
          0.8808588981628418,
          0.9193754196166992,
          0.8735232949256897,
          0.923245906829834,
          0.919967234134674,
          0.9115855097770692,
          0.907348930835724,
          0.9368641972541808,
          0.8774247169494629,
          0.914336919784546,
          0.8657719492912292,
          0.9079321026802064,
          0.9263949394226074,
          0.8752150535583496,
          0.9134095311164856,
          0.861254870891571,
          0.9134038090705872,
          0.9077402949333192,
          0.9023287892341614,
          0.8980086445808411,
          0.9046802520751952,
          0.9105091094970704,
          0.8780642151832581,
          0.8534591197967529,
          0.8900560736656189,
          0.8974210619926453,
          0.918755054473877,
          0.9260337352752686,
          0.8975426554679871,
          0.8622746467590332,
          0.8805792927742004,
          0.8716694712638855,
          0.9203760027885436,
          0.82914137840271,
          0.8753032684326172,
          0.8676508069038391,
          0.9052870869636536,
          0.9076853394508362,
          0.9264692664146424,
          0.8557187914848328,
          0.8977081179618835,
          0.8458418250083923,
          0.857661783695221,
          0.8189333081245422,
          0.9401361346244812,
          0.9062712788581848,
          0.8778123259544373,
          0.9319815039634703,
          0.8813274502754211,
          0.7801762223243713,
          0.8612887859344482,
          0.8880687355995178,
          0.8875524401664734,
          0.8747334480285645,
          0.9008255004882812,
          0.8444004058837891,
          0.9094708561897278,
          0.8717148303985596,
          0.8438613414764404,
          0.9306758046150208,
          0.8654851913452148,
          0.880718469619751,
          0.7913641333580017,
          0.8841031193733215,
          0.923128604888916,
          0.8959627151489258,
          0.8392764925956726,
          0.8711715340614319,
          0.8934845924377441,
          0.8638739585876465,
          0.8113574385643005,
          0.8800304532051086,
          0.8867500424385071,
          0.9262781143188475,
          0.8644478917121887,
          0.8994308114051819,
          0.9025383591651917,
          0.9287431240081788,
          0.8655725121498108,
          0.9211103916168212,
          0.8235475420951843,
          0.926799476146698,
          0.7745040059089661,
          0.9294192790985109,
          0.9417497515678406,
          0.8976478576660156,
          0.8668120503425598,
          0.8696549534797668,
          0.8810194134712219,
          0.8712077736854553,
          0.9200922846794128,
          0.8627047538757324,
          0.8621973991394043,
          0.8195123672485352,
          0.9280501008033752,
          0.9029161930084229,
          0.8842949867248535,
          0.89703768491745,
          0.8931007981300354,
          0.8732703328132629,
          0.901427447795868,
          0.9203136563301086,
          0.9108452200889589,
          0.8792799115180969,
          0.8287294507026672,
          0.8959444165229797,
          0.9120234847068788,
          0.92672997713089,
          0.9139373898506165,
          0.9197594523429872,
          0.9031838774681092,
          0.9051454663276672,
          0.8586726188659668,
          0.9343438744544984,
          0.9235773086547852,
          0.9319729208946228,
          0.9187359809875488,
          0.8935471177101135,
          0.9159550666809082,
          0.9245864748954772,
          0.8765574097633362,
          0.8932766318321228,
          0.7788781523704529,
          0.8603640198707581,
          0.8580682277679443,
          0.8814888596534729,
          0.8964921832084656,
          0.9520682692527772,
          0.9047164916992188,
          0.8932790756225586,
          0.876724898815155,
          0.8971319198608398,
          0.9422280192375184,
          0.9073030352592468,
          0.9241226315498352,
          0.8835228085517883,
          0.9098119139671326,
          0.8562234044075012,
          0.8646786212921143,
          0.9283928871154784,
          0.8715924620628357,
          0.88909912109375,
          0.9060096144676208,
          0.8985845446586609,
          0.8824604153633118,
          0.8965960144996643,
          0.861685574054718,
          0.8853011131286621,
          0.8808755874633789,
          0.8808255195617676,
          0.8761212229728699,
          0.8974206447601318,
          0.914633333683014,
          0.9351277947425842,
          0.8980873227119446,
          0.8654723167419434,
          0.8966425061225891,
          0.8934297561645508,
          0.9348604083061218,
          0.87516188621521,
          0.7648000717163086,
          0.8981518745422363,
          0.95755797624588,
          0.9104002118110656,
          0.9099811911582948,
          0.9072468876838684,
          0.8769999146461487,
          0.8653032183647156,
          0.88031005859375,
          0.8976526260375977,
          0.8502516746520996,
          0.8624046444892883,
          0.9314818382263184,
          0.9262424111366272,
          0.8556739687919617,
          0.8672075867652893,
          0.8857707381248474,
          0.9116864204406738,
          0.813391387462616,
          0.8483619689941406,
          0.8862683176994324,
          0.8932008147239685,
          0.9120230078697203,
          0.8989202380180359,
          0.9097988605499268,
          0.8986496925354004,
          0.8991199135780334,
          0.7143791317939758,
          0.894642174243927,
          0.9256626963615416,
          0.8936150074005127,
          0.9081149697303772,
          0.9203228950500488,
          0.8567405343055725,
          0.899432897567749,
          0.9215216636657716,
          0.9159119725227356,
          0.8769925236701965,
          0.8717781901359558,
          0.8952034115791321,
          0.942371129989624,
          0.926262378692627,
          0.8263948559761047,
          0.9302056431770324,
          0.9226850867271424,
          0.9250832200050354,
          0.9298446774482728,
          0.8771657943725586,
          0.8718261122703552,
          0.9180364608764648,
          0.931929886341095,
          0.9358698725700378,
          0.9098532795906068,
          0.8784844875335693,
          0.8546436429023743,
          0.920381724834442,
          0.8824949264526367,
          0.8945476412773132,
          0.8409810066223145,
          0.9055206775665284,
          0.9029043316841124,
          0.9327068328857422,
          0.8557310700416565,
          0.8742033839225769,
          0.8723686337471008,
          0.8898900151252747,
          0.8942182064056396,
          0.8980072140693665,
          0.8812869191169739,
          0.8771214485168457,
          0.8529908061027527,
          0.8069934844970703,
          0.8598175644874573,
          0.8517869114875793,
          0.8709478378295898,
          0.8846297860145569,
          0.8891833424568176,
          0.9244142174720764,
          0.9337220191955566,
          0.9286447167396544,
          0.884198009967804,
          0.8859716057777405,
          0.865630567073822,
          0.8966178894042969,
          0.7973911762237549,
          0.8813726305961609,
          0.8471514582633972,
          0.8716815114021301,
          0.8900348544120789,
          0.9177221655845642,
          0.8860042691230774,
          0.924705684185028,
          0.9116430282592772,
          0.8757316470146179,
          0.9345905780792236,
          0.8939347267150879,
          0.9004759788513184,
          0.9202682375907898,
          0.8295285701751709,
          0.9144068360328674,
          0.9134820103645324,
          0.9020843505859376,
          0.9298226237297058,
          0.8913721442222595,
          0.8459132313728333,
          0.8573708534240723,
          0.9277365803718568,
          0.9123730063438416,
          0.8920698165893555,
          0.888836145401001,
          0.8786017298698425,
          0.9077643752098083,
          0.896913468837738,
          0.9724306464195251,
          0.8927131295204163,
          0.8891348242759705,
          0.9285969734191896,
          0.8679807782173157,
          0.7656800150871277,
          0.8645426630973816,
          0.9201110005378724,
          0.909485399723053,
          0.9130086898803712,
          0.8384738564491272,
          0.8314620852470398,
          0.8760092258453369,
          0.8921205997467041,
          0.9002636075019836,
          0.8372510075569153,
          0.8592772483825684,
          0.8611004948616028,
          0.8839214444160461,
          0.8695874810218811,
          0.916124165058136,
          0.8931260108947754,
          0.9108818173408508,
          0.8888309597969055,
          0.8956703543663025,
          0.9229952692985536,
          0.8797462582588196,
          0.9120176434516908,
          0.9366338849067688,
          0.920029640197754,
          0.8411262035369873,
          0.9127233028411864,
          0.910904586315155,
          0.910243809223175,
          0.842795193195343,
          0.9107314944267272,
          0.9155381321907043,
          0.9471468925476074,
          0.8774217963218689,
          0.872707188129425,
          0.8104256987571716,
          0.8914867043495178,
          0.932608127593994,
          0.9107043743133544,
          0.8464104533195496,
          0.8754326701164246,
          0.9228241443634032,
          0.8538530468940735,
          0.9146990180015564,
          0.8971081376075745,
          0.9308002591133118,
          0.7765938639640808,
          0.9097930788993835,
          0.9283096194267272,
          0.8904516696929932,
          0.8582490086555481,
          0.8784690499305725,
          0.8956108689308167,
          0.8977468609809875,
          0.9033182263374328,
          0.8540053367614746,
          0.8728516101837158,
          0.9218635559082032,
          0.9340352416038512,
          0.8961980938911438,
          0.9048493504524232,
          0.889839231967926,
          0.8789100646972656,
          0.9174123406410216,
          0.9059578776359558,
          0.9152374267578124,
          0.8468095660209656,
          0.8983898758888245,
          0.8494895100593567,
          0.9166532158851624,
          0.8648621439933777,
          0.9385022521018982,
          0.8944203853607178,
          0.8739097714424133,
          0.8408992886543274,
          0.9009097218513488,
          0.9180102348327636,
          0.8749117851257324,
          0.9125723838806152,
          0.9295222163200378,
          0.905340015888214,
          0.8338068127632141,
          0.8926826119422913,
          0.8712785840034485,
          0.9290701746940612,
          0.9086635112762452,
          0.9166327118873596,
          0.9478759765625,
          0.9202005863189696,
          0.9155049324035645,
          0.9179811477661132,
          0.9225430488586426,
          0.9323157668113708,
          0.9287105202674866,
          0.9174885749816896,
          0.8651320934295654,
          0.8730654716491699,
          0.8517284989356995
         ],
         "xaxis": "x",
         "yaxis": "y"
        },
        {
         "alignmentgroup": "True",
         "bingroup": "x",
         "hovertemplate": "Top 10=False<br>best_score=%{x}<br>count=%{y}<extra></extra>",
         "legendgroup": "False",
         "marker": {
          "color": "rgb(152, 146, 186)",
          "line": {
           "color": "DarkSlateGrey",
           "width": 0.2
          },
          "opacity": 0.5,
          "pattern": {
           "shape": ""
          }
         },
         "name": "False",
         "nbinsx": 30,
         "offsetgroup": "False",
         "opacity": 1,
         "orientation": "v",
         "showlegend": true,
         "type": "histogram",
         "x": [
          0.8158319592475891,
          0.8665885925292969,
          0.6164323687553406,
          0.7761929631233215,
          0.6070111393928528,
          0.9064161777496338,
          0.8841152787208557,
          0.7685653567314148,
          0.8852182030677795,
          0.7277321219444275,
          0.6551876664161682,
          0.7768466472625732,
          0.8475110530853271,
          0.6068989038467407,
          0.8781024813652039,
          0.8777818083763123,
          0.836341381072998,
          0.7379732728004456,
          0.7607024312019348,
          0.7350957989692688,
          0.7685306072235107,
          0.7864556312561035,
          0.6898514628410339,
          0.8281461596488953,
          0.7439859509468079,
          0.6679396629333496,
          0.8609711527824402,
          0.734329879283905,
          0.7216501832008362,
          0.7879233360290527,
          0.8918607831001282,
          0.8445056080818176,
          0.5632674694061279,
          0.805997908115387,
          0.8607075810432434,
          0.8537638187408447,
          0.8402484059333801,
          0.894281804561615,
          0.7496656775474548,
          0.8530269265174866,
          0.7000365257263184,
          0.8203926086425781,
          0.8343140482902527,
          0.6977083086967468,
          0.7908785939216614,
          0.71184903383255,
          0.8272848129272461,
          0.7470418810844421,
          0.7950035929679871,
          0.8029270172119141,
          0.901662826538086,
          0.8423855900764465,
          0.8849377632141113,
          0.8068025708198547,
          0.8148840069770813,
          0.8653035759925842,
          0.8676126599311829,
          0.8697071671485901,
          0.7298042178153992,
          0.8499727845191956,
          0.8113973140716553,
          0.8026638627052307,
          0.8925740718841553,
          0.6550797820091248,
          0.8884789347648621,
          0.8240869045257568,
          0.8218135237693787,
          0.6838350296020508,
          0.7196730971336365,
          0.7176907062530518,
          0.8111971020698547,
          0.6088051199913025,
          0.7688083052635193,
          0.6039125323295593,
          0.7425405383110046,
          0.8518214225769043,
          0.6691441535949707,
          0.5470348000526428,
          0.7822647094726562,
          0.8248014450073242,
          0.7494552731513977,
          0.7587442398071289,
          0.8114145398139954,
          0.8217940330505371,
          0.7022884488105774,
          0.8329699635505676,
          0.920936405658722,
          0.8593009114265442,
          0.8290464282035828,
          0.8243533968925476,
          0.8475539088249207,
          0.8760921359062195,
          0.6894457936286926,
          0.7268795967102051,
          0.9075767397880554,
          0.7512670159339905,
          0.8149495124816895,
          0.7759985327720642,
          0.7821134924888611,
          0.6980800628662109,
          0.8462550044059753,
          0.7420156598091125,
          0.8663522601127625,
          0.7149648666381836,
          0.6698508262634277,
          0.8792238831520081,
          0.8803394436836243,
          0.8334570527076721,
          0.6389371752738953,
          0.7763025164604187,
          0.7951211929321289
         ],
         "xaxis": "x",
         "yaxis": "y"
        }
       ],
       "layout": {
        "annotations": [
         {
          "showarrow": false,
          "text": "perfect similarity",
          "textangle": 90,
          "x": 1,
          "xanchor": "left",
          "xref": "x",
          "y": 0,
          "yanchor": "bottom",
          "yref": "y domain"
         }
        ],
        "barmode": "overlay",
        "font": {
         "family": "CMU Sans Serif"
        },
        "height": 250,
        "legend": {
         "title": {
          "text": "Top 10"
         },
         "tracegroupgap": 0
        },
        "margin": {
         "b": 0,
         "l": 0,
         "r": 0,
         "t": 0
        },
        "plot_bgcolor": "white",
        "shapes": [
         {
          "line": {
           "dash": "dot"
          },
          "type": "line",
          "x0": 1,
          "x1": 1,
          "xref": "x",
          "y0": 0,
          "y1": 1,
          "yref": "y domain"
         }
        ],
        "template": {
         "data": {
          "bar": [
           {
            "error_x": {
             "color": "#2a3f5f"
            },
            "error_y": {
             "color": "#2a3f5f"
            },
            "marker": {
             "line": {
              "color": "#E5ECF6",
              "width": 0.5
             },
             "pattern": {
              "fillmode": "overlay",
              "size": 10,
              "solidity": 0.2
             }
            },
            "type": "bar"
           }
          ],
          "barpolar": [
           {
            "marker": {
             "line": {
              "color": "#E5ECF6",
              "width": 0.5
             },
             "pattern": {
              "fillmode": "overlay",
              "size": 10,
              "solidity": 0.2
             }
            },
            "type": "barpolar"
           }
          ],
          "carpet": [
           {
            "aaxis": {
             "endlinecolor": "#2a3f5f",
             "gridcolor": "white",
             "linecolor": "white",
             "minorgridcolor": "white",
             "startlinecolor": "#2a3f5f"
            },
            "baxis": {
             "endlinecolor": "#2a3f5f",
             "gridcolor": "white",
             "linecolor": "white",
             "minorgridcolor": "white",
             "startlinecolor": "#2a3f5f"
            },
            "type": "carpet"
           }
          ],
          "choropleth": [
           {
            "colorbar": {
             "outlinewidth": 0,
             "ticks": ""
            },
            "type": "choropleth"
           }
          ],
          "contour": [
           {
            "colorbar": {
             "outlinewidth": 0,
             "ticks": ""
            },
            "colorscale": [
             [
              0,
              "#0d0887"
             ],
             [
              0.1111111111111111,
              "#46039f"
             ],
             [
              0.2222222222222222,
              "#7201a8"
             ],
             [
              0.3333333333333333,
              "#9c179e"
             ],
             [
              0.4444444444444444,
              "#bd3786"
             ],
             [
              0.5555555555555556,
              "#d8576b"
             ],
             [
              0.6666666666666666,
              "#ed7953"
             ],
             [
              0.7777777777777778,
              "#fb9f3a"
             ],
             [
              0.8888888888888888,
              "#fdca26"
             ],
             [
              1,
              "#f0f921"
             ]
            ],
            "type": "contour"
           }
          ],
          "contourcarpet": [
           {
            "colorbar": {
             "outlinewidth": 0,
             "ticks": ""
            },
            "type": "contourcarpet"
           }
          ],
          "heatmap": [
           {
            "colorbar": {
             "outlinewidth": 0,
             "ticks": ""
            },
            "colorscale": [
             [
              0,
              "#0d0887"
             ],
             [
              0.1111111111111111,
              "#46039f"
             ],
             [
              0.2222222222222222,
              "#7201a8"
             ],
             [
              0.3333333333333333,
              "#9c179e"
             ],
             [
              0.4444444444444444,
              "#bd3786"
             ],
             [
              0.5555555555555556,
              "#d8576b"
             ],
             [
              0.6666666666666666,
              "#ed7953"
             ],
             [
              0.7777777777777778,
              "#fb9f3a"
             ],
             [
              0.8888888888888888,
              "#fdca26"
             ],
             [
              1,
              "#f0f921"
             ]
            ],
            "type": "heatmap"
           }
          ],
          "heatmapgl": [
           {
            "colorbar": {
             "outlinewidth": 0,
             "ticks": ""
            },
            "colorscale": [
             [
              0,
              "#0d0887"
             ],
             [
              0.1111111111111111,
              "#46039f"
             ],
             [
              0.2222222222222222,
              "#7201a8"
             ],
             [
              0.3333333333333333,
              "#9c179e"
             ],
             [
              0.4444444444444444,
              "#bd3786"
             ],
             [
              0.5555555555555556,
              "#d8576b"
             ],
             [
              0.6666666666666666,
              "#ed7953"
             ],
             [
              0.7777777777777778,
              "#fb9f3a"
             ],
             [
              0.8888888888888888,
              "#fdca26"
             ],
             [
              1,
              "#f0f921"
             ]
            ],
            "type": "heatmapgl"
           }
          ],
          "histogram": [
           {
            "marker": {
             "pattern": {
              "fillmode": "overlay",
              "size": 10,
              "solidity": 0.2
             }
            },
            "type": "histogram"
           }
          ],
          "histogram2d": [
           {
            "colorbar": {
             "outlinewidth": 0,
             "ticks": ""
            },
            "colorscale": [
             [
              0,
              "#0d0887"
             ],
             [
              0.1111111111111111,
              "#46039f"
             ],
             [
              0.2222222222222222,
              "#7201a8"
             ],
             [
              0.3333333333333333,
              "#9c179e"
             ],
             [
              0.4444444444444444,
              "#bd3786"
             ],
             [
              0.5555555555555556,
              "#d8576b"
             ],
             [
              0.6666666666666666,
              "#ed7953"
             ],
             [
              0.7777777777777778,
              "#fb9f3a"
             ],
             [
              0.8888888888888888,
              "#fdca26"
             ],
             [
              1,
              "#f0f921"
             ]
            ],
            "type": "histogram2d"
           }
          ],
          "histogram2dcontour": [
           {
            "colorbar": {
             "outlinewidth": 0,
             "ticks": ""
            },
            "colorscale": [
             [
              0,
              "#0d0887"
             ],
             [
              0.1111111111111111,
              "#46039f"
             ],
             [
              0.2222222222222222,
              "#7201a8"
             ],
             [
              0.3333333333333333,
              "#9c179e"
             ],
             [
              0.4444444444444444,
              "#bd3786"
             ],
             [
              0.5555555555555556,
              "#d8576b"
             ],
             [
              0.6666666666666666,
              "#ed7953"
             ],
             [
              0.7777777777777778,
              "#fb9f3a"
             ],
             [
              0.8888888888888888,
              "#fdca26"
             ],
             [
              1,
              "#f0f921"
             ]
            ],
            "type": "histogram2dcontour"
           }
          ],
          "mesh3d": [
           {
            "colorbar": {
             "outlinewidth": 0,
             "ticks": ""
            },
            "type": "mesh3d"
           }
          ],
          "parcoords": [
           {
            "line": {
             "colorbar": {
              "outlinewidth": 0,
              "ticks": ""
             }
            },
            "type": "parcoords"
           }
          ],
          "pie": [
           {
            "automargin": true,
            "type": "pie"
           }
          ],
          "scatter": [
           {
            "fillpattern": {
             "fillmode": "overlay",
             "size": 10,
             "solidity": 0.2
            },
            "type": "scatter"
           }
          ],
          "scatter3d": [
           {
            "line": {
             "colorbar": {
              "outlinewidth": 0,
              "ticks": ""
             }
            },
            "marker": {
             "colorbar": {
              "outlinewidth": 0,
              "ticks": ""
             }
            },
            "type": "scatter3d"
           }
          ],
          "scattercarpet": [
           {
            "marker": {
             "colorbar": {
              "outlinewidth": 0,
              "ticks": ""
             }
            },
            "type": "scattercarpet"
           }
          ],
          "scattergeo": [
           {
            "marker": {
             "colorbar": {
              "outlinewidth": 0,
              "ticks": ""
             }
            },
            "type": "scattergeo"
           }
          ],
          "scattergl": [
           {
            "marker": {
             "colorbar": {
              "outlinewidth": 0,
              "ticks": ""
             }
            },
            "type": "scattergl"
           }
          ],
          "scattermapbox": [
           {
            "marker": {
             "colorbar": {
              "outlinewidth": 0,
              "ticks": ""
             }
            },
            "type": "scattermapbox"
           }
          ],
          "scatterpolar": [
           {
            "marker": {
             "colorbar": {
              "outlinewidth": 0,
              "ticks": ""
             }
            },
            "type": "scatterpolar"
           }
          ],
          "scatterpolargl": [
           {
            "marker": {
             "colorbar": {
              "outlinewidth": 0,
              "ticks": ""
             }
            },
            "type": "scatterpolargl"
           }
          ],
          "scatterternary": [
           {
            "marker": {
             "colorbar": {
              "outlinewidth": 0,
              "ticks": ""
             }
            },
            "type": "scatterternary"
           }
          ],
          "surface": [
           {
            "colorbar": {
             "outlinewidth": 0,
             "ticks": ""
            },
            "colorscale": [
             [
              0,
              "#0d0887"
             ],
             [
              0.1111111111111111,
              "#46039f"
             ],
             [
              0.2222222222222222,
              "#7201a8"
             ],
             [
              0.3333333333333333,
              "#9c179e"
             ],
             [
              0.4444444444444444,
              "#bd3786"
             ],
             [
              0.5555555555555556,
              "#d8576b"
             ],
             [
              0.6666666666666666,
              "#ed7953"
             ],
             [
              0.7777777777777778,
              "#fb9f3a"
             ],
             [
              0.8888888888888888,
              "#fdca26"
             ],
             [
              1,
              "#f0f921"
             ]
            ],
            "type": "surface"
           }
          ],
          "table": [
           {
            "cells": {
             "fill": {
              "color": "#EBF0F8"
             },
             "line": {
              "color": "white"
             }
            },
            "header": {
             "fill": {
              "color": "#C8D4E3"
             },
             "line": {
              "color": "white"
             }
            },
            "type": "table"
           }
          ]
         },
         "layout": {
          "annotationdefaults": {
           "arrowcolor": "#2a3f5f",
           "arrowhead": 0,
           "arrowwidth": 1
          },
          "autotypenumbers": "strict",
          "coloraxis": {
           "colorbar": {
            "outlinewidth": 0,
            "ticks": ""
           }
          },
          "colorscale": {
           "diverging": [
            [
             0,
             "#8e0152"
            ],
            [
             0.1,
             "#c51b7d"
            ],
            [
             0.2,
             "#de77ae"
            ],
            [
             0.3,
             "#f1b6da"
            ],
            [
             0.4,
             "#fde0ef"
            ],
            [
             0.5,
             "#f7f7f7"
            ],
            [
             0.6,
             "#e6f5d0"
            ],
            [
             0.7,
             "#b8e186"
            ],
            [
             0.8,
             "#7fbc41"
            ],
            [
             0.9,
             "#4d9221"
            ],
            [
             1,
             "#276419"
            ]
           ],
           "sequential": [
            [
             0,
             "#0d0887"
            ],
            [
             0.1111111111111111,
             "#46039f"
            ],
            [
             0.2222222222222222,
             "#7201a8"
            ],
            [
             0.3333333333333333,
             "#9c179e"
            ],
            [
             0.4444444444444444,
             "#bd3786"
            ],
            [
             0.5555555555555556,
             "#d8576b"
            ],
            [
             0.6666666666666666,
             "#ed7953"
            ],
            [
             0.7777777777777778,
             "#fb9f3a"
            ],
            [
             0.8888888888888888,
             "#fdca26"
            ],
            [
             1,
             "#f0f921"
            ]
           ],
           "sequentialminus": [
            [
             0,
             "#0d0887"
            ],
            [
             0.1111111111111111,
             "#46039f"
            ],
            [
             0.2222222222222222,
             "#7201a8"
            ],
            [
             0.3333333333333333,
             "#9c179e"
            ],
            [
             0.4444444444444444,
             "#bd3786"
            ],
            [
             0.5555555555555556,
             "#d8576b"
            ],
            [
             0.6666666666666666,
             "#ed7953"
            ],
            [
             0.7777777777777778,
             "#fb9f3a"
            ],
            [
             0.8888888888888888,
             "#fdca26"
            ],
            [
             1,
             "#f0f921"
            ]
           ]
          },
          "colorway": [
           "#636efa",
           "#EF553B",
           "#00cc96",
           "#ab63fa",
           "#FFA15A",
           "#19d3f3",
           "#FF6692",
           "#B6E880",
           "#FF97FF",
           "#FECB52"
          ],
          "font": {
           "color": "#2a3f5f"
          },
          "geo": {
           "bgcolor": "white",
           "lakecolor": "white",
           "landcolor": "#E5ECF6",
           "showlakes": true,
           "showland": true,
           "subunitcolor": "white"
          },
          "hoverlabel": {
           "align": "left"
          },
          "hovermode": "closest",
          "mapbox": {
           "style": "light"
          },
          "paper_bgcolor": "white",
          "plot_bgcolor": "#E5ECF6",
          "polar": {
           "angularaxis": {
            "gridcolor": "white",
            "linecolor": "white",
            "ticks": ""
           },
           "bgcolor": "#E5ECF6",
           "radialaxis": {
            "gridcolor": "white",
            "linecolor": "white",
            "ticks": ""
           }
          },
          "scene": {
           "xaxis": {
            "backgroundcolor": "#E5ECF6",
            "gridcolor": "white",
            "gridwidth": 2,
            "linecolor": "white",
            "showbackground": true,
            "ticks": "",
            "zerolinecolor": "white"
           },
           "yaxis": {
            "backgroundcolor": "#E5ECF6",
            "gridcolor": "white",
            "gridwidth": 2,
            "linecolor": "white",
            "showbackground": true,
            "ticks": "",
            "zerolinecolor": "white"
           },
           "zaxis": {
            "backgroundcolor": "#E5ECF6",
            "gridcolor": "white",
            "gridwidth": 2,
            "linecolor": "white",
            "showbackground": true,
            "ticks": "",
            "zerolinecolor": "white"
           }
          },
          "shapedefaults": {
           "line": {
            "color": "#2a3f5f"
           }
          },
          "ternary": {
           "aaxis": {
            "gridcolor": "white",
            "linecolor": "white",
            "ticks": ""
           },
           "baxis": {
            "gridcolor": "white",
            "linecolor": "white",
            "ticks": ""
           },
           "bgcolor": "#E5ECF6",
           "caxis": {
            "gridcolor": "white",
            "linecolor": "white",
            "ticks": ""
           }
          },
          "title": {
           "x": 0.05
          },
          "xaxis": {
           "automargin": true,
           "gridcolor": "white",
           "linecolor": "white",
           "ticks": "",
           "title": {
            "standoff": 15
           },
           "zerolinecolor": "white",
           "zerolinewidth": 2
          },
          "yaxis": {
           "automargin": true,
           "gridcolor": "white",
           "linecolor": "white",
           "ticks": "",
           "title": {
            "standoff": 15
           },
           "zerolinecolor": "white",
           "zerolinewidth": 2
          }
         }
        },
        "width": 404.508497175,
        "xaxis": {
         "anchor": "y",
         "domain": [
          0,
          1
         ],
         "range": [
          0.5,
          1
         ],
         "showgrid": false,
         "showline": false,
         "tickcolor": "rgb(120, 120, 120)",
         "ticklen": 5,
         "ticks": "outside",
         "tickvals": [
          0.6,
          0.7,
          0.7999999999999999,
          0.8999999999999999,
          0.9999999999999999,
          1.0999999999999999
         ],
         "tickwidth": 1,
         "title": {
          "text": "cosine similarity"
         },
         "zeroline": false
        },
        "yaxis": {
         "anchor": "x",
         "domain": [
          0,
          1
         ],
         "gridcolor": "rgba(173, 216, 230, 0.3)",
         "gridwidth": 1,
         "showgrid": false,
         "showline": false,
         "tickcolor": "rgb(120, 120, 120)",
         "ticklen": 5,
         "ticks": "outside",
         "tickwidth": 1,
         "title": {
          "text": "count"
         },
         "zeroline": false
        }
       }
      }
     },
     "metadata": {},
     "output_type": "display_data"
    },
    {
     "data": {
      "application/vnd.plotly.v1+json": {
       "config": {
        "plotlyServerURL": "https://plot.ly"
       },
       "data": [
        {
         "alignmentgroup": "True",
         "bingroup": "x",
         "hovertemplate": "Found=True<br>best_score=%{x}<br>count=%{y}<extra></extra>",
         "legendgroup": "True",
         "marker": {
          "color": "rgb(152, 86, 86)",
          "line": {
           "color": "DarkSlateGrey",
           "width": 0.2
          },
          "opacity": 0.5,
          "pattern": {
           "shape": ""
          }
         },
         "name": "True",
         "nbinsx": 30,
         "offsetgroup": "True",
         "opacity": 1,
         "orientation": "v",
         "showlegend": true,
         "type": "histogram",
         "x": [
          0.9341856837272644,
          0.870604932308197,
          0.8201072812080383,
          0.9002046585083008,
          0.9092275500297546,
          0.90948224067688,
          0.9236085414886476,
          0.8304759860038757,
          0.9020073413848876,
          0.9268882870674132,
          0.8916189670562744,
          0.8667073249816895,
          0.894974946975708,
          0.903291404247284,
          0.9359109997749328,
          0.9055249094963074,
          0.7688820958137512,
          0.8507476449012756,
          0.9197999835014344,
          0.9235647320747375,
          0.9461750984191896,
          0.9337528347969056,
          0.8718451857566833,
          0.9098743796348572,
          0.9063963890075684,
          0.8602045178413391,
          0.8948753476142883,
          0.8719852566719055,
          0.9095284342765808,
          0.93304842710495,
          0.8745808601379395,
          0.8680000305175781,
          0.8665885925292969,
          0.8981709480285645,
          0.9239187240600586,
          0.9066829681396484,
          0.7548858523368835,
          0.921501398086548,
          0.9098081588745116,
          0.9136590361595154,
          0.9245960116386414,
          0.836341381072998,
          0.8908098340034485,
          0.8147218823432922,
          0.9118881225585938,
          0.8980627059936523,
          0.8687158226966858,
          0.840294361114502,
          0.8913955688476562,
          0.8477694392204285,
          0.8941697478294373,
          0.9210515022277832,
          0.8755321502685547,
          0.8790825009346008,
          0.8499038815498352,
          0.8598337769508362,
          0.8483359217643738,
          0.9158304333686828,
          0.8902544975280762,
          0.9345299601554872,
          0.8914079666137695,
          0.897741973400116,
          0.9413161277770996,
          0.921863853931427,
          0.8270714282989502,
          0.8317718505859375,
          0.7968083024024963,
          0.9123886227607728,
          0.9114511013031006,
          0.8618311882019043,
          0.9351800084114076,
          0.9275733828544616,
          0.9473955035209656,
          0.817815363407135,
          0.950632393360138,
          0.8262335658073425,
          0.8744053840637207,
          0.9200296998023988,
          0.9142245650291444,
          0.9328722953796388,
          0.891096293926239,
          0.9048946499824524,
          0.9258796572685242,
          0.8854045271873474,
          0.9516477584838868,
          0.8332379460334778,
          0.9371193051338196,
          0.8910157680511475,
          0.865227997303009,
          0.8852182030677795,
          0.9200751781463624,
          0.912987232208252,
          0.8952575325965881,
          0.8923537135124207,
          0.8721485137939453,
          0.9154756665229796,
          0.8324839472770691,
          0.9160885810852052,
          0.9248211979866028,
          0.8992447853088379,
          0.8630852699279785,
          0.8890848159790039,
          0.8800275921821594,
          0.8990536332130432,
          0.9061398506164552,
          0.8945669531822205,
          0.8216466903686523,
          0.9308626055717468,
          0.9038529992103576,
          0.9295583367347716,
          0.684786856174469,
          0.8751950860023499,
          0.8496440052986145,
          0.9135823249816896,
          0.9213703274726868,
          0.9136262536048888,
          0.898306667804718,
          0.8479970097541809,
          0.8561270833015442,
          0.8703303337097168,
          0.8912830948829651,
          0.8788817524909973,
          0.8903570175170898,
          0.8664218783378601,
          0.8939020037651062,
          0.9303801655769348,
          0.9043272137641908,
          0.8553428053855896,
          0.9174373745918274,
          0.8888848423957825,
          0.9497756361961364,
          0.8963112831115723,
          0.9477668404579164,
          0.9248619079589844,
          0.869489848613739,
          0.912830114364624,
          0.8839914202690125,
          0.8806917071342468,
          0.9115622639656068,
          0.884661853313446,
          0.9245970845222472,
          0.9454850554466248,
          0.8118846416473389,
          0.8643906712532043,
          0.8300486207008362,
          0.9267361164093018,
          0.8861995339393616,
          0.8718605637550354,
          0.919363021850586,
          0.9032487869262696,
          0.8471770286560059,
          0.9191659092903136,
          0.8820815086364746,
          0.8889002203941345,
          0.9046571850776672,
          0.9090045094490052,
          0.926381289958954,
          0.8365249037742615,
          0.8963767886161804,
          0.8322268128395081,
          0.8583250045776367,
          0.8802523612976074,
          0.8525727391242981,
          0.8597145080566406,
          0.9156503677368164,
          0.9068378806114196,
          0.9058923721313475,
          0.9175691604614258,
          0.923931360244751,
          0.9257760643959044,
          0.8577896952629089,
          0.862118661403656,
          0.8947364687919617,
          0.8896563649177551,
          0.9365944862365724,
          0.8449807167053223,
          0.8614732623100281,
          0.9037914872169496,
          0.9260393977165222,
          0.878316342830658,
          0.8580287098884583,
          0.8917656540870667,
          0.9219891428947448,
          0.9196057319641112,
          0.8891423344612122,
          0.871819019317627,
          0.9054169654846193,
          0.9539335370063782,
          0.8993862271308899,
          0.9124987721443176,
          0.8772838711738586,
          0.901909351348877,
          0.9277029037475586,
          0.8777040839195251,
          0.8948243260383606,
          0.8925606608390808,
          0.9054080843925476,
          0.9154589772224426,
          0.8569677472114563,
          0.8711149096488953,
          0.9342343211174012,
          0.7733685374259949,
          0.7968538403511047,
          0.8330556750297546,
          0.9127655625343324,
          0.8887372612953186,
          0.7982230186462402,
          0.8032142519950867,
          0.8828484416007996,
          0.8854119777679443,
          0.8452339768409729,
          0.9071474671363832,
          0.9162426590919496,
          0.849360466003418,
          0.9446752667427064,
          0.890688955783844,
          0.89992755651474,
          0.9058310389518738,
          0.922369658946991,
          0.9017510414123536,
          0.8912491798400879,
          0.8931695818901062,
          0.8911647796630859,
          0.9315690994262696,
          0.8320708870887756,
          0.9268052577972412,
          0.8619623780250549,
          0.9323905110359192,
          0.9030466079711914,
          0.9128270149230956,
          0.922174632549286,
          0.8931990265846252,
          0.935603678226471,
          0.9297487139701844,
          0.9103935360908508,
          0.9066211581230164,
          0.8570517897605896,
          0.8842077851295471,
          0.8792764544487,
          0.8954222798347473,
          0.8984808325767517,
          0.897305428981781,
          0.9086378216743468,
          0.8327655792236328,
          0.8587881922721863,
          0.8990669250488281,
          0.9160112738609314,
          0.9100780487060548,
          0.891533613204956,
          0.9061558842658995,
          0.877949059009552,
          0.8804302215576172,
          0.9279757142066956,
          0.8837141990661621,
          0.8646861910820007,
          0.8880617618560791,
          0.862507164478302,
          0.835113525390625,
          0.8703980445861816,
          0.9060657024383544,
          0.8812358975410461,
          0.91468745470047,
          0.9508347511291504,
          0.8778017163276672,
          0.8981143832206726,
          0.8757719993591309,
          0.8676058650016785,
          0.9507490992546082,
          0.9240818619728088,
          0.8783168792724609,
          0.9108875393867492,
          0.90136981010437,
          0.7981720566749573,
          0.8950974345207214,
          0.9296360611915588,
          0.8618965148925781,
          0.8822175860404968,
          0.8371804356575012,
          0.906329870223999,
          0.8580252528190613,
          0.8825117945671082,
          0.8732094764709473,
          0.868532657623291,
          0.9021449089050292,
          0.8979948163032532,
          0.9316772818565368,
          0.8866254687309265,
          0.934121310710907,
          0.8522974848747253,
          0.9313047528266908,
          0.9091315865516664,
          0.8374261856079102,
          0.8779522776603699,
          0.8935079574584961,
          0.915931224822998,
          0.929807186126709,
          0.8980811238288879,
          0.9149348735809326,
          0.8859386444091797,
          0.8158397674560547,
          0.9304394721984864,
          0.939070999622345,
          0.8399766087532043,
          0.8996017575263977,
          0.8369081020355225,
          0.8863916993141174,
          0.9056429862976074,
          0.8535928726196289,
          0.7540791034698486,
          0.8896691203117371,
          0.9123328328132628,
          0.9093943238258362,
          0.8635323643684387,
          0.8827285170555115,
          0.9081380367279052,
          0.8763313293457031,
          0.8662284016609192,
          0.9315363764762878,
          0.8592534065246582,
          0.840362548828125,
          0.8972930908203125,
          0.8881244659423828,
          0.914851725101471,
          0.9476823806762696,
          0.8187362551689148,
          0.931052029132843,
          0.8986639976501465,
          0.856621503829956,
          0.8804141879081726,
          0.9194104075431824,
          0.8918452262878418,
          0.8308671116828918,
          0.9034693837165833,
          0.9207944273948668,
          0.921531856060028,
          0.8575647473335266,
          0.9497189521789552,
          0.8819271922111511,
          0.84187251329422,
          0.9105551242828368,
          0.9228543639183044,
          0.9080396294593812,
          0.8099570274353027,
          0.9322843551635742,
          0.9140160083770752,
          0.7802679538726807,
          0.853253185749054,
          0.9276158213615416,
          0.8573828339576721,
          0.8483729362487793,
          0.9139980673789978,
          0.8952848315238953,
          0.9401662349700928,
          0.9297576546669006,
          0.8982963562011719,
          0.906508445739746,
          0.9339740872383118,
          0.8940639495849609,
          0.8962803483009338,
          0.8823370933532715,
          0.9318035244941713,
          0.7908785939216614,
          0.8710100054740906,
          0.9081032276153564,
          0.8958337903022766,
          0.9096224904060364,
          0.9428424835205078,
          0.8896427154541016,
          0.8010251522064209,
          0.8649213314056396,
          0.8272848129272461,
          0.9181211590766908,
          0.9185875058174132,
          0.9224227070808412,
          0.9009904265403748,
          0.8990461230278015,
          0.9168317317962646,
          0.9251301288604736,
          0.8817408084869385,
          0.8592982292175293,
          0.9205009937286376,
          0.9264823794364928,
          0.8723204135894775,
          0.8444749712944031,
          0.9173426032066344,
          0.9184820055961608,
          0.8174943327903748,
          0.9168422222137452,
          0.8873436450958252,
          0.9062795639038086,
          0.9142348170280457,
          0.9110148549079896,
          0.9266654849052428,
          0.903669536113739,
          0.9085747599601746,
          0.9208831191062928,
          0.9342580437660216,
          0.9235023856163024,
          0.8589817881584167,
          0.9011229872703552,
          0.9115554690361024,
          0.9400973320007324,
          0.928769052028656,
          0.7718877196311951,
          0.9306278824806212,
          0.8346700668334961,
          0.8108615279197693,
          0.9303469657897948,
          0.8922433853149414,
          0.8730788230895996,
          0.9219026565551758,
          0.8875823020935059,
          0.8766595721244812,
          0.9416780471801758,
          0.8835474848747253,
          0.8735397458076477,
          0.901662826538086,
          0.8567021489143372,
          0.8754522800445557,
          0.9129478335380554,
          0.8423855900764465,
          0.90891432762146,
          0.8872144818305969,
          0.7148346900939941,
          0.8998055458068848,
          0.927646815776825,
          0.917349636554718,
          0.8944482803344727,
          0.868503749370575,
          0.9352943897247314,
          0.8676126599311829,
          0.8910074234008789,
          0.9082090258598328,
          0.8929793238639832,
          0.9119723439216614,
          0.9107242226600648,
          0.8352160453796387,
          0.8741270899772644,
          0.7940970063209534,
          0.8960258364677429,
          0.9149976372718812,
          0.8994333744049072,
          0.8582494854927063,
          0.916893720626831,
          0.8788912892341614,
          0.9067394137382508,
          0.9304320216178894,
          0.8965933918952942,
          0.8700777888298035,
          0.8712514042854309,
          0.8968431353569031,
          0.9012039303779602,
          0.8417122960090637,
          0.8449479937553406,
          0.9120805859565736,
          0.8576946258544922,
          0.9397530555725098,
          0.8371105790138245,
          0.9409777522087096,
          0.772072970867157,
          0.8886032104492188,
          0.8110551834106445,
          0.8346018195152283,
          0.9325867295265198,
          0.9146924018859864,
          0.9181969165802002,
          0.8656752705574036,
          0.9120573401451112,
          0.9225635528564452,
          0.9037922024726868,
          0.9084946513175964,
          0.941844642162323,
          0.8834443688392639,
          0.9299087524414062,
          0.916143238544464,
          0.9504733085632324,
          0.8985121846199036,
          0.9224888682365416,
          0.8883511424064636,
          0.9288285374641418,
          0.8679175972938538,
          0.908188819885254,
          0.925271213054657,
          0.8719226717948914,
          0.8913996815681458,
          0.8923006653785706,
          0.8559355735778809,
          0.9309199452400208,
          0.8350949883460999,
          0.8732080459594727,
          0.8750899434089661,
          0.8366138935089111,
          0.9239797592163086,
          0.8084123730659485,
          0.9274754524230956,
          0.9349047541618348,
          0.9176270365715028,
          0.899005651473999,
          0.8596009612083435,
          0.8668341636657715,
          0.8894317150115967,
          0.9117690920829772,
          0.9274885654449464,
          0.7927713394165039,
          0.9341629147529602,
          0.8381366729736328,
          0.9366743564605712,
          0.8784869313240051,
          0.9098322987556458,
          0.9206819534301758,
          0.8481786251068115,
          0.9151269793510436,
          0.8587214350700378,
          0.9128627181053162,
          0.9159628748893738,
          0.8433067798614502,
          0.9264594912528992,
          0.8218135237693787,
          0.922955334186554,
          0.9106340408325196,
          0.9371424317359924,
          0.9377202391624452,
          0.8808588981628418,
          0.9193754196166992,
          0.8735232949256897,
          0.923245906829834,
          0.919967234134674,
          0.9115855097770692,
          0.907348930835724,
          0.9368641972541808,
          0.8774247169494629,
          0.914336919784546,
          0.8657719492912292,
          0.9079321026802064,
          0.9263949394226074,
          0.8752150535583496,
          0.9134095311164856,
          0.861254870891571,
          0.9134038090705872,
          0.9077402949333192,
          0.9023287892341614,
          0.8980086445808411,
          0.9046802520751952,
          0.9105091094970704,
          0.8780642151832581,
          0.8534591197967529,
          0.8900560736656189,
          0.8974210619926453,
          0.918755054473877,
          0.9260337352752686,
          0.8975426554679871,
          0.8622746467590332,
          0.8805792927742004,
          0.8716694712638855,
          0.9203760027885436,
          0.82914137840271,
          0.8753032684326172,
          0.8676508069038391,
          0.9052870869636536,
          0.9076853394508362,
          0.9264692664146424,
          0.8557187914848328,
          0.8977081179618835,
          0.8458418250083923,
          0.857661783695221,
          0.8189333081245422,
          0.9401361346244812,
          0.9062712788581848,
          0.8778123259544373,
          0.9319815039634703,
          0.8813274502754211,
          0.7801762223243713,
          0.8612887859344482,
          0.8880687355995178,
          0.8875524401664734,
          0.8747334480285645,
          0.9008255004882812,
          0.8444004058837891,
          0.9094708561897278,
          0.8717148303985596,
          0.8438613414764404,
          0.9306758046150208,
          0.8654851913452148,
          0.880718469619751,
          0.7913641333580017,
          0.8841031193733215,
          0.923128604888916,
          0.8959627151489258,
          0.8392764925956726,
          0.8711715340614319,
          0.8934845924377441,
          0.8638739585876465,
          0.8113574385643005,
          0.8800304532051086,
          0.8867500424385071,
          0.9262781143188475,
          0.8644478917121887,
          0.8994308114051819,
          0.9025383591651917,
          0.9287431240081788,
          0.8655725121498108,
          0.9211103916168212,
          0.8235475420951843,
          0.926799476146698,
          0.7745040059089661,
          0.9294192790985109,
          0.9417497515678406,
          0.8976478576660156,
          0.8668120503425598,
          0.8696549534797668,
          0.8810194134712219,
          0.8712077736854553,
          0.9200922846794128,
          0.8627047538757324,
          0.8621973991394043,
          0.8195123672485352,
          0.9280501008033752,
          0.9029161930084229,
          0.8842949867248535,
          0.89703768491745,
          0.8931007981300354,
          0.8732703328132629,
          0.901427447795868,
          0.9203136563301086,
          0.9108452200889589,
          0.8792799115180969,
          0.8287294507026672,
          0.8959444165229797,
          0.9120234847068788,
          0.92672997713089,
          0.9139373898506165,
          0.9197594523429872,
          0.9031838774681092,
          0.9051454663276672,
          0.8586726188659668,
          0.9343438744544984,
          0.9235773086547852,
          0.9319729208946228,
          0.9187359809875488,
          0.8935471177101135,
          0.9159550666809082,
          0.9245864748954772,
          0.8765574097633362,
          0.8932766318321228,
          0.7788781523704529,
          0.8603640198707581,
          0.8580682277679443,
          0.8814888596534729,
          0.8964921832084656,
          0.9520682692527772,
          0.9047164916992188,
          0.8932790756225586,
          0.876724898815155,
          0.8971319198608398,
          0.9422280192375184,
          0.9073030352592468,
          0.9241226315498352,
          0.8835228085517883,
          0.9098119139671326,
          0.8562234044075012,
          0.8646786212921143,
          0.9283928871154784,
          0.8715924620628357,
          0.88909912109375,
          0.9060096144676208,
          0.8985845446586609,
          0.8824604153633118,
          0.8965960144996643,
          0.861685574054718,
          0.8853011131286621,
          0.8808755874633789,
          0.8808255195617676,
          0.8761212229728699,
          0.8974206447601318,
          0.914633333683014,
          0.9351277947425842,
          0.8980873227119446,
          0.8654723167419434,
          0.8966425061225891,
          0.8934297561645508,
          0.9348604083061218,
          0.87516188621521,
          0.7648000717163086,
          0.8981518745422363,
          0.95755797624588,
          0.9104002118110656,
          0.9099811911582948,
          0.9072468876838684,
          0.8769999146461487,
          0.8653032183647156,
          0.88031005859375,
          0.8976526260375977,
          0.8502516746520996,
          0.8624046444892883,
          0.9314818382263184,
          0.9262424111366272,
          0.8556739687919617,
          0.8672075867652893,
          0.8857707381248474,
          0.9116864204406738,
          0.813391387462616,
          0.8483619689941406,
          0.8862683176994324,
          0.8932008147239685,
          0.9120230078697203,
          0.8989202380180359,
          0.9097988605499268,
          0.8986496925354004,
          0.8991199135780334,
          0.7143791317939758,
          0.894642174243927,
          0.9256626963615416,
          0.8936150074005127,
          0.9081149697303772,
          0.9203228950500488,
          0.8567405343055725,
          0.899432897567749,
          0.9215216636657716,
          0.9159119725227356,
          0.8769925236701965,
          0.8717781901359558,
          0.8952034115791321,
          0.942371129989624,
          0.926262378692627,
          0.8263948559761047,
          0.9302056431770324,
          0.9226850867271424,
          0.9250832200050354,
          0.9298446774482728,
          0.8771657943725586,
          0.8718261122703552,
          0.9180364608764648,
          0.931929886341095,
          0.9358698725700378,
          0.9098532795906068,
          0.8784844875335693,
          0.8546436429023743,
          0.920381724834442,
          0.8824949264526367,
          0.8945476412773132,
          0.8409810066223145,
          0.9055206775665284,
          0.9029043316841124,
          0.9327068328857422,
          0.8557310700416565,
          0.8742033839225769,
          0.8723686337471008,
          0.8898900151252747,
          0.8942182064056396,
          0.8980072140693665,
          0.8812869191169739,
          0.8771214485168457,
          0.8529908061027527,
          0.8069934844970703,
          0.8598175644874573,
          0.8517869114875793,
          0.8709478378295898,
          0.8846297860145569,
          0.8891833424568176,
          0.9244142174720764,
          0.9337220191955566,
          0.9286447167396544,
          0.884198009967804,
          0.8859716057777405,
          0.865630567073822,
          0.8966178894042969,
          0.7973911762237549,
          0.8813726305961609,
          0.8471514582633972,
          0.8716815114021301,
          0.8900348544120789,
          0.9177221655845642,
          0.8860042691230774,
          0.924705684185028,
          0.9116430282592772,
          0.8757316470146179,
          0.9345905780792236,
          0.8939347267150879,
          0.9004759788513184,
          0.9202682375907898,
          0.8295285701751709,
          0.9144068360328674,
          0.9134820103645324,
          0.9020843505859376,
          0.9298226237297058,
          0.8913721442222595,
          0.8459132313728333,
          0.8573708534240723,
          0.9277365803718568,
          0.9123730063438416,
          0.8920698165893555,
          0.888836145401001,
          0.8786017298698425,
          0.9077643752098083,
          0.896913468837738,
          0.9724306464195251,
          0.8927131295204163,
          0.8891348242759705,
          0.9285969734191896,
          0.8679807782173157,
          0.7656800150871277,
          0.8645426630973816,
          0.9201110005378724,
          0.909485399723053,
          0.9130086898803712,
          0.8384738564491272,
          0.8314620852470398,
          0.8760092258453369,
          0.8921205997467041,
          0.9002636075019836,
          0.8372510075569153,
          0.8592772483825684,
          0.8663522601127625,
          0.8611004948616028,
          0.8839214444160461,
          0.8695874810218811,
          0.916124165058136,
          0.8931260108947754,
          0.9108818173408508,
          0.8888309597969055,
          0.8956703543663025,
          0.9229952692985536,
          0.8797462582588196,
          0.9120176434516908,
          0.9366338849067688,
          0.920029640197754,
          0.8411262035369873,
          0.9127233028411864,
          0.910904586315155,
          0.910243809223175,
          0.842795193195343,
          0.9107314944267272,
          0.9155381321907043,
          0.9471468925476074,
          0.8774217963218689,
          0.872707188129425,
          0.8104256987571716,
          0.8914867043495178,
          0.932608127593994,
          0.9107043743133544,
          0.8464104533195496,
          0.8754326701164246,
          0.9228241443634032,
          0.8538530468940735,
          0.9146990180015564,
          0.8971081376075745,
          0.9308002591133118,
          0.7765938639640808,
          0.9097930788993835,
          0.9283096194267272,
          0.8904516696929932,
          0.8582490086555481,
          0.8784690499305725,
          0.8956108689308167,
          0.8977468609809875,
          0.9033182263374328,
          0.8540053367614746,
          0.8728516101837158,
          0.9218635559082032,
          0.9340352416038512,
          0.8961980938911438,
          0.9048493504524232,
          0.889839231967926,
          0.8789100646972656,
          0.9174123406410216,
          0.9059578776359558,
          0.9152374267578124,
          0.8468095660209656,
          0.8983898758888245,
          0.8494895100593567,
          0.9166532158851624,
          0.8648621439933777,
          0.9385022521018982,
          0.8944203853607178,
          0.8739097714424133,
          0.8408992886543274,
          0.9009097218513488,
          0.9180102348327636,
          0.8749117851257324,
          0.9125723838806152,
          0.9295222163200378,
          0.905340015888214,
          0.8338068127632141,
          0.8926826119422913,
          0.8712785840034485,
          0.9290701746940612,
          0.9086635112762452,
          0.9166327118873596,
          0.9478759765625,
          0.9202005863189696,
          0.9155049324035645,
          0.9179811477661132,
          0.9225430488586426,
          0.9323157668113708,
          0.9287105202674866,
          0.9174885749816896,
          0.8651320934295654,
          0.8730654716491699,
          0.8517284989356995
         ],
         "xaxis": "x",
         "yaxis": "y"
        },
        {
         "alignmentgroup": "True",
         "bingroup": "x",
         "hovertemplate": "Found=False<br>best_score=%{x}<br>count=%{y}<extra></extra>",
         "legendgroup": "False",
         "marker": {
          "color": "rgb(152, 146, 186)",
          "line": {
           "color": "DarkSlateGrey",
           "width": 0.2
          },
          "opacity": 0.5,
          "pattern": {
           "shape": ""
          }
         },
         "name": "False",
         "nbinsx": 30,
         "offsetgroup": "False",
         "opacity": 1,
         "orientation": "v",
         "showlegend": true,
         "type": "histogram",
         "x": [
          0.8158319592475891,
          0.6164323687553406,
          0.7761929631233215,
          0.6070111393928528,
          0.9064161777496338,
          0.8841152787208557,
          0.7685653567314148,
          0.7277321219444275,
          0.6551876664161682,
          0.7768466472625732,
          0.8475110530853271,
          0.6068989038467407,
          0.8781024813652039,
          0.8777818083763123,
          0.836341381072998,
          0.7379732728004456,
          0.7607024312019348,
          0.7350957989692688,
          0.7685306072235107,
          0.7864556312561035,
          0.6898514628410339,
          0.8281461596488953,
          0.7439859509468079,
          0.6679396629333496,
          0.8609711527824402,
          0.734329879283905,
          0.7216501832008362,
          0.7879233360290527,
          0.8918607831001282,
          0.8445056080818176,
          0.5632674694061279,
          0.805997908115387,
          0.8607075810432434,
          0.8537638187408447,
          0.8402484059333801,
          0.894281804561615,
          0.7496656775474548,
          0.8530269265174866,
          0.7000365257263184,
          0.8203926086425781,
          0.8343140482902527,
          0.6977083086967468,
          0.71184903383255,
          0.7470418810844421,
          0.7950035929679871,
          0.8029270172119141,
          0.8849377632141113,
          0.8068025708198547,
          0.8148840069770813,
          0.8653035759925842,
          0.8697071671485901,
          0.7298042178153992,
          0.8499727845191956,
          0.8113973140716553,
          0.8026638627052307,
          0.8925740718841553,
          0.6550797820091248,
          0.8884789347648621,
          0.8240869045257568,
          0.6838350296020508,
          0.7196730971336365,
          0.7176907062530518,
          0.8111971020698547,
          0.6088051199913025,
          0.7688083052635193,
          0.6039125323295593,
          0.7425405383110046,
          0.8518214225769043,
          0.6691441535949707,
          0.5470348000526428,
          0.7822647094726562,
          0.8248014450073242,
          0.7494552731513977,
          0.7587442398071289,
          0.8114145398139954,
          0.8217940330505371,
          0.7022884488105774,
          0.8329699635505676,
          0.920936405658722,
          0.8593009114265442,
          0.8290464282035828,
          0.8243533968925476,
          0.8475539088249207,
          0.8760921359062195,
          0.6894457936286926,
          0.7268795967102051,
          0.9075767397880554,
          0.7512670159339905,
          0.8149495124816895,
          0.7759985327720642,
          0.7821134924888611,
          0.6980800628662109,
          0.8462550044059753,
          0.7420156598091125,
          0.7149648666381836,
          0.6698508262634277,
          0.8792238831520081,
          0.8803394436836243,
          0.8334570527076721,
          0.6389371752738953,
          0.7763025164604187,
          0.7951211929321289
         ],
         "xaxis": "x",
         "yaxis": "y"
        }
       ],
       "layout": {
        "annotations": [
         {
          "showarrow": false,
          "text": "perfect similarity",
          "textangle": 90,
          "x": 1,
          "xanchor": "left",
          "xref": "x",
          "y": 0,
          "yanchor": "bottom",
          "yref": "y domain"
         }
        ],
        "barmode": "overlay",
        "font": {
         "family": "CMU Sans Serif"
        },
        "height": 250,
        "legend": {
         "title": {
          "text": "Found"
         },
         "tracegroupgap": 0
        },
        "margin": {
         "b": 0,
         "l": 0,
         "r": 0,
         "t": 0
        },
        "plot_bgcolor": "white",
        "shapes": [
         {
          "line": {
           "dash": "dot"
          },
          "type": "line",
          "x0": 1,
          "x1": 1,
          "xref": "x",
          "y0": 0,
          "y1": 1,
          "yref": "y domain"
         }
        ],
        "template": {
         "data": {
          "bar": [
           {
            "error_x": {
             "color": "#2a3f5f"
            },
            "error_y": {
             "color": "#2a3f5f"
            },
            "marker": {
             "line": {
              "color": "#E5ECF6",
              "width": 0.5
             },
             "pattern": {
              "fillmode": "overlay",
              "size": 10,
              "solidity": 0.2
             }
            },
            "type": "bar"
           }
          ],
          "barpolar": [
           {
            "marker": {
             "line": {
              "color": "#E5ECF6",
              "width": 0.5
             },
             "pattern": {
              "fillmode": "overlay",
              "size": 10,
              "solidity": 0.2
             }
            },
            "type": "barpolar"
           }
          ],
          "carpet": [
           {
            "aaxis": {
             "endlinecolor": "#2a3f5f",
             "gridcolor": "white",
             "linecolor": "white",
             "minorgridcolor": "white",
             "startlinecolor": "#2a3f5f"
            },
            "baxis": {
             "endlinecolor": "#2a3f5f",
             "gridcolor": "white",
             "linecolor": "white",
             "minorgridcolor": "white",
             "startlinecolor": "#2a3f5f"
            },
            "type": "carpet"
           }
          ],
          "choropleth": [
           {
            "colorbar": {
             "outlinewidth": 0,
             "ticks": ""
            },
            "type": "choropleth"
           }
          ],
          "contour": [
           {
            "colorbar": {
             "outlinewidth": 0,
             "ticks": ""
            },
            "colorscale": [
             [
              0,
              "#0d0887"
             ],
             [
              0.1111111111111111,
              "#46039f"
             ],
             [
              0.2222222222222222,
              "#7201a8"
             ],
             [
              0.3333333333333333,
              "#9c179e"
             ],
             [
              0.4444444444444444,
              "#bd3786"
             ],
             [
              0.5555555555555556,
              "#d8576b"
             ],
             [
              0.6666666666666666,
              "#ed7953"
             ],
             [
              0.7777777777777778,
              "#fb9f3a"
             ],
             [
              0.8888888888888888,
              "#fdca26"
             ],
             [
              1,
              "#f0f921"
             ]
            ],
            "type": "contour"
           }
          ],
          "contourcarpet": [
           {
            "colorbar": {
             "outlinewidth": 0,
             "ticks": ""
            },
            "type": "contourcarpet"
           }
          ],
          "heatmap": [
           {
            "colorbar": {
             "outlinewidth": 0,
             "ticks": ""
            },
            "colorscale": [
             [
              0,
              "#0d0887"
             ],
             [
              0.1111111111111111,
              "#46039f"
             ],
             [
              0.2222222222222222,
              "#7201a8"
             ],
             [
              0.3333333333333333,
              "#9c179e"
             ],
             [
              0.4444444444444444,
              "#bd3786"
             ],
             [
              0.5555555555555556,
              "#d8576b"
             ],
             [
              0.6666666666666666,
              "#ed7953"
             ],
             [
              0.7777777777777778,
              "#fb9f3a"
             ],
             [
              0.8888888888888888,
              "#fdca26"
             ],
             [
              1,
              "#f0f921"
             ]
            ],
            "type": "heatmap"
           }
          ],
          "heatmapgl": [
           {
            "colorbar": {
             "outlinewidth": 0,
             "ticks": ""
            },
            "colorscale": [
             [
              0,
              "#0d0887"
             ],
             [
              0.1111111111111111,
              "#46039f"
             ],
             [
              0.2222222222222222,
              "#7201a8"
             ],
             [
              0.3333333333333333,
              "#9c179e"
             ],
             [
              0.4444444444444444,
              "#bd3786"
             ],
             [
              0.5555555555555556,
              "#d8576b"
             ],
             [
              0.6666666666666666,
              "#ed7953"
             ],
             [
              0.7777777777777778,
              "#fb9f3a"
             ],
             [
              0.8888888888888888,
              "#fdca26"
             ],
             [
              1,
              "#f0f921"
             ]
            ],
            "type": "heatmapgl"
           }
          ],
          "histogram": [
           {
            "marker": {
             "pattern": {
              "fillmode": "overlay",
              "size": 10,
              "solidity": 0.2
             }
            },
            "type": "histogram"
           }
          ],
          "histogram2d": [
           {
            "colorbar": {
             "outlinewidth": 0,
             "ticks": ""
            },
            "colorscale": [
             [
              0,
              "#0d0887"
             ],
             [
              0.1111111111111111,
              "#46039f"
             ],
             [
              0.2222222222222222,
              "#7201a8"
             ],
             [
              0.3333333333333333,
              "#9c179e"
             ],
             [
              0.4444444444444444,
              "#bd3786"
             ],
             [
              0.5555555555555556,
              "#d8576b"
             ],
             [
              0.6666666666666666,
              "#ed7953"
             ],
             [
              0.7777777777777778,
              "#fb9f3a"
             ],
             [
              0.8888888888888888,
              "#fdca26"
             ],
             [
              1,
              "#f0f921"
             ]
            ],
            "type": "histogram2d"
           }
          ],
          "histogram2dcontour": [
           {
            "colorbar": {
             "outlinewidth": 0,
             "ticks": ""
            },
            "colorscale": [
             [
              0,
              "#0d0887"
             ],
             [
              0.1111111111111111,
              "#46039f"
             ],
             [
              0.2222222222222222,
              "#7201a8"
             ],
             [
              0.3333333333333333,
              "#9c179e"
             ],
             [
              0.4444444444444444,
              "#bd3786"
             ],
             [
              0.5555555555555556,
              "#d8576b"
             ],
             [
              0.6666666666666666,
              "#ed7953"
             ],
             [
              0.7777777777777778,
              "#fb9f3a"
             ],
             [
              0.8888888888888888,
              "#fdca26"
             ],
             [
              1,
              "#f0f921"
             ]
            ],
            "type": "histogram2dcontour"
           }
          ],
          "mesh3d": [
           {
            "colorbar": {
             "outlinewidth": 0,
             "ticks": ""
            },
            "type": "mesh3d"
           }
          ],
          "parcoords": [
           {
            "line": {
             "colorbar": {
              "outlinewidth": 0,
              "ticks": ""
             }
            },
            "type": "parcoords"
           }
          ],
          "pie": [
           {
            "automargin": true,
            "type": "pie"
           }
          ],
          "scatter": [
           {
            "fillpattern": {
             "fillmode": "overlay",
             "size": 10,
             "solidity": 0.2
            },
            "type": "scatter"
           }
          ],
          "scatter3d": [
           {
            "line": {
             "colorbar": {
              "outlinewidth": 0,
              "ticks": ""
             }
            },
            "marker": {
             "colorbar": {
              "outlinewidth": 0,
              "ticks": ""
             }
            },
            "type": "scatter3d"
           }
          ],
          "scattercarpet": [
           {
            "marker": {
             "colorbar": {
              "outlinewidth": 0,
              "ticks": ""
             }
            },
            "type": "scattercarpet"
           }
          ],
          "scattergeo": [
           {
            "marker": {
             "colorbar": {
              "outlinewidth": 0,
              "ticks": ""
             }
            },
            "type": "scattergeo"
           }
          ],
          "scattergl": [
           {
            "marker": {
             "colorbar": {
              "outlinewidth": 0,
              "ticks": ""
             }
            },
            "type": "scattergl"
           }
          ],
          "scattermapbox": [
           {
            "marker": {
             "colorbar": {
              "outlinewidth": 0,
              "ticks": ""
             }
            },
            "type": "scattermapbox"
           }
          ],
          "scatterpolar": [
           {
            "marker": {
             "colorbar": {
              "outlinewidth": 0,
              "ticks": ""
             }
            },
            "type": "scatterpolar"
           }
          ],
          "scatterpolargl": [
           {
            "marker": {
             "colorbar": {
              "outlinewidth": 0,
              "ticks": ""
             }
            },
            "type": "scatterpolargl"
           }
          ],
          "scatterternary": [
           {
            "marker": {
             "colorbar": {
              "outlinewidth": 0,
              "ticks": ""
             }
            },
            "type": "scatterternary"
           }
          ],
          "surface": [
           {
            "colorbar": {
             "outlinewidth": 0,
             "ticks": ""
            },
            "colorscale": [
             [
              0,
              "#0d0887"
             ],
             [
              0.1111111111111111,
              "#46039f"
             ],
             [
              0.2222222222222222,
              "#7201a8"
             ],
             [
              0.3333333333333333,
              "#9c179e"
             ],
             [
              0.4444444444444444,
              "#bd3786"
             ],
             [
              0.5555555555555556,
              "#d8576b"
             ],
             [
              0.6666666666666666,
              "#ed7953"
             ],
             [
              0.7777777777777778,
              "#fb9f3a"
             ],
             [
              0.8888888888888888,
              "#fdca26"
             ],
             [
              1,
              "#f0f921"
             ]
            ],
            "type": "surface"
           }
          ],
          "table": [
           {
            "cells": {
             "fill": {
              "color": "#EBF0F8"
             },
             "line": {
              "color": "white"
             }
            },
            "header": {
             "fill": {
              "color": "#C8D4E3"
             },
             "line": {
              "color": "white"
             }
            },
            "type": "table"
           }
          ]
         },
         "layout": {
          "annotationdefaults": {
           "arrowcolor": "#2a3f5f",
           "arrowhead": 0,
           "arrowwidth": 1
          },
          "autotypenumbers": "strict",
          "coloraxis": {
           "colorbar": {
            "outlinewidth": 0,
            "ticks": ""
           }
          },
          "colorscale": {
           "diverging": [
            [
             0,
             "#8e0152"
            ],
            [
             0.1,
             "#c51b7d"
            ],
            [
             0.2,
             "#de77ae"
            ],
            [
             0.3,
             "#f1b6da"
            ],
            [
             0.4,
             "#fde0ef"
            ],
            [
             0.5,
             "#f7f7f7"
            ],
            [
             0.6,
             "#e6f5d0"
            ],
            [
             0.7,
             "#b8e186"
            ],
            [
             0.8,
             "#7fbc41"
            ],
            [
             0.9,
             "#4d9221"
            ],
            [
             1,
             "#276419"
            ]
           ],
           "sequential": [
            [
             0,
             "#0d0887"
            ],
            [
             0.1111111111111111,
             "#46039f"
            ],
            [
             0.2222222222222222,
             "#7201a8"
            ],
            [
             0.3333333333333333,
             "#9c179e"
            ],
            [
             0.4444444444444444,
             "#bd3786"
            ],
            [
             0.5555555555555556,
             "#d8576b"
            ],
            [
             0.6666666666666666,
             "#ed7953"
            ],
            [
             0.7777777777777778,
             "#fb9f3a"
            ],
            [
             0.8888888888888888,
             "#fdca26"
            ],
            [
             1,
             "#f0f921"
            ]
           ],
           "sequentialminus": [
            [
             0,
             "#0d0887"
            ],
            [
             0.1111111111111111,
             "#46039f"
            ],
            [
             0.2222222222222222,
             "#7201a8"
            ],
            [
             0.3333333333333333,
             "#9c179e"
            ],
            [
             0.4444444444444444,
             "#bd3786"
            ],
            [
             0.5555555555555556,
             "#d8576b"
            ],
            [
             0.6666666666666666,
             "#ed7953"
            ],
            [
             0.7777777777777778,
             "#fb9f3a"
            ],
            [
             0.8888888888888888,
             "#fdca26"
            ],
            [
             1,
             "#f0f921"
            ]
           ]
          },
          "colorway": [
           "#636efa",
           "#EF553B",
           "#00cc96",
           "#ab63fa",
           "#FFA15A",
           "#19d3f3",
           "#FF6692",
           "#B6E880",
           "#FF97FF",
           "#FECB52"
          ],
          "font": {
           "color": "#2a3f5f"
          },
          "geo": {
           "bgcolor": "white",
           "lakecolor": "white",
           "landcolor": "#E5ECF6",
           "showlakes": true,
           "showland": true,
           "subunitcolor": "white"
          },
          "hoverlabel": {
           "align": "left"
          },
          "hovermode": "closest",
          "mapbox": {
           "style": "light"
          },
          "paper_bgcolor": "white",
          "plot_bgcolor": "#E5ECF6",
          "polar": {
           "angularaxis": {
            "gridcolor": "white",
            "linecolor": "white",
            "ticks": ""
           },
           "bgcolor": "#E5ECF6",
           "radialaxis": {
            "gridcolor": "white",
            "linecolor": "white",
            "ticks": ""
           }
          },
          "scene": {
           "xaxis": {
            "backgroundcolor": "#E5ECF6",
            "gridcolor": "white",
            "gridwidth": 2,
            "linecolor": "white",
            "showbackground": true,
            "ticks": "",
            "zerolinecolor": "white"
           },
           "yaxis": {
            "backgroundcolor": "#E5ECF6",
            "gridcolor": "white",
            "gridwidth": 2,
            "linecolor": "white",
            "showbackground": true,
            "ticks": "",
            "zerolinecolor": "white"
           },
           "zaxis": {
            "backgroundcolor": "#E5ECF6",
            "gridcolor": "white",
            "gridwidth": 2,
            "linecolor": "white",
            "showbackground": true,
            "ticks": "",
            "zerolinecolor": "white"
           }
          },
          "shapedefaults": {
           "line": {
            "color": "#2a3f5f"
           }
          },
          "ternary": {
           "aaxis": {
            "gridcolor": "white",
            "linecolor": "white",
            "ticks": ""
           },
           "baxis": {
            "gridcolor": "white",
            "linecolor": "white",
            "ticks": ""
           },
           "bgcolor": "#E5ECF6",
           "caxis": {
            "gridcolor": "white",
            "linecolor": "white",
            "ticks": ""
           }
          },
          "title": {
           "x": 0.05
          },
          "xaxis": {
           "automargin": true,
           "gridcolor": "white",
           "linecolor": "white",
           "ticks": "",
           "title": {
            "standoff": 15
           },
           "zerolinecolor": "white",
           "zerolinewidth": 2
          },
          "yaxis": {
           "automargin": true,
           "gridcolor": "white",
           "linecolor": "white",
           "ticks": "",
           "title": {
            "standoff": 15
           },
           "zerolinecolor": "white",
           "zerolinewidth": 2
          }
         }
        },
        "width": 404.508497175,
        "xaxis": {
         "anchor": "y",
         "domain": [
          0,
          1
         ],
         "range": [
          0.5,
          1
         ],
         "showgrid": false,
         "showline": false,
         "tickcolor": "rgb(120, 120, 120)",
         "ticklen": 5,
         "ticks": "outside",
         "tickvals": [
          0.6,
          0.7,
          0.7999999999999999,
          0.8999999999999999,
          0.9999999999999999,
          1.0999999999999999
         ],
         "tickwidth": 1,
         "title": {
          "text": "cosine similarity"
         },
         "zeroline": false
        },
        "yaxis": {
         "anchor": "x",
         "domain": [
          0,
          1
         ],
         "gridcolor": "rgba(173, 216, 230, 0.3)",
         "gridwidth": 1,
         "showgrid": false,
         "showline": false,
         "tickcolor": "rgb(120, 120, 120)",
         "ticklen": 5,
         "ticks": "outside",
         "tickwidth": 1,
         "title": {
          "text": "count"
         },
         "zeroline": false
        }
       }
      }
     },
     "metadata": {},
     "output_type": "display_data"
    },
    {
     "data": {
      "application/vnd.plotly.v1+json": {
       "config": {
        "plotlyServerURL": "https://plot.ly"
       },
       "data": [
        {
         "alignmentgroup": "True",
         "bingroup": "x",
         "hovertemplate": "Top 1=True<br>max_initial_population=%{x}<br>count=%{y}<extra></extra>",
         "legendgroup": "True",
         "marker": {
          "color": "rgb(152, 86, 86)",
          "line": {
           "color": "DarkSlateGrey",
           "width": 0.2
          },
          "opacity": 0.5,
          "pattern": {
           "shape": ""
          }
         },
         "name": "True",
         "nbinsx": 30,
         "offsetgroup": "True",
         "opacity": 1,
         "orientation": "v",
         "showlegend": true,
         "type": "histogram",
         "x": [
          0.8314393939393939,
          0.919431279620853,
          0.9969788519637462,
          0.7289156626506024,
          0.9688850475367328,
          0.9788461538461538,
          0.7170731707317073,
          0.9105691056910568,
          0.9443254817987152,
          0.8857142857142857,
          0.9401069518716576,
          0.9187380497131932,
          0.8496732026143791,
          0.9856361149110808,
          0.7088186356073212,
          0.9634760705289672,
          0.9090909090909092,
          0.9206349206349206,
          0.9495665878644602,
          0.9846153846153848,
          0.8840970350404312,
          0.8760563380281691,
          0.8661417322834646,
          0.8024485253199778,
          0.828978622327791,
          0.9057324840764333,
          0.551980198019802,
          0.9497681607418856,
          0.9102141680395388,
          0.9686131386861314,
          0.9310141509433962,
          0.3651290070367474,
          0.9581911262798636,
          0.9205175600739371,
          0.8875562218890555,
          0.7488584474885844,
          0.7802400738688827,
          0.7787114845938375,
          0.994343180389692,
          0.9708276797829036,
          0.7059659090909091,
          0.8464106844741235,
          0.5348837209302325,
          0.9375,
          0.7367688022284122,
          0.7354497354497355,
          0.9770569620253164,
          0.7405247813411079,
          0.9635332252836304,
          0.9324618736383442,
          0.8580152671755725,
          0.9863532979529946,
          0.982608695652174,
          0.992867332382311,
          0.9914748508098892,
          0.9098360655737704,
          0.9702338766832034,
          0.9429280397022332,
          0.8492167101827677,
          0.9147286821705426,
          0.9713038053649408,
          0.856,
          0.8916666666666667,
          0.9871152469577666,
          0.8269344359125812,
          0.980319803198032,
          0.7475083056478405,
          0.9831649831649832,
          0.9319371727748692,
          0.9867358708189158,
          0.960352422907489,
          0.892226148409894,
          0.9834437086092715,
          0.614824619457313,
          0.915915915915916,
          0.905899925317401,
          0.9208211143695014,
          0.9963920625375828,
          0.9690920798454604,
          0.8169934640522876,
          0.7256637168141593,
          0.929392446633826,
          0.9402173913043478,
          0.9573863636363636,
          0.6702898550724637,
          0.9833948339483396,
          0.9269565217391303,
          0.7398373983739838,
          0.973432518597237,
          0.5381083562901745,
          0.9909859154929578,
          0.5845682166581502,
          0.9593373493975904,
          0.9732647814910026,
          0.8850653819683414,
          0.9592198581560284,
          0.6848484848484848,
          0.9683333333333334,
          0.7679038159958181,
          0.8342857142857143,
          0.9352818371607516,
          0.8853046594982079,
          0.3688799463447351,
          0.9381443298969072,
          0.7703995498030388,
          0.8311546840958606,
          0.9954571266325952,
          0.9474358974358974,
          0.8802521008403361,
          0.8388888888888889,
          0.806378132118451,
          0.9264565425023876,
          0.5702702702702702,
          0.8857837181044957,
          0.7368421052631579,
          0.9535962877030162,
          0.8068592057761733,
          0.9768339768339768,
          0.728051391862955,
          0.8092783505154639,
          0.6601356443104748,
          0.4796238244514106,
          0.8386763185108583,
          0.8845070422535212,
          0.8253652058432935,
          0.9453015427769986,
          0.9351669941060904,
          0.9063745019920318,
          0.9825145711906744,
          0.8120713305898491,
          0.7622549019607843,
          0.9527272727272728,
          0.877757901013715,
          0.9197930142302716,
          0.3530405405405405,
          0.9830866807610994,
          0.5668316831683168,
          0.8698564593301435,
          0.991373589913736,
          0.8014059753954306,
          0.9895988112927192,
          0.9721780604133544,
          0.8149779735682819,
          0.8429073856975381,
          0.8507625272331155,
          0.916243654822335,
          0.6474358974358975,
          0.9245283018867924,
          0.9743016759776536,
          0.7992505353319058,
          0.9187534780189204,
          0.9528936742934052,
          0.932073544433095,
          0.9733796296296297,
          0.7350427350427351,
          0.7205882352941176,
          0.8995433789954338,
          0.9939024390243902,
          0.7866108786610879,
          0.9621212121212122,
          0.7488789237668162,
          0.9419252187748608,
          0.8516129032258064,
          0.8547579298831386,
          0.9483240223463688,
          0.4488517745302714,
          0.6590604026845638,
          0.3801652892561983,
          0.980664652567976,
          0.6220196353436185,
          0.96,
          0.5756929637526652,
          0.9936457505957108,
          0.5689176688251619,
          0.9878048780487804,
          0.9872958257713248,
          0.6583747927031509,
          0.6668377823408624,
          0.8869463869463869,
          0.9803126809496236,
          0.9935483870967742,
          0.884992987377279,
          0.9388201019664968,
          0.9912917271407836,
          0.7007874015748031,
          0.8942307692307693,
          0.5569520816967792,
          0.947945205479452,
          0.7423638778220452,
          0.9661016949152542,
          0.9393939393939394,
          0.9482758620689656,
          0.8382877526753865,
          0.9125109361329834,
          0.6571072319201995,
          0.7751937984496124,
          0.9848837209302326,
          0.9814340588988476,
          0.9307692307692308,
          0.8637532133676092,
          0.9248554913294798,
          0.7823211064341551,
          0.9994391475042064,
          0.910761154855643,
          0.9213559322033898,
          0.9860724233983288,
          0.9581589958158996,
          0.9958823529411764,
          0.8838174273858921,
          0.8523985239852399,
          0.964007198560288,
          0.986476868327402,
          0.77890625,
          0.5006775067750677,
          0.9213483146067416,
          0.7569573283858998,
          0.515645371577575,
          0.8830769230769231,
          0.972,
          0.6146616541353384,
          0.9368863955119214,
          0.7014218009478673,
          0.9608888888888888,
          0.667107001321004,
          0.9806763285024156,
          0.8954869358669834,
          0.9190600522193212,
          0.9851961509992598,
          0.9691067830758898,
          0.9737434358589648,
          0.6868421052631579,
          0.918960244648318,
          0.9751861042183624,
          0.3849658314350797,
          0.9157245632065776,
          0.9628865979381444,
          0.9757462686567164,
          0.7544483985765125,
          0.9842738205365402,
          0.968609865470852,
          0.868231046931408,
          0.9096138044371403,
          0.9803117309269892,
          0.7927272727272727,
          0.986254295532646,
          0.7074829931972789,
          0.9878048780487804,
          0.9961114711600778,
          0.4701986754966887,
          0.8636942675159236,
          0.9003095975232198,
          0.997583081570997,
          0.4557142857142857,
          0.7775862068965518,
          0.9901515151515152,
          0.953763440860215,
          0.9886363636363636,
          0.7613636363636364,
          0.9715261958997722,
          0.8312655086848635,
          0.9762989972652688,
          0.995166163141994,
          0.4443339960238568,
          0.9609838846480068,
          0.7703656189865298,
          0.934126984126984,
          0.6738894907908992,
          0.9486652977412732,
          0.924629878869448,
          0.9309838472834068,
          0.9776500638569604,
          0.9502762430939228,
          0.972768532526475,
          0.959752321981424,
          0.9560336763330216,
          0.5202863961813843,
          0.6701208981001727,
          0.8199083169613621,
          0.9678096571028691,
          0.9746835443037974,
          0.8347485303723057,
          0.797153024911032,
          0.9991489361702128,
          0.9707835325365206,
          0.7603305785123967,
          0.9277899343544858,
          0.6643502432244615,
          0.9871001031991744,
          0.8415697674418605,
          0.7888040712468194,
          0.9881500987491773,
          0.9508547008547008,
          0.924812030075188,
          0.8494031221303948,
          0.9831181727904668,
          0.8287337662337663,
          0.842237061769616,
          0.9182027649769584,
          0.9253521126760564,
          0.9489795918367347,
          0.9735729386892178,
          0.9565217391304348,
          0.9607843137254902,
          0.7283531409168081,
          0.9021739130434784,
          0.9323529411764706,
          0.4857142857142857,
          0.6470198675496689,
          0.8444730077120822,
          0.975451263537906,
          0.8998144712430427,
          0.7327188940092166,
          0.5693160813308688,
          0.6964856230031949,
          0.976027397260274,
          0.9875930521091812,
          0.9023255813953488,
          0.9487534626038782,
          0.6398467432950191,
          0.936,
          0.9303991811668372,
          0.9641509433962264,
          0.9660703269586676,
          0.9983957219251336,
          0.7855227882037533,
          0.7568881685575365,
          0.9723247232472324,
          0.5798029556650246,
          0.5843060959792478,
          0.9481668773704172,
          0.6906906906906907,
          0.7618181818181818,
          0.8235294117647058,
          0.9977578475336324,
          0.8336700336700337,
          0.9424198250728864,
          0.88125,
          0.977969348659004,
          0.6544622425629291,
          0.8672086720867209,
          0.5531531531531532,
          0.9424778761061948,
          0.9953271028037384,
          0.7992766726943942,
          0.9914163090128756,
          0.910394265232975,
          0.9378427787934186,
          0.861904761904762,
          0.8792792792792793,
          0.7256637168141593,
          0.6489963973237262,
          0.8930412371134021,
          0.9294871794871796,
          0.8618290258449304,
          0.9746835443037974,
          0.9730061349693252,
          0.3852183650615901,
          0.8233173076923077,
          0.9727339719970524,
          0.7333333333333333,
          0.5894495412844036,
          0.8412138320395202,
          0.9405594405594404,
          0.6962962962962963,
          0.8403225806451613,
          0.9276595744680852,
          0.9138840070298768,
          0.8625314333612741,
          0.8014638609332113,
          0.9722222222222222,
          0.9499679281590764,
          0.9517313746065058,
          0.9359605911330048,
          0.9326513213981245,
          0.7819314641744548,
          0.9318181818181818,
          0.5938303341902313,
          0.8558282208588958,
          0.8625294579732914,
          0.9378531073446328,
          0.5655172413793104,
          0.7539332913782253,
          0.9685863874345548,
          0.9056603773584906,
          0.6986899563318777,
          0.9092039800995024,
          0.7960893854748603,
          0.9846625766871164,
          0.3924050632911392,
          0.9597069597069596,
          0.8520499108734403,
          0.9816350710900474,
          0.8969359331476323,
          0.9601910828025476,
          0.961864406779661,
          0.9897510980966324,
          0.9770773638968482,
          0.9911845730027548,
          0.9790915645277576,
          0.9584775086505192,
          0.9676375404530744,
          0.9934782608695653,
          0.9541029207232268,
          0.9129692832764504,
          0.9666666666666668,
          0.9654761904761904,
          0.9,
          0.928843710292249,
          0.8240343347639485,
          0.9842873176206508,
          0.3674339300937766,
          0.9946559786239144,
          0.9704284852142426,
          0.818069306930693,
          0.9649122807017544,
          0.9168900804289544,
          0.8373904576436222,
          0.8897058823529411,
          0.7464183381088825,
          0.9894534995206136,
          0.8048780487804879,
          0.9717618170656844,
          0.869980879541109,
          0.9263157894736842,
          0.8502994011976048,
          0.7961321514907332,
          0.6974231088944306,
          0.834289356277884,
          0.7423076923076923,
          0.3912037037037037,
          0.9372384937238494,
          0.9812362030905076,
          0.7933333333333333,
          0.8752025931928687,
          0.9315188762071992,
          0.689727463312369,
          0.7914438502673797,
          0.9883296863603208,
          0.977238239757208,
          0.751131221719457,
          0.9861351819757366,
          0.9030265596046942,
          0.9983484723369116,
          0.776778413736713,
          0.4235412474849094,
          0.8069053708439897,
          0.8981612446958982,
          0.8963210702341137,
          0.9796875,
          0.97514033680834,
          0.9794188861985472,
          0.9892021595680864,
          0.9796296296296296,
          0.985007496251874,
          0.7106741573033708,
          0.537117903930131,
          0.9473346178548492,
          0.8152866242038217,
          0.9280430396772024,
          0.9599697885196374,
          0.9227000544365814,
          0.91894852135816,
          0.8463768115942029,
          0.9822569198012776,
          0.8152173913043478,
          0.959122632103689,
          0.918785890073831,
          0.7536945812807881,
          0.9742647058823528,
          0.9615384615384616,
          0.8622366288492707,
          0.9634443541835904,
          0.8123076923076923,
          0.7528026905829597,
          0.8203883495145631,
          0.7228506787330317,
          0.835820895522388,
          0.9465116279069768,
          0.8970027247956404,
          0.9417040358744396,
          0.8708226221079691,
          0.7280334728033473,
          0.9306615776081424,
          0.6171548117154811,
          0.8678057553956835,
          0.9896973599484868,
          0.9825978868862648,
          0.8504622077215879,
          0.8631178707224335,
          0.9039665970772442,
          0.8184357541899442,
          0.932788374205268,
          0.7871396895787139,
          0.9559372666168784,
          0.795816733067729,
          0.8424336973478939,
          0.9855818743563336,
          0.9529983792544572,
          0.8980645161290323,
          0.97347316471314,
          0.9805115712545676,
          0.9786921381337252,
          0.8045325779036827,
          0.6908602150537635,
          0.8845500848896435,
          0.984149855907781,
          0.9346246973365616,
          0.7830342577487766,
          0.909562638991846,
          0.9080675422138836,
          0.9119496855345912,
          0.9957374254049446,
          0.9219917012448132,
          0.9346590909090908,
          0.5302752293577981,
          0.8164251207729468,
          0.9673469387755104,
          0.8642590286425903,
          0.9659090909090908,
          0.7705382436260623,
          0.9312688821752266,
          0.7366071428571429,
          0.9737118822292324,
          0.9567367119901112,
          0.9721988205560236,
          0.9896551724137932,
          0.8706467661691543,
          0.9458823529411764,
          0.98046875,
          0.7976539589442815,
          0.8103448275862069,
          0.6253071253071253,
          0.9746121297602256,
          0.9494773519163764,
          0.8839137645107794,
          0.7265214124718257,
          0.4479166666666667,
          0.9306759098786828,
          0.983402489626556,
          0.8701298701298701,
          0.994121969140338,
          0.9182590233545648,
          0.3024236037934668,
          0.9770200148257968,
          0.5789915966386555,
          0.6983578219533275,
          0.9264990328820116,
          0.9704040978941376,
          0.7592592592592593,
          0.8997641509433962,
          0.9155733029092984,
          0.9712140175219024,
          0.5581929555895865,
          0.8311111111111111,
          0.5161572052401747,
          0.8309741881765196,
          0.8991282689912827,
          0.8430769230769231,
          0.935349322210636,
          0.5728987993138936,
          0.466804979253112,
          0.8116197183098591,
          0.997991967871486,
          0.4915773353751914,
          0.847985347985348,
          0.6572327044025157,
          0.9448742746615088,
          0.8685446009389671,
          0.610079575596817,
          0.925,
          0.8529819694868238,
          0.9798792756539236,
          0.930062630480167,
          0.7962382445141066,
          0.9790996784565916,
          0.9715099715099716,
          0.88420245398773,
          0.99609375,
          0.9845697329376856,
          0.7694656488549618,
          0.820631970260223,
          0.6054721977052074,
          0.9696969696969696,
          0.9861495844875346,
          0.9655405405405404,
          0.9684487291849256,
          0.7319884726224783,
          0.8699690402476781,
          0.9401913875598086,
          0.5763157894736842,
          0.9893333333333332,
          0.884742041712404,
          0.5792563600782779,
          0.8754863813229572,
          0.9437354988399071,
          0.947211155378486,
          0.968236582694414,
          0.75,
          0.9329102447869448,
          0.9441233140655106,
          0.9843962008141112,
          0.7340909090909091,
          0.9933694996986135,
          0.7402597402597403,
          0.9565217391304348,
          0.8792270531400966,
          0.974726200505476,
          0.889273356401384,
          0.4448160535117056,
          0.9015384615384616,
          0.9722901385493072,
          0.9755859375,
          0.8778625954198473,
          0.958592132505176,
          0.9785992217898832,
          0.9732016925246828,
          0.9311094996374184,
          0.9905493207324276,
          0.9529411764705882,
          0.9363128491620112,
          0.9974358974358974,
          0.9613259668508288,
          0.9560185185185184,
          0.8335158817086528,
          0.8568075117370892,
          0.8617571059431525,
          0.850735294117647,
          0.9498956158663884,
          0.9122681883024252,
          0.8404494382022472,
          0.933609958506224,
          0.9822525597269623,
          0.9680851063829788,
          0.9889624724061812,
          0.9857752489331436,
          0.7021660649819494,
          0.8458445040214477,
          0.9694423223834988,
          0.9745508982035928,
          0.9475409836065574,
          0.9683481701285857,
          0.7416974169741697,
          0.9329896907216496,
          0.9890016920473772,
          0.8519040902679831,
          0.97444089456869,
          0.3286637931034483,
          0.8983286908077994,
          0.7098623853211009,
          0.9247191011235956,
          0.8857395925597874,
          0.9864712514092446,
          0.9849377865094956,
          0.9343696027633852,
          0.6635021097046413,
          0.9563953488372092,
          0.4303534303534304,
          0.892459826946848,
          0.9422028353326064,
          0.8497267759562842,
          0.966470588235294,
          0.7024539877300614,
          0.4552845528455284,
          0.9858030168589176,
          0.9857357357357356,
          0.8446601941747572,
          0.5448536355051936,
          0.9338842975206612,
          0.9892086330935252,
          0.9788418708240536,
          0.9334733893557424,
          0.8302845528455285,
          0.9398148148148148,
          0.9415637860082304,
          0.9893617021276596,
          0.9794661190965092,
          0.7853277209861695,
          0.9227642276422764,
          0.930898321816387,
          0.75,
          0.7842778793418648,
          0.7401315789473685,
          0.8225602027883396,
          0.8577319587628865,
          0.9870782483847812,
          0.902439024390244,
          0.6078838174273858,
          0.7322485207100592,
          0.5346413243408952,
          0.9935856318152662,
          0.971830985915493,
          0.9322555812163202,
          0.9493865030674846,
          0.8403225806451613,
          0.9939919893190922,
          0.977027027027027,
          0.6320501342882722,
          0.8996509598603839,
          0.8851063829787233,
          0.8293172690763052,
          0.908355795148248,
          0.9854771784232366,
          0.9237749546279492,
          0.970125786163522,
          0.74375,
          0.9618473895582328,
          0.5667655786350149,
          0.9418604651162792,
          0.777262180974478,
          0.9694189602446484,
          0.9110169491525424,
          0.9197431781701444,
          0.909542195256481,
          0.9345854922279792,
          0.9456625357483316,
          0.4366925064599483,
          0.9294117647058824,
          0.7892271662763466,
          0.8257940327237728,
          0.9236583522297808,
          0.6778983438035409,
          0.9472140762463344,
          0.935897435897436,
          0.6472727272727272,
          0.7371695178849145,
          0.8075253256150506,
          0.8764705882352941,
          0.8700787401574803,
          0.8053333333333333,
          0.9694055944055944,
          0.968978102189781,
          0.966188524590164,
          0.958592132505176,
          0.9762100082034456,
          0.9478021978021978,
          0.8260869565217391,
          0.9620018535681186,
          0.9757225433526012,
          0.9209558823529412,
          0.9861265260821308,
          0.8906510851419032,
          0.8391660461653015,
          0.8515864892528148,
          0.9657370517928286,
          0.7449567723342939,
          0.8275109170305677,
          0.5723226703755215,
          0.9661214953271028,
          0.8305555555555556,
          0.9781167108753316,
          0.6969001148105626,
          0.9969879518072288,
          0.957498482088646,
          0.992170818505338,
          0.967948717948718,
          0.8898678414096917,
          0.9694050991501416,
          0.7652388797364086,
          0.9184430027803522,
          0.967741935483871,
          0.7660455486542443
         ],
         "xaxis": "x",
         "yaxis": "y"
        },
        {
         "alignmentgroup": "True",
         "bingroup": "x",
         "hovertemplate": "Top 1=False<br>max_initial_population=%{x}<br>count=%{y}<extra></extra>",
         "legendgroup": "False",
         "marker": {
          "color": "rgb(152, 146, 186)",
          "line": {
           "color": "DarkSlateGrey",
           "width": 0.2
          },
          "opacity": 0.5,
          "pattern": {
           "shape": ""
          }
         },
         "name": "False",
         "nbinsx": 30,
         "offsetgroup": "False",
         "opacity": 1,
         "orientation": "v",
         "showlegend": true,
         "type": "histogram",
         "x": [
          0.987273945077026,
          0.8674609084139985,
          0.890691114245416,
          0.8885613207547169,
          0.8227091633466136,
          0.992239467849224,
          0.8571428571428571,
          0.9921807124239792,
          0.8026960784313726,
          0.6746987951807228,
          0.6175637393767706,
          0.6238293444328824,
          0.7109737248840804,
          0.9680851063829788,
          0.9073806078147612,
          0.8527968596663396,
          0.8723797780517879,
          0.573027989821883,
          0.9634888438133874,
          0.8915547024952015,
          0.8905405405405405,
          0.8896631823461092,
          0.8219844357976653,
          0.961123110151188,
          0.7299898682877406,
          0.7849235635213495,
          0.6741500962155228,
          0.8915956151035322,
          0.6470588235294118,
          0.9741444866920153,
          0.8330878743249878,
          0.9883344134802332,
          0.9161793372319688,
          0.7401055408970977,
          0.9822090437361009,
          0.980544747081712,
          0.9935897435897436,
          0.5458089668615984,
          0.9863945578231292,
          0.9624242424242424,
          0.9912536443148688,
          0.9994082840236688,
          0.7542297417631345,
          0.8335315101070154,
          0.7506538796861377,
          0.6236559139784946,
          0.9792122538293216,
          0.880859375,
          0.6353383458646616,
          0.8036597428288823,
          0.9902080783353732,
          0.6330603889457523,
          0.9981378026070764,
          0.576307363927428,
          0.5597439544807966,
          0.9232861806311208,
          0.8028656126482213,
          0.7319535588086825,
          0.2450704225352112,
          0.9923287671232875,
          0.5804382683057189,
          0.9275158339197748,
          0.6686868686868687,
          0.9914757591901971,
          0.9623557984213722,
          0.768762677484787,
          0.7042467138523761,
          0.9941348973607038,
          0.4288288288288288,
          0.5877437325905293,
          0.8831405964698722,
          0.9405052974735126,
          0.7022900763358778,
          0.6636197440585009,
          0.9520697167755992,
          0.8440913604766633,
          0.8631284916201117,
          0.8981481481481481,
          0.5486631016042781,
          0.6903553299492385,
          0.9469290399522956,
          0.5547150781643974,
          0.9784569138276552,
          0.5721649484536082,
          0.9469632164242944,
          0.7503128911138923,
          0.7204182718767199,
          0.6991374936580416,
          0.6888731396172927,
          0.4833197721724979,
          0.5392265193370166,
          0.5058505850585059,
          0.9890815671162492,
          0.5749202975557917,
          0.8651960784313726,
          0.3855633802816901,
          0.956989247311828,
          0.9947835159102764,
          0.6352631578947369,
          0.906318082788671,
          0.9940955448201824,
          0.8187919463087249,
          0.9362850971922246,
          0.9745331069609507,
          0.9770569620253164,
          0.861271676300578,
          0.9392523364485982,
          0.9978201634877384,
          0.8537666174298375,
          0.4989165763813651,
          0.5201288244766505,
          0.9132231404958676,
          0.9531362653208364,
          0.8509615384615384,
          0.7303128371089536,
          0.8477611940298507,
          0.7256819351518271,
          0.8323504633529908,
          0.8731971153846154,
          0.9858223062381852,
          0.7962166809974205,
          0.7104722792607803,
          0.9887157442235356,
          0.740506329113924,
          0.9219512195121952,
          0.6831530139103554,
          0.6046511627906976,
          0.4919113241461953,
          0.832541567695962,
          0.9243466299862448,
          0.8153846153846154,
          0.7330696984676224,
          0.5931069958847737,
          0.9807280513918628,
          0.8860759493670886,
          0.7496244366549825,
          0.648062015503876,
          0.3427835051546392,
          0.9683641975308642,
          0.9362348178137652,
          0.6429303278688525,
          0.9244582043343652,
          0.4975948690539818,
          0.3101567825494206,
          0.6614699331848553,
          0.8386568386568387,
          0.8932853717026379,
          0.9584775086505192,
          0.8841927303465765,
          0.8757807078417765,
          0.4870665932856357,
          0.4105960264900662,
          0.9452595936794582,
          0.57981220657277,
          0.6199893105291288,
          0.9922730199613652,
          0.9042995839112344,
          0.9572727272727272,
          0.7790909090909091,
          0.7729756582215599,
          0.9100364014560582,
          0.9634069400630916,
          0.8345588235294118,
          0.7192608386638237,
          0.5774058577405857,
          0.9808219178082191,
          0.9704184704184704,
          0.7937062937062938,
          0.8915531335149863,
          0.9050167224080268,
          0.9313967861557478,
          0.9315687540348612,
          0.9553450608930988,
          0.9135667396061268,
          0.9572098475967176,
          0.9923875432525952,
          0.8090551181102362,
          0.8230543318649045,
          0.78248031496063,
          0.5041736227045075,
          0.3773006134969325,
          0.9880239520958084,
          0.5526127415891195,
          0.6397984886649875,
          0.9146525679758308,
          0.6515867656988521,
          0.598404255319149,
          0.9810860280658938,
          0.5676352705410822,
          0.7848101265822784,
          0.6037371134020618,
          0.4908946951702296,
          0.5925349922239502,
          0.5330296127562643,
          0.1638418079096045,
          0.936378466557912,
          0.645016077170418,
          0.776,
          0.6600306278713629,
          0.981101068200493,
          0.4921875,
          0.4556962025316455,
          0.9964120963608406,
          0.6574267782426778,
          0.6417604912998977,
          0.8015794669299111,
          0.4391727493917275,
          0.951900698215671,
          0.4907834101382488,
          0.3753822629969419,
          0.6864450127877237,
          0.6953316953316954,
          0.4843276036400404,
          0.7417417417417418,
          0.9632473944048272,
          0.9911202185792348,
          0.7915567282321899,
          0.9212598425196852,
          0.4342258440046566,
          0.9246031746031746,
          0.7178714859437751,
          0.9716363636363636,
          0.81640625,
          0.7389112903225806,
          0.9605263157894736,
          0.9136394790952708,
          0.588048651507139,
          0.6248206599713056,
          0.9277474195506984,
          0.6606198034769464,
          0.8011730205278592,
          0.3889816360601001,
          0.9988137603795968,
          0.6775184275184275,
          0.977818853974122,
          0.8161252900232019,
          0.7435697583787997,
          0.9615384615384616,
          0.9372990353697748,
          0.8493427704752275
         ],
         "xaxis": "x",
         "yaxis": "y"
        }
       ],
       "layout": {
        "barmode": "overlay",
        "font": {
         "family": "CMU Sans Serif"
        },
        "height": 250,
        "legend": {
         "title": {
          "text": "Top 1"
         },
         "tracegroupgap": 0
        },
        "margin": {
         "b": 0,
         "l": 0,
         "r": 0,
         "t": 0
        },
        "plot_bgcolor": "white",
        "template": {
         "data": {
          "bar": [
           {
            "error_x": {
             "color": "#2a3f5f"
            },
            "error_y": {
             "color": "#2a3f5f"
            },
            "marker": {
             "line": {
              "color": "#E5ECF6",
              "width": 0.5
             },
             "pattern": {
              "fillmode": "overlay",
              "size": 10,
              "solidity": 0.2
             }
            },
            "type": "bar"
           }
          ],
          "barpolar": [
           {
            "marker": {
             "line": {
              "color": "#E5ECF6",
              "width": 0.5
             },
             "pattern": {
              "fillmode": "overlay",
              "size": 10,
              "solidity": 0.2
             }
            },
            "type": "barpolar"
           }
          ],
          "carpet": [
           {
            "aaxis": {
             "endlinecolor": "#2a3f5f",
             "gridcolor": "white",
             "linecolor": "white",
             "minorgridcolor": "white",
             "startlinecolor": "#2a3f5f"
            },
            "baxis": {
             "endlinecolor": "#2a3f5f",
             "gridcolor": "white",
             "linecolor": "white",
             "minorgridcolor": "white",
             "startlinecolor": "#2a3f5f"
            },
            "type": "carpet"
           }
          ],
          "choropleth": [
           {
            "colorbar": {
             "outlinewidth": 0,
             "ticks": ""
            },
            "type": "choropleth"
           }
          ],
          "contour": [
           {
            "colorbar": {
             "outlinewidth": 0,
             "ticks": ""
            },
            "colorscale": [
             [
              0,
              "#0d0887"
             ],
             [
              0.1111111111111111,
              "#46039f"
             ],
             [
              0.2222222222222222,
              "#7201a8"
             ],
             [
              0.3333333333333333,
              "#9c179e"
             ],
             [
              0.4444444444444444,
              "#bd3786"
             ],
             [
              0.5555555555555556,
              "#d8576b"
             ],
             [
              0.6666666666666666,
              "#ed7953"
             ],
             [
              0.7777777777777778,
              "#fb9f3a"
             ],
             [
              0.8888888888888888,
              "#fdca26"
             ],
             [
              1,
              "#f0f921"
             ]
            ],
            "type": "contour"
           }
          ],
          "contourcarpet": [
           {
            "colorbar": {
             "outlinewidth": 0,
             "ticks": ""
            },
            "type": "contourcarpet"
           }
          ],
          "heatmap": [
           {
            "colorbar": {
             "outlinewidth": 0,
             "ticks": ""
            },
            "colorscale": [
             [
              0,
              "#0d0887"
             ],
             [
              0.1111111111111111,
              "#46039f"
             ],
             [
              0.2222222222222222,
              "#7201a8"
             ],
             [
              0.3333333333333333,
              "#9c179e"
             ],
             [
              0.4444444444444444,
              "#bd3786"
             ],
             [
              0.5555555555555556,
              "#d8576b"
             ],
             [
              0.6666666666666666,
              "#ed7953"
             ],
             [
              0.7777777777777778,
              "#fb9f3a"
             ],
             [
              0.8888888888888888,
              "#fdca26"
             ],
             [
              1,
              "#f0f921"
             ]
            ],
            "type": "heatmap"
           }
          ],
          "heatmapgl": [
           {
            "colorbar": {
             "outlinewidth": 0,
             "ticks": ""
            },
            "colorscale": [
             [
              0,
              "#0d0887"
             ],
             [
              0.1111111111111111,
              "#46039f"
             ],
             [
              0.2222222222222222,
              "#7201a8"
             ],
             [
              0.3333333333333333,
              "#9c179e"
             ],
             [
              0.4444444444444444,
              "#bd3786"
             ],
             [
              0.5555555555555556,
              "#d8576b"
             ],
             [
              0.6666666666666666,
              "#ed7953"
             ],
             [
              0.7777777777777778,
              "#fb9f3a"
             ],
             [
              0.8888888888888888,
              "#fdca26"
             ],
             [
              1,
              "#f0f921"
             ]
            ],
            "type": "heatmapgl"
           }
          ],
          "histogram": [
           {
            "marker": {
             "pattern": {
              "fillmode": "overlay",
              "size": 10,
              "solidity": 0.2
             }
            },
            "type": "histogram"
           }
          ],
          "histogram2d": [
           {
            "colorbar": {
             "outlinewidth": 0,
             "ticks": ""
            },
            "colorscale": [
             [
              0,
              "#0d0887"
             ],
             [
              0.1111111111111111,
              "#46039f"
             ],
             [
              0.2222222222222222,
              "#7201a8"
             ],
             [
              0.3333333333333333,
              "#9c179e"
             ],
             [
              0.4444444444444444,
              "#bd3786"
             ],
             [
              0.5555555555555556,
              "#d8576b"
             ],
             [
              0.6666666666666666,
              "#ed7953"
             ],
             [
              0.7777777777777778,
              "#fb9f3a"
             ],
             [
              0.8888888888888888,
              "#fdca26"
             ],
             [
              1,
              "#f0f921"
             ]
            ],
            "type": "histogram2d"
           }
          ],
          "histogram2dcontour": [
           {
            "colorbar": {
             "outlinewidth": 0,
             "ticks": ""
            },
            "colorscale": [
             [
              0,
              "#0d0887"
             ],
             [
              0.1111111111111111,
              "#46039f"
             ],
             [
              0.2222222222222222,
              "#7201a8"
             ],
             [
              0.3333333333333333,
              "#9c179e"
             ],
             [
              0.4444444444444444,
              "#bd3786"
             ],
             [
              0.5555555555555556,
              "#d8576b"
             ],
             [
              0.6666666666666666,
              "#ed7953"
             ],
             [
              0.7777777777777778,
              "#fb9f3a"
             ],
             [
              0.8888888888888888,
              "#fdca26"
             ],
             [
              1,
              "#f0f921"
             ]
            ],
            "type": "histogram2dcontour"
           }
          ],
          "mesh3d": [
           {
            "colorbar": {
             "outlinewidth": 0,
             "ticks": ""
            },
            "type": "mesh3d"
           }
          ],
          "parcoords": [
           {
            "line": {
             "colorbar": {
              "outlinewidth": 0,
              "ticks": ""
             }
            },
            "type": "parcoords"
           }
          ],
          "pie": [
           {
            "automargin": true,
            "type": "pie"
           }
          ],
          "scatter": [
           {
            "fillpattern": {
             "fillmode": "overlay",
             "size": 10,
             "solidity": 0.2
            },
            "type": "scatter"
           }
          ],
          "scatter3d": [
           {
            "line": {
             "colorbar": {
              "outlinewidth": 0,
              "ticks": ""
             }
            },
            "marker": {
             "colorbar": {
              "outlinewidth": 0,
              "ticks": ""
             }
            },
            "type": "scatter3d"
           }
          ],
          "scattercarpet": [
           {
            "marker": {
             "colorbar": {
              "outlinewidth": 0,
              "ticks": ""
             }
            },
            "type": "scattercarpet"
           }
          ],
          "scattergeo": [
           {
            "marker": {
             "colorbar": {
              "outlinewidth": 0,
              "ticks": ""
             }
            },
            "type": "scattergeo"
           }
          ],
          "scattergl": [
           {
            "marker": {
             "colorbar": {
              "outlinewidth": 0,
              "ticks": ""
             }
            },
            "type": "scattergl"
           }
          ],
          "scattermapbox": [
           {
            "marker": {
             "colorbar": {
              "outlinewidth": 0,
              "ticks": ""
             }
            },
            "type": "scattermapbox"
           }
          ],
          "scatterpolar": [
           {
            "marker": {
             "colorbar": {
              "outlinewidth": 0,
              "ticks": ""
             }
            },
            "type": "scatterpolar"
           }
          ],
          "scatterpolargl": [
           {
            "marker": {
             "colorbar": {
              "outlinewidth": 0,
              "ticks": ""
             }
            },
            "type": "scatterpolargl"
           }
          ],
          "scatterternary": [
           {
            "marker": {
             "colorbar": {
              "outlinewidth": 0,
              "ticks": ""
             }
            },
            "type": "scatterternary"
           }
          ],
          "surface": [
           {
            "colorbar": {
             "outlinewidth": 0,
             "ticks": ""
            },
            "colorscale": [
             [
              0,
              "#0d0887"
             ],
             [
              0.1111111111111111,
              "#46039f"
             ],
             [
              0.2222222222222222,
              "#7201a8"
             ],
             [
              0.3333333333333333,
              "#9c179e"
             ],
             [
              0.4444444444444444,
              "#bd3786"
             ],
             [
              0.5555555555555556,
              "#d8576b"
             ],
             [
              0.6666666666666666,
              "#ed7953"
             ],
             [
              0.7777777777777778,
              "#fb9f3a"
             ],
             [
              0.8888888888888888,
              "#fdca26"
             ],
             [
              1,
              "#f0f921"
             ]
            ],
            "type": "surface"
           }
          ],
          "table": [
           {
            "cells": {
             "fill": {
              "color": "#EBF0F8"
             },
             "line": {
              "color": "white"
             }
            },
            "header": {
             "fill": {
              "color": "#C8D4E3"
             },
             "line": {
              "color": "white"
             }
            },
            "type": "table"
           }
          ]
         },
         "layout": {
          "annotationdefaults": {
           "arrowcolor": "#2a3f5f",
           "arrowhead": 0,
           "arrowwidth": 1
          },
          "autotypenumbers": "strict",
          "coloraxis": {
           "colorbar": {
            "outlinewidth": 0,
            "ticks": ""
           }
          },
          "colorscale": {
           "diverging": [
            [
             0,
             "#8e0152"
            ],
            [
             0.1,
             "#c51b7d"
            ],
            [
             0.2,
             "#de77ae"
            ],
            [
             0.3,
             "#f1b6da"
            ],
            [
             0.4,
             "#fde0ef"
            ],
            [
             0.5,
             "#f7f7f7"
            ],
            [
             0.6,
             "#e6f5d0"
            ],
            [
             0.7,
             "#b8e186"
            ],
            [
             0.8,
             "#7fbc41"
            ],
            [
             0.9,
             "#4d9221"
            ],
            [
             1,
             "#276419"
            ]
           ],
           "sequential": [
            [
             0,
             "#0d0887"
            ],
            [
             0.1111111111111111,
             "#46039f"
            ],
            [
             0.2222222222222222,
             "#7201a8"
            ],
            [
             0.3333333333333333,
             "#9c179e"
            ],
            [
             0.4444444444444444,
             "#bd3786"
            ],
            [
             0.5555555555555556,
             "#d8576b"
            ],
            [
             0.6666666666666666,
             "#ed7953"
            ],
            [
             0.7777777777777778,
             "#fb9f3a"
            ],
            [
             0.8888888888888888,
             "#fdca26"
            ],
            [
             1,
             "#f0f921"
            ]
           ],
           "sequentialminus": [
            [
             0,
             "#0d0887"
            ],
            [
             0.1111111111111111,
             "#46039f"
            ],
            [
             0.2222222222222222,
             "#7201a8"
            ],
            [
             0.3333333333333333,
             "#9c179e"
            ],
            [
             0.4444444444444444,
             "#bd3786"
            ],
            [
             0.5555555555555556,
             "#d8576b"
            ],
            [
             0.6666666666666666,
             "#ed7953"
            ],
            [
             0.7777777777777778,
             "#fb9f3a"
            ],
            [
             0.8888888888888888,
             "#fdca26"
            ],
            [
             1,
             "#f0f921"
            ]
           ]
          },
          "colorway": [
           "#636efa",
           "#EF553B",
           "#00cc96",
           "#ab63fa",
           "#FFA15A",
           "#19d3f3",
           "#FF6692",
           "#B6E880",
           "#FF97FF",
           "#FECB52"
          ],
          "font": {
           "color": "#2a3f5f"
          },
          "geo": {
           "bgcolor": "white",
           "lakecolor": "white",
           "landcolor": "#E5ECF6",
           "showlakes": true,
           "showland": true,
           "subunitcolor": "white"
          },
          "hoverlabel": {
           "align": "left"
          },
          "hovermode": "closest",
          "mapbox": {
           "style": "light"
          },
          "paper_bgcolor": "white",
          "plot_bgcolor": "#E5ECF6",
          "polar": {
           "angularaxis": {
            "gridcolor": "white",
            "linecolor": "white",
            "ticks": ""
           },
           "bgcolor": "#E5ECF6",
           "radialaxis": {
            "gridcolor": "white",
            "linecolor": "white",
            "ticks": ""
           }
          },
          "scene": {
           "xaxis": {
            "backgroundcolor": "#E5ECF6",
            "gridcolor": "white",
            "gridwidth": 2,
            "linecolor": "white",
            "showbackground": true,
            "ticks": "",
            "zerolinecolor": "white"
           },
           "yaxis": {
            "backgroundcolor": "#E5ECF6",
            "gridcolor": "white",
            "gridwidth": 2,
            "linecolor": "white",
            "showbackground": true,
            "ticks": "",
            "zerolinecolor": "white"
           },
           "zaxis": {
            "backgroundcolor": "#E5ECF6",
            "gridcolor": "white",
            "gridwidth": 2,
            "linecolor": "white",
            "showbackground": true,
            "ticks": "",
            "zerolinecolor": "white"
           }
          },
          "shapedefaults": {
           "line": {
            "color": "#2a3f5f"
           }
          },
          "ternary": {
           "aaxis": {
            "gridcolor": "white",
            "linecolor": "white",
            "ticks": ""
           },
           "baxis": {
            "gridcolor": "white",
            "linecolor": "white",
            "ticks": ""
           },
           "bgcolor": "#E5ECF6",
           "caxis": {
            "gridcolor": "white",
            "linecolor": "white",
            "ticks": ""
           }
          },
          "title": {
           "x": 0.05
          },
          "xaxis": {
           "automargin": true,
           "gridcolor": "white",
           "linecolor": "white",
           "ticks": "",
           "title": {
            "standoff": 15
           },
           "zerolinecolor": "white",
           "zerolinewidth": 2
          },
          "yaxis": {
           "automargin": true,
           "gridcolor": "white",
           "linecolor": "white",
           "ticks": "",
           "title": {
            "standoff": 15
           },
           "zerolinecolor": "white",
           "zerolinewidth": 2
          }
         }
        },
        "width": 404.508497175,
        "xaxis": {
         "anchor": "y",
         "domain": [
          0,
          1
         ],
         "showgrid": false,
         "showline": false,
         "tickcolor": "rgb(120, 120, 120)",
         "ticklen": 5,
         "ticks": "outside",
         "tickwidth": 1,
         "title": {
          "text": "max initial population similarity"
         },
         "zeroline": false
        },
        "yaxis": {
         "anchor": "x",
         "domain": [
          0,
          1
         ],
         "gridcolor": "rgba(173, 216, 230, 0.3)",
         "gridwidth": 1,
         "showgrid": false,
         "showline": false,
         "tickcolor": "rgb(120, 120, 120)",
         "ticklen": 5,
         "ticks": "outside",
         "tickwidth": 1,
         "title": {
          "text": "count"
         },
         "zeroline": false
        }
       }
      }
     },
     "metadata": {},
     "output_type": "display_data"
    },
    {
     "data": {
      "application/vnd.plotly.v1+json": {
       "config": {
        "plotlyServerURL": "https://plot.ly"
       },
       "data": [
        {
         "alignmentgroup": "True",
         "bingroup": "x",
         "hovertemplate": "Top 5=True<br>max_initial_population=%{x}<br>count=%{y}<extra></extra>",
         "legendgroup": "True",
         "marker": {
          "color": "rgb(152, 86, 86)",
          "line": {
           "color": "DarkSlateGrey",
           "width": 0.2
          },
          "opacity": 0.5,
          "pattern": {
           "shape": ""
          }
         },
         "name": "True",
         "nbinsx": 30,
         "offsetgroup": "True",
         "opacity": 1,
         "orientation": "v",
         "showlegend": true,
         "type": "histogram",
         "x": [
          0.8314393939393939,
          0.919431279620853,
          0.9969788519637462,
          0.7289156626506024,
          0.9688850475367328,
          0.9788461538461538,
          0.7170731707317073,
          0.9105691056910568,
          0.8674609084139985,
          0.9443254817987152,
          0.8857142857142857,
          0.890691114245416,
          0.9401069518716576,
          0.9187380497131932,
          0.8496732026143791,
          0.8885613207547169,
          0.9856361149110808,
          0.7088186356073212,
          0.9634760705289672,
          0.9090909090909092,
          0.9206349206349206,
          0.9495665878644602,
          0.9846153846153848,
          0.8840970350404312,
          0.8760563380281691,
          0.8661417322834646,
          0.8024485253199778,
          0.828978622327791,
          0.9057324840764333,
          0.551980198019802,
          0.9497681607418856,
          0.9102141680395388,
          0.9686131386861314,
          0.9310141509433962,
          0.3651290070367474,
          0.9581911262798636,
          0.9205175600739371,
          0.8875562218890555,
          0.7488584474885844,
          0.7802400738688827,
          0.7787114845938375,
          0.994343180389692,
          0.9708276797829036,
          0.7059659090909091,
          0.9921807124239792,
          0.8464106844741235,
          0.5348837209302325,
          0.9375,
          0.7367688022284122,
          0.7354497354497355,
          0.9770569620253164,
          0.7405247813411079,
          0.9635332252836304,
          0.8026960784313726,
          0.9324618736383442,
          0.8580152671755725,
          0.9863532979529946,
          0.6175637393767706,
          0.982608695652174,
          0.992867332382311,
          0.9914748508098892,
          0.8723797780517879,
          0.9098360655737704,
          0.9702338766832034,
          0.9429280397022332,
          0.8492167101827677,
          0.9147286821705426,
          0.9713038053649408,
          0.856,
          0.8916666666666667,
          0.9871152469577666,
          0.8269344359125812,
          0.980319803198032,
          0.7475083056478405,
          0.9831649831649832,
          0.9634888438133874,
          0.9319371727748692,
          0.9867358708189158,
          0.960352422907489,
          0.892226148409894,
          0.9834437086092715,
          0.614824619457313,
          0.915915915915916,
          0.8915547024952015,
          0.905899925317401,
          0.9208211143695014,
          0.9963920625375828,
          0.9690920798454604,
          0.8169934640522876,
          0.961123110151188,
          0.7256637168141593,
          0.929392446633826,
          0.9402173913043478,
          0.9573863636363636,
          0.6702898550724637,
          0.9833948339483396,
          0.9269565217391303,
          0.7398373983739838,
          0.973432518597237,
          0.5381083562901745,
          0.9909859154929578,
          0.5845682166581502,
          0.9593373493975904,
          0.6470588235294118,
          0.9732647814910026,
          0.8850653819683414,
          0.9741444866920153,
          0.9592198581560284,
          0.6848484848484848,
          0.9683333333333334,
          0.7679038159958181,
          0.8342857142857143,
          0.9352818371607516,
          0.8853046594982079,
          0.3688799463447351,
          0.9381443298969072,
          0.7703995498030388,
          0.8311546840958606,
          0.9954571266325952,
          0.9474358974358974,
          0.9883344134802332,
          0.8802521008403361,
          0.9161793372319688,
          0.8388888888888889,
          0.9822090437361009,
          0.806378132118451,
          0.9264565425023876,
          0.5702702702702702,
          0.8857837181044957,
          0.7368421052631579,
          0.9535962877030162,
          0.9935897435897436,
          0.8068592057761733,
          0.9768339768339768,
          0.728051391862955,
          0.8092783505154639,
          0.6601356443104748,
          0.4796238244514106,
          0.8386763185108583,
          0.8845070422535212,
          0.8253652058432935,
          0.9453015427769986,
          0.5458089668615984,
          0.9863945578231292,
          0.9351669941060904,
          0.9063745019920318,
          0.9825145711906744,
          0.8120713305898491,
          0.7622549019607843,
          0.9527272727272728,
          0.877757901013715,
          0.9197930142302716,
          0.3530405405405405,
          0.9912536443148688,
          0.9830866807610994,
          0.5668316831683168,
          0.8698564593301435,
          0.991373589913736,
          0.8014059753954306,
          0.9895988112927192,
          0.9721780604133544,
          0.8149779735682819,
          0.8429073856975381,
          0.8507625272331155,
          0.916243654822335,
          0.6474358974358975,
          0.9245283018867924,
          0.9994082840236688,
          0.9743016759776536,
          0.7992505353319058,
          0.9187534780189204,
          0.9528936742934052,
          0.932073544433095,
          0.9733796296296297,
          0.7350427350427351,
          0.8335315101070154,
          0.7205882352941176,
          0.8995433789954338,
          0.7506538796861377,
          0.9939024390243902,
          0.7866108786610879,
          0.6236559139784946,
          0.9621212121212122,
          0.7488789237668162,
          0.9792122538293216,
          0.9419252187748608,
          0.8516129032258064,
          0.8547579298831386,
          0.880859375,
          0.9483240223463688,
          0.4488517745302714,
          0.6590604026845638,
          0.3801652892561983,
          0.980664652567976,
          0.6220196353436185,
          0.96,
          0.5756929637526652,
          0.9902080783353732,
          0.9936457505957108,
          0.5689176688251619,
          0.9878048780487804,
          0.9872958257713248,
          0.6583747927031509,
          0.6668377823408624,
          0.8869463869463869,
          0.9803126809496236,
          0.9935483870967742,
          0.884992987377279,
          0.9981378026070764,
          0.9388201019664968,
          0.9912917271407836,
          0.7007874015748031,
          0.8942307692307693,
          0.5569520816967792,
          0.9232861806311208,
          0.947945205479452,
          0.7423638778220452,
          0.9661016949152542,
          0.9393939393939394,
          0.9482758620689656,
          0.8382877526753865,
          0.9125109361329834,
          0.9923287671232875,
          0.6571072319201995,
          0.7751937984496124,
          0.9848837209302326,
          0.9814340588988476,
          0.9307692307692308,
          0.8637532133676092,
          0.9248554913294798,
          0.5804382683057189,
          0.7823211064341551,
          0.9994391475042064,
          0.9275158339197748,
          0.910761154855643,
          0.9213559322033898,
          0.9860724233983288,
          0.9581589958158996,
          0.9958823529411764,
          0.8838174273858921,
          0.8523985239852399,
          0.964007198560288,
          0.986476868327402,
          0.77890625,
          0.5006775067750677,
          0.9213483146067416,
          0.9914757591901971,
          0.7569573283858998,
          0.9623557984213722,
          0.515645371577575,
          0.8830769230769231,
          0.972,
          0.6146616541353384,
          0.9941348973607038,
          0.9368863955119214,
          0.7014218009478673,
          0.9608888888888888,
          0.667107001321004,
          0.9806763285024156,
          0.8954869358669834,
          0.9190600522193212,
          0.9851961509992598,
          0.9691067830758898,
          0.9737434358589648,
          0.6868421052631579,
          0.918960244648318,
          0.9751861042183624,
          0.3849658314350797,
          0.9405052974735126,
          0.6636197440585009,
          0.9157245632065776,
          0.9628865979381444,
          0.9757462686567164,
          0.8631284916201117,
          0.7544483985765125,
          0.9842738205365402,
          0.968609865470852,
          0.868231046931408,
          0.9096138044371403,
          0.9803117309269892,
          0.7927272727272727,
          0.986254295532646,
          0.9469290399522956,
          0.7074829931972789,
          0.9878048780487804,
          0.9961114711600778,
          0.4701986754966887,
          0.8636942675159236,
          0.9003095975232198,
          0.997583081570997,
          0.4557142857142857,
          0.7775862068965518,
          0.9901515151515152,
          0.953763440860215,
          0.9886363636363636,
          0.9784569138276552,
          0.7613636363636364,
          0.9715261958997722,
          0.8312655086848635,
          0.9762989972652688,
          0.995166163141994,
          0.4443339960238568,
          0.9609838846480068,
          0.7703656189865298,
          0.934126984126984,
          0.6738894907908992,
          0.9469632164242944,
          0.9486652977412732,
          0.924629878869448,
          0.9309838472834068,
          0.9776500638569604,
          0.9502762430939228,
          0.972768532526475,
          0.959752321981424,
          0.9560336763330216,
          0.5202863961813843,
          0.6701208981001727,
          0.8199083169613621,
          0.5392265193370166,
          0.9678096571028691,
          0.9746835443037974,
          0.8347485303723057,
          0.5058505850585059,
          0.797153024911032,
          0.9890815671162492,
          0.9991489361702128,
          0.5749202975557917,
          0.9707835325365206,
          0.7603305785123967,
          0.9277899343544858,
          0.6643502432244615,
          0.9871001031991744,
          0.8415697674418605,
          0.7888040712468194,
          0.9881500987491773,
          0.9508547008547008,
          0.8651960784313726,
          0.924812030075188,
          0.8494031221303948,
          0.9831181727904668,
          0.8287337662337663,
          0.842237061769616,
          0.9182027649769584,
          0.9253521126760564,
          0.9489795918367347,
          0.9735729386892178,
          0.9565217391304348,
          0.9607843137254902,
          0.7283531409168081,
          0.956989247311828,
          0.9021739130434784,
          0.9323529411764706,
          0.4857142857142857,
          0.6470198675496689,
          0.8444730077120822,
          0.975451263537906,
          0.8998144712430427,
          0.7327188940092166,
          0.5693160813308688,
          0.6964856230031949,
          0.976027397260274,
          0.9875930521091812,
          0.9023255813953488,
          0.9487534626038782,
          0.6398467432950191,
          0.936,
          0.9303991811668372,
          0.9641509433962264,
          0.9940955448201824,
          0.9660703269586676,
          0.9983957219251336,
          0.7855227882037533,
          0.8187919463087249,
          0.7568881685575365,
          0.9723247232472324,
          0.9362850971922246,
          0.5798029556650246,
          0.5843060959792478,
          0.9481668773704172,
          0.6906906906906907,
          0.7618181818181818,
          0.8235294117647058,
          0.9977578475336324,
          0.8336700336700337,
          0.9424198250728864,
          0.88125,
          0.977969348659004,
          0.6544622425629291,
          0.8672086720867209,
          0.5531531531531532,
          0.9770569620253164,
          0.861271676300578,
          0.9424778761061948,
          0.9953271028037384,
          0.9392523364485982,
          0.7992766726943942,
          0.9914163090128756,
          0.9978201634877384,
          0.910394265232975,
          0.9378427787934186,
          0.861904761904762,
          0.8792792792792793,
          0.7256637168141593,
          0.6489963973237262,
          0.8930412371134021,
          0.9294871794871796,
          0.8618290258449304,
          0.8509615384615384,
          0.9746835443037974,
          0.8477611940298507,
          0.9730061349693252,
          0.3852183650615901,
          0.8233173076923077,
          0.9727339719970524,
          0.7333333333333333,
          0.5894495412844036,
          0.8412138320395202,
          0.9405594405594404,
          0.6962962962962963,
          0.8403225806451613,
          0.9276595744680852,
          0.9138840070298768,
          0.8625314333612741,
          0.8014638609332113,
          0.9722222222222222,
          0.9499679281590764,
          0.9517313746065058,
          0.9887157442235356,
          0.9359605911330048,
          0.9326513213981245,
          0.7819314641744548,
          0.9318181818181818,
          0.5938303341902313,
          0.740506329113924,
          0.8558282208588958,
          0.8625294579732914,
          0.9378531073446328,
          0.5655172413793104,
          0.7539332913782253,
          0.9685863874345548,
          0.9219512195121952,
          0.9056603773584906,
          0.6986899563318777,
          0.9092039800995024,
          0.7960893854748603,
          0.9846625766871164,
          0.3924050632911392,
          0.9597069597069596,
          0.8520499108734403,
          0.9816350710900474,
          0.8969359331476323,
          0.9601910828025476,
          0.961864406779661,
          0.9897510980966324,
          0.6046511627906976,
          0.9770773638968482,
          0.9911845730027548,
          0.9790915645277576,
          0.9584775086505192,
          0.9676375404530744,
          0.9934782608695653,
          0.832541567695962,
          0.9541029207232268,
          0.9129692832764504,
          0.9666666666666668,
          0.9654761904761904,
          0.9,
          0.928843710292249,
          0.8240343347639485,
          0.9842873176206508,
          0.3674339300937766,
          0.9243466299862448,
          0.9946559786239144,
          0.9704284852142426,
          0.8153846153846154,
          0.818069306930693,
          0.9649122807017544,
          0.9807280513918628,
          0.8860759493670886,
          0.9168900804289544,
          0.8373904576436222,
          0.8897058823529411,
          0.7464183381088825,
          0.9894534995206136,
          0.8048780487804879,
          0.9717618170656844,
          0.869980879541109,
          0.9263157894736842,
          0.8502994011976048,
          0.7961321514907332,
          0.6974231088944306,
          0.834289356277884,
          0.7423076923076923,
          0.3912037037037037,
          0.9683641975308642,
          0.9372384937238494,
          0.9812362030905076,
          0.7933333333333333,
          0.8752025931928687,
          0.9315188762071992,
          0.689727463312369,
          0.7914438502673797,
          0.9883296863603208,
          0.977238239757208,
          0.751131221719457,
          0.9861351819757366,
          0.9030265596046942,
          0.9983484723369116,
          0.776778413736713,
          0.4235412474849094,
          0.8069053708439897,
          0.8981612446958982,
          0.8963210702341137,
          0.9796875,
          0.97514033680834,
          0.9794188861985472,
          0.9892021595680864,
          0.9796296296296296,
          0.985007496251874,
          0.7106741573033708,
          0.537117903930131,
          0.9473346178548492,
          0.8152866242038217,
          0.9280430396772024,
          0.9599697885196374,
          0.9227000544365814,
          0.91894852135816,
          0.8463768115942029,
          0.9822569198012776,
          0.8152173913043478,
          0.959122632103689,
          0.918785890073831,
          0.7536945812807881,
          0.9742647058823528,
          0.9615384615384616,
          0.8622366288492707,
          0.6614699331848553,
          0.9634443541835904,
          0.8932853717026379,
          0.9584775086505192,
          0.8841927303465765,
          0.8123076923076923,
          0.7528026905829597,
          0.8203883495145631,
          0.7228506787330317,
          0.835820895522388,
          0.9465116279069768,
          0.8970027247956404,
          0.9452595936794582,
          0.9417040358744396,
          0.8708226221079691,
          0.7280334728033473,
          0.9306615776081424,
          0.6171548117154811,
          0.9922730199613652,
          0.8678057553956835,
          0.9896973599484868,
          0.9825978868862648,
          0.8504622077215879,
          0.8631178707224335,
          0.9039665970772442,
          0.8184357541899442,
          0.932788374205268,
          0.7871396895787139,
          0.9559372666168784,
          0.795816733067729,
          0.8424336973478939,
          0.9855818743563336,
          0.9529983792544572,
          0.8980645161290323,
          0.97347316471314,
          0.9805115712545676,
          0.9786921381337252,
          0.8045325779036827,
          0.6908602150537635,
          0.8845500848896435,
          0.984149855907781,
          0.9346246973365616,
          0.7830342577487766,
          0.909562638991846,
          0.9080675422138836,
          0.9119496855345912,
          0.7790909090909091,
          0.9957374254049446,
          0.9219917012448132,
          0.9346590909090908,
          0.5302752293577981,
          0.8164251207729468,
          0.9673469387755104,
          0.8642590286425903,
          0.9100364014560582,
          0.9634069400630916,
          0.8345588235294118,
          0.5774058577405857,
          0.9659090909090908,
          0.7705382436260623,
          0.9312688821752266,
          0.9808219178082191,
          0.7366071428571429,
          0.9704184704184704,
          0.9737118822292324,
          0.7937062937062938,
          0.9567367119901112,
          0.8915531335149863,
          0.9721988205560236,
          0.9896551724137932,
          0.8706467661691543,
          0.9458823529411764,
          0.98046875,
          0.7976539589442815,
          0.8103448275862069,
          0.6253071253071253,
          0.9746121297602256,
          0.9494773519163764,
          0.8839137645107794,
          0.7265214124718257,
          0.4479166666666667,
          0.9306759098786828,
          0.9050167224080268,
          0.983402489626556,
          0.8701298701298701,
          0.994121969140338,
          0.9182590233545648,
          0.9313967861557478,
          0.3024236037934668,
          0.9770200148257968,
          0.5789915966386555,
          0.6983578219533275,
          0.9315687540348612,
          0.9553450608930988,
          0.9135667396061268,
          0.9264990328820116,
          0.9704040978941376,
          0.9572098475967176,
          0.9923875432525952,
          0.7592592592592593,
          0.8997641509433962,
          0.9155733029092984,
          0.9712140175219024,
          0.5581929555895865,
          0.8311111111111111,
          0.5161572052401747,
          0.8309741881765196,
          0.8991282689912827,
          0.8430769230769231,
          0.935349322210636,
          0.8230543318649045,
          0.5728987993138936,
          0.466804979253112,
          0.8116197183098591,
          0.9880239520958084,
          0.997991967871486,
          0.4915773353751914,
          0.847985347985348,
          0.9146525679758308,
          0.6572327044025157,
          0.9448742746615088,
          0.8685446009389671,
          0.610079575596817,
          0.6515867656988521,
          0.925,
          0.8529819694868238,
          0.9798792756539236,
          0.930062630480167,
          0.7962382445141066,
          0.9790996784565916,
          0.9715099715099716,
          0.9810860280658938,
          0.88420245398773,
          0.99609375,
          0.9845697329376856,
          0.7694656488549618,
          0.820631970260223,
          0.6054721977052074,
          0.9696969696969696,
          0.9861495844875346,
          0.9655405405405404,
          0.9684487291849256,
          0.7319884726224783,
          0.8699690402476781,
          0.9401913875598086,
          0.5763157894736842,
          0.9893333333333332,
          0.884742041712404,
          0.5792563600782779,
          0.8754863813229572,
          0.9437354988399071,
          0.947211155378486,
          0.968236582694414,
          0.75,
          0.1638418079096045,
          0.936378466557912,
          0.9329102447869448,
          0.9441233140655106,
          0.9843962008141112,
          0.7340909090909091,
          0.9933694996986135,
          0.7402597402597403,
          0.9565217391304348,
          0.8792270531400966,
          0.974726200505476,
          0.889273356401384,
          0.4448160535117056,
          0.9015384615384616,
          0.9722901385493072,
          0.9755859375,
          0.8778625954198473,
          0.958592132505176,
          0.9785992217898832,
          0.9732016925246828,
          0.9311094996374184,
          0.9905493207324276,
          0.9529411764705882,
          0.9363128491620112,
          0.9974358974358974,
          0.9613259668508288,
          0.9560185185185184,
          0.8335158817086528,
          0.8568075117370892,
          0.8617571059431525,
          0.981101068200493,
          0.4921875,
          0.850735294117647,
          0.9498956158663884,
          0.9122681883024252,
          0.9964120963608406,
          0.6574267782426778,
          0.8404494382022472,
          0.933609958506224,
          0.9822525597269623,
          0.9680851063829788,
          0.9889624724061812,
          0.9857752489331436,
          0.7021660649819494,
          0.8458445040214477,
          0.9694423223834988,
          0.9745508982035928,
          0.9475409836065574,
          0.9683481701285857,
          0.7416974169741697,
          0.9329896907216496,
          0.9890016920473772,
          0.8519040902679831,
          0.97444089456869,
          0.3286637931034483,
          0.8983286908077994,
          0.7098623853211009,
          0.9247191011235956,
          0.8857395925597874,
          0.9864712514092446,
          0.9849377865094956,
          0.9343696027633852,
          0.6635021097046413,
          0.9563953488372092,
          0.4303534303534304,
          0.892459826946848,
          0.951900698215671,
          0.9422028353326064,
          0.8497267759562842,
          0.966470588235294,
          0.7024539877300614,
          0.3753822629969419,
          0.4552845528455284,
          0.9858030168589176,
          0.9857357357357356,
          0.8446601941747572,
          0.5448536355051936,
          0.4843276036400404,
          0.9338842975206612,
          0.9892086330935252,
          0.9788418708240536,
          0.9334733893557424,
          0.8302845528455285,
          0.9398148148148148,
          0.9632473944048272,
          0.9415637860082304,
          0.9893617021276596,
          0.9794661190965092,
          0.7853277209861695,
          0.9227642276422764,
          0.930898321816387,
          0.9911202185792348,
          0.75,
          0.7842778793418648,
          0.7401315789473685,
          0.8225602027883396,
          0.8577319587628865,
          0.7915567282321899,
          0.9870782483847812,
          0.902439024390244,
          0.6078838174273858,
          0.7322485207100592,
          0.9212598425196852,
          0.5346413243408952,
          0.9935856318152662,
          0.971830985915493,
          0.9322555812163202,
          0.9246031746031746,
          0.9493865030674846,
          0.8403225806451613,
          0.9939919893190922,
          0.977027027027027,
          0.6320501342882722,
          0.8996509598603839,
          0.8851063829787233,
          0.8293172690763052,
          0.9716363636363636,
          0.908355795148248,
          0.9854771784232366,
          0.9237749546279492,
          0.970125786163522,
          0.74375,
          0.9618473895582328,
          0.5667655786350149,
          0.81640625,
          0.9418604651162792,
          0.777262180974478,
          0.9605263157894736,
          0.9694189602446484,
          0.9110169491525424,
          0.9197431781701444,
          0.909542195256481,
          0.9345854922279792,
          0.9136394790952708,
          0.9456625357483316,
          0.4366925064599483,
          0.9294117647058824,
          0.6248206599713056,
          0.7892271662763466,
          0.8257940327237728,
          0.9236583522297808,
          0.6778983438035409,
          0.9472140762463344,
          0.935897435897436,
          0.6472727272727272,
          0.7371695178849145,
          0.8075253256150506,
          0.8764705882352941,
          0.8700787401574803,
          0.8053333333333333,
          0.9694055944055944,
          0.968978102189781,
          0.966188524590164,
          0.958592132505176,
          0.9762100082034456,
          0.9478021978021978,
          0.8260869565217391,
          0.9620018535681186,
          0.9757225433526012,
          0.9209558823529412,
          0.9861265260821308,
          0.9988137603795968,
          0.8906510851419032,
          0.977818853974122,
          0.8391660461653015,
          0.8161252900232019,
          0.8515864892528148,
          0.9657370517928286,
          0.7435697583787997,
          0.7449567723342939,
          0.8275109170305677,
          0.5723226703755215,
          0.9661214953271028,
          0.8305555555555556,
          0.9781167108753316,
          0.6969001148105626,
          0.9969879518072288,
          0.957498482088646,
          0.992170818505338,
          0.967948717948718,
          0.8898678414096917,
          0.9615384615384616,
          0.9694050991501416,
          0.7652388797364086,
          0.9184430027803522,
          0.967741935483871,
          0.9372990353697748,
          0.8493427704752275,
          0.7660455486542443
         ],
         "xaxis": "x",
         "yaxis": "y"
        },
        {
         "alignmentgroup": "True",
         "bingroup": "x",
         "hovertemplate": "Top 5=False<br>max_initial_population=%{x}<br>count=%{y}<extra></extra>",
         "legendgroup": "False",
         "marker": {
          "color": "rgb(152, 146, 186)",
          "line": {
           "color": "DarkSlateGrey",
           "width": 0.2
          },
          "opacity": 0.5,
          "pattern": {
           "shape": ""
          }
         },
         "name": "False",
         "nbinsx": 30,
         "offsetgroup": "False",
         "opacity": 1,
         "orientation": "v",
         "showlegend": true,
         "type": "histogram",
         "x": [
          0.987273945077026,
          0.8227091633466136,
          0.992239467849224,
          0.8571428571428571,
          0.6746987951807228,
          0.6238293444328824,
          0.7109737248840804,
          0.9680851063829788,
          0.9073806078147612,
          0.8527968596663396,
          0.573027989821883,
          0.8905405405405405,
          0.8896631823461092,
          0.8219844357976653,
          0.7299898682877406,
          0.7849235635213495,
          0.6741500962155228,
          0.8915956151035322,
          0.8330878743249878,
          0.7401055408970977,
          0.980544747081712,
          0.9624242424242424,
          0.7542297417631345,
          0.6353383458646616,
          0.8036597428288823,
          0.6330603889457523,
          0.576307363927428,
          0.5597439544807966,
          0.8028656126482213,
          0.7319535588086825,
          0.2450704225352112,
          0.6686868686868687,
          0.768762677484787,
          0.7042467138523761,
          0.4288288288288288,
          0.5877437325905293,
          0.8831405964698722,
          0.7022900763358778,
          0.9520697167755992,
          0.8440913604766633,
          0.8981481481481481,
          0.5486631016042781,
          0.6903553299492385,
          0.5547150781643974,
          0.5721649484536082,
          0.7503128911138923,
          0.7204182718767199,
          0.6991374936580416,
          0.6888731396172927,
          0.4833197721724979,
          0.3855633802816901,
          0.9947835159102764,
          0.6352631578947369,
          0.906318082788671,
          0.9745331069609507,
          0.8537666174298375,
          0.4989165763813651,
          0.5201288244766505,
          0.9132231404958676,
          0.9531362653208364,
          0.7303128371089536,
          0.7256819351518271,
          0.8323504633529908,
          0.8731971153846154,
          0.9858223062381852,
          0.7962166809974205,
          0.7104722792607803,
          0.6831530139103554,
          0.4919113241461953,
          0.7330696984676224,
          0.5931069958847737,
          0.7496244366549825,
          0.648062015503876,
          0.3427835051546392,
          0.9362348178137652,
          0.6429303278688525,
          0.9244582043343652,
          0.4975948690539818,
          0.3101567825494206,
          0.8386568386568387,
          0.8757807078417765,
          0.4870665932856357,
          0.4105960264900662,
          0.57981220657277,
          0.6199893105291288,
          0.9042995839112344,
          0.9572727272727272,
          0.7729756582215599,
          0.7192608386638237,
          0.8090551181102362,
          0.78248031496063,
          0.5041736227045075,
          0.3773006134969325,
          0.5526127415891195,
          0.6397984886649875,
          0.598404255319149,
          0.5676352705410822,
          0.7848101265822784,
          0.6037371134020618,
          0.4908946951702296,
          0.5925349922239502,
          0.5330296127562643,
          0.645016077170418,
          0.776,
          0.6600306278713629,
          0.4556962025316455,
          0.6417604912998977,
          0.8015794669299111,
          0.4391727493917275,
          0.4907834101382488,
          0.6864450127877237,
          0.6953316953316954,
          0.7417417417417418,
          0.4342258440046566,
          0.7178714859437751,
          0.7389112903225806,
          0.588048651507139,
          0.9277474195506984,
          0.6606198034769464,
          0.8011730205278592,
          0.3889816360601001,
          0.6775184275184275
         ],
         "xaxis": "x",
         "yaxis": "y"
        }
       ],
       "layout": {
        "barmode": "overlay",
        "font": {
         "family": "CMU Sans Serif"
        },
        "height": 250,
        "legend": {
         "title": {
          "text": "Top 5"
         },
         "tracegroupgap": 0
        },
        "margin": {
         "b": 0,
         "l": 0,
         "r": 0,
         "t": 0
        },
        "plot_bgcolor": "white",
        "template": {
         "data": {
          "bar": [
           {
            "error_x": {
             "color": "#2a3f5f"
            },
            "error_y": {
             "color": "#2a3f5f"
            },
            "marker": {
             "line": {
              "color": "#E5ECF6",
              "width": 0.5
             },
             "pattern": {
              "fillmode": "overlay",
              "size": 10,
              "solidity": 0.2
             }
            },
            "type": "bar"
           }
          ],
          "barpolar": [
           {
            "marker": {
             "line": {
              "color": "#E5ECF6",
              "width": 0.5
             },
             "pattern": {
              "fillmode": "overlay",
              "size": 10,
              "solidity": 0.2
             }
            },
            "type": "barpolar"
           }
          ],
          "carpet": [
           {
            "aaxis": {
             "endlinecolor": "#2a3f5f",
             "gridcolor": "white",
             "linecolor": "white",
             "minorgridcolor": "white",
             "startlinecolor": "#2a3f5f"
            },
            "baxis": {
             "endlinecolor": "#2a3f5f",
             "gridcolor": "white",
             "linecolor": "white",
             "minorgridcolor": "white",
             "startlinecolor": "#2a3f5f"
            },
            "type": "carpet"
           }
          ],
          "choropleth": [
           {
            "colorbar": {
             "outlinewidth": 0,
             "ticks": ""
            },
            "type": "choropleth"
           }
          ],
          "contour": [
           {
            "colorbar": {
             "outlinewidth": 0,
             "ticks": ""
            },
            "colorscale": [
             [
              0,
              "#0d0887"
             ],
             [
              0.1111111111111111,
              "#46039f"
             ],
             [
              0.2222222222222222,
              "#7201a8"
             ],
             [
              0.3333333333333333,
              "#9c179e"
             ],
             [
              0.4444444444444444,
              "#bd3786"
             ],
             [
              0.5555555555555556,
              "#d8576b"
             ],
             [
              0.6666666666666666,
              "#ed7953"
             ],
             [
              0.7777777777777778,
              "#fb9f3a"
             ],
             [
              0.8888888888888888,
              "#fdca26"
             ],
             [
              1,
              "#f0f921"
             ]
            ],
            "type": "contour"
           }
          ],
          "contourcarpet": [
           {
            "colorbar": {
             "outlinewidth": 0,
             "ticks": ""
            },
            "type": "contourcarpet"
           }
          ],
          "heatmap": [
           {
            "colorbar": {
             "outlinewidth": 0,
             "ticks": ""
            },
            "colorscale": [
             [
              0,
              "#0d0887"
             ],
             [
              0.1111111111111111,
              "#46039f"
             ],
             [
              0.2222222222222222,
              "#7201a8"
             ],
             [
              0.3333333333333333,
              "#9c179e"
             ],
             [
              0.4444444444444444,
              "#bd3786"
             ],
             [
              0.5555555555555556,
              "#d8576b"
             ],
             [
              0.6666666666666666,
              "#ed7953"
             ],
             [
              0.7777777777777778,
              "#fb9f3a"
             ],
             [
              0.8888888888888888,
              "#fdca26"
             ],
             [
              1,
              "#f0f921"
             ]
            ],
            "type": "heatmap"
           }
          ],
          "heatmapgl": [
           {
            "colorbar": {
             "outlinewidth": 0,
             "ticks": ""
            },
            "colorscale": [
             [
              0,
              "#0d0887"
             ],
             [
              0.1111111111111111,
              "#46039f"
             ],
             [
              0.2222222222222222,
              "#7201a8"
             ],
             [
              0.3333333333333333,
              "#9c179e"
             ],
             [
              0.4444444444444444,
              "#bd3786"
             ],
             [
              0.5555555555555556,
              "#d8576b"
             ],
             [
              0.6666666666666666,
              "#ed7953"
             ],
             [
              0.7777777777777778,
              "#fb9f3a"
             ],
             [
              0.8888888888888888,
              "#fdca26"
             ],
             [
              1,
              "#f0f921"
             ]
            ],
            "type": "heatmapgl"
           }
          ],
          "histogram": [
           {
            "marker": {
             "pattern": {
              "fillmode": "overlay",
              "size": 10,
              "solidity": 0.2
             }
            },
            "type": "histogram"
           }
          ],
          "histogram2d": [
           {
            "colorbar": {
             "outlinewidth": 0,
             "ticks": ""
            },
            "colorscale": [
             [
              0,
              "#0d0887"
             ],
             [
              0.1111111111111111,
              "#46039f"
             ],
             [
              0.2222222222222222,
              "#7201a8"
             ],
             [
              0.3333333333333333,
              "#9c179e"
             ],
             [
              0.4444444444444444,
              "#bd3786"
             ],
             [
              0.5555555555555556,
              "#d8576b"
             ],
             [
              0.6666666666666666,
              "#ed7953"
             ],
             [
              0.7777777777777778,
              "#fb9f3a"
             ],
             [
              0.8888888888888888,
              "#fdca26"
             ],
             [
              1,
              "#f0f921"
             ]
            ],
            "type": "histogram2d"
           }
          ],
          "histogram2dcontour": [
           {
            "colorbar": {
             "outlinewidth": 0,
             "ticks": ""
            },
            "colorscale": [
             [
              0,
              "#0d0887"
             ],
             [
              0.1111111111111111,
              "#46039f"
             ],
             [
              0.2222222222222222,
              "#7201a8"
             ],
             [
              0.3333333333333333,
              "#9c179e"
             ],
             [
              0.4444444444444444,
              "#bd3786"
             ],
             [
              0.5555555555555556,
              "#d8576b"
             ],
             [
              0.6666666666666666,
              "#ed7953"
             ],
             [
              0.7777777777777778,
              "#fb9f3a"
             ],
             [
              0.8888888888888888,
              "#fdca26"
             ],
             [
              1,
              "#f0f921"
             ]
            ],
            "type": "histogram2dcontour"
           }
          ],
          "mesh3d": [
           {
            "colorbar": {
             "outlinewidth": 0,
             "ticks": ""
            },
            "type": "mesh3d"
           }
          ],
          "parcoords": [
           {
            "line": {
             "colorbar": {
              "outlinewidth": 0,
              "ticks": ""
             }
            },
            "type": "parcoords"
           }
          ],
          "pie": [
           {
            "automargin": true,
            "type": "pie"
           }
          ],
          "scatter": [
           {
            "fillpattern": {
             "fillmode": "overlay",
             "size": 10,
             "solidity": 0.2
            },
            "type": "scatter"
           }
          ],
          "scatter3d": [
           {
            "line": {
             "colorbar": {
              "outlinewidth": 0,
              "ticks": ""
             }
            },
            "marker": {
             "colorbar": {
              "outlinewidth": 0,
              "ticks": ""
             }
            },
            "type": "scatter3d"
           }
          ],
          "scattercarpet": [
           {
            "marker": {
             "colorbar": {
              "outlinewidth": 0,
              "ticks": ""
             }
            },
            "type": "scattercarpet"
           }
          ],
          "scattergeo": [
           {
            "marker": {
             "colorbar": {
              "outlinewidth": 0,
              "ticks": ""
             }
            },
            "type": "scattergeo"
           }
          ],
          "scattergl": [
           {
            "marker": {
             "colorbar": {
              "outlinewidth": 0,
              "ticks": ""
             }
            },
            "type": "scattergl"
           }
          ],
          "scattermapbox": [
           {
            "marker": {
             "colorbar": {
              "outlinewidth": 0,
              "ticks": ""
             }
            },
            "type": "scattermapbox"
           }
          ],
          "scatterpolar": [
           {
            "marker": {
             "colorbar": {
              "outlinewidth": 0,
              "ticks": ""
             }
            },
            "type": "scatterpolar"
           }
          ],
          "scatterpolargl": [
           {
            "marker": {
             "colorbar": {
              "outlinewidth": 0,
              "ticks": ""
             }
            },
            "type": "scatterpolargl"
           }
          ],
          "scatterternary": [
           {
            "marker": {
             "colorbar": {
              "outlinewidth": 0,
              "ticks": ""
             }
            },
            "type": "scatterternary"
           }
          ],
          "surface": [
           {
            "colorbar": {
             "outlinewidth": 0,
             "ticks": ""
            },
            "colorscale": [
             [
              0,
              "#0d0887"
             ],
             [
              0.1111111111111111,
              "#46039f"
             ],
             [
              0.2222222222222222,
              "#7201a8"
             ],
             [
              0.3333333333333333,
              "#9c179e"
             ],
             [
              0.4444444444444444,
              "#bd3786"
             ],
             [
              0.5555555555555556,
              "#d8576b"
             ],
             [
              0.6666666666666666,
              "#ed7953"
             ],
             [
              0.7777777777777778,
              "#fb9f3a"
             ],
             [
              0.8888888888888888,
              "#fdca26"
             ],
             [
              1,
              "#f0f921"
             ]
            ],
            "type": "surface"
           }
          ],
          "table": [
           {
            "cells": {
             "fill": {
              "color": "#EBF0F8"
             },
             "line": {
              "color": "white"
             }
            },
            "header": {
             "fill": {
              "color": "#C8D4E3"
             },
             "line": {
              "color": "white"
             }
            },
            "type": "table"
           }
          ]
         },
         "layout": {
          "annotationdefaults": {
           "arrowcolor": "#2a3f5f",
           "arrowhead": 0,
           "arrowwidth": 1
          },
          "autotypenumbers": "strict",
          "coloraxis": {
           "colorbar": {
            "outlinewidth": 0,
            "ticks": ""
           }
          },
          "colorscale": {
           "diverging": [
            [
             0,
             "#8e0152"
            ],
            [
             0.1,
             "#c51b7d"
            ],
            [
             0.2,
             "#de77ae"
            ],
            [
             0.3,
             "#f1b6da"
            ],
            [
             0.4,
             "#fde0ef"
            ],
            [
             0.5,
             "#f7f7f7"
            ],
            [
             0.6,
             "#e6f5d0"
            ],
            [
             0.7,
             "#b8e186"
            ],
            [
             0.8,
             "#7fbc41"
            ],
            [
             0.9,
             "#4d9221"
            ],
            [
             1,
             "#276419"
            ]
           ],
           "sequential": [
            [
             0,
             "#0d0887"
            ],
            [
             0.1111111111111111,
             "#46039f"
            ],
            [
             0.2222222222222222,
             "#7201a8"
            ],
            [
             0.3333333333333333,
             "#9c179e"
            ],
            [
             0.4444444444444444,
             "#bd3786"
            ],
            [
             0.5555555555555556,
             "#d8576b"
            ],
            [
             0.6666666666666666,
             "#ed7953"
            ],
            [
             0.7777777777777778,
             "#fb9f3a"
            ],
            [
             0.8888888888888888,
             "#fdca26"
            ],
            [
             1,
             "#f0f921"
            ]
           ],
           "sequentialminus": [
            [
             0,
             "#0d0887"
            ],
            [
             0.1111111111111111,
             "#46039f"
            ],
            [
             0.2222222222222222,
             "#7201a8"
            ],
            [
             0.3333333333333333,
             "#9c179e"
            ],
            [
             0.4444444444444444,
             "#bd3786"
            ],
            [
             0.5555555555555556,
             "#d8576b"
            ],
            [
             0.6666666666666666,
             "#ed7953"
            ],
            [
             0.7777777777777778,
             "#fb9f3a"
            ],
            [
             0.8888888888888888,
             "#fdca26"
            ],
            [
             1,
             "#f0f921"
            ]
           ]
          },
          "colorway": [
           "#636efa",
           "#EF553B",
           "#00cc96",
           "#ab63fa",
           "#FFA15A",
           "#19d3f3",
           "#FF6692",
           "#B6E880",
           "#FF97FF",
           "#FECB52"
          ],
          "font": {
           "color": "#2a3f5f"
          },
          "geo": {
           "bgcolor": "white",
           "lakecolor": "white",
           "landcolor": "#E5ECF6",
           "showlakes": true,
           "showland": true,
           "subunitcolor": "white"
          },
          "hoverlabel": {
           "align": "left"
          },
          "hovermode": "closest",
          "mapbox": {
           "style": "light"
          },
          "paper_bgcolor": "white",
          "plot_bgcolor": "#E5ECF6",
          "polar": {
           "angularaxis": {
            "gridcolor": "white",
            "linecolor": "white",
            "ticks": ""
           },
           "bgcolor": "#E5ECF6",
           "radialaxis": {
            "gridcolor": "white",
            "linecolor": "white",
            "ticks": ""
           }
          },
          "scene": {
           "xaxis": {
            "backgroundcolor": "#E5ECF6",
            "gridcolor": "white",
            "gridwidth": 2,
            "linecolor": "white",
            "showbackground": true,
            "ticks": "",
            "zerolinecolor": "white"
           },
           "yaxis": {
            "backgroundcolor": "#E5ECF6",
            "gridcolor": "white",
            "gridwidth": 2,
            "linecolor": "white",
            "showbackground": true,
            "ticks": "",
            "zerolinecolor": "white"
           },
           "zaxis": {
            "backgroundcolor": "#E5ECF6",
            "gridcolor": "white",
            "gridwidth": 2,
            "linecolor": "white",
            "showbackground": true,
            "ticks": "",
            "zerolinecolor": "white"
           }
          },
          "shapedefaults": {
           "line": {
            "color": "#2a3f5f"
           }
          },
          "ternary": {
           "aaxis": {
            "gridcolor": "white",
            "linecolor": "white",
            "ticks": ""
           },
           "baxis": {
            "gridcolor": "white",
            "linecolor": "white",
            "ticks": ""
           },
           "bgcolor": "#E5ECF6",
           "caxis": {
            "gridcolor": "white",
            "linecolor": "white",
            "ticks": ""
           }
          },
          "title": {
           "x": 0.05
          },
          "xaxis": {
           "automargin": true,
           "gridcolor": "white",
           "linecolor": "white",
           "ticks": "",
           "title": {
            "standoff": 15
           },
           "zerolinecolor": "white",
           "zerolinewidth": 2
          },
          "yaxis": {
           "automargin": true,
           "gridcolor": "white",
           "linecolor": "white",
           "ticks": "",
           "title": {
            "standoff": 15
           },
           "zerolinecolor": "white",
           "zerolinewidth": 2
          }
         }
        },
        "width": 404.508497175,
        "xaxis": {
         "anchor": "y",
         "domain": [
          0,
          1
         ],
         "showgrid": false,
         "showline": false,
         "tickcolor": "rgb(120, 120, 120)",
         "ticklen": 5,
         "ticks": "outside",
         "tickwidth": 1,
         "title": {
          "text": "max initial population similarity"
         },
         "zeroline": false
        },
        "yaxis": {
         "anchor": "x",
         "domain": [
          0,
          1
         ],
         "gridcolor": "rgba(173, 216, 230, 0.3)",
         "gridwidth": 1,
         "showgrid": false,
         "showline": false,
         "tickcolor": "rgb(120, 120, 120)",
         "ticklen": 5,
         "ticks": "outside",
         "tickwidth": 1,
         "title": {
          "text": "count"
         },
         "zeroline": false
        }
       }
      }
     },
     "metadata": {},
     "output_type": "display_data"
    },
    {
     "data": {
      "application/vnd.plotly.v1+json": {
       "config": {
        "plotlyServerURL": "https://plot.ly"
       },
       "data": [
        {
         "alignmentgroup": "True",
         "bingroup": "x",
         "hovertemplate": "Top 10=True<br>max_initial_population=%{x}<br>count=%{y}<extra></extra>",
         "legendgroup": "True",
         "marker": {
          "color": "rgb(152, 86, 86)",
          "line": {
           "color": "DarkSlateGrey",
           "width": 0.2
          },
          "opacity": 0.5,
          "pattern": {
           "shape": ""
          }
         },
         "name": "True",
         "nbinsx": 30,
         "offsetgroup": "True",
         "opacity": 1,
         "orientation": "v",
         "showlegend": true,
         "type": "histogram",
         "x": [
          0.8314393939393939,
          0.919431279620853,
          0.9969788519637462,
          0.7289156626506024,
          0.9688850475367328,
          0.9788461538461538,
          0.7170731707317073,
          0.987273945077026,
          0.9105691056910568,
          0.8674609084139985,
          0.9443254817987152,
          0.8857142857142857,
          0.890691114245416,
          0.9401069518716576,
          0.9187380497131932,
          0.8496732026143791,
          0.8885613207547169,
          0.9856361149110808,
          0.7088186356073212,
          0.9634760705289672,
          0.9090909090909092,
          0.9206349206349206,
          0.9495665878644602,
          0.9846153846153848,
          0.8840970350404312,
          0.8760563380281691,
          0.8661417322834646,
          0.8024485253199778,
          0.828978622327791,
          0.9057324840764333,
          0.551980198019802,
          0.9497681607418856,
          0.9102141680395388,
          0.9686131386861314,
          0.9310141509433962,
          0.3651290070367474,
          0.9581911262798636,
          0.9205175600739371,
          0.8875562218890555,
          0.7488584474885844,
          0.7802400738688827,
          0.8571428571428571,
          0.7787114845938375,
          0.994343180389692,
          0.9708276797829036,
          0.7059659090909091,
          0.9921807124239792,
          0.8464106844741235,
          0.5348837209302325,
          0.9375,
          0.7367688022284122,
          0.7354497354497355,
          0.9770569620253164,
          0.7405247813411079,
          0.9635332252836304,
          0.8026960784313726,
          0.9324618736383442,
          0.8580152671755725,
          0.9863532979529946,
          0.6175637393767706,
          0.982608695652174,
          0.992867332382311,
          0.9914748508098892,
          0.8723797780517879,
          0.9098360655737704,
          0.9702338766832034,
          0.9429280397022332,
          0.8492167101827677,
          0.573027989821883,
          0.9147286821705426,
          0.9713038053649408,
          0.856,
          0.8916666666666667,
          0.9871152469577666,
          0.8269344359125812,
          0.980319803198032,
          0.7475083056478405,
          0.9831649831649832,
          0.9634888438133874,
          0.9319371727748692,
          0.9867358708189158,
          0.960352422907489,
          0.892226148409894,
          0.9834437086092715,
          0.614824619457313,
          0.915915915915916,
          0.8915547024952015,
          0.905899925317401,
          0.9208211143695014,
          0.8896631823461092,
          0.9963920625375828,
          0.9690920798454604,
          0.8169934640522876,
          0.961123110151188,
          0.7256637168141593,
          0.929392446633826,
          0.9402173913043478,
          0.9573863636363636,
          0.6702898550724637,
          0.8915956151035322,
          0.9833948339483396,
          0.9269565217391303,
          0.7398373983739838,
          0.973432518597237,
          0.5381083562901745,
          0.9909859154929578,
          0.5845682166581502,
          0.9593373493975904,
          0.6470588235294118,
          0.9732647814910026,
          0.8850653819683414,
          0.9741444866920153,
          0.9592198581560284,
          0.6848484848484848,
          0.9683333333333334,
          0.7679038159958181,
          0.8342857142857143,
          0.9352818371607516,
          0.8853046594982079,
          0.3688799463447351,
          0.9381443298969072,
          0.7703995498030388,
          0.8311546840958606,
          0.9954571266325952,
          0.9474358974358974,
          0.9883344134802332,
          0.8802521008403361,
          0.9161793372319688,
          0.8388888888888889,
          0.9822090437361009,
          0.806378132118451,
          0.9264565425023876,
          0.5702702702702702,
          0.8857837181044957,
          0.7368421052631579,
          0.9535962877030162,
          0.9935897435897436,
          0.8068592057761733,
          0.9768339768339768,
          0.728051391862955,
          0.8092783505154639,
          0.6601356443104748,
          0.4796238244514106,
          0.8386763185108583,
          0.8845070422535212,
          0.8253652058432935,
          0.9453015427769986,
          0.5458089668615984,
          0.9863945578231292,
          0.9351669941060904,
          0.9063745019920318,
          0.9825145711906744,
          0.8120713305898491,
          0.7622549019607843,
          0.9527272727272728,
          0.9624242424242424,
          0.877757901013715,
          0.9197930142302716,
          0.3530405405405405,
          0.9912536443148688,
          0.9830866807610994,
          0.5668316831683168,
          0.8698564593301435,
          0.991373589913736,
          0.8014059753954306,
          0.9895988112927192,
          0.9721780604133544,
          0.8149779735682819,
          0.8429073856975381,
          0.8507625272331155,
          0.916243654822335,
          0.6474358974358975,
          0.9245283018867924,
          0.9994082840236688,
          0.9743016759776536,
          0.7992505353319058,
          0.9187534780189204,
          0.9528936742934052,
          0.932073544433095,
          0.9733796296296297,
          0.7350427350427351,
          0.8335315101070154,
          0.7205882352941176,
          0.8995433789954338,
          0.7506538796861377,
          0.9939024390243902,
          0.7866108786610879,
          0.6236559139784946,
          0.9621212121212122,
          0.7488789237668162,
          0.9792122538293216,
          0.9419252187748608,
          0.8516129032258064,
          0.8547579298831386,
          0.880859375,
          0.9483240223463688,
          0.4488517745302714,
          0.6590604026845638,
          0.3801652892561983,
          0.980664652567976,
          0.6220196353436185,
          0.96,
          0.5756929637526652,
          0.9902080783353732,
          0.9936457505957108,
          0.5689176688251619,
          0.9878048780487804,
          0.9872958257713248,
          0.6583747927031509,
          0.6668377823408624,
          0.8869463869463869,
          0.9803126809496236,
          0.9935483870967742,
          0.884992987377279,
          0.9981378026070764,
          0.9388201019664968,
          0.9912917271407836,
          0.7007874015748031,
          0.8942307692307693,
          0.5569520816967792,
          0.9232861806311208,
          0.947945205479452,
          0.7423638778220452,
          0.9661016949152542,
          0.9393939393939394,
          0.9482758620689656,
          0.8382877526753865,
          0.9125109361329834,
          0.9923287671232875,
          0.6571072319201995,
          0.7751937984496124,
          0.9848837209302326,
          0.9814340588988476,
          0.9307692307692308,
          0.8637532133676092,
          0.9248554913294798,
          0.5804382683057189,
          0.7823211064341551,
          0.9994391475042064,
          0.9275158339197748,
          0.910761154855643,
          0.9213559322033898,
          0.9860724233983288,
          0.9581589958158996,
          0.9958823529411764,
          0.8838174273858921,
          0.8523985239852399,
          0.964007198560288,
          0.986476868327402,
          0.77890625,
          0.5006775067750677,
          0.9213483146067416,
          0.9914757591901971,
          0.7569573283858998,
          0.9623557984213722,
          0.515645371577575,
          0.8830769230769231,
          0.972,
          0.6146616541353384,
          0.9941348973607038,
          0.9368863955119214,
          0.7014218009478673,
          0.9608888888888888,
          0.667107001321004,
          0.9806763285024156,
          0.8954869358669834,
          0.9190600522193212,
          0.9851961509992598,
          0.9691067830758898,
          0.9737434358589648,
          0.6868421052631579,
          0.918960244648318,
          0.9751861042183624,
          0.3849658314350797,
          0.9405052974735126,
          0.6636197440585009,
          0.9157245632065776,
          0.9628865979381444,
          0.9757462686567164,
          0.8631284916201117,
          0.7544483985765125,
          0.9842738205365402,
          0.968609865470852,
          0.868231046931408,
          0.9096138044371403,
          0.9803117309269892,
          0.7927272727272727,
          0.986254295532646,
          0.6903553299492385,
          0.9469290399522956,
          0.7074829931972789,
          0.9878048780487804,
          0.9961114711600778,
          0.4701986754966887,
          0.8636942675159236,
          0.9003095975232198,
          0.997583081570997,
          0.4557142857142857,
          0.7775862068965518,
          0.9901515151515152,
          0.953763440860215,
          0.9886363636363636,
          0.9784569138276552,
          0.7613636363636364,
          0.9715261958997722,
          0.8312655086848635,
          0.9762989972652688,
          0.995166163141994,
          0.4443339960238568,
          0.9609838846480068,
          0.7703656189865298,
          0.934126984126984,
          0.6738894907908992,
          0.9469632164242944,
          0.9486652977412732,
          0.924629878869448,
          0.9309838472834068,
          0.9776500638569604,
          0.9502762430939228,
          0.972768532526475,
          0.959752321981424,
          0.9560336763330216,
          0.5202863961813843,
          0.6701208981001727,
          0.8199083169613621,
          0.5392265193370166,
          0.9678096571028691,
          0.9746835443037974,
          0.8347485303723057,
          0.5058505850585059,
          0.797153024911032,
          0.9890815671162492,
          0.9991489361702128,
          0.5749202975557917,
          0.9707835325365206,
          0.7603305785123967,
          0.9277899343544858,
          0.6643502432244615,
          0.9871001031991744,
          0.8415697674418605,
          0.7888040712468194,
          0.9881500987491773,
          0.9508547008547008,
          0.8651960784313726,
          0.924812030075188,
          0.8494031221303948,
          0.9831181727904668,
          0.8287337662337663,
          0.842237061769616,
          0.9182027649769584,
          0.9253521126760564,
          0.9489795918367347,
          0.9735729386892178,
          0.9565217391304348,
          0.9607843137254902,
          0.7283531409168081,
          0.956989247311828,
          0.9021739130434784,
          0.9323529411764706,
          0.4857142857142857,
          0.6470198675496689,
          0.8444730077120822,
          0.975451263537906,
          0.8998144712430427,
          0.7327188940092166,
          0.5693160813308688,
          0.6964856230031949,
          0.976027397260274,
          0.9875930521091812,
          0.9023255813953488,
          0.9487534626038782,
          0.6398467432950191,
          0.936,
          0.9303991811668372,
          0.9641509433962264,
          0.9940955448201824,
          0.9660703269586676,
          0.9983957219251336,
          0.7855227882037533,
          0.8187919463087249,
          0.7568881685575365,
          0.9723247232472324,
          0.9362850971922246,
          0.5798029556650246,
          0.5843060959792478,
          0.9481668773704172,
          0.6906906906906907,
          0.7618181818181818,
          0.8235294117647058,
          0.9977578475336324,
          0.8336700336700337,
          0.9424198250728864,
          0.88125,
          0.977969348659004,
          0.6544622425629291,
          0.8672086720867209,
          0.9745331069609507,
          0.5531531531531532,
          0.9770569620253164,
          0.861271676300578,
          0.9424778761061948,
          0.9953271028037384,
          0.9392523364485982,
          0.7992766726943942,
          0.9914163090128756,
          0.9978201634877384,
          0.910394265232975,
          0.9378427787934186,
          0.861904761904762,
          0.8792792792792793,
          0.7256637168141593,
          0.6489963973237262,
          0.8930412371134021,
          0.9294871794871796,
          0.8618290258449304,
          0.8509615384615384,
          0.9746835443037974,
          0.8477611940298507,
          0.9730061349693252,
          0.3852183650615901,
          0.8233173076923077,
          0.9727339719970524,
          0.7333333333333333,
          0.5894495412844036,
          0.8412138320395202,
          0.9405594405594404,
          0.6962962962962963,
          0.8403225806451613,
          0.9276595744680852,
          0.9138840070298768,
          0.8625314333612741,
          0.8014638609332113,
          0.9722222222222222,
          0.9499679281590764,
          0.9517313746065058,
          0.9887157442235356,
          0.9359605911330048,
          0.9326513213981245,
          0.7819314641744548,
          0.9318181818181818,
          0.5938303341902313,
          0.740506329113924,
          0.8558282208588958,
          0.8625294579732914,
          0.9378531073446328,
          0.5655172413793104,
          0.7539332913782253,
          0.9685863874345548,
          0.9219512195121952,
          0.9056603773584906,
          0.6986899563318777,
          0.9092039800995024,
          0.7960893854748603,
          0.9846625766871164,
          0.3924050632911392,
          0.9597069597069596,
          0.8520499108734403,
          0.9816350710900474,
          0.8969359331476323,
          0.9601910828025476,
          0.961864406779661,
          0.9897510980966324,
          0.6046511627906976,
          0.9770773638968482,
          0.9911845730027548,
          0.9790915645277576,
          0.9584775086505192,
          0.9676375404530744,
          0.9934782608695653,
          0.832541567695962,
          0.9541029207232268,
          0.9129692832764504,
          0.9666666666666668,
          0.9654761904761904,
          0.9,
          0.928843710292249,
          0.8240343347639485,
          0.9842873176206508,
          0.3674339300937766,
          0.9243466299862448,
          0.9946559786239144,
          0.9704284852142426,
          0.8153846153846154,
          0.818069306930693,
          0.9649122807017544,
          0.9807280513918628,
          0.8860759493670886,
          0.9168900804289544,
          0.8373904576436222,
          0.8897058823529411,
          0.7464183381088825,
          0.9894534995206136,
          0.8048780487804879,
          0.9717618170656844,
          0.869980879541109,
          0.9263157894736842,
          0.8502994011976048,
          0.7961321514907332,
          0.6974231088944306,
          0.834289356277884,
          0.7423076923076923,
          0.3912037037037037,
          0.9683641975308642,
          0.9372384937238494,
          0.9812362030905076,
          0.7933333333333333,
          0.8752025931928687,
          0.9315188762071992,
          0.689727463312369,
          0.7914438502673797,
          0.9883296863603208,
          0.977238239757208,
          0.751131221719457,
          0.9861351819757366,
          0.9030265596046942,
          0.9983484723369116,
          0.776778413736713,
          0.4235412474849094,
          0.8069053708439897,
          0.8981612446958982,
          0.8963210702341137,
          0.9796875,
          0.97514033680834,
          0.9794188861985472,
          0.9892021595680864,
          0.9796296296296296,
          0.985007496251874,
          0.7106741573033708,
          0.537117903930131,
          0.9473346178548492,
          0.8152866242038217,
          0.9280430396772024,
          0.9599697885196374,
          0.9227000544365814,
          0.91894852135816,
          0.8463768115942029,
          0.9822569198012776,
          0.8152173913043478,
          0.959122632103689,
          0.918785890073831,
          0.7536945812807881,
          0.9742647058823528,
          0.9615384615384616,
          0.8622366288492707,
          0.6614699331848553,
          0.8386568386568387,
          0.9634443541835904,
          0.8932853717026379,
          0.9584775086505192,
          0.8841927303465765,
          0.8123076923076923,
          0.7528026905829597,
          0.8203883495145631,
          0.7228506787330317,
          0.835820895522388,
          0.9465116279069768,
          0.8970027247956404,
          0.9452595936794582,
          0.9417040358744396,
          0.8708226221079691,
          0.7280334728033473,
          0.9306615776081424,
          0.6171548117154811,
          0.9922730199613652,
          0.8678057553956835,
          0.9896973599484868,
          0.9825978868862648,
          0.8504622077215879,
          0.8631178707224335,
          0.9039665970772442,
          0.8184357541899442,
          0.932788374205268,
          0.7871396895787139,
          0.9559372666168784,
          0.795816733067729,
          0.8424336973478939,
          0.9855818743563336,
          0.9529983792544572,
          0.8980645161290323,
          0.97347316471314,
          0.9805115712545676,
          0.9786921381337252,
          0.8045325779036827,
          0.6908602150537635,
          0.8845500848896435,
          0.984149855907781,
          0.9346246973365616,
          0.7830342577487766,
          0.909562638991846,
          0.9080675422138836,
          0.9572727272727272,
          0.9119496855345912,
          0.7790909090909091,
          0.9957374254049446,
          0.9219917012448132,
          0.9346590909090908,
          0.5302752293577981,
          0.8164251207729468,
          0.9673469387755104,
          0.8642590286425903,
          0.9100364014560582,
          0.9634069400630916,
          0.8345588235294118,
          0.5774058577405857,
          0.9659090909090908,
          0.7705382436260623,
          0.9312688821752266,
          0.9808219178082191,
          0.7366071428571429,
          0.9704184704184704,
          0.9737118822292324,
          0.7937062937062938,
          0.9567367119901112,
          0.8915531335149863,
          0.9721988205560236,
          0.9896551724137932,
          0.8706467661691543,
          0.9458823529411764,
          0.98046875,
          0.7976539589442815,
          0.8103448275862069,
          0.6253071253071253,
          0.9746121297602256,
          0.9494773519163764,
          0.8839137645107794,
          0.7265214124718257,
          0.4479166666666667,
          0.9306759098786828,
          0.9050167224080268,
          0.983402489626556,
          0.8701298701298701,
          0.994121969140338,
          0.9182590233545648,
          0.9313967861557478,
          0.3024236037934668,
          0.9770200148257968,
          0.5789915966386555,
          0.6983578219533275,
          0.9315687540348612,
          0.9553450608930988,
          0.9135667396061268,
          0.9264990328820116,
          0.9704040978941376,
          0.9572098475967176,
          0.9923875432525952,
          0.7592592592592593,
          0.8997641509433962,
          0.9155733029092984,
          0.9712140175219024,
          0.5581929555895865,
          0.8311111111111111,
          0.5161572052401747,
          0.8309741881765196,
          0.8991282689912827,
          0.8430769230769231,
          0.935349322210636,
          0.8230543318649045,
          0.5728987993138936,
          0.466804979253112,
          0.8116197183098591,
          0.9880239520958084,
          0.997991967871486,
          0.4915773353751914,
          0.847985347985348,
          0.9146525679758308,
          0.6572327044025157,
          0.9448742746615088,
          0.8685446009389671,
          0.610079575596817,
          0.6515867656988521,
          0.925,
          0.8529819694868238,
          0.9798792756539236,
          0.930062630480167,
          0.7962382445141066,
          0.9790996784565916,
          0.9715099715099716,
          0.9810860280658938,
          0.88420245398773,
          0.99609375,
          0.9845697329376856,
          0.7694656488549618,
          0.820631970260223,
          0.6054721977052074,
          0.9696969696969696,
          0.7848101265822784,
          0.9861495844875346,
          0.9655405405405404,
          0.9684487291849256,
          0.7319884726224783,
          0.8699690402476781,
          0.9401913875598086,
          0.5763157894736842,
          0.9893333333333332,
          0.884742041712404,
          0.5792563600782779,
          0.8754863813229572,
          0.9437354988399071,
          0.947211155378486,
          0.968236582694414,
          0.75,
          0.1638418079096045,
          0.936378466557912,
          0.9329102447869448,
          0.9441233140655106,
          0.9843962008141112,
          0.7340909090909091,
          0.9933694996986135,
          0.7402597402597403,
          0.9565217391304348,
          0.8792270531400966,
          0.974726200505476,
          0.889273356401384,
          0.4448160535117056,
          0.9015384615384616,
          0.9722901385493072,
          0.9755859375,
          0.8778625954198473,
          0.958592132505176,
          0.9785992217898832,
          0.9732016925246828,
          0.9311094996374184,
          0.9905493207324276,
          0.9529411764705882,
          0.9363128491620112,
          0.9974358974358974,
          0.9613259668508288,
          0.9560185185185184,
          0.8335158817086528,
          0.8568075117370892,
          0.8617571059431525,
          0.981101068200493,
          0.4921875,
          0.850735294117647,
          0.9498956158663884,
          0.9122681883024252,
          0.9964120963608406,
          0.6574267782426778,
          0.8404494382022472,
          0.933609958506224,
          0.9822525597269623,
          0.9680851063829788,
          0.9889624724061812,
          0.9857752489331436,
          0.7021660649819494,
          0.8458445040214477,
          0.9694423223834988,
          0.9745508982035928,
          0.9475409836065574,
          0.9683481701285857,
          0.7416974169741697,
          0.9329896907216496,
          0.9890016920473772,
          0.8519040902679831,
          0.97444089456869,
          0.3286637931034483,
          0.8983286908077994,
          0.7098623853211009,
          0.9247191011235956,
          0.8857395925597874,
          0.9864712514092446,
          0.9849377865094956,
          0.9343696027633852,
          0.6635021097046413,
          0.9563953488372092,
          0.4303534303534304,
          0.892459826946848,
          0.951900698215671,
          0.9422028353326064,
          0.8497267759562842,
          0.966470588235294,
          0.7024539877300614,
          0.3753822629969419,
          0.4552845528455284,
          0.9858030168589176,
          0.9857357357357356,
          0.8446601941747572,
          0.5448536355051936,
          0.4843276036400404,
          0.9338842975206612,
          0.9892086330935252,
          0.9788418708240536,
          0.9334733893557424,
          0.8302845528455285,
          0.9398148148148148,
          0.9632473944048272,
          0.9415637860082304,
          0.9893617021276596,
          0.9794661190965092,
          0.7853277209861695,
          0.9227642276422764,
          0.930898321816387,
          0.9911202185792348,
          0.75,
          0.7842778793418648,
          0.7401315789473685,
          0.8225602027883396,
          0.8577319587628865,
          0.7915567282321899,
          0.9870782483847812,
          0.902439024390244,
          0.6078838174273858,
          0.7322485207100592,
          0.9212598425196852,
          0.5346413243408952,
          0.9935856318152662,
          0.971830985915493,
          0.9322555812163202,
          0.9246031746031746,
          0.9493865030674846,
          0.8403225806451613,
          0.9939919893190922,
          0.977027027027027,
          0.6320501342882722,
          0.8996509598603839,
          0.8851063829787233,
          0.8293172690763052,
          0.9716363636363636,
          0.908355795148248,
          0.9854771784232366,
          0.9237749546279492,
          0.970125786163522,
          0.74375,
          0.9618473895582328,
          0.5667655786350149,
          0.81640625,
          0.9418604651162792,
          0.777262180974478,
          0.9605263157894736,
          0.9694189602446484,
          0.9110169491525424,
          0.9197431781701444,
          0.909542195256481,
          0.9345854922279792,
          0.9136394790952708,
          0.9456625357483316,
          0.4366925064599483,
          0.9294117647058824,
          0.6248206599713056,
          0.7892271662763466,
          0.8257940327237728,
          0.9236583522297808,
          0.6778983438035409,
          0.9472140762463344,
          0.935897435897436,
          0.6472727272727272,
          0.7371695178849145,
          0.8075253256150506,
          0.8764705882352941,
          0.8700787401574803,
          0.8053333333333333,
          0.9694055944055944,
          0.968978102189781,
          0.966188524590164,
          0.958592132505176,
          0.9762100082034456,
          0.9478021978021978,
          0.8260869565217391,
          0.9620018535681186,
          0.9757225433526012,
          0.9209558823529412,
          0.9861265260821308,
          0.9988137603795968,
          0.8906510851419032,
          0.977818853974122,
          0.8391660461653015,
          0.8161252900232019,
          0.8515864892528148,
          0.9657370517928286,
          0.7435697583787997,
          0.7449567723342939,
          0.8275109170305677,
          0.5723226703755215,
          0.9661214953271028,
          0.8305555555555556,
          0.9781167108753316,
          0.6969001148105626,
          0.9969879518072288,
          0.957498482088646,
          0.992170818505338,
          0.967948717948718,
          0.8898678414096917,
          0.9615384615384616,
          0.9694050991501416,
          0.7652388797364086,
          0.9184430027803522,
          0.967741935483871,
          0.9372990353697748,
          0.8493427704752275,
          0.7660455486542443
         ],
         "xaxis": "x",
         "yaxis": "y"
        },
        {
         "alignmentgroup": "True",
         "bingroup": "x",
         "hovertemplate": "Top 10=False<br>max_initial_population=%{x}<br>count=%{y}<extra></extra>",
         "legendgroup": "False",
         "marker": {
          "color": "rgb(152, 146, 186)",
          "line": {
           "color": "DarkSlateGrey",
           "width": 0.2
          },
          "opacity": 0.5,
          "pattern": {
           "shape": ""
          }
         },
         "name": "False",
         "nbinsx": 30,
         "offsetgroup": "False",
         "opacity": 1,
         "orientation": "v",
         "showlegend": true,
         "type": "histogram",
         "x": [
          0.8227091633466136,
          0.992239467849224,
          0.6746987951807228,
          0.6238293444328824,
          0.7109737248840804,
          0.9680851063829788,
          0.9073806078147612,
          0.8527968596663396,
          0.8905405405405405,
          0.8219844357976653,
          0.7299898682877406,
          0.7849235635213495,
          0.6741500962155228,
          0.8330878743249878,
          0.7401055408970977,
          0.980544747081712,
          0.7542297417631345,
          0.6353383458646616,
          0.8036597428288823,
          0.6330603889457523,
          0.576307363927428,
          0.5597439544807966,
          0.8028656126482213,
          0.7319535588086825,
          0.2450704225352112,
          0.6686868686868687,
          0.768762677484787,
          0.7042467138523761,
          0.4288288288288288,
          0.5877437325905293,
          0.8831405964698722,
          0.7022900763358778,
          0.9520697167755992,
          0.8440913604766633,
          0.8981481481481481,
          0.5486631016042781,
          0.5547150781643974,
          0.5721649484536082,
          0.7503128911138923,
          0.7204182718767199,
          0.6991374936580416,
          0.6888731396172927,
          0.4833197721724979,
          0.3855633802816901,
          0.9947835159102764,
          0.6352631578947369,
          0.906318082788671,
          0.8537666174298375,
          0.4989165763813651,
          0.5201288244766505,
          0.9132231404958676,
          0.9531362653208364,
          0.7303128371089536,
          0.7256819351518271,
          0.8323504633529908,
          0.8731971153846154,
          0.9858223062381852,
          0.7962166809974205,
          0.7104722792607803,
          0.6831530139103554,
          0.4919113241461953,
          0.7330696984676224,
          0.5931069958847737,
          0.7496244366549825,
          0.648062015503876,
          0.3427835051546392,
          0.9362348178137652,
          0.6429303278688525,
          0.9244582043343652,
          0.4975948690539818,
          0.3101567825494206,
          0.8757807078417765,
          0.4870665932856357,
          0.4105960264900662,
          0.57981220657277,
          0.6199893105291288,
          0.9042995839112344,
          0.7729756582215599,
          0.7192608386638237,
          0.8090551181102362,
          0.78248031496063,
          0.5041736227045075,
          0.3773006134969325,
          0.5526127415891195,
          0.6397984886649875,
          0.598404255319149,
          0.5676352705410822,
          0.6037371134020618,
          0.4908946951702296,
          0.5925349922239502,
          0.5330296127562643,
          0.645016077170418,
          0.776,
          0.6600306278713629,
          0.4556962025316455,
          0.6417604912998977,
          0.8015794669299111,
          0.4391727493917275,
          0.4907834101382488,
          0.6864450127877237,
          0.6953316953316954,
          0.7417417417417418,
          0.4342258440046566,
          0.7178714859437751,
          0.7389112903225806,
          0.588048651507139,
          0.9277474195506984,
          0.6606198034769464,
          0.8011730205278592,
          0.3889816360601001,
          0.6775184275184275
         ],
         "xaxis": "x",
         "yaxis": "y"
        }
       ],
       "layout": {
        "barmode": "overlay",
        "font": {
         "family": "CMU Sans Serif"
        },
        "height": 250,
        "legend": {
         "title": {
          "text": "Top 10"
         },
         "tracegroupgap": 0
        },
        "margin": {
         "b": 0,
         "l": 0,
         "r": 0,
         "t": 0
        },
        "plot_bgcolor": "white",
        "template": {
         "data": {
          "bar": [
           {
            "error_x": {
             "color": "#2a3f5f"
            },
            "error_y": {
             "color": "#2a3f5f"
            },
            "marker": {
             "line": {
              "color": "#E5ECF6",
              "width": 0.5
             },
             "pattern": {
              "fillmode": "overlay",
              "size": 10,
              "solidity": 0.2
             }
            },
            "type": "bar"
           }
          ],
          "barpolar": [
           {
            "marker": {
             "line": {
              "color": "#E5ECF6",
              "width": 0.5
             },
             "pattern": {
              "fillmode": "overlay",
              "size": 10,
              "solidity": 0.2
             }
            },
            "type": "barpolar"
           }
          ],
          "carpet": [
           {
            "aaxis": {
             "endlinecolor": "#2a3f5f",
             "gridcolor": "white",
             "linecolor": "white",
             "minorgridcolor": "white",
             "startlinecolor": "#2a3f5f"
            },
            "baxis": {
             "endlinecolor": "#2a3f5f",
             "gridcolor": "white",
             "linecolor": "white",
             "minorgridcolor": "white",
             "startlinecolor": "#2a3f5f"
            },
            "type": "carpet"
           }
          ],
          "choropleth": [
           {
            "colorbar": {
             "outlinewidth": 0,
             "ticks": ""
            },
            "type": "choropleth"
           }
          ],
          "contour": [
           {
            "colorbar": {
             "outlinewidth": 0,
             "ticks": ""
            },
            "colorscale": [
             [
              0,
              "#0d0887"
             ],
             [
              0.1111111111111111,
              "#46039f"
             ],
             [
              0.2222222222222222,
              "#7201a8"
             ],
             [
              0.3333333333333333,
              "#9c179e"
             ],
             [
              0.4444444444444444,
              "#bd3786"
             ],
             [
              0.5555555555555556,
              "#d8576b"
             ],
             [
              0.6666666666666666,
              "#ed7953"
             ],
             [
              0.7777777777777778,
              "#fb9f3a"
             ],
             [
              0.8888888888888888,
              "#fdca26"
             ],
             [
              1,
              "#f0f921"
             ]
            ],
            "type": "contour"
           }
          ],
          "contourcarpet": [
           {
            "colorbar": {
             "outlinewidth": 0,
             "ticks": ""
            },
            "type": "contourcarpet"
           }
          ],
          "heatmap": [
           {
            "colorbar": {
             "outlinewidth": 0,
             "ticks": ""
            },
            "colorscale": [
             [
              0,
              "#0d0887"
             ],
             [
              0.1111111111111111,
              "#46039f"
             ],
             [
              0.2222222222222222,
              "#7201a8"
             ],
             [
              0.3333333333333333,
              "#9c179e"
             ],
             [
              0.4444444444444444,
              "#bd3786"
             ],
             [
              0.5555555555555556,
              "#d8576b"
             ],
             [
              0.6666666666666666,
              "#ed7953"
             ],
             [
              0.7777777777777778,
              "#fb9f3a"
             ],
             [
              0.8888888888888888,
              "#fdca26"
             ],
             [
              1,
              "#f0f921"
             ]
            ],
            "type": "heatmap"
           }
          ],
          "heatmapgl": [
           {
            "colorbar": {
             "outlinewidth": 0,
             "ticks": ""
            },
            "colorscale": [
             [
              0,
              "#0d0887"
             ],
             [
              0.1111111111111111,
              "#46039f"
             ],
             [
              0.2222222222222222,
              "#7201a8"
             ],
             [
              0.3333333333333333,
              "#9c179e"
             ],
             [
              0.4444444444444444,
              "#bd3786"
             ],
             [
              0.5555555555555556,
              "#d8576b"
             ],
             [
              0.6666666666666666,
              "#ed7953"
             ],
             [
              0.7777777777777778,
              "#fb9f3a"
             ],
             [
              0.8888888888888888,
              "#fdca26"
             ],
             [
              1,
              "#f0f921"
             ]
            ],
            "type": "heatmapgl"
           }
          ],
          "histogram": [
           {
            "marker": {
             "pattern": {
              "fillmode": "overlay",
              "size": 10,
              "solidity": 0.2
             }
            },
            "type": "histogram"
           }
          ],
          "histogram2d": [
           {
            "colorbar": {
             "outlinewidth": 0,
             "ticks": ""
            },
            "colorscale": [
             [
              0,
              "#0d0887"
             ],
             [
              0.1111111111111111,
              "#46039f"
             ],
             [
              0.2222222222222222,
              "#7201a8"
             ],
             [
              0.3333333333333333,
              "#9c179e"
             ],
             [
              0.4444444444444444,
              "#bd3786"
             ],
             [
              0.5555555555555556,
              "#d8576b"
             ],
             [
              0.6666666666666666,
              "#ed7953"
             ],
             [
              0.7777777777777778,
              "#fb9f3a"
             ],
             [
              0.8888888888888888,
              "#fdca26"
             ],
             [
              1,
              "#f0f921"
             ]
            ],
            "type": "histogram2d"
           }
          ],
          "histogram2dcontour": [
           {
            "colorbar": {
             "outlinewidth": 0,
             "ticks": ""
            },
            "colorscale": [
             [
              0,
              "#0d0887"
             ],
             [
              0.1111111111111111,
              "#46039f"
             ],
             [
              0.2222222222222222,
              "#7201a8"
             ],
             [
              0.3333333333333333,
              "#9c179e"
             ],
             [
              0.4444444444444444,
              "#bd3786"
             ],
             [
              0.5555555555555556,
              "#d8576b"
             ],
             [
              0.6666666666666666,
              "#ed7953"
             ],
             [
              0.7777777777777778,
              "#fb9f3a"
             ],
             [
              0.8888888888888888,
              "#fdca26"
             ],
             [
              1,
              "#f0f921"
             ]
            ],
            "type": "histogram2dcontour"
           }
          ],
          "mesh3d": [
           {
            "colorbar": {
             "outlinewidth": 0,
             "ticks": ""
            },
            "type": "mesh3d"
           }
          ],
          "parcoords": [
           {
            "line": {
             "colorbar": {
              "outlinewidth": 0,
              "ticks": ""
             }
            },
            "type": "parcoords"
           }
          ],
          "pie": [
           {
            "automargin": true,
            "type": "pie"
           }
          ],
          "scatter": [
           {
            "fillpattern": {
             "fillmode": "overlay",
             "size": 10,
             "solidity": 0.2
            },
            "type": "scatter"
           }
          ],
          "scatter3d": [
           {
            "line": {
             "colorbar": {
              "outlinewidth": 0,
              "ticks": ""
             }
            },
            "marker": {
             "colorbar": {
              "outlinewidth": 0,
              "ticks": ""
             }
            },
            "type": "scatter3d"
           }
          ],
          "scattercarpet": [
           {
            "marker": {
             "colorbar": {
              "outlinewidth": 0,
              "ticks": ""
             }
            },
            "type": "scattercarpet"
           }
          ],
          "scattergeo": [
           {
            "marker": {
             "colorbar": {
              "outlinewidth": 0,
              "ticks": ""
             }
            },
            "type": "scattergeo"
           }
          ],
          "scattergl": [
           {
            "marker": {
             "colorbar": {
              "outlinewidth": 0,
              "ticks": ""
             }
            },
            "type": "scattergl"
           }
          ],
          "scattermapbox": [
           {
            "marker": {
             "colorbar": {
              "outlinewidth": 0,
              "ticks": ""
             }
            },
            "type": "scattermapbox"
           }
          ],
          "scatterpolar": [
           {
            "marker": {
             "colorbar": {
              "outlinewidth": 0,
              "ticks": ""
             }
            },
            "type": "scatterpolar"
           }
          ],
          "scatterpolargl": [
           {
            "marker": {
             "colorbar": {
              "outlinewidth": 0,
              "ticks": ""
             }
            },
            "type": "scatterpolargl"
           }
          ],
          "scatterternary": [
           {
            "marker": {
             "colorbar": {
              "outlinewidth": 0,
              "ticks": ""
             }
            },
            "type": "scatterternary"
           }
          ],
          "surface": [
           {
            "colorbar": {
             "outlinewidth": 0,
             "ticks": ""
            },
            "colorscale": [
             [
              0,
              "#0d0887"
             ],
             [
              0.1111111111111111,
              "#46039f"
             ],
             [
              0.2222222222222222,
              "#7201a8"
             ],
             [
              0.3333333333333333,
              "#9c179e"
             ],
             [
              0.4444444444444444,
              "#bd3786"
             ],
             [
              0.5555555555555556,
              "#d8576b"
             ],
             [
              0.6666666666666666,
              "#ed7953"
             ],
             [
              0.7777777777777778,
              "#fb9f3a"
             ],
             [
              0.8888888888888888,
              "#fdca26"
             ],
             [
              1,
              "#f0f921"
             ]
            ],
            "type": "surface"
           }
          ],
          "table": [
           {
            "cells": {
             "fill": {
              "color": "#EBF0F8"
             },
             "line": {
              "color": "white"
             }
            },
            "header": {
             "fill": {
              "color": "#C8D4E3"
             },
             "line": {
              "color": "white"
             }
            },
            "type": "table"
           }
          ]
         },
         "layout": {
          "annotationdefaults": {
           "arrowcolor": "#2a3f5f",
           "arrowhead": 0,
           "arrowwidth": 1
          },
          "autotypenumbers": "strict",
          "coloraxis": {
           "colorbar": {
            "outlinewidth": 0,
            "ticks": ""
           }
          },
          "colorscale": {
           "diverging": [
            [
             0,
             "#8e0152"
            ],
            [
             0.1,
             "#c51b7d"
            ],
            [
             0.2,
             "#de77ae"
            ],
            [
             0.3,
             "#f1b6da"
            ],
            [
             0.4,
             "#fde0ef"
            ],
            [
             0.5,
             "#f7f7f7"
            ],
            [
             0.6,
             "#e6f5d0"
            ],
            [
             0.7,
             "#b8e186"
            ],
            [
             0.8,
             "#7fbc41"
            ],
            [
             0.9,
             "#4d9221"
            ],
            [
             1,
             "#276419"
            ]
           ],
           "sequential": [
            [
             0,
             "#0d0887"
            ],
            [
             0.1111111111111111,
             "#46039f"
            ],
            [
             0.2222222222222222,
             "#7201a8"
            ],
            [
             0.3333333333333333,
             "#9c179e"
            ],
            [
             0.4444444444444444,
             "#bd3786"
            ],
            [
             0.5555555555555556,
             "#d8576b"
            ],
            [
             0.6666666666666666,
             "#ed7953"
            ],
            [
             0.7777777777777778,
             "#fb9f3a"
            ],
            [
             0.8888888888888888,
             "#fdca26"
            ],
            [
             1,
             "#f0f921"
            ]
           ],
           "sequentialminus": [
            [
             0,
             "#0d0887"
            ],
            [
             0.1111111111111111,
             "#46039f"
            ],
            [
             0.2222222222222222,
             "#7201a8"
            ],
            [
             0.3333333333333333,
             "#9c179e"
            ],
            [
             0.4444444444444444,
             "#bd3786"
            ],
            [
             0.5555555555555556,
             "#d8576b"
            ],
            [
             0.6666666666666666,
             "#ed7953"
            ],
            [
             0.7777777777777778,
             "#fb9f3a"
            ],
            [
             0.8888888888888888,
             "#fdca26"
            ],
            [
             1,
             "#f0f921"
            ]
           ]
          },
          "colorway": [
           "#636efa",
           "#EF553B",
           "#00cc96",
           "#ab63fa",
           "#FFA15A",
           "#19d3f3",
           "#FF6692",
           "#B6E880",
           "#FF97FF",
           "#FECB52"
          ],
          "font": {
           "color": "#2a3f5f"
          },
          "geo": {
           "bgcolor": "white",
           "lakecolor": "white",
           "landcolor": "#E5ECF6",
           "showlakes": true,
           "showland": true,
           "subunitcolor": "white"
          },
          "hoverlabel": {
           "align": "left"
          },
          "hovermode": "closest",
          "mapbox": {
           "style": "light"
          },
          "paper_bgcolor": "white",
          "plot_bgcolor": "#E5ECF6",
          "polar": {
           "angularaxis": {
            "gridcolor": "white",
            "linecolor": "white",
            "ticks": ""
           },
           "bgcolor": "#E5ECF6",
           "radialaxis": {
            "gridcolor": "white",
            "linecolor": "white",
            "ticks": ""
           }
          },
          "scene": {
           "xaxis": {
            "backgroundcolor": "#E5ECF6",
            "gridcolor": "white",
            "gridwidth": 2,
            "linecolor": "white",
            "showbackground": true,
            "ticks": "",
            "zerolinecolor": "white"
           },
           "yaxis": {
            "backgroundcolor": "#E5ECF6",
            "gridcolor": "white",
            "gridwidth": 2,
            "linecolor": "white",
            "showbackground": true,
            "ticks": "",
            "zerolinecolor": "white"
           },
           "zaxis": {
            "backgroundcolor": "#E5ECF6",
            "gridcolor": "white",
            "gridwidth": 2,
            "linecolor": "white",
            "showbackground": true,
            "ticks": "",
            "zerolinecolor": "white"
           }
          },
          "shapedefaults": {
           "line": {
            "color": "#2a3f5f"
           }
          },
          "ternary": {
           "aaxis": {
            "gridcolor": "white",
            "linecolor": "white",
            "ticks": ""
           },
           "baxis": {
            "gridcolor": "white",
            "linecolor": "white",
            "ticks": ""
           },
           "bgcolor": "#E5ECF6",
           "caxis": {
            "gridcolor": "white",
            "linecolor": "white",
            "ticks": ""
           }
          },
          "title": {
           "x": 0.05
          },
          "xaxis": {
           "automargin": true,
           "gridcolor": "white",
           "linecolor": "white",
           "ticks": "",
           "title": {
            "standoff": 15
           },
           "zerolinecolor": "white",
           "zerolinewidth": 2
          },
          "yaxis": {
           "automargin": true,
           "gridcolor": "white",
           "linecolor": "white",
           "ticks": "",
           "title": {
            "standoff": 15
           },
           "zerolinecolor": "white",
           "zerolinewidth": 2
          }
         }
        },
        "width": 404.508497175,
        "xaxis": {
         "anchor": "y",
         "domain": [
          0,
          1
         ],
         "showgrid": false,
         "showline": false,
         "tickcolor": "rgb(120, 120, 120)",
         "ticklen": 5,
         "ticks": "outside",
         "tickwidth": 1,
         "title": {
          "text": "max initial population similarity"
         },
         "zeroline": false
        },
        "yaxis": {
         "anchor": "x",
         "domain": [
          0,
          1
         ],
         "gridcolor": "rgba(173, 216, 230, 0.3)",
         "gridwidth": 1,
         "showgrid": false,
         "showline": false,
         "tickcolor": "rgb(120, 120, 120)",
         "ticklen": 5,
         "ticks": "outside",
         "tickwidth": 1,
         "title": {
          "text": "count"
         },
         "zeroline": false
        }
       }
      }
     },
     "metadata": {},
     "output_type": "display_data"
    },
    {
     "data": {
      "application/vnd.plotly.v1+json": {
       "config": {
        "plotlyServerURL": "https://plot.ly"
       },
       "data": [
        {
         "alignmentgroup": "True",
         "bingroup": "x",
         "hovertemplate": "Found=True<br>max_initial_population=%{x}<br>count=%{y}<extra></extra>",
         "legendgroup": "True",
         "marker": {
          "color": "rgb(152, 86, 86)",
          "line": {
           "color": "DarkSlateGrey",
           "width": 0.2
          },
          "opacity": 0.5,
          "pattern": {
           "shape": ""
          }
         },
         "name": "True",
         "nbinsx": 30,
         "offsetgroup": "True",
         "opacity": 1,
         "orientation": "v",
         "showlegend": true,
         "type": "histogram",
         "x": [
          0.8314393939393939,
          0.919431279620853,
          0.9969788519637462,
          0.7289156626506024,
          0.9688850475367328,
          0.9788461538461538,
          0.7170731707317073,
          0.987273945077026,
          0.9105691056910568,
          0.8674609084139985,
          0.9443254817987152,
          0.8857142857142857,
          0.890691114245416,
          0.9401069518716576,
          0.9187380497131932,
          0.8496732026143791,
          0.8885613207547169,
          0.9856361149110808,
          0.7088186356073212,
          0.9634760705289672,
          0.9090909090909092,
          0.9206349206349206,
          0.9495665878644602,
          0.9846153846153848,
          0.8840970350404312,
          0.8760563380281691,
          0.8661417322834646,
          0.8024485253199778,
          0.828978622327791,
          0.9057324840764333,
          0.551980198019802,
          0.9497681607418856,
          0.992239467849224,
          0.9102141680395388,
          0.9686131386861314,
          0.9310141509433962,
          0.3651290070367474,
          0.9581911262798636,
          0.9205175600739371,
          0.8875562218890555,
          0.7488584474885844,
          0.7802400738688827,
          0.8571428571428571,
          0.7787114845938375,
          0.994343180389692,
          0.9708276797829036,
          0.7059659090909091,
          0.9921807124239792,
          0.8464106844741235,
          0.5348837209302325,
          0.9375,
          0.7367688022284122,
          0.7354497354497355,
          0.9770569620253164,
          0.7405247813411079,
          0.9635332252836304,
          0.8026960784313726,
          0.9324618736383442,
          0.8580152671755725,
          0.9863532979529946,
          0.6175637393767706,
          0.982608695652174,
          0.992867332382311,
          0.9914748508098892,
          0.8723797780517879,
          0.9098360655737704,
          0.9702338766832034,
          0.9429280397022332,
          0.8492167101827677,
          0.573027989821883,
          0.9147286821705426,
          0.9713038053649408,
          0.856,
          0.8916666666666667,
          0.9871152469577666,
          0.8269344359125812,
          0.980319803198032,
          0.7475083056478405,
          0.9831649831649832,
          0.9634888438133874,
          0.9319371727748692,
          0.9867358708189158,
          0.960352422907489,
          0.892226148409894,
          0.9834437086092715,
          0.614824619457313,
          0.915915915915916,
          0.8915547024952015,
          0.905899925317401,
          0.8905405405405405,
          0.9208211143695014,
          0.8896631823461092,
          0.9963920625375828,
          0.9690920798454604,
          0.8169934640522876,
          0.961123110151188,
          0.7256637168141593,
          0.929392446633826,
          0.9402173913043478,
          0.9573863636363636,
          0.6702898550724637,
          0.8915956151035322,
          0.9833948339483396,
          0.9269565217391303,
          0.7398373983739838,
          0.973432518597237,
          0.5381083562901745,
          0.9909859154929578,
          0.5845682166581502,
          0.9593373493975904,
          0.6470588235294118,
          0.9732647814910026,
          0.8850653819683414,
          0.9741444866920153,
          0.9592198581560284,
          0.6848484848484848,
          0.9683333333333334,
          0.7679038159958181,
          0.8342857142857143,
          0.9352818371607516,
          0.8853046594982079,
          0.3688799463447351,
          0.9381443298969072,
          0.7703995498030388,
          0.8311546840958606,
          0.9954571266325952,
          0.9474358974358974,
          0.9883344134802332,
          0.8802521008403361,
          0.9161793372319688,
          0.8388888888888889,
          0.9822090437361009,
          0.806378132118451,
          0.9264565425023876,
          0.5702702702702702,
          0.8857837181044957,
          0.7368421052631579,
          0.9535962877030162,
          0.9935897435897436,
          0.8068592057761733,
          0.9768339768339768,
          0.728051391862955,
          0.8092783505154639,
          0.6601356443104748,
          0.4796238244514106,
          0.8386763185108583,
          0.8845070422535212,
          0.8253652058432935,
          0.9453015427769986,
          0.5458089668615984,
          0.9863945578231292,
          0.9351669941060904,
          0.9063745019920318,
          0.9825145711906744,
          0.8120713305898491,
          0.7622549019607843,
          0.9527272727272728,
          0.9624242424242424,
          0.877757901013715,
          0.9197930142302716,
          0.3530405405405405,
          0.9912536443148688,
          0.9830866807610994,
          0.5668316831683168,
          0.8698564593301435,
          0.991373589913736,
          0.8014059753954306,
          0.9895988112927192,
          0.9721780604133544,
          0.8149779735682819,
          0.8429073856975381,
          0.8507625272331155,
          0.916243654822335,
          0.6474358974358975,
          0.9245283018867924,
          0.9994082840236688,
          0.9743016759776536,
          0.7992505353319058,
          0.9187534780189204,
          0.9528936742934052,
          0.932073544433095,
          0.9733796296296297,
          0.7350427350427351,
          0.8335315101070154,
          0.7205882352941176,
          0.8995433789954338,
          0.7506538796861377,
          0.9939024390243902,
          0.7866108786610879,
          0.6236559139784946,
          0.9621212121212122,
          0.7488789237668162,
          0.9792122538293216,
          0.9419252187748608,
          0.8516129032258064,
          0.8547579298831386,
          0.880859375,
          0.9483240223463688,
          0.4488517745302714,
          0.6590604026845638,
          0.3801652892561983,
          0.980664652567976,
          0.6220196353436185,
          0.96,
          0.5756929637526652,
          0.9902080783353732,
          0.9936457505957108,
          0.5689176688251619,
          0.9878048780487804,
          0.9872958257713248,
          0.6583747927031509,
          0.6668377823408624,
          0.8869463869463869,
          0.9803126809496236,
          0.9935483870967742,
          0.884992987377279,
          0.9981378026070764,
          0.9388201019664968,
          0.9912917271407836,
          0.7007874015748031,
          0.8942307692307693,
          0.5569520816967792,
          0.9232861806311208,
          0.947945205479452,
          0.7423638778220452,
          0.9661016949152542,
          0.9393939393939394,
          0.9482758620689656,
          0.8382877526753865,
          0.9125109361329834,
          0.9923287671232875,
          0.6571072319201995,
          0.7751937984496124,
          0.9848837209302326,
          0.9814340588988476,
          0.9307692307692308,
          0.8637532133676092,
          0.9248554913294798,
          0.5804382683057189,
          0.7823211064341551,
          0.9994391475042064,
          0.9275158339197748,
          0.910761154855643,
          0.9213559322033898,
          0.9860724233983288,
          0.9581589958158996,
          0.9958823529411764,
          0.8838174273858921,
          0.8523985239852399,
          0.964007198560288,
          0.986476868327402,
          0.77890625,
          0.5006775067750677,
          0.9213483146067416,
          0.9914757591901971,
          0.7569573283858998,
          0.9623557984213722,
          0.515645371577575,
          0.8830769230769231,
          0.972,
          0.6146616541353384,
          0.9941348973607038,
          0.9368863955119214,
          0.7014218009478673,
          0.9608888888888888,
          0.667107001321004,
          0.9806763285024156,
          0.8954869358669834,
          0.9190600522193212,
          0.9851961509992598,
          0.9691067830758898,
          0.9737434358589648,
          0.6868421052631579,
          0.918960244648318,
          0.9751861042183624,
          0.3849658314350797,
          0.9405052974735126,
          0.6636197440585009,
          0.9157245632065776,
          0.9628865979381444,
          0.9757462686567164,
          0.8631284916201117,
          0.7544483985765125,
          0.9842738205365402,
          0.968609865470852,
          0.868231046931408,
          0.9096138044371403,
          0.9803117309269892,
          0.7927272727272727,
          0.986254295532646,
          0.6903553299492385,
          0.9469290399522956,
          0.7074829931972789,
          0.9878048780487804,
          0.9961114711600778,
          0.4701986754966887,
          0.8636942675159236,
          0.9003095975232198,
          0.997583081570997,
          0.4557142857142857,
          0.7775862068965518,
          0.9901515151515152,
          0.953763440860215,
          0.9886363636363636,
          0.9784569138276552,
          0.7613636363636364,
          0.9715261958997722,
          0.8312655086848635,
          0.9762989972652688,
          0.995166163141994,
          0.4443339960238568,
          0.9609838846480068,
          0.7703656189865298,
          0.934126984126984,
          0.6738894907908992,
          0.9469632164242944,
          0.9486652977412732,
          0.924629878869448,
          0.9309838472834068,
          0.9776500638569604,
          0.9502762430939228,
          0.972768532526475,
          0.959752321981424,
          0.9560336763330216,
          0.5202863961813843,
          0.6701208981001727,
          0.8199083169613621,
          0.5392265193370166,
          0.9678096571028691,
          0.9746835443037974,
          0.8347485303723057,
          0.5058505850585059,
          0.797153024911032,
          0.9890815671162492,
          0.9991489361702128,
          0.5749202975557917,
          0.9707835325365206,
          0.7603305785123967,
          0.9277899343544858,
          0.6643502432244615,
          0.9871001031991744,
          0.8415697674418605,
          0.7888040712468194,
          0.9881500987491773,
          0.9508547008547008,
          0.8651960784313726,
          0.924812030075188,
          0.8494031221303948,
          0.9831181727904668,
          0.8287337662337663,
          0.842237061769616,
          0.9182027649769584,
          0.9253521126760564,
          0.9489795918367347,
          0.9735729386892178,
          0.9565217391304348,
          0.9607843137254902,
          0.7283531409168081,
          0.956989247311828,
          0.9021739130434784,
          0.9323529411764706,
          0.9947835159102764,
          0.4857142857142857,
          0.6470198675496689,
          0.8444730077120822,
          0.975451263537906,
          0.8998144712430427,
          0.7327188940092166,
          0.5693160813308688,
          0.6964856230031949,
          0.906318082788671,
          0.976027397260274,
          0.9875930521091812,
          0.9023255813953488,
          0.9487534626038782,
          0.6398467432950191,
          0.936,
          0.9303991811668372,
          0.9641509433962264,
          0.9940955448201824,
          0.9660703269586676,
          0.9983957219251336,
          0.7855227882037533,
          0.8187919463087249,
          0.7568881685575365,
          0.9723247232472324,
          0.9362850971922246,
          0.5798029556650246,
          0.5843060959792478,
          0.9481668773704172,
          0.6906906906906907,
          0.7618181818181818,
          0.8235294117647058,
          0.9977578475336324,
          0.8336700336700337,
          0.9424198250728864,
          0.88125,
          0.977969348659004,
          0.6544622425629291,
          0.8672086720867209,
          0.9745331069609507,
          0.5531531531531532,
          0.9770569620253164,
          0.861271676300578,
          0.9424778761061948,
          0.9953271028037384,
          0.9392523364485982,
          0.7992766726943942,
          0.9914163090128756,
          0.9978201634877384,
          0.910394265232975,
          0.9378427787934186,
          0.861904761904762,
          0.8792792792792793,
          0.7256637168141593,
          0.6489963973237262,
          0.9132231404958676,
          0.8930412371134021,
          0.9294871794871796,
          0.8618290258449304,
          0.9531362653208364,
          0.8509615384615384,
          0.9746835443037974,
          0.8477611940298507,
          0.9730061349693252,
          0.3852183650615901,
          0.8233173076923077,
          0.9727339719970524,
          0.7333333333333333,
          0.5894495412844036,
          0.9858223062381852,
          0.8412138320395202,
          0.9405594405594404,
          0.6962962962962963,
          0.8403225806451613,
          0.9276595744680852,
          0.9138840070298768,
          0.8625314333612741,
          0.8014638609332113,
          0.9722222222222222,
          0.9499679281590764,
          0.9517313746065058,
          0.9887157442235356,
          0.9359605911330048,
          0.9326513213981245,
          0.7819314641744548,
          0.9318181818181818,
          0.5938303341902313,
          0.740506329113924,
          0.8558282208588958,
          0.8625294579732914,
          0.9378531073446328,
          0.5655172413793104,
          0.7539332913782253,
          0.9685863874345548,
          0.9219512195121952,
          0.9056603773584906,
          0.6986899563318777,
          0.9092039800995024,
          0.7960893854748603,
          0.9846625766871164,
          0.3924050632911392,
          0.9597069597069596,
          0.8520499108734403,
          0.9816350710900474,
          0.8969359331476323,
          0.9601910828025476,
          0.961864406779661,
          0.9897510980966324,
          0.6046511627906976,
          0.9770773638968482,
          0.9911845730027548,
          0.9790915645277576,
          0.9584775086505192,
          0.9676375404530744,
          0.9934782608695653,
          0.832541567695962,
          0.9541029207232268,
          0.9129692832764504,
          0.9666666666666668,
          0.9654761904761904,
          0.9,
          0.928843710292249,
          0.8240343347639485,
          0.9842873176206508,
          0.3674339300937766,
          0.9243466299862448,
          0.9946559786239144,
          0.9704284852142426,
          0.8153846153846154,
          0.818069306930693,
          0.9649122807017544,
          0.9807280513918628,
          0.8860759493670886,
          0.9168900804289544,
          0.8373904576436222,
          0.8897058823529411,
          0.7464183381088825,
          0.9894534995206136,
          0.8048780487804879,
          0.9717618170656844,
          0.869980879541109,
          0.9263157894736842,
          0.8502994011976048,
          0.7961321514907332,
          0.6974231088944306,
          0.834289356277884,
          0.7423076923076923,
          0.3912037037037037,
          0.9683641975308642,
          0.9372384937238494,
          0.9812362030905076,
          0.7933333333333333,
          0.8752025931928687,
          0.9315188762071992,
          0.689727463312369,
          0.7914438502673797,
          0.9362348178137652,
          0.9883296863603208,
          0.977238239757208,
          0.751131221719457,
          0.9861351819757366,
          0.9030265596046942,
          0.9983484723369116,
          0.776778413736713,
          0.4235412474849094,
          0.8069053708439897,
          0.8981612446958982,
          0.8963210702341137,
          0.9796875,
          0.97514033680834,
          0.9794188861985472,
          0.9892021595680864,
          0.9796296296296296,
          0.985007496251874,
          0.7106741573033708,
          0.537117903930131,
          0.9473346178548492,
          0.8152866242038217,
          0.9280430396772024,
          0.9599697885196374,
          0.9227000544365814,
          0.91894852135816,
          0.8463768115942029,
          0.9822569198012776,
          0.8152173913043478,
          0.959122632103689,
          0.918785890073831,
          0.7536945812807881,
          0.9742647058823528,
          0.9615384615384616,
          0.8622366288492707,
          0.6614699331848553,
          0.8386568386568387,
          0.9634443541835904,
          0.8932853717026379,
          0.9584775086505192,
          0.8841927303465765,
          0.8123076923076923,
          0.7528026905829597,
          0.8203883495145631,
          0.7228506787330317,
          0.835820895522388,
          0.9465116279069768,
          0.8970027247956404,
          0.9452595936794582,
          0.9417040358744396,
          0.8708226221079691,
          0.7280334728033473,
          0.9306615776081424,
          0.6171548117154811,
          0.9922730199613652,
          0.8678057553956835,
          0.9896973599484868,
          0.9825978868862648,
          0.8504622077215879,
          0.8631178707224335,
          0.9039665970772442,
          0.8184357541899442,
          0.932788374205268,
          0.7871396895787139,
          0.9559372666168784,
          0.795816733067729,
          0.8424336973478939,
          0.9855818743563336,
          0.9529983792544572,
          0.8980645161290323,
          0.97347316471314,
          0.9805115712545676,
          0.9786921381337252,
          0.8045325779036827,
          0.6908602150537635,
          0.8845500848896435,
          0.984149855907781,
          0.9346246973365616,
          0.7830342577487766,
          0.909562638991846,
          0.9080675422138836,
          0.9572727272727272,
          0.9119496855345912,
          0.7790909090909091,
          0.9957374254049446,
          0.9219917012448132,
          0.9346590909090908,
          0.5302752293577981,
          0.8164251207729468,
          0.9673469387755104,
          0.8642590286425903,
          0.9100364014560582,
          0.9634069400630916,
          0.8345588235294118,
          0.5774058577405857,
          0.9659090909090908,
          0.7705382436260623,
          0.9312688821752266,
          0.9808219178082191,
          0.7366071428571429,
          0.9704184704184704,
          0.9737118822292324,
          0.7937062937062938,
          0.9567367119901112,
          0.8915531335149863,
          0.9721988205560236,
          0.9896551724137932,
          0.8706467661691543,
          0.9458823529411764,
          0.98046875,
          0.7976539589442815,
          0.8103448275862069,
          0.6253071253071253,
          0.9746121297602256,
          0.9494773519163764,
          0.8839137645107794,
          0.7265214124718257,
          0.4479166666666667,
          0.9306759098786828,
          0.9050167224080268,
          0.983402489626556,
          0.8701298701298701,
          0.994121969140338,
          0.9182590233545648,
          0.9313967861557478,
          0.3024236037934668,
          0.9770200148257968,
          0.5789915966386555,
          0.6983578219533275,
          0.9315687540348612,
          0.9553450608930988,
          0.9135667396061268,
          0.9264990328820116,
          0.9704040978941376,
          0.9572098475967176,
          0.9923875432525952,
          0.7592592592592593,
          0.8997641509433962,
          0.9155733029092984,
          0.9712140175219024,
          0.5581929555895865,
          0.8311111111111111,
          0.5161572052401747,
          0.8309741881765196,
          0.8991282689912827,
          0.8430769230769231,
          0.935349322210636,
          0.8230543318649045,
          0.5728987993138936,
          0.466804979253112,
          0.8116197183098591,
          0.9880239520958084,
          0.997991967871486,
          0.4915773353751914,
          0.847985347985348,
          0.9146525679758308,
          0.6572327044025157,
          0.9448742746615088,
          0.8685446009389671,
          0.610079575596817,
          0.6515867656988521,
          0.925,
          0.8529819694868238,
          0.9798792756539236,
          0.930062630480167,
          0.7962382445141066,
          0.9790996784565916,
          0.9715099715099716,
          0.9810860280658938,
          0.88420245398773,
          0.99609375,
          0.9845697329376856,
          0.7694656488549618,
          0.820631970260223,
          0.6054721977052074,
          0.9696969696969696,
          0.7848101265822784,
          0.9861495844875346,
          0.9655405405405404,
          0.9684487291849256,
          0.7319884726224783,
          0.8699690402476781,
          0.9401913875598086,
          0.5763157894736842,
          0.9893333333333332,
          0.884742041712404,
          0.5792563600782779,
          0.8754863813229572,
          0.9437354988399071,
          0.947211155378486,
          0.968236582694414,
          0.75,
          0.1638418079096045,
          0.936378466557912,
          0.9329102447869448,
          0.9441233140655106,
          0.9843962008141112,
          0.7340909090909091,
          0.9933694996986135,
          0.7402597402597403,
          0.9565217391304348,
          0.8792270531400966,
          0.974726200505476,
          0.889273356401384,
          0.4448160535117056,
          0.9015384615384616,
          0.9722901385493072,
          0.9755859375,
          0.8778625954198473,
          0.958592132505176,
          0.9785992217898832,
          0.9732016925246828,
          0.9311094996374184,
          0.9905493207324276,
          0.9529411764705882,
          0.9363128491620112,
          0.9974358974358974,
          0.9613259668508288,
          0.9560185185185184,
          0.8335158817086528,
          0.8568075117370892,
          0.8617571059431525,
          0.981101068200493,
          0.4921875,
          0.850735294117647,
          0.9498956158663884,
          0.9122681883024252,
          0.9964120963608406,
          0.6574267782426778,
          0.8404494382022472,
          0.933609958506224,
          0.9822525597269623,
          0.9680851063829788,
          0.9889624724061812,
          0.9857752489331436,
          0.7021660649819494,
          0.8458445040214477,
          0.9694423223834988,
          0.9745508982035928,
          0.9475409836065574,
          0.9683481701285857,
          0.7416974169741697,
          0.9329896907216496,
          0.9890016920473772,
          0.8519040902679831,
          0.97444089456869,
          0.3286637931034483,
          0.8983286908077994,
          0.7098623853211009,
          0.9247191011235956,
          0.8857395925597874,
          0.9864712514092446,
          0.9849377865094956,
          0.9343696027633852,
          0.6635021097046413,
          0.9563953488372092,
          0.4303534303534304,
          0.892459826946848,
          0.951900698215671,
          0.9422028353326064,
          0.8497267759562842,
          0.966470588235294,
          0.7024539877300614,
          0.3753822629969419,
          0.4552845528455284,
          0.9858030168589176,
          0.9857357357357356,
          0.8446601941747572,
          0.5448536355051936,
          0.4843276036400404,
          0.9338842975206612,
          0.9892086330935252,
          0.9788418708240536,
          0.9334733893557424,
          0.8302845528455285,
          0.9398148148148148,
          0.9632473944048272,
          0.9415637860082304,
          0.9893617021276596,
          0.9794661190965092,
          0.7853277209861695,
          0.9227642276422764,
          0.930898321816387,
          0.9911202185792348,
          0.75,
          0.7842778793418648,
          0.7401315789473685,
          0.8225602027883396,
          0.8577319587628865,
          0.7915567282321899,
          0.9870782483847812,
          0.902439024390244,
          0.6078838174273858,
          0.7322485207100592,
          0.9212598425196852,
          0.4342258440046566,
          0.5346413243408952,
          0.9935856318152662,
          0.971830985915493,
          0.9322555812163202,
          0.9246031746031746,
          0.9493865030674846,
          0.8403225806451613,
          0.9939919893190922,
          0.977027027027027,
          0.6320501342882722,
          0.8996509598603839,
          0.8851063829787233,
          0.8293172690763052,
          0.9716363636363636,
          0.908355795148248,
          0.9854771784232366,
          0.9237749546279492,
          0.970125786163522,
          0.74375,
          0.9618473895582328,
          0.5667655786350149,
          0.81640625,
          0.9418604651162792,
          0.777262180974478,
          0.9605263157894736,
          0.9694189602446484,
          0.9110169491525424,
          0.9197431781701444,
          0.909542195256481,
          0.9345854922279792,
          0.9136394790952708,
          0.9456625357483316,
          0.4366925064599483,
          0.9294117647058824,
          0.6248206599713056,
          0.7892271662763466,
          0.8257940327237728,
          0.9236583522297808,
          0.6778983438035409,
          0.9472140762463344,
          0.935897435897436,
          0.6472727272727272,
          0.7371695178849145,
          0.8075253256150506,
          0.8764705882352941,
          0.8700787401574803,
          0.8053333333333333,
          0.9694055944055944,
          0.968978102189781,
          0.966188524590164,
          0.958592132505176,
          0.9762100082034456,
          0.9478021978021978,
          0.8260869565217391,
          0.9620018535681186,
          0.9757225433526012,
          0.9209558823529412,
          0.9861265260821308,
          0.9988137603795968,
          0.8906510851419032,
          0.977818853974122,
          0.8391660461653015,
          0.8161252900232019,
          0.8515864892528148,
          0.9657370517928286,
          0.7435697583787997,
          0.7449567723342939,
          0.8275109170305677,
          0.5723226703755215,
          0.9661214953271028,
          0.8305555555555556,
          0.9781167108753316,
          0.6969001148105626,
          0.9969879518072288,
          0.957498482088646,
          0.992170818505338,
          0.967948717948718,
          0.8898678414096917,
          0.9615384615384616,
          0.9694050991501416,
          0.7652388797364086,
          0.9184430027803522,
          0.967741935483871,
          0.9372990353697748,
          0.8493427704752275,
          0.7660455486542443
         ],
         "xaxis": "x",
         "yaxis": "y"
        },
        {
         "alignmentgroup": "True",
         "bingroup": "x",
         "hovertemplate": "Found=False<br>max_initial_population=%{x}<br>count=%{y}<extra></extra>",
         "legendgroup": "False",
         "marker": {
          "color": "rgb(152, 146, 186)",
          "line": {
           "color": "DarkSlateGrey",
           "width": 0.2
          },
          "opacity": 0.5,
          "pattern": {
           "shape": ""
          }
         },
         "name": "False",
         "nbinsx": 30,
         "offsetgroup": "False",
         "opacity": 1,
         "orientation": "v",
         "showlegend": true,
         "type": "histogram",
         "x": [
          0.8227091633466136,
          0.6746987951807228,
          0.6238293444328824,
          0.7109737248840804,
          0.9680851063829788,
          0.9073806078147612,
          0.8527968596663396,
          0.8219844357976653,
          0.7299898682877406,
          0.7849235635213495,
          0.6741500962155228,
          0.8330878743249878,
          0.7401055408970977,
          0.980544747081712,
          0.7542297417631345,
          0.6353383458646616,
          0.8036597428288823,
          0.6330603889457523,
          0.576307363927428,
          0.5597439544807966,
          0.8028656126482213,
          0.7319535588086825,
          0.2450704225352112,
          0.6686868686868687,
          0.768762677484787,
          0.7042467138523761,
          0.4288288288288288,
          0.5877437325905293,
          0.8831405964698722,
          0.7022900763358778,
          0.9520697167755992,
          0.8440913604766633,
          0.8981481481481481,
          0.5486631016042781,
          0.5547150781643974,
          0.5721649484536082,
          0.7503128911138923,
          0.7204182718767199,
          0.6991374936580416,
          0.6888731396172927,
          0.4833197721724979,
          0.3855633802816901,
          0.6352631578947369,
          0.8537666174298375,
          0.4989165763813651,
          0.5201288244766505,
          0.7303128371089536,
          0.7256819351518271,
          0.8323504633529908,
          0.8731971153846154,
          0.7962166809974205,
          0.7104722792607803,
          0.6831530139103554,
          0.4919113241461953,
          0.7330696984676224,
          0.5931069958847737,
          0.7496244366549825,
          0.648062015503876,
          0.3427835051546392,
          0.6429303278688525,
          0.9244582043343652,
          0.4975948690539818,
          0.3101567825494206,
          0.8757807078417765,
          0.4870665932856357,
          0.4105960264900662,
          0.57981220657277,
          0.6199893105291288,
          0.9042995839112344,
          0.7729756582215599,
          0.7192608386638237,
          0.8090551181102362,
          0.78248031496063,
          0.5041736227045075,
          0.3773006134969325,
          0.5526127415891195,
          0.6397984886649875,
          0.598404255319149,
          0.5676352705410822,
          0.6037371134020618,
          0.4908946951702296,
          0.5925349922239502,
          0.5330296127562643,
          0.645016077170418,
          0.776,
          0.6600306278713629,
          0.4556962025316455,
          0.6417604912998977,
          0.8015794669299111,
          0.4391727493917275,
          0.4907834101382488,
          0.6864450127877237,
          0.6953316953316954,
          0.7417417417417418,
          0.7178714859437751,
          0.7389112903225806,
          0.588048651507139,
          0.9277474195506984,
          0.6606198034769464,
          0.8011730205278592,
          0.3889816360601001,
          0.6775184275184275
         ],
         "xaxis": "x",
         "yaxis": "y"
        }
       ],
       "layout": {
        "barmode": "overlay",
        "font": {
         "family": "CMU Sans Serif"
        },
        "height": 250,
        "legend": {
         "title": {
          "text": "Found"
         },
         "tracegroupgap": 0
        },
        "margin": {
         "b": 0,
         "l": 0,
         "r": 0,
         "t": 0
        },
        "plot_bgcolor": "white",
        "template": {
         "data": {
          "bar": [
           {
            "error_x": {
             "color": "#2a3f5f"
            },
            "error_y": {
             "color": "#2a3f5f"
            },
            "marker": {
             "line": {
              "color": "#E5ECF6",
              "width": 0.5
             },
             "pattern": {
              "fillmode": "overlay",
              "size": 10,
              "solidity": 0.2
             }
            },
            "type": "bar"
           }
          ],
          "barpolar": [
           {
            "marker": {
             "line": {
              "color": "#E5ECF6",
              "width": 0.5
             },
             "pattern": {
              "fillmode": "overlay",
              "size": 10,
              "solidity": 0.2
             }
            },
            "type": "barpolar"
           }
          ],
          "carpet": [
           {
            "aaxis": {
             "endlinecolor": "#2a3f5f",
             "gridcolor": "white",
             "linecolor": "white",
             "minorgridcolor": "white",
             "startlinecolor": "#2a3f5f"
            },
            "baxis": {
             "endlinecolor": "#2a3f5f",
             "gridcolor": "white",
             "linecolor": "white",
             "minorgridcolor": "white",
             "startlinecolor": "#2a3f5f"
            },
            "type": "carpet"
           }
          ],
          "choropleth": [
           {
            "colorbar": {
             "outlinewidth": 0,
             "ticks": ""
            },
            "type": "choropleth"
           }
          ],
          "contour": [
           {
            "colorbar": {
             "outlinewidth": 0,
             "ticks": ""
            },
            "colorscale": [
             [
              0,
              "#0d0887"
             ],
             [
              0.1111111111111111,
              "#46039f"
             ],
             [
              0.2222222222222222,
              "#7201a8"
             ],
             [
              0.3333333333333333,
              "#9c179e"
             ],
             [
              0.4444444444444444,
              "#bd3786"
             ],
             [
              0.5555555555555556,
              "#d8576b"
             ],
             [
              0.6666666666666666,
              "#ed7953"
             ],
             [
              0.7777777777777778,
              "#fb9f3a"
             ],
             [
              0.8888888888888888,
              "#fdca26"
             ],
             [
              1,
              "#f0f921"
             ]
            ],
            "type": "contour"
           }
          ],
          "contourcarpet": [
           {
            "colorbar": {
             "outlinewidth": 0,
             "ticks": ""
            },
            "type": "contourcarpet"
           }
          ],
          "heatmap": [
           {
            "colorbar": {
             "outlinewidth": 0,
             "ticks": ""
            },
            "colorscale": [
             [
              0,
              "#0d0887"
             ],
             [
              0.1111111111111111,
              "#46039f"
             ],
             [
              0.2222222222222222,
              "#7201a8"
             ],
             [
              0.3333333333333333,
              "#9c179e"
             ],
             [
              0.4444444444444444,
              "#bd3786"
             ],
             [
              0.5555555555555556,
              "#d8576b"
             ],
             [
              0.6666666666666666,
              "#ed7953"
             ],
             [
              0.7777777777777778,
              "#fb9f3a"
             ],
             [
              0.8888888888888888,
              "#fdca26"
             ],
             [
              1,
              "#f0f921"
             ]
            ],
            "type": "heatmap"
           }
          ],
          "heatmapgl": [
           {
            "colorbar": {
             "outlinewidth": 0,
             "ticks": ""
            },
            "colorscale": [
             [
              0,
              "#0d0887"
             ],
             [
              0.1111111111111111,
              "#46039f"
             ],
             [
              0.2222222222222222,
              "#7201a8"
             ],
             [
              0.3333333333333333,
              "#9c179e"
             ],
             [
              0.4444444444444444,
              "#bd3786"
             ],
             [
              0.5555555555555556,
              "#d8576b"
             ],
             [
              0.6666666666666666,
              "#ed7953"
             ],
             [
              0.7777777777777778,
              "#fb9f3a"
             ],
             [
              0.8888888888888888,
              "#fdca26"
             ],
             [
              1,
              "#f0f921"
             ]
            ],
            "type": "heatmapgl"
           }
          ],
          "histogram": [
           {
            "marker": {
             "pattern": {
              "fillmode": "overlay",
              "size": 10,
              "solidity": 0.2
             }
            },
            "type": "histogram"
           }
          ],
          "histogram2d": [
           {
            "colorbar": {
             "outlinewidth": 0,
             "ticks": ""
            },
            "colorscale": [
             [
              0,
              "#0d0887"
             ],
             [
              0.1111111111111111,
              "#46039f"
             ],
             [
              0.2222222222222222,
              "#7201a8"
             ],
             [
              0.3333333333333333,
              "#9c179e"
             ],
             [
              0.4444444444444444,
              "#bd3786"
             ],
             [
              0.5555555555555556,
              "#d8576b"
             ],
             [
              0.6666666666666666,
              "#ed7953"
             ],
             [
              0.7777777777777778,
              "#fb9f3a"
             ],
             [
              0.8888888888888888,
              "#fdca26"
             ],
             [
              1,
              "#f0f921"
             ]
            ],
            "type": "histogram2d"
           }
          ],
          "histogram2dcontour": [
           {
            "colorbar": {
             "outlinewidth": 0,
             "ticks": ""
            },
            "colorscale": [
             [
              0,
              "#0d0887"
             ],
             [
              0.1111111111111111,
              "#46039f"
             ],
             [
              0.2222222222222222,
              "#7201a8"
             ],
             [
              0.3333333333333333,
              "#9c179e"
             ],
             [
              0.4444444444444444,
              "#bd3786"
             ],
             [
              0.5555555555555556,
              "#d8576b"
             ],
             [
              0.6666666666666666,
              "#ed7953"
             ],
             [
              0.7777777777777778,
              "#fb9f3a"
             ],
             [
              0.8888888888888888,
              "#fdca26"
             ],
             [
              1,
              "#f0f921"
             ]
            ],
            "type": "histogram2dcontour"
           }
          ],
          "mesh3d": [
           {
            "colorbar": {
             "outlinewidth": 0,
             "ticks": ""
            },
            "type": "mesh3d"
           }
          ],
          "parcoords": [
           {
            "line": {
             "colorbar": {
              "outlinewidth": 0,
              "ticks": ""
             }
            },
            "type": "parcoords"
           }
          ],
          "pie": [
           {
            "automargin": true,
            "type": "pie"
           }
          ],
          "scatter": [
           {
            "fillpattern": {
             "fillmode": "overlay",
             "size": 10,
             "solidity": 0.2
            },
            "type": "scatter"
           }
          ],
          "scatter3d": [
           {
            "line": {
             "colorbar": {
              "outlinewidth": 0,
              "ticks": ""
             }
            },
            "marker": {
             "colorbar": {
              "outlinewidth": 0,
              "ticks": ""
             }
            },
            "type": "scatter3d"
           }
          ],
          "scattercarpet": [
           {
            "marker": {
             "colorbar": {
              "outlinewidth": 0,
              "ticks": ""
             }
            },
            "type": "scattercarpet"
           }
          ],
          "scattergeo": [
           {
            "marker": {
             "colorbar": {
              "outlinewidth": 0,
              "ticks": ""
             }
            },
            "type": "scattergeo"
           }
          ],
          "scattergl": [
           {
            "marker": {
             "colorbar": {
              "outlinewidth": 0,
              "ticks": ""
             }
            },
            "type": "scattergl"
           }
          ],
          "scattermapbox": [
           {
            "marker": {
             "colorbar": {
              "outlinewidth": 0,
              "ticks": ""
             }
            },
            "type": "scattermapbox"
           }
          ],
          "scatterpolar": [
           {
            "marker": {
             "colorbar": {
              "outlinewidth": 0,
              "ticks": ""
             }
            },
            "type": "scatterpolar"
           }
          ],
          "scatterpolargl": [
           {
            "marker": {
             "colorbar": {
              "outlinewidth": 0,
              "ticks": ""
             }
            },
            "type": "scatterpolargl"
           }
          ],
          "scatterternary": [
           {
            "marker": {
             "colorbar": {
              "outlinewidth": 0,
              "ticks": ""
             }
            },
            "type": "scatterternary"
           }
          ],
          "surface": [
           {
            "colorbar": {
             "outlinewidth": 0,
             "ticks": ""
            },
            "colorscale": [
             [
              0,
              "#0d0887"
             ],
             [
              0.1111111111111111,
              "#46039f"
             ],
             [
              0.2222222222222222,
              "#7201a8"
             ],
             [
              0.3333333333333333,
              "#9c179e"
             ],
             [
              0.4444444444444444,
              "#bd3786"
             ],
             [
              0.5555555555555556,
              "#d8576b"
             ],
             [
              0.6666666666666666,
              "#ed7953"
             ],
             [
              0.7777777777777778,
              "#fb9f3a"
             ],
             [
              0.8888888888888888,
              "#fdca26"
             ],
             [
              1,
              "#f0f921"
             ]
            ],
            "type": "surface"
           }
          ],
          "table": [
           {
            "cells": {
             "fill": {
              "color": "#EBF0F8"
             },
             "line": {
              "color": "white"
             }
            },
            "header": {
             "fill": {
              "color": "#C8D4E3"
             },
             "line": {
              "color": "white"
             }
            },
            "type": "table"
           }
          ]
         },
         "layout": {
          "annotationdefaults": {
           "arrowcolor": "#2a3f5f",
           "arrowhead": 0,
           "arrowwidth": 1
          },
          "autotypenumbers": "strict",
          "coloraxis": {
           "colorbar": {
            "outlinewidth": 0,
            "ticks": ""
           }
          },
          "colorscale": {
           "diverging": [
            [
             0,
             "#8e0152"
            ],
            [
             0.1,
             "#c51b7d"
            ],
            [
             0.2,
             "#de77ae"
            ],
            [
             0.3,
             "#f1b6da"
            ],
            [
             0.4,
             "#fde0ef"
            ],
            [
             0.5,
             "#f7f7f7"
            ],
            [
             0.6,
             "#e6f5d0"
            ],
            [
             0.7,
             "#b8e186"
            ],
            [
             0.8,
             "#7fbc41"
            ],
            [
             0.9,
             "#4d9221"
            ],
            [
             1,
             "#276419"
            ]
           ],
           "sequential": [
            [
             0,
             "#0d0887"
            ],
            [
             0.1111111111111111,
             "#46039f"
            ],
            [
             0.2222222222222222,
             "#7201a8"
            ],
            [
             0.3333333333333333,
             "#9c179e"
            ],
            [
             0.4444444444444444,
             "#bd3786"
            ],
            [
             0.5555555555555556,
             "#d8576b"
            ],
            [
             0.6666666666666666,
             "#ed7953"
            ],
            [
             0.7777777777777778,
             "#fb9f3a"
            ],
            [
             0.8888888888888888,
             "#fdca26"
            ],
            [
             1,
             "#f0f921"
            ]
           ],
           "sequentialminus": [
            [
             0,
             "#0d0887"
            ],
            [
             0.1111111111111111,
             "#46039f"
            ],
            [
             0.2222222222222222,
             "#7201a8"
            ],
            [
             0.3333333333333333,
             "#9c179e"
            ],
            [
             0.4444444444444444,
             "#bd3786"
            ],
            [
             0.5555555555555556,
             "#d8576b"
            ],
            [
             0.6666666666666666,
             "#ed7953"
            ],
            [
             0.7777777777777778,
             "#fb9f3a"
            ],
            [
             0.8888888888888888,
             "#fdca26"
            ],
            [
             1,
             "#f0f921"
            ]
           ]
          },
          "colorway": [
           "#636efa",
           "#EF553B",
           "#00cc96",
           "#ab63fa",
           "#FFA15A",
           "#19d3f3",
           "#FF6692",
           "#B6E880",
           "#FF97FF",
           "#FECB52"
          ],
          "font": {
           "color": "#2a3f5f"
          },
          "geo": {
           "bgcolor": "white",
           "lakecolor": "white",
           "landcolor": "#E5ECF6",
           "showlakes": true,
           "showland": true,
           "subunitcolor": "white"
          },
          "hoverlabel": {
           "align": "left"
          },
          "hovermode": "closest",
          "mapbox": {
           "style": "light"
          },
          "paper_bgcolor": "white",
          "plot_bgcolor": "#E5ECF6",
          "polar": {
           "angularaxis": {
            "gridcolor": "white",
            "linecolor": "white",
            "ticks": ""
           },
           "bgcolor": "#E5ECF6",
           "radialaxis": {
            "gridcolor": "white",
            "linecolor": "white",
            "ticks": ""
           }
          },
          "scene": {
           "xaxis": {
            "backgroundcolor": "#E5ECF6",
            "gridcolor": "white",
            "gridwidth": 2,
            "linecolor": "white",
            "showbackground": true,
            "ticks": "",
            "zerolinecolor": "white"
           },
           "yaxis": {
            "backgroundcolor": "#E5ECF6",
            "gridcolor": "white",
            "gridwidth": 2,
            "linecolor": "white",
            "showbackground": true,
            "ticks": "",
            "zerolinecolor": "white"
           },
           "zaxis": {
            "backgroundcolor": "#E5ECF6",
            "gridcolor": "white",
            "gridwidth": 2,
            "linecolor": "white",
            "showbackground": true,
            "ticks": "",
            "zerolinecolor": "white"
           }
          },
          "shapedefaults": {
           "line": {
            "color": "#2a3f5f"
           }
          },
          "ternary": {
           "aaxis": {
            "gridcolor": "white",
            "linecolor": "white",
            "ticks": ""
           },
           "baxis": {
            "gridcolor": "white",
            "linecolor": "white",
            "ticks": ""
           },
           "bgcolor": "#E5ECF6",
           "caxis": {
            "gridcolor": "white",
            "linecolor": "white",
            "ticks": ""
           }
          },
          "title": {
           "x": 0.05
          },
          "xaxis": {
           "automargin": true,
           "gridcolor": "white",
           "linecolor": "white",
           "ticks": "",
           "title": {
            "standoff": 15
           },
           "zerolinecolor": "white",
           "zerolinewidth": 2
          },
          "yaxis": {
           "automargin": true,
           "gridcolor": "white",
           "linecolor": "white",
           "ticks": "",
           "title": {
            "standoff": 15
           },
           "zerolinecolor": "white",
           "zerolinewidth": 2
          }
         }
        },
        "width": 404.508497175,
        "xaxis": {
         "anchor": "y",
         "domain": [
          0,
          1
         ],
         "showgrid": false,
         "showline": false,
         "tickcolor": "rgb(120, 120, 120)",
         "ticklen": 5,
         "ticks": "outside",
         "tickwidth": 1,
         "title": {
          "text": "max initial population similarity"
         },
         "zeroline": false
        },
        "yaxis": {
         "anchor": "x",
         "domain": [
          0,
          1
         ],
         "gridcolor": "rgba(173, 216, 230, 0.3)",
         "gridwidth": 1,
         "showgrid": false,
         "showline": false,
         "tickcolor": "rgb(120, 120, 120)",
         "ticklen": 5,
         "ticks": "outside",
         "tickwidth": 1,
         "title": {
          "text": "count"
         },
         "zeroline": false
        }
       }
      }
     },
     "metadata": {},
     "output_type": "display_data"
    }
   ],
   "source": [
    "def plot_distr_of_scores_when_correct_vs_not_correct(prop_to_plot, color_column, stat=None):\n",
    "    stats = pd.read_csv(\"results_1000.csv\")\n",
    "    stats = stats[stats[\"best_score\"] != 0]\n",
    "\n",
    "    # bin mol sizes each 5\n",
    "    # mol_size = stats[\"mol_size\"]\n",
    "    # rename 50 to Top 50\n",
    "    stats = stats.rename(columns={\"5\": \"Top 5\", \"10\": \"Top 10\", \"1\": \"Top 1\"})\n",
    "    # fig = px.histogram(stats, x=\"best_score\", color=\"Top 50\", nbins=50, histnorm=\"percent\")\n",
    "    # separate correct and incorrect\n",
    "\n",
    "    # fig = px.histogram(stats, x=\"best_score\", color=\"Top 5\", nbins=25, barmode=\"overlay\")\n",
    "    # update colors to match the bar chart\n",
    "    # update colors of the legend \"Found\"\n",
    "    # custom_colors = {\n",
    "    #     \"True\": \"#8C96E9\",  # Light purple/blue\n",
    "    #     \"False\": \"#FFA07A\"  # Soft coral/pink\n",
    "    # }\n",
    "\n",
    "    fig = px.histogram(\n",
    "        stats,\n",
    "        x=prop_to_plot,\n",
    "        color=color_column,\n",
    "        nbins=30,\n",
    "        barmode=\"overlay\",\n",
    "        histnorm=stat,\n",
    "        color_discrete_map={\n",
    "            True: \"rgb(152, 86, 86)\",  # Previously used for \"ref. top 5\"\n",
    "            False: \"rgb(152, 146, 186)\",  # Previously used for \"top 1\"\n",
    "        },\n",
    "        # color_discrete_map=custom_colors,\n",
    "    )\n",
    "    # add side histograms with size di\n",
    "    # color name\n",
    "    xaxis_titles = {\n",
    "            \"best_score\": \"cosine similarity\",\n",
    "            \"mol_size\": \"molecule size\",\n",
    "            \"max_initial_population\": \"max initial population similarity\",\n",
    "            \"molecular_complexity\": \"Bertz complexity\"\n",
    "        }\n",
    "    fig.update_xaxes(\n",
    "        title_text=xaxis_titles.get(prop_to_plot, prop_to_plot),\n",
    "        showgrid=False,\n",
    "        zeroline=False,\n",
    "        showline=False,\n",
    "        ticks=\"outside\",\n",
    "        tickwidth=1,\n",
    "        tickcolor='rgb(120, 120, 120)',\n",
    "        ticklen=5\n",
    "    )\n",
    "    # Configure y-axis\n",
    "    fig.update_yaxes(\n",
    "        title_text='count' if stat is None else stat,\n",
    "        showgrid=False,\n",
    "        gridwidth=1,\n",
    "        gridcolor='rgba(173, 216, 230, 0.3)',\n",
    "        zeroline=False,\n",
    "        showline=False,\n",
    "        ticks=\"outside\",\n",
    "        tickwidth=1,\n",
    "        tickcolor='rgb(120, 120, 120)',\n",
    "        ticklen=5\n",
    "    )\n",
    "    # x axis title\n",
    "    if prop_to_plot == \"best_score\":\n",
    "        xaxis_title = \"cosine similarity\"\n",
    "    elif prop_to_plot == \"mol_size\":\n",
    "        xaxis_title = \"molecule size\"\n",
    "    elif prop_to_plot == \"max_initial_population\":\n",
    "        xaxis_title = \"max initial population similarity\"\n",
    "    elif prop_to_plot == \"molecular_complexity\":\n",
    "        xaxis_title = \"Bertz complexity\"\n",
    "        # log average\n",
    "        logger.info(stats[\"molecular_complexity\"].mean())\n",
    "    fig.update_xaxes(title_text=xaxis_title)\n",
    "    # cmu sans serif\n",
    "    fig.update_layout(font_family=\"CMU Sans Serif\")\n",
    "    fig.update_traces(marker={\"line\": {\"width\": 0.2, \"color\": \"DarkSlateGrey\"}})\n",
    "    fig.update_traces(opacity=1)\n",
    "    # range 0.5 to 1\n",
    "    if prop_to_plot == \"best_score\":\n",
    "        fig.update_xaxes(range=[0.5, 1], tickvals=np.arange(0.6, 1.11, 0.1))\n",
    "        fig.add_vline(x=1, line_dash=\"dot\", annotation_text=\"perfect similarity\", annotation_position=\"bottom right\")\n",
    "    # fig.update_xaxes(showline=True, linecolor=\"black\", linewidth=0.4)\n",
    "    if prop_to_plot == \"mol_size\":\n",
    "        fig.update_xaxes(range=[4, 36])\n",
    "    # perfect similarity line\n",
    "    # rotate vlinae text\n",
    "    fig.update_annotations(textangle=90)\n",
    "    # white background\n",
    "    fig.update_layout(plot_bgcolor=\"white\")\n",
    "    # width and height\n",
    "    fig.update_layout(width=250 * 1.6180339887, height=250)\n",
    "    # tight layout\n",
    "    fig.update_layout(margin={\"l\": 0, \"r\": 0, \"t\": 0, \"b\": 0})\n",
    "    fig.write_image(f\"figures/correct_vs_not_correct_{prop_to_plot}_{color_column}.pdf\", scale=5)\n",
    "    fig.show()\n",
    "\n",
    "\n",
    "plot_distr_of_scores_when_correct_vs_not_correct(\"mol_size\", color_column=\"Top 1\")\n",
    "plot_distr_of_scores_when_correct_vs_not_correct(\"mol_size\", color_column=\"Top 5\")\n",
    "plot_distr_of_scores_when_correct_vs_not_correct(\"mol_size\", color_column=\"Top 10\")\n",
    "plot_distr_of_scores_when_correct_vs_not_correct(\"mol_size\", color_column=\"Found\")\n",
    "\n",
    "plot_distr_of_scores_when_correct_vs_not_correct(\"molecular_complexity\", color_column=\"Top 1\")  # , stat=\"percent\")\n",
    "plot_distr_of_scores_when_correct_vs_not_correct(\"molecular_complexity\", color_column=\"Top 5\")  # , stat=\"percent\")\n",
    "plot_distr_of_scores_when_correct_vs_not_correct(\"molecular_complexity\", color_column=\"Top 10\")  # , stat=\"percent\")\n",
    "plot_distr_of_scores_when_correct_vs_not_correct(\"molecular_complexity\", color_column=\"Found\")  # , stat=\"percent\")\n",
    "\n",
    "plot_distr_of_scores_when_correct_vs_not_correct(\"best_score\", color_column=\"Top 1\")  # , stat=\"percent\")\n",
    "plot_distr_of_scores_when_correct_vs_not_correct(\"best_score\", color_column=\"Top 5\")  # , stat=\"percent\")\n",
    "plot_distr_of_scores_when_correct_vs_not_correct(\"best_score\", color_column=\"Top 10\")  # , stat=\"percent\")\n",
    "plot_distr_of_scores_when_correct_vs_not_correct(\"best_score\", color_column=\"Found\")  # , stat=\"percent\")\n",
    "\n",
    "plot_distr_of_scores_when_correct_vs_not_correct(\"max_initial_population\", color_column=\"Top 1\")  # ,stat=\"percent\")\n",
    "plot_distr_of_scores_when_correct_vs_not_correct(\"max_initial_population\", color_column=\"Top 5\")  # ,stat=\"percent\")\n",
    "plot_distr_of_scores_when_correct_vs_not_correct(\"max_initial_population\", color_column=\"Top 10\")  # ,stat=\"percent\")\n",
    "plot_distr_of_scores_when_correct_vs_not_correct(\"max_initial_population\", color_column=\"Found\")  # ,stat=\"percent\")\n"
   ]
  },
  {
   "cell_type": "code",
   "execution_count": 31,
   "metadata": {},
   "outputs": [
    {
     "data": {
      "application/vnd.plotly.v1+json": {
       "config": {
        "plotlyServerURL": "https://plot.ly"
       },
       "data": [
        {
         "line": {
          "color": "gray",
          "dash": "dash"
         },
         "mode": "lines",
         "name": "perfect calibration",
         "showlegend": true,
         "type": "scatter",
         "x": [
          0,
          1
         ],
         "y": [
          0,
          1
         ]
        },
        {
         "line": {
          "color": "rgb(152, 86, 86)"
         },
         "marker": {
          "color": "rgb(152, 86, 86)",
          "line": {
           "color": "DarkSlateGrey",
           "width": 1
          },
          "size": 8
         },
         "mode": "lines+markers",
         "name": "pipeline calibration",
         "showlegend": true,
         "type": "scatter",
         "x": [
          0.01907948736702668,
          0.14475273638992972,
          0.2414223725757295,
          0.3244814667537626,
          0.4114920030154504,
          0.5086640399017186,
          0.5998521273383409,
          0.6886344656393785,
          0.7767653141174339,
          0.8617118184487771,
          0.9278448378049914
         ],
         "y": [
          0,
          0,
          0,
          0,
          0,
          0.25925925925925924,
          0.4634146341463415,
          0.5862068965517241,
          0.7634069400630915,
          0.8995098039215687,
          1
         ]
        },
        {
         "hoverinfo": "skip",
         "marker": {
          "color": "rgba(152, 86, 86, 0.3)"
         },
         "name": "score distribution",
         "type": "bar",
         "width": 0.09090909090909091,
         "x": [
          0.045454545454545456,
          0.13636363636363635,
          0.22727272727272727,
          0.3181818181818182,
          0.4090909090909091,
          0.5,
          0.5909090909090908,
          0.6818181818181819,
          0.7727272727272727,
          0.8636363636363638,
          0.9545454545454546
         ],
         "y": [
          0.0024509803921568627,
          0.006127450980392157,
          0.003676470588235294,
          0.012254901960784314,
          0.01715686274509804,
          0.03308823529411765,
          0.05024509803921569,
          0.14215686274509803,
          0.38848039215686275,
          0.5,
          0.07107843137254902
         ]
        }
       ],
       "layout": {
        "bargap": 0.15,
        "bargroupgap": 0.03,
        "font": {
         "color": "rgb(120, 120, 120)",
         "family": "CMU Sans Serif"
        },
        "height": 250,
        "margin": {
         "b": 40,
         "l": 40,
         "r": 20,
         "t": 20
        },
        "plot_bgcolor": "white",
        "shapes": [
         {
          "line": {
           "color": "rgb(120, 120, 120)",
           "width": 1
          },
          "type": "line",
          "x0": 0,
          "x1": 1,
          "xref": "paper",
          "y0": 0,
          "y1": 0,
          "yref": "y"
         },
         {
          "line": {
           "color": "rgb(120, 120, 120)",
           "width": 1
          },
          "type": "line",
          "x0": 0,
          "x1": 0,
          "xref": "x",
          "y0": 0,
          "y1": 1,
          "yref": "paper"
         }
        ],
        "template": {
         "data": {
          "bar": [
           {
            "error_x": {
             "color": "#2a3f5f"
            },
            "error_y": {
             "color": "#2a3f5f"
            },
            "marker": {
             "line": {
              "color": "white",
              "width": 0.5
             },
             "pattern": {
              "fillmode": "overlay",
              "size": 10,
              "solidity": 0.2
             }
            },
            "type": "bar"
           }
          ],
          "barpolar": [
           {
            "marker": {
             "line": {
              "color": "white",
              "width": 0.5
             },
             "pattern": {
              "fillmode": "overlay",
              "size": 10,
              "solidity": 0.2
             }
            },
            "type": "barpolar"
           }
          ],
          "carpet": [
           {
            "aaxis": {
             "endlinecolor": "#2a3f5f",
             "gridcolor": "#C8D4E3",
             "linecolor": "#C8D4E3",
             "minorgridcolor": "#C8D4E3",
             "startlinecolor": "#2a3f5f"
            },
            "baxis": {
             "endlinecolor": "#2a3f5f",
             "gridcolor": "#C8D4E3",
             "linecolor": "#C8D4E3",
             "minorgridcolor": "#C8D4E3",
             "startlinecolor": "#2a3f5f"
            },
            "type": "carpet"
           }
          ],
          "choropleth": [
           {
            "colorbar": {
             "outlinewidth": 0,
             "ticks": ""
            },
            "type": "choropleth"
           }
          ],
          "contour": [
           {
            "colorbar": {
             "outlinewidth": 0,
             "ticks": ""
            },
            "colorscale": [
             [
              0,
              "#0d0887"
             ],
             [
              0.1111111111111111,
              "#46039f"
             ],
             [
              0.2222222222222222,
              "#7201a8"
             ],
             [
              0.3333333333333333,
              "#9c179e"
             ],
             [
              0.4444444444444444,
              "#bd3786"
             ],
             [
              0.5555555555555556,
              "#d8576b"
             ],
             [
              0.6666666666666666,
              "#ed7953"
             ],
             [
              0.7777777777777778,
              "#fb9f3a"
             ],
             [
              0.8888888888888888,
              "#fdca26"
             ],
             [
              1,
              "#f0f921"
             ]
            ],
            "type": "contour"
           }
          ],
          "contourcarpet": [
           {
            "colorbar": {
             "outlinewidth": 0,
             "ticks": ""
            },
            "type": "contourcarpet"
           }
          ],
          "heatmap": [
           {
            "colorbar": {
             "outlinewidth": 0,
             "ticks": ""
            },
            "colorscale": [
             [
              0,
              "#0d0887"
             ],
             [
              0.1111111111111111,
              "#46039f"
             ],
             [
              0.2222222222222222,
              "#7201a8"
             ],
             [
              0.3333333333333333,
              "#9c179e"
             ],
             [
              0.4444444444444444,
              "#bd3786"
             ],
             [
              0.5555555555555556,
              "#d8576b"
             ],
             [
              0.6666666666666666,
              "#ed7953"
             ],
             [
              0.7777777777777778,
              "#fb9f3a"
             ],
             [
              0.8888888888888888,
              "#fdca26"
             ],
             [
              1,
              "#f0f921"
             ]
            ],
            "type": "heatmap"
           }
          ],
          "heatmapgl": [
           {
            "colorbar": {
             "outlinewidth": 0,
             "ticks": ""
            },
            "colorscale": [
             [
              0,
              "#0d0887"
             ],
             [
              0.1111111111111111,
              "#46039f"
             ],
             [
              0.2222222222222222,
              "#7201a8"
             ],
             [
              0.3333333333333333,
              "#9c179e"
             ],
             [
              0.4444444444444444,
              "#bd3786"
             ],
             [
              0.5555555555555556,
              "#d8576b"
             ],
             [
              0.6666666666666666,
              "#ed7953"
             ],
             [
              0.7777777777777778,
              "#fb9f3a"
             ],
             [
              0.8888888888888888,
              "#fdca26"
             ],
             [
              1,
              "#f0f921"
             ]
            ],
            "type": "heatmapgl"
           }
          ],
          "histogram": [
           {
            "marker": {
             "pattern": {
              "fillmode": "overlay",
              "size": 10,
              "solidity": 0.2
             }
            },
            "type": "histogram"
           }
          ],
          "histogram2d": [
           {
            "colorbar": {
             "outlinewidth": 0,
             "ticks": ""
            },
            "colorscale": [
             [
              0,
              "#0d0887"
             ],
             [
              0.1111111111111111,
              "#46039f"
             ],
             [
              0.2222222222222222,
              "#7201a8"
             ],
             [
              0.3333333333333333,
              "#9c179e"
             ],
             [
              0.4444444444444444,
              "#bd3786"
             ],
             [
              0.5555555555555556,
              "#d8576b"
             ],
             [
              0.6666666666666666,
              "#ed7953"
             ],
             [
              0.7777777777777778,
              "#fb9f3a"
             ],
             [
              0.8888888888888888,
              "#fdca26"
             ],
             [
              1,
              "#f0f921"
             ]
            ],
            "type": "histogram2d"
           }
          ],
          "histogram2dcontour": [
           {
            "colorbar": {
             "outlinewidth": 0,
             "ticks": ""
            },
            "colorscale": [
             [
              0,
              "#0d0887"
             ],
             [
              0.1111111111111111,
              "#46039f"
             ],
             [
              0.2222222222222222,
              "#7201a8"
             ],
             [
              0.3333333333333333,
              "#9c179e"
             ],
             [
              0.4444444444444444,
              "#bd3786"
             ],
             [
              0.5555555555555556,
              "#d8576b"
             ],
             [
              0.6666666666666666,
              "#ed7953"
             ],
             [
              0.7777777777777778,
              "#fb9f3a"
             ],
             [
              0.8888888888888888,
              "#fdca26"
             ],
             [
              1,
              "#f0f921"
             ]
            ],
            "type": "histogram2dcontour"
           }
          ],
          "mesh3d": [
           {
            "colorbar": {
             "outlinewidth": 0,
             "ticks": ""
            },
            "type": "mesh3d"
           }
          ],
          "parcoords": [
           {
            "line": {
             "colorbar": {
              "outlinewidth": 0,
              "ticks": ""
             }
            },
            "type": "parcoords"
           }
          ],
          "pie": [
           {
            "automargin": true,
            "type": "pie"
           }
          ],
          "scatter": [
           {
            "fillpattern": {
             "fillmode": "overlay",
             "size": 10,
             "solidity": 0.2
            },
            "type": "scatter"
           }
          ],
          "scatter3d": [
           {
            "line": {
             "colorbar": {
              "outlinewidth": 0,
              "ticks": ""
             }
            },
            "marker": {
             "colorbar": {
              "outlinewidth": 0,
              "ticks": ""
             }
            },
            "type": "scatter3d"
           }
          ],
          "scattercarpet": [
           {
            "marker": {
             "colorbar": {
              "outlinewidth": 0,
              "ticks": ""
             }
            },
            "type": "scattercarpet"
           }
          ],
          "scattergeo": [
           {
            "marker": {
             "colorbar": {
              "outlinewidth": 0,
              "ticks": ""
             }
            },
            "type": "scattergeo"
           }
          ],
          "scattergl": [
           {
            "marker": {
             "colorbar": {
              "outlinewidth": 0,
              "ticks": ""
             }
            },
            "type": "scattergl"
           }
          ],
          "scattermapbox": [
           {
            "marker": {
             "colorbar": {
              "outlinewidth": 0,
              "ticks": ""
             }
            },
            "type": "scattermapbox"
           }
          ],
          "scatterpolar": [
           {
            "marker": {
             "colorbar": {
              "outlinewidth": 0,
              "ticks": ""
             }
            },
            "type": "scatterpolar"
           }
          ],
          "scatterpolargl": [
           {
            "marker": {
             "colorbar": {
              "outlinewidth": 0,
              "ticks": ""
             }
            },
            "type": "scatterpolargl"
           }
          ],
          "scatterternary": [
           {
            "marker": {
             "colorbar": {
              "outlinewidth": 0,
              "ticks": ""
             }
            },
            "type": "scatterternary"
           }
          ],
          "surface": [
           {
            "colorbar": {
             "outlinewidth": 0,
             "ticks": ""
            },
            "colorscale": [
             [
              0,
              "#0d0887"
             ],
             [
              0.1111111111111111,
              "#46039f"
             ],
             [
              0.2222222222222222,
              "#7201a8"
             ],
             [
              0.3333333333333333,
              "#9c179e"
             ],
             [
              0.4444444444444444,
              "#bd3786"
             ],
             [
              0.5555555555555556,
              "#d8576b"
             ],
             [
              0.6666666666666666,
              "#ed7953"
             ],
             [
              0.7777777777777778,
              "#fb9f3a"
             ],
             [
              0.8888888888888888,
              "#fdca26"
             ],
             [
              1,
              "#f0f921"
             ]
            ],
            "type": "surface"
           }
          ],
          "table": [
           {
            "cells": {
             "fill": {
              "color": "#EBF0F8"
             },
             "line": {
              "color": "white"
             }
            },
            "header": {
             "fill": {
              "color": "#C8D4E3"
             },
             "line": {
              "color": "white"
             }
            },
            "type": "table"
           }
          ]
         },
         "layout": {
          "annotationdefaults": {
           "arrowcolor": "#2a3f5f",
           "arrowhead": 0,
           "arrowwidth": 1
          },
          "autotypenumbers": "strict",
          "coloraxis": {
           "colorbar": {
            "outlinewidth": 0,
            "ticks": ""
           }
          },
          "colorscale": {
           "diverging": [
            [
             0,
             "#8e0152"
            ],
            [
             0.1,
             "#c51b7d"
            ],
            [
             0.2,
             "#de77ae"
            ],
            [
             0.3,
             "#f1b6da"
            ],
            [
             0.4,
             "#fde0ef"
            ],
            [
             0.5,
             "#f7f7f7"
            ],
            [
             0.6,
             "#e6f5d0"
            ],
            [
             0.7,
             "#b8e186"
            ],
            [
             0.8,
             "#7fbc41"
            ],
            [
             0.9,
             "#4d9221"
            ],
            [
             1,
             "#276419"
            ]
           ],
           "sequential": [
            [
             0,
             "#0d0887"
            ],
            [
             0.1111111111111111,
             "#46039f"
            ],
            [
             0.2222222222222222,
             "#7201a8"
            ],
            [
             0.3333333333333333,
             "#9c179e"
            ],
            [
             0.4444444444444444,
             "#bd3786"
            ],
            [
             0.5555555555555556,
             "#d8576b"
            ],
            [
             0.6666666666666666,
             "#ed7953"
            ],
            [
             0.7777777777777778,
             "#fb9f3a"
            ],
            [
             0.8888888888888888,
             "#fdca26"
            ],
            [
             1,
             "#f0f921"
            ]
           ],
           "sequentialminus": [
            [
             0,
             "#0d0887"
            ],
            [
             0.1111111111111111,
             "#46039f"
            ],
            [
             0.2222222222222222,
             "#7201a8"
            ],
            [
             0.3333333333333333,
             "#9c179e"
            ],
            [
             0.4444444444444444,
             "#bd3786"
            ],
            [
             0.5555555555555556,
             "#d8576b"
            ],
            [
             0.6666666666666666,
             "#ed7953"
            ],
            [
             0.7777777777777778,
             "#fb9f3a"
            ],
            [
             0.8888888888888888,
             "#fdca26"
            ],
            [
             1,
             "#f0f921"
            ]
           ]
          },
          "colorway": [
           "#636efa",
           "#EF553B",
           "#00cc96",
           "#ab63fa",
           "#FFA15A",
           "#19d3f3",
           "#FF6692",
           "#B6E880",
           "#FF97FF",
           "#FECB52"
          ],
          "font": {
           "color": "#2a3f5f"
          },
          "geo": {
           "bgcolor": "white",
           "lakecolor": "white",
           "landcolor": "white",
           "showlakes": true,
           "showland": true,
           "subunitcolor": "#C8D4E3"
          },
          "hoverlabel": {
           "align": "left"
          },
          "hovermode": "closest",
          "mapbox": {
           "style": "light"
          },
          "paper_bgcolor": "white",
          "plot_bgcolor": "white",
          "polar": {
           "angularaxis": {
            "gridcolor": "#EBF0F8",
            "linecolor": "#EBF0F8",
            "ticks": ""
           },
           "bgcolor": "white",
           "radialaxis": {
            "gridcolor": "#EBF0F8",
            "linecolor": "#EBF0F8",
            "ticks": ""
           }
          },
          "scene": {
           "xaxis": {
            "backgroundcolor": "white",
            "gridcolor": "#DFE8F3",
            "gridwidth": 2,
            "linecolor": "#EBF0F8",
            "showbackground": true,
            "ticks": "",
            "zerolinecolor": "#EBF0F8"
           },
           "yaxis": {
            "backgroundcolor": "white",
            "gridcolor": "#DFE8F3",
            "gridwidth": 2,
            "linecolor": "#EBF0F8",
            "showbackground": true,
            "ticks": "",
            "zerolinecolor": "#EBF0F8"
           },
           "zaxis": {
            "backgroundcolor": "white",
            "gridcolor": "#DFE8F3",
            "gridwidth": 2,
            "linecolor": "#EBF0F8",
            "showbackground": true,
            "ticks": "",
            "zerolinecolor": "#EBF0F8"
           }
          },
          "shapedefaults": {
           "line": {
            "color": "#2a3f5f"
           }
          },
          "ternary": {
           "aaxis": {
            "gridcolor": "#DFE8F3",
            "linecolor": "#A2B1C6",
            "ticks": ""
           },
           "baxis": {
            "gridcolor": "#DFE8F3",
            "linecolor": "#A2B1C6",
            "ticks": ""
           },
           "bgcolor": "white",
           "caxis": {
            "gridcolor": "#DFE8F3",
            "linecolor": "#A2B1C6",
            "ticks": ""
           }
          },
          "title": {
           "x": 0.05
          },
          "xaxis": {
           "automargin": true,
           "gridcolor": "#EBF0F8",
           "linecolor": "#EBF0F8",
           "ticks": "",
           "title": {
            "standoff": 15
           },
           "zerolinecolor": "#EBF0F8",
           "zerolinewidth": 2
          },
          "yaxis": {
           "automargin": true,
           "gridcolor": "#EBF0F8",
           "linecolor": "#EBF0F8",
           "ticks": "",
           "title": {
            "standoff": 15
           },
           "zerolinecolor": "#EBF0F8",
           "zerolinewidth": 2
          }
         }
        },
        "width": 404.5,
        "xaxis": {
         "gridcolor": "rgba(173, 216, 230, 0.3)",
         "range": [
          0,
          1
         ],
         "showgrid": false,
         "showline": false,
         "tickcolor": "rgb(120, 120, 120)",
         "ticklen": 5,
         "ticks": "outside",
         "tickvals": [
          0,
          0.2,
          0.4,
          0.6000000000000001,
          0.8,
          1
         ],
         "tickwidth": 1,
         "title": {
          "text": "scaled cosine similarity"
         },
         "zeroline": false
        },
        "yaxis": {
         "gridcolor": "rgba(173, 216, 230, 0.3)",
         "range": [
          0,
          1
         ],
         "showgrid": false,
         "showline": false,
         "tickcolor": "rgb(120, 120, 120)",
         "ticklen": 5,
         "ticks": "outside",
         "tickvals": [
          0,
          0.2,
          0.4,
          0.6000000000000001,
          0.8,
          1
         ],
         "tickwidth": 1,
         "title": {
          "text": "top-1 accuracy"
         },
         "zeroline": false
        }
       }
      }
     },
     "metadata": {},
     "output_type": "display_data"
    },
    {
     "name": "stdout",
     "output_type": "stream",
     "text": [
      "Number of samples: 1001\n",
      "Average prediction: 0.780\n",
      "Success rate: 0.760\n"
     ]
    },
    {
     "data": {
      "application/vnd.plotly.v1+json": {
       "config": {
        "plotlyServerURL": "https://plot.ly"
       },
       "data": [
        {
         "line": {
          "color": "gray",
          "dash": "dash"
         },
         "mode": "lines",
         "name": "perfect calibration",
         "showlegend": true,
         "type": "scatter",
         "x": [
          0,
          1
         ],
         "y": [
          0,
          1
         ]
        },
        {
         "line": {
          "color": "rgb(152, 86, 86)"
         },
         "marker": {
          "color": "rgb(152, 86, 86)",
          "line": {
           "color": "DarkSlateGrey",
           "width": 1
          },
          "size": 8
         },
         "mode": "lines+markers",
         "name": "pipeline calibration",
         "showlegend": true,
         "type": "scatter",
         "x": [
          0.4932732019720444,
          0.6945573000820906,
          0.7480052324713032,
          0.7815023161418645,
          0.8112227825815878,
          0.8340874272956261,
          0.8578631586921672,
          0.881738210674152,
          0.915057158656191
         ],
         "y": [
          0.2767857142857143,
          0.6036036036036037,
          0.7297297297297297,
          0.7657657657657657,
          0.8108108108108109,
          0.8738738738738738,
          0.9009009009009009,
          0.9099099099099099,
          0.9732142857142857
         ]
        },
        {
         "hoverinfo": "skip",
         "marker": {
          "color": "rgba(152, 86, 86, 0.3)"
         },
         "name": "score distribution",
         "type": "bar",
         "width": 0.1111111111111111,
         "x": [
          0.05555555555555555,
          0.16666666666666666,
          0.2777777777777778,
          0.38888888888888884,
          0.5,
          0.6111111111111112,
          0.7222222222222221,
          0.8333333333333333,
          0.9444444444444444
         ],
         "y": [
          0.0020408163265306124,
          0.006122448979591836,
          0.007142857142857143,
          0.018367346938775512,
          0.0326530612244898,
          0.06224489795918367,
          0.2540816326530612,
          0.5,
          0.13877551020408163
         ]
        }
       ],
       "layout": {
        "bargap": 0.15,
        "bargroupgap": 0.03,
        "font": {
         "color": "rgb(120, 120, 120)",
         "family": "CMU Sans Serif"
        },
        "height": 250,
        "margin": {
         "b": 40,
         "l": 40,
         "r": 20,
         "t": 20
        },
        "plot_bgcolor": "white",
        "shapes": [
         {
          "line": {
           "color": "rgb(120, 120, 120)",
           "width": 1
          },
          "type": "line",
          "x0": 0,
          "x1": 1,
          "xref": "paper",
          "y0": 0,
          "y1": 0,
          "yref": "y"
         },
         {
          "line": {
           "color": "rgb(120, 120, 120)",
           "width": 1
          },
          "type": "line",
          "x0": 0,
          "x1": 0,
          "xref": "x",
          "y0": 0,
          "y1": 1,
          "yref": "paper"
         }
        ],
        "template": {
         "data": {
          "bar": [
           {
            "error_x": {
             "color": "#2a3f5f"
            },
            "error_y": {
             "color": "#2a3f5f"
            },
            "marker": {
             "line": {
              "color": "white",
              "width": 0.5
             },
             "pattern": {
              "fillmode": "overlay",
              "size": 10,
              "solidity": 0.2
             }
            },
            "type": "bar"
           }
          ],
          "barpolar": [
           {
            "marker": {
             "line": {
              "color": "white",
              "width": 0.5
             },
             "pattern": {
              "fillmode": "overlay",
              "size": 10,
              "solidity": 0.2
             }
            },
            "type": "barpolar"
           }
          ],
          "carpet": [
           {
            "aaxis": {
             "endlinecolor": "#2a3f5f",
             "gridcolor": "#C8D4E3",
             "linecolor": "#C8D4E3",
             "minorgridcolor": "#C8D4E3",
             "startlinecolor": "#2a3f5f"
            },
            "baxis": {
             "endlinecolor": "#2a3f5f",
             "gridcolor": "#C8D4E3",
             "linecolor": "#C8D4E3",
             "minorgridcolor": "#C8D4E3",
             "startlinecolor": "#2a3f5f"
            },
            "type": "carpet"
           }
          ],
          "choropleth": [
           {
            "colorbar": {
             "outlinewidth": 0,
             "ticks": ""
            },
            "type": "choropleth"
           }
          ],
          "contour": [
           {
            "colorbar": {
             "outlinewidth": 0,
             "ticks": ""
            },
            "colorscale": [
             [
              0,
              "#0d0887"
             ],
             [
              0.1111111111111111,
              "#46039f"
             ],
             [
              0.2222222222222222,
              "#7201a8"
             ],
             [
              0.3333333333333333,
              "#9c179e"
             ],
             [
              0.4444444444444444,
              "#bd3786"
             ],
             [
              0.5555555555555556,
              "#d8576b"
             ],
             [
              0.6666666666666666,
              "#ed7953"
             ],
             [
              0.7777777777777778,
              "#fb9f3a"
             ],
             [
              0.8888888888888888,
              "#fdca26"
             ],
             [
              1,
              "#f0f921"
             ]
            ],
            "type": "contour"
           }
          ],
          "contourcarpet": [
           {
            "colorbar": {
             "outlinewidth": 0,
             "ticks": ""
            },
            "type": "contourcarpet"
           }
          ],
          "heatmap": [
           {
            "colorbar": {
             "outlinewidth": 0,
             "ticks": ""
            },
            "colorscale": [
             [
              0,
              "#0d0887"
             ],
             [
              0.1111111111111111,
              "#46039f"
             ],
             [
              0.2222222222222222,
              "#7201a8"
             ],
             [
              0.3333333333333333,
              "#9c179e"
             ],
             [
              0.4444444444444444,
              "#bd3786"
             ],
             [
              0.5555555555555556,
              "#d8576b"
             ],
             [
              0.6666666666666666,
              "#ed7953"
             ],
             [
              0.7777777777777778,
              "#fb9f3a"
             ],
             [
              0.8888888888888888,
              "#fdca26"
             ],
             [
              1,
              "#f0f921"
             ]
            ],
            "type": "heatmap"
           }
          ],
          "heatmapgl": [
           {
            "colorbar": {
             "outlinewidth": 0,
             "ticks": ""
            },
            "colorscale": [
             [
              0,
              "#0d0887"
             ],
             [
              0.1111111111111111,
              "#46039f"
             ],
             [
              0.2222222222222222,
              "#7201a8"
             ],
             [
              0.3333333333333333,
              "#9c179e"
             ],
             [
              0.4444444444444444,
              "#bd3786"
             ],
             [
              0.5555555555555556,
              "#d8576b"
             ],
             [
              0.6666666666666666,
              "#ed7953"
             ],
             [
              0.7777777777777778,
              "#fb9f3a"
             ],
             [
              0.8888888888888888,
              "#fdca26"
             ],
             [
              1,
              "#f0f921"
             ]
            ],
            "type": "heatmapgl"
           }
          ],
          "histogram": [
           {
            "marker": {
             "pattern": {
              "fillmode": "overlay",
              "size": 10,
              "solidity": 0.2
             }
            },
            "type": "histogram"
           }
          ],
          "histogram2d": [
           {
            "colorbar": {
             "outlinewidth": 0,
             "ticks": ""
            },
            "colorscale": [
             [
              0,
              "#0d0887"
             ],
             [
              0.1111111111111111,
              "#46039f"
             ],
             [
              0.2222222222222222,
              "#7201a8"
             ],
             [
              0.3333333333333333,
              "#9c179e"
             ],
             [
              0.4444444444444444,
              "#bd3786"
             ],
             [
              0.5555555555555556,
              "#d8576b"
             ],
             [
              0.6666666666666666,
              "#ed7953"
             ],
             [
              0.7777777777777778,
              "#fb9f3a"
             ],
             [
              0.8888888888888888,
              "#fdca26"
             ],
             [
              1,
              "#f0f921"
             ]
            ],
            "type": "histogram2d"
           }
          ],
          "histogram2dcontour": [
           {
            "colorbar": {
             "outlinewidth": 0,
             "ticks": ""
            },
            "colorscale": [
             [
              0,
              "#0d0887"
             ],
             [
              0.1111111111111111,
              "#46039f"
             ],
             [
              0.2222222222222222,
              "#7201a8"
             ],
             [
              0.3333333333333333,
              "#9c179e"
             ],
             [
              0.4444444444444444,
              "#bd3786"
             ],
             [
              0.5555555555555556,
              "#d8576b"
             ],
             [
              0.6666666666666666,
              "#ed7953"
             ],
             [
              0.7777777777777778,
              "#fb9f3a"
             ],
             [
              0.8888888888888888,
              "#fdca26"
             ],
             [
              1,
              "#f0f921"
             ]
            ],
            "type": "histogram2dcontour"
           }
          ],
          "mesh3d": [
           {
            "colorbar": {
             "outlinewidth": 0,
             "ticks": ""
            },
            "type": "mesh3d"
           }
          ],
          "parcoords": [
           {
            "line": {
             "colorbar": {
              "outlinewidth": 0,
              "ticks": ""
             }
            },
            "type": "parcoords"
           }
          ],
          "pie": [
           {
            "automargin": true,
            "type": "pie"
           }
          ],
          "scatter": [
           {
            "fillpattern": {
             "fillmode": "overlay",
             "size": 10,
             "solidity": 0.2
            },
            "type": "scatter"
           }
          ],
          "scatter3d": [
           {
            "line": {
             "colorbar": {
              "outlinewidth": 0,
              "ticks": ""
             }
            },
            "marker": {
             "colorbar": {
              "outlinewidth": 0,
              "ticks": ""
             }
            },
            "type": "scatter3d"
           }
          ],
          "scattercarpet": [
           {
            "marker": {
             "colorbar": {
              "outlinewidth": 0,
              "ticks": ""
             }
            },
            "type": "scattercarpet"
           }
          ],
          "scattergeo": [
           {
            "marker": {
             "colorbar": {
              "outlinewidth": 0,
              "ticks": ""
             }
            },
            "type": "scattergeo"
           }
          ],
          "scattergl": [
           {
            "marker": {
             "colorbar": {
              "outlinewidth": 0,
              "ticks": ""
             }
            },
            "type": "scattergl"
           }
          ],
          "scattermapbox": [
           {
            "marker": {
             "colorbar": {
              "outlinewidth": 0,
              "ticks": ""
             }
            },
            "type": "scattermapbox"
           }
          ],
          "scatterpolar": [
           {
            "marker": {
             "colorbar": {
              "outlinewidth": 0,
              "ticks": ""
             }
            },
            "type": "scatterpolar"
           }
          ],
          "scatterpolargl": [
           {
            "marker": {
             "colorbar": {
              "outlinewidth": 0,
              "ticks": ""
             }
            },
            "type": "scatterpolargl"
           }
          ],
          "scatterternary": [
           {
            "marker": {
             "colorbar": {
              "outlinewidth": 0,
              "ticks": ""
             }
            },
            "type": "scatterternary"
           }
          ],
          "surface": [
           {
            "colorbar": {
             "outlinewidth": 0,
             "ticks": ""
            },
            "colorscale": [
             [
              0,
              "#0d0887"
             ],
             [
              0.1111111111111111,
              "#46039f"
             ],
             [
              0.2222222222222222,
              "#7201a8"
             ],
             [
              0.3333333333333333,
              "#9c179e"
             ],
             [
              0.4444444444444444,
              "#bd3786"
             ],
             [
              0.5555555555555556,
              "#d8576b"
             ],
             [
              0.6666666666666666,
              "#ed7953"
             ],
             [
              0.7777777777777778,
              "#fb9f3a"
             ],
             [
              0.8888888888888888,
              "#fdca26"
             ],
             [
              1,
              "#f0f921"
             ]
            ],
            "type": "surface"
           }
          ],
          "table": [
           {
            "cells": {
             "fill": {
              "color": "#EBF0F8"
             },
             "line": {
              "color": "white"
             }
            },
            "header": {
             "fill": {
              "color": "#C8D4E3"
             },
             "line": {
              "color": "white"
             }
            },
            "type": "table"
           }
          ]
         },
         "layout": {
          "annotationdefaults": {
           "arrowcolor": "#2a3f5f",
           "arrowhead": 0,
           "arrowwidth": 1
          },
          "autotypenumbers": "strict",
          "coloraxis": {
           "colorbar": {
            "outlinewidth": 0,
            "ticks": ""
           }
          },
          "colorscale": {
           "diverging": [
            [
             0,
             "#8e0152"
            ],
            [
             0.1,
             "#c51b7d"
            ],
            [
             0.2,
             "#de77ae"
            ],
            [
             0.3,
             "#f1b6da"
            ],
            [
             0.4,
             "#fde0ef"
            ],
            [
             0.5,
             "#f7f7f7"
            ],
            [
             0.6,
             "#e6f5d0"
            ],
            [
             0.7,
             "#b8e186"
            ],
            [
             0.8,
             "#7fbc41"
            ],
            [
             0.9,
             "#4d9221"
            ],
            [
             1,
             "#276419"
            ]
           ],
           "sequential": [
            [
             0,
             "#0d0887"
            ],
            [
             0.1111111111111111,
             "#46039f"
            ],
            [
             0.2222222222222222,
             "#7201a8"
            ],
            [
             0.3333333333333333,
             "#9c179e"
            ],
            [
             0.4444444444444444,
             "#bd3786"
            ],
            [
             0.5555555555555556,
             "#d8576b"
            ],
            [
             0.6666666666666666,
             "#ed7953"
            ],
            [
             0.7777777777777778,
             "#fb9f3a"
            ],
            [
             0.8888888888888888,
             "#fdca26"
            ],
            [
             1,
             "#f0f921"
            ]
           ],
           "sequentialminus": [
            [
             0,
             "#0d0887"
            ],
            [
             0.1111111111111111,
             "#46039f"
            ],
            [
             0.2222222222222222,
             "#7201a8"
            ],
            [
             0.3333333333333333,
             "#9c179e"
            ],
            [
             0.4444444444444444,
             "#bd3786"
            ],
            [
             0.5555555555555556,
             "#d8576b"
            ],
            [
             0.6666666666666666,
             "#ed7953"
            ],
            [
             0.7777777777777778,
             "#fb9f3a"
            ],
            [
             0.8888888888888888,
             "#fdca26"
            ],
            [
             1,
             "#f0f921"
            ]
           ]
          },
          "colorway": [
           "#636efa",
           "#EF553B",
           "#00cc96",
           "#ab63fa",
           "#FFA15A",
           "#19d3f3",
           "#FF6692",
           "#B6E880",
           "#FF97FF",
           "#FECB52"
          ],
          "font": {
           "color": "#2a3f5f"
          },
          "geo": {
           "bgcolor": "white",
           "lakecolor": "white",
           "landcolor": "white",
           "showlakes": true,
           "showland": true,
           "subunitcolor": "#C8D4E3"
          },
          "hoverlabel": {
           "align": "left"
          },
          "hovermode": "closest",
          "mapbox": {
           "style": "light"
          },
          "paper_bgcolor": "white",
          "plot_bgcolor": "white",
          "polar": {
           "angularaxis": {
            "gridcolor": "#EBF0F8",
            "linecolor": "#EBF0F8",
            "ticks": ""
           },
           "bgcolor": "white",
           "radialaxis": {
            "gridcolor": "#EBF0F8",
            "linecolor": "#EBF0F8",
            "ticks": ""
           }
          },
          "scene": {
           "xaxis": {
            "backgroundcolor": "white",
            "gridcolor": "#DFE8F3",
            "gridwidth": 2,
            "linecolor": "#EBF0F8",
            "showbackground": true,
            "ticks": "",
            "zerolinecolor": "#EBF0F8"
           },
           "yaxis": {
            "backgroundcolor": "white",
            "gridcolor": "#DFE8F3",
            "gridwidth": 2,
            "linecolor": "#EBF0F8",
            "showbackground": true,
            "ticks": "",
            "zerolinecolor": "#EBF0F8"
           },
           "zaxis": {
            "backgroundcolor": "white",
            "gridcolor": "#DFE8F3",
            "gridwidth": 2,
            "linecolor": "#EBF0F8",
            "showbackground": true,
            "ticks": "",
            "zerolinecolor": "#EBF0F8"
           }
          },
          "shapedefaults": {
           "line": {
            "color": "#2a3f5f"
           }
          },
          "ternary": {
           "aaxis": {
            "gridcolor": "#DFE8F3",
            "linecolor": "#A2B1C6",
            "ticks": ""
           },
           "baxis": {
            "gridcolor": "#DFE8F3",
            "linecolor": "#A2B1C6",
            "ticks": ""
           },
           "bgcolor": "white",
           "caxis": {
            "gridcolor": "#DFE8F3",
            "linecolor": "#A2B1C6",
            "ticks": ""
           }
          },
          "title": {
           "x": 0.05
          },
          "xaxis": {
           "automargin": true,
           "gridcolor": "#EBF0F8",
           "linecolor": "#EBF0F8",
           "ticks": "",
           "title": {
            "standoff": 15
           },
           "zerolinecolor": "#EBF0F8",
           "zerolinewidth": 2
          },
          "yaxis": {
           "automargin": true,
           "gridcolor": "#EBF0F8",
           "linecolor": "#EBF0F8",
           "ticks": "",
           "title": {
            "standoff": 15
           },
           "zerolinecolor": "#EBF0F8",
           "zerolinewidth": 2
          }
         }
        },
        "width": 404.5,
        "xaxis": {
         "gridcolor": "rgba(173, 216, 230, 0.3)",
         "range": [
          0,
          1
         ],
         "showgrid": false,
         "showline": false,
         "tickcolor": "rgb(120, 120, 120)",
         "ticklen": 5,
         "ticks": "outside",
         "tickvals": [
          0,
          0.2,
          0.4,
          0.6000000000000001,
          0.8,
          1
         ],
         "tickwidth": 1,
         "title": {
          "text": "scaled cosine similarity"
         },
         "zeroline": false
        },
        "yaxis": {
         "gridcolor": "rgba(173, 216, 230, 0.3)",
         "range": [
          0,
          1
         ],
         "showgrid": false,
         "showline": false,
         "tickcolor": "rgb(120, 120, 120)",
         "ticklen": 5,
         "ticks": "outside",
         "tickvals": [
          0,
          0.2,
          0.4,
          0.6000000000000001,
          0.8,
          1
         ],
         "tickwidth": 1,
         "title": {
          "text": "top-1 accuracy"
         },
         "zeroline": false
        }
       }
      }
     },
     "metadata": {},
     "output_type": "display_data"
    },
    {
     "name": "stdout",
     "output_type": "stream",
     "text": [
      "Number of samples: 1001\n",
      "Average prediction: 0.780\n",
      "Success rate: 0.760\n"
     ]
    }
   ],
   "source": [
    "import numpy as np\n",
    "import pandas as pd\n",
    "import plotly.graph_objects as go\n",
    "from sklearn.calibration import calibration_curve\n",
    "\n",
    "\n",
    "def plot_score_calibration(results_path=\"all_stats.csv\", n_bins=10, top_k=5, strategy=\"uniform\"):\n",
    "    \"\"\"\n",
    "    Creates a calibration plot for best scores showing the relationship between\n",
    "    predicted similarity scores and actual success rates.\n",
    "\n",
    "    Args:\n",
    "        results_path (str): Path to the CSV file with results\n",
    "        n_bins (int): Number of bins for calibration curve\n",
    "    \"\"\"\n",
    "    # Read and preprocess data\n",
    "    stats = pd.read_csv(results_path)\n",
    "    stats = stats[stats[\"best_score\"] != 0]\n",
    "\n",
    "    # Calculate calibration curve\n",
    "    # Using Top 5 as the binary outcome and best_score as the prediction\n",
    "    y_true = stats[f\"{top_k}\"].astype(bool)\n",
    "    y_pred = stats[\"best_score\"]\n",
    "    # scale to 0-1\n",
    "    y_pred = (y_pred - y_pred.min()) / (y_pred.max() - y_pred.min())\n",
    "    prob_true, prob_pred = calibration_curve(y_true, y_pred, n_bins=n_bins, strategy=strategy)\n",
    "\n",
    "    # Create the calibtion plot\n",
    "    fig = go.Figure()\n",
    "\n",
    "    # Add perfect calibration line\n",
    "    fig.add_trace(\n",
    "        go.Scatter(\n",
    "            x=[0, 1], y=[0, 1], mode=\"lines\", name=\"perfect calibration\", line={\"dash\": \"dash\", \"color\": \"gray\"}, showlegend=True\n",
    "        )\n",
    "    )\n",
    "\n",
    "    # Add calibration curve\n",
    "    fig.add_trace(\n",
    "        go.Scatter(\n",
    "            x=prob_pred,\n",
    "            y=prob_true,\n",
    "            mode=\"lines+markers\",\n",
    "            name=\"pipeline calibration\",\n",
    "            line={\"color\": \"rgb(152, 86, 86)\"},\n",
    "            marker={\"size\": 8, \"color\": \"rgb(152, 86, 86)\", \"line\": {\"width\": 1, \"color\": \"DarkSlateGrey\"}},\n",
    "            showlegend=True,\n",
    "        )\n",
    "    )\n",
    "    sizing = 250\n",
    "    # Update layout\n",
    "    fig.update_layout(\n",
    "        font_family=\"CMU Sans Serif\",\n",
    "        plot_bgcolor=\"white\",\n",
    "        width=sizing * 1.6180339887,\n",
    "        height=sizing,\n",
    "        margin={\"l\": 0, \"r\": 0, \"t\": 0, \"b\": 0},\n",
    "        xaxis={\n",
    "            \"title\": \"scaled cosine similarity\",\n",
    "            \"range\": [0, 1],\n",
    "            \"tickvals\": np.arange(0, 1.1, 0.2),\n",
    "        },\n",
    "        yaxis={\n",
    "            \"title\": f\"top-{top_k} accuracy\",\n",
    "            \"range\": [0, 1],\n",
    "            \"tickvals\": np.arange(0, 1.1, 0.2),\n",
    "        },\n",
    "    )\n",
    "    fig.update_yaxes(\n",
    "        showgrid=False,\n",
    "        gridcolor=\"rgba(173, 216, 230, 0.3)\",\n",
    "        zeroline=False,\n",
    "        showline=False,\n",
    "        ticks=\"outside\",\n",
    "        tickwidth=1,\n",
    "        tickcolor=\"rgb(120, 120, 120)\",\n",
    "        ticklen=5,\n",
    "    )\n",
    "    fig.update_xaxes(\n",
    "        showgrid=False,\n",
    "        gridcolor=\"rgba(173, 216, 230, 0.3)\",\n",
    "        zeroline=False,\n",
    "        showline=False,\n",
    "        ticks=\"outside\",\n",
    "        tickwidth=1,\n",
    "        tickcolor=\"rgb(120, 120, 120)\",\n",
    "        ticklen=5,\n",
    "    )\n",
    "\n",
    "    # rotate x-ticks\n",
    "    # fig.update_xaxes(tickangle=60)\n",
    "    # Add histogram of predictions as small bars at bottom\n",
    "    hist, bins = np.histogram(y_pred, bins=n_bins, range=(0, 1))\n",
    "    hist = hist / hist.max() * 0.5  # Normalize to 10% of plot height\n",
    "\n",
    "    # compute the accuracy of the calibration\n",
    "    # accuracy = np.abs(prob_true - prob_pred).mean()\n",
    "    # add text to the plot\n",
    "    # fig.add_annotation(\n",
    "    #     x=0.5,\n",
    "    #     y=0.1,\n",
    "    #     text=f\"Calibration accuracy: {accuracy:.3f}\",\n",
    "    #     showarrow=False,\n",
    "    #     font={\"size\": 12, \"color\": \"black\"},\n",
    "    # )\n",
    "    fig.update_layout(\n",
    "        template=\"plotly_white\",\n",
    "        width=sizing * 1.618,\n",
    "        height=sizing,\n",
    "        margin={\"l\": 40, \"r\": 20, \"t\": 20, \"b\": 40},\n",
    "        plot_bgcolor=\"white\",\n",
    "        font={\"color\": \"rgb(120, 120, 120)\"},\n",
    "        bargap=0.15,\n",
    "        bargroupgap=0.03,\n",
    "        shapes=[\n",
    "            # Add x-axis line\n",
    "            {\n",
    "                \"type\": \"line\",\n",
    "                \"xref\": \"paper\",\n",
    "                \"yref\": \"y\",\n",
    "                \"x0\": 0,\n",
    "                \"x1\": 1,\n",
    "                \"y0\": 0,\n",
    "                \"y1\": 0,  # Position below the bottom bar\n",
    "                \"line\": {\"color\": \"rgb(120, 120, 120)\", \"width\": 1},\n",
    "            },\n",
    "            # Add y-axis line\n",
    "            {\n",
    "                \"type\": \"line\",\n",
    "                \"xref\": \"x\",\n",
    "                \"yref\": \"paper\",\n",
    "                \"x0\": 0,\n",
    "                \"y0\": 0,\n",
    "                \"x1\": 0,\n",
    "                \"y1\": 1,\n",
    "                \"line\": {\"color\": \"rgb(120, 120, 120)\", \"width\": 1},\n",
    "            },\n",
    "        ],\n",
    "    )\n",
    "    fig.add_trace(\n",
    "        go.Bar(\n",
    "            x=bins[:-1] + np.diff(bins) / 2,\n",
    "            y=hist,\n",
    "            marker_color=\"rgba(152, 86, 86, 0.3)\",\n",
    "            name=\"score distribution\",\n",
    "            width=np.diff(bins)[0],\n",
    "            hoverinfo=\"skip\",\n",
    "        )\n",
    "    )\n",
    "    # change font of all text\n",
    "    # Save and display\n",
    "    fig.write_image(f\"figures/best_score_calibration_{strategy}.pdf\", scale=5)\n",
    "    fig.show()\n",
    "\n",
    "    # Print some statistics\n",
    "    print(f\"Number of samples: {len(stats)}\")\n",
    "    print(f\"Average prediction: {y_pred.mean():.3f}\")\n",
    "    print(f\"Success rate: {y_true.mean():.3f}\")\n",
    "\n",
    "\n",
    "# Usage\n",
    "plot_score_calibration(top_k=1, strategy=\"uniform\", n_bins=11)\n",
    "plot_score_calibration(top_k=1, strategy=\"quantile\", n_bins=9)"
   ]
  },
  {
   "cell_type": "code",
   "execution_count": 32,
   "metadata": {},
   "outputs": [
    {
     "data": {
      "application/vnd.plotly.v1+json": {
       "config": {
        "plotlyServerURL": "https://plot.ly"
       },
       "data": [
        {
         "histnorm": "probability",
         "marker": {
          "color": "rgb(152, 86, 86)",
          "line": {
           "color": "DarkSlateGrey",
           "width": 0.4
          }
         },
         "name": "Seed 444",
         "nbinsx": 30,
         "opacity": 0.6,
         "type": "histogram",
         "x": [
          22,
          16,
          18,
          18,
          24,
          29,
          13,
          23,
          35,
          30,
          13,
          20,
          31,
          27,
          21,
          29,
          23,
          25,
          22,
          19,
          23,
          18,
          24,
          30,
          12,
          17,
          14,
          31,
          28,
          14,
          20,
          23,
          31,
          35,
          15,
          25,
          34,
          15,
          33,
          18,
          26,
          10,
          21,
          12,
          30,
          33,
          28,
          18,
          24,
          24,
          23,
          27,
          15,
          28,
          28,
          18,
          22,
          12,
          17,
          15,
          24,
          28,
          12,
          18,
          32,
          30,
          30,
          27,
          24,
          32,
          35,
          29,
          13,
          20,
          16,
          29,
          25,
          25,
          29,
          13,
          14,
          32,
          34,
          18,
          10,
          27,
          21,
          21,
          33,
          16,
          15,
          25,
          20,
          14,
          35,
          26,
          24,
          14,
          25,
          15,
          33,
          30,
          25,
          26,
          32,
          24,
          29,
          31,
          17,
          22,
          19,
          34,
          34,
          25,
          22,
          15,
          17,
          18,
          31,
          35,
          14,
          5,
          33,
          18,
          31,
          20,
          20,
          20,
          24,
          35,
          16,
          19,
          14,
          22,
          11,
          27,
          23,
          29,
          26,
          34,
          11,
          35,
          11,
          17,
          33,
          11,
          32,
          29,
          9,
          17,
          11,
          27,
          28,
          14,
          21,
          13,
          21,
          23,
          12,
          28,
          23,
          29,
          20,
          12,
          25,
          17,
          12,
          27,
          24,
          10,
          14,
          32,
          33,
          19,
          16,
          24,
          31,
          10,
          33,
          35,
          22,
          21,
          27,
          12,
          14,
          15,
          22,
          19,
          18,
          33,
          17,
          30,
          30,
          35,
          26,
          24,
          18,
          15,
          32,
          18,
          17,
          25,
          14,
          13,
          22,
          27,
          17,
          25,
          26,
          13,
          25,
          15,
          27,
          34,
          13,
          31,
          18,
          22,
          35,
          17,
          18,
          14,
          27,
          23,
          21,
          35,
          33,
          29,
          24,
          32,
          27,
          34,
          19,
          27,
          24,
          22,
          22,
          21,
          22,
          23,
          29,
          21,
          32,
          15,
          29,
          12,
          23,
          29,
          14,
          17,
          31,
          22,
          18,
          31,
          20,
          17,
          23,
          33,
          18,
          14,
          28,
          31,
          20,
          28,
          32,
          16,
          24,
          30,
          25,
          32,
          12,
          20,
          25,
          25,
          28,
          22,
          29,
          15,
          31,
          30,
          30,
          18,
          25,
          31,
          34,
          21,
          27,
          18,
          30,
          16,
          23,
          23,
          22,
          25,
          14,
          16,
          22,
          17,
          22,
          23,
          29,
          9,
          15,
          33,
          13,
          20,
          20,
          18,
          20,
          19,
          27,
          31,
          31,
          13,
          15,
          18,
          27,
          17,
          13,
          23,
          22,
          24,
          13,
          32,
          22,
          28,
          23,
          31,
          26,
          22,
          22,
          24,
          31,
          27,
          30,
          22,
          21,
          20,
          26,
          31,
          12,
          15,
          32,
          17,
          23,
          35,
          16,
          31,
          27,
          18,
          27,
          31,
          12,
          21,
          29,
          32,
          25,
          14,
          17,
          25,
          33,
          31,
          35,
          29,
          20,
          32,
          20,
          31,
          29,
          28,
          16,
          21,
          21,
          22,
          34,
          29,
          33,
          31,
          13,
          19,
          17,
          23,
          18,
          16,
          29,
          15,
          28,
          33,
          20,
          35,
          22,
          19,
          20,
          20,
          26,
          13,
          23,
          25,
          17,
          26,
          26,
          30,
          16,
          35,
          11,
          24,
          29,
          14,
          31,
          13,
          20,
          12,
          28,
          34,
          20,
          22,
          18,
          13,
          9,
          18,
          27,
          30,
          34,
          34,
          35,
          19,
          15,
          31,
          25,
          21,
          33,
          24,
          16,
          14,
          25,
          7,
          18,
          23,
          34,
          16,
          18,
          12,
          27,
          34,
          20,
          25,
          18,
          25,
          29,
          24,
          18,
          25,
          33,
          19,
          28,
          33,
          31,
          27,
          18,
          20,
          22,
          34,
          16,
          28,
          18,
          23,
          29,
          14,
          33,
          29,
          17,
          23,
          29,
          24,
          14,
          25,
          26,
          34,
          10,
          17,
          24,
          20,
          28,
          13,
          9,
          25,
          16,
          18,
          19,
          13,
          28,
          27,
          32,
          30,
          26,
          15,
          23,
          17,
          31,
          10,
          22,
          35,
          23,
          17,
          21,
          26,
          17,
          13,
          15,
          11,
          18,
          11,
          28,
          12,
          31,
          18,
          24,
          24,
          13,
          29,
          20,
          19,
          24,
          24,
          32,
          23,
          20,
          27,
          21,
          21,
          27,
          13,
          17,
          23,
          23,
          18,
          25,
          18,
          30,
          18,
          20,
          26,
          22,
          24,
          31,
          15,
          23,
          29,
          18,
          33,
          17,
          17,
          15,
          18,
          32,
          27,
          18,
          11,
          29,
          16,
          15,
          11,
          28,
          22,
          27,
          26,
          21,
          23,
          31,
          18,
          19,
          13,
          15,
          29,
          16,
          14,
          30,
          27,
          20,
          19,
          19,
          19,
          31,
          34,
          16,
          23,
          20,
          31,
          31,
          23,
          22,
          24,
          35,
          25,
          24,
          25,
          29,
          11,
          15,
          14,
          24,
          17,
          28,
          29,
          33,
          18,
          16,
          24,
          11,
          28,
          25,
          31,
          17,
          22,
          12,
          11,
          22,
          32,
          32,
          23,
          25,
          29,
          21,
          11,
          15,
          28,
          14,
          22,
          32,
          24,
          28,
          34,
          33,
          29,
          33,
          29,
          10,
          26,
          14,
          29,
          18,
          25,
          23,
          35,
          22,
          12,
          16,
          12,
          30,
          14,
          20,
          26,
          35,
          16,
          17,
          16,
          29,
          22,
          29,
          12,
          25,
          12,
          27,
          15,
          27,
          25,
          26,
          24,
          14,
          18,
          30,
          21,
          27,
          32,
          13,
          17,
          18,
          22,
          28,
          22,
          30,
          25,
          17,
          25,
          32,
          27,
          16,
          9,
          29,
          24,
          24,
          33,
          32,
          31,
          16,
          22,
          27,
          26,
          10,
          17,
          16,
          18,
          20,
          21,
          30,
          13,
          22,
          33,
          33,
          10,
          30,
          21,
          23,
          19,
          27,
          17,
          21,
          32,
          20,
          18,
          18,
          30,
          34,
          32,
          8,
          31,
          29,
          26,
          25,
          23,
          17,
          17,
          14,
          19,
          14,
          34,
          27,
          12,
          34,
          30,
          20,
          19,
          18,
          28,
          25,
          18,
          27,
          30,
          14,
          21,
          21,
          19,
          13,
          25,
          19,
          33,
          28,
          24,
          21,
          21,
          26,
          15,
          26,
          27,
          24,
          14,
          22,
          27,
          13,
          17,
          25,
          20,
          22,
          32,
          22,
          31,
          23,
          27,
          9,
          12,
          29,
          19,
          23,
          31,
          23,
          21,
          14,
          31,
          29,
          20,
          33,
          9,
          14,
          30,
          18,
          16,
          19,
          27,
          20,
          27,
          32,
          12,
          17,
          29,
          23,
          24,
          24,
          18,
          25,
          30,
          19,
          15,
          23,
          26,
          16,
          27,
          22,
          13,
          32,
          16,
          34,
          21,
          19,
          27,
          13,
          31,
          24,
          33,
          32,
          20,
          28,
          35,
          31,
          15,
          25,
          20,
          28,
          29,
          23,
          25,
          32,
          14,
          13,
          15,
          16,
          25,
          16,
          9,
          13,
          27,
          29,
          29,
          18,
          14,
          22,
          22,
          13,
          18,
          20,
          32,
          16,
          17,
          23,
          23,
          14,
          24,
          15,
          14,
          26,
          32,
          13,
          16,
          18,
          27,
          30,
          17,
          29,
          16,
          30,
          20,
          14,
          28,
          22,
          20,
          24,
          14,
          20,
          32,
          24,
          17,
          34,
          22,
          16,
          25,
          29,
          8,
          24,
          19,
          13,
          25,
          19,
          30,
          7,
          27,
          18,
          22,
          16,
          21,
          26,
          15,
          24,
          26,
          30,
          17,
          35,
          30,
          27,
          31,
          23,
          32,
          11,
          25,
          13,
          15,
          15,
          23,
          15,
          24,
          12,
          26,
          23,
          10,
          26,
          29,
          31,
          22,
          16,
          27,
          27,
          23,
          32,
          18,
          28,
          25,
          28,
          11,
          23,
          22,
          23,
          12,
          11,
          26,
          20,
          15,
          17,
          11,
          28,
          22,
          18,
          21,
          18,
          21,
          17,
          23,
          32,
          33,
          19,
          17,
          15,
          19,
          25,
          27,
          31,
          33,
          21,
          26,
          22,
          28,
          19,
          33,
          20,
          25,
          12,
          25,
          15,
          16,
          23,
          20,
          28,
          30,
          26,
          16,
          16,
          28,
          26,
          26,
          24,
          21,
          20,
          19,
          11
         ]
        }
       ],
       "layout": {
        "barmode": "overlay",
        "font": {
         "family": "Arial",
         "size": 12
        },
        "height": 200,
        "legend": {
         "title": {
          "text": "Seeds"
         }
        },
        "margin": {
         "b": 0,
         "l": 0,
         "r": 0,
         "t": 0
        },
        "plot_bgcolor": "white",
        "template": {
         "data": {
          "bar": [
           {
            "error_x": {
             "color": "#2a3f5f"
            },
            "error_y": {
             "color": "#2a3f5f"
            },
            "marker": {
             "line": {
              "color": "#E5ECF6",
              "width": 0.5
             },
             "pattern": {
              "fillmode": "overlay",
              "size": 10,
              "solidity": 0.2
             }
            },
            "type": "bar"
           }
          ],
          "barpolar": [
           {
            "marker": {
             "line": {
              "color": "#E5ECF6",
              "width": 0.5
             },
             "pattern": {
              "fillmode": "overlay",
              "size": 10,
              "solidity": 0.2
             }
            },
            "type": "barpolar"
           }
          ],
          "carpet": [
           {
            "aaxis": {
             "endlinecolor": "#2a3f5f",
             "gridcolor": "white",
             "linecolor": "white",
             "minorgridcolor": "white",
             "startlinecolor": "#2a3f5f"
            },
            "baxis": {
             "endlinecolor": "#2a3f5f",
             "gridcolor": "white",
             "linecolor": "white",
             "minorgridcolor": "white",
             "startlinecolor": "#2a3f5f"
            },
            "type": "carpet"
           }
          ],
          "choropleth": [
           {
            "colorbar": {
             "outlinewidth": 0,
             "ticks": ""
            },
            "type": "choropleth"
           }
          ],
          "contour": [
           {
            "colorbar": {
             "outlinewidth": 0,
             "ticks": ""
            },
            "colorscale": [
             [
              0,
              "#0d0887"
             ],
             [
              0.1111111111111111,
              "#46039f"
             ],
             [
              0.2222222222222222,
              "#7201a8"
             ],
             [
              0.3333333333333333,
              "#9c179e"
             ],
             [
              0.4444444444444444,
              "#bd3786"
             ],
             [
              0.5555555555555556,
              "#d8576b"
             ],
             [
              0.6666666666666666,
              "#ed7953"
             ],
             [
              0.7777777777777778,
              "#fb9f3a"
             ],
             [
              0.8888888888888888,
              "#fdca26"
             ],
             [
              1,
              "#f0f921"
             ]
            ],
            "type": "contour"
           }
          ],
          "contourcarpet": [
           {
            "colorbar": {
             "outlinewidth": 0,
             "ticks": ""
            },
            "type": "contourcarpet"
           }
          ],
          "heatmap": [
           {
            "colorbar": {
             "outlinewidth": 0,
             "ticks": ""
            },
            "colorscale": [
             [
              0,
              "#0d0887"
             ],
             [
              0.1111111111111111,
              "#46039f"
             ],
             [
              0.2222222222222222,
              "#7201a8"
             ],
             [
              0.3333333333333333,
              "#9c179e"
             ],
             [
              0.4444444444444444,
              "#bd3786"
             ],
             [
              0.5555555555555556,
              "#d8576b"
             ],
             [
              0.6666666666666666,
              "#ed7953"
             ],
             [
              0.7777777777777778,
              "#fb9f3a"
             ],
             [
              0.8888888888888888,
              "#fdca26"
             ],
             [
              1,
              "#f0f921"
             ]
            ],
            "type": "heatmap"
           }
          ],
          "heatmapgl": [
           {
            "colorbar": {
             "outlinewidth": 0,
             "ticks": ""
            },
            "colorscale": [
             [
              0,
              "#0d0887"
             ],
             [
              0.1111111111111111,
              "#46039f"
             ],
             [
              0.2222222222222222,
              "#7201a8"
             ],
             [
              0.3333333333333333,
              "#9c179e"
             ],
             [
              0.4444444444444444,
              "#bd3786"
             ],
             [
              0.5555555555555556,
              "#d8576b"
             ],
             [
              0.6666666666666666,
              "#ed7953"
             ],
             [
              0.7777777777777778,
              "#fb9f3a"
             ],
             [
              0.8888888888888888,
              "#fdca26"
             ],
             [
              1,
              "#f0f921"
             ]
            ],
            "type": "heatmapgl"
           }
          ],
          "histogram": [
           {
            "marker": {
             "pattern": {
              "fillmode": "overlay",
              "size": 10,
              "solidity": 0.2
             }
            },
            "type": "histogram"
           }
          ],
          "histogram2d": [
           {
            "colorbar": {
             "outlinewidth": 0,
             "ticks": ""
            },
            "colorscale": [
             [
              0,
              "#0d0887"
             ],
             [
              0.1111111111111111,
              "#46039f"
             ],
             [
              0.2222222222222222,
              "#7201a8"
             ],
             [
              0.3333333333333333,
              "#9c179e"
             ],
             [
              0.4444444444444444,
              "#bd3786"
             ],
             [
              0.5555555555555556,
              "#d8576b"
             ],
             [
              0.6666666666666666,
              "#ed7953"
             ],
             [
              0.7777777777777778,
              "#fb9f3a"
             ],
             [
              0.8888888888888888,
              "#fdca26"
             ],
             [
              1,
              "#f0f921"
             ]
            ],
            "type": "histogram2d"
           }
          ],
          "histogram2dcontour": [
           {
            "colorbar": {
             "outlinewidth": 0,
             "ticks": ""
            },
            "colorscale": [
             [
              0,
              "#0d0887"
             ],
             [
              0.1111111111111111,
              "#46039f"
             ],
             [
              0.2222222222222222,
              "#7201a8"
             ],
             [
              0.3333333333333333,
              "#9c179e"
             ],
             [
              0.4444444444444444,
              "#bd3786"
             ],
             [
              0.5555555555555556,
              "#d8576b"
             ],
             [
              0.6666666666666666,
              "#ed7953"
             ],
             [
              0.7777777777777778,
              "#fb9f3a"
             ],
             [
              0.8888888888888888,
              "#fdca26"
             ],
             [
              1,
              "#f0f921"
             ]
            ],
            "type": "histogram2dcontour"
           }
          ],
          "mesh3d": [
           {
            "colorbar": {
             "outlinewidth": 0,
             "ticks": ""
            },
            "type": "mesh3d"
           }
          ],
          "parcoords": [
           {
            "line": {
             "colorbar": {
              "outlinewidth": 0,
              "ticks": ""
             }
            },
            "type": "parcoords"
           }
          ],
          "pie": [
           {
            "automargin": true,
            "type": "pie"
           }
          ],
          "scatter": [
           {
            "fillpattern": {
             "fillmode": "overlay",
             "size": 10,
             "solidity": 0.2
            },
            "type": "scatter"
           }
          ],
          "scatter3d": [
           {
            "line": {
             "colorbar": {
              "outlinewidth": 0,
              "ticks": ""
             }
            },
            "marker": {
             "colorbar": {
              "outlinewidth": 0,
              "ticks": ""
             }
            },
            "type": "scatter3d"
           }
          ],
          "scattercarpet": [
           {
            "marker": {
             "colorbar": {
              "outlinewidth": 0,
              "ticks": ""
             }
            },
            "type": "scattercarpet"
           }
          ],
          "scattergeo": [
           {
            "marker": {
             "colorbar": {
              "outlinewidth": 0,
              "ticks": ""
             }
            },
            "type": "scattergeo"
           }
          ],
          "scattergl": [
           {
            "marker": {
             "colorbar": {
              "outlinewidth": 0,
              "ticks": ""
             }
            },
            "type": "scattergl"
           }
          ],
          "scattermapbox": [
           {
            "marker": {
             "colorbar": {
              "outlinewidth": 0,
              "ticks": ""
             }
            },
            "type": "scattermapbox"
           }
          ],
          "scatterpolar": [
           {
            "marker": {
             "colorbar": {
              "outlinewidth": 0,
              "ticks": ""
             }
            },
            "type": "scatterpolar"
           }
          ],
          "scatterpolargl": [
           {
            "marker": {
             "colorbar": {
              "outlinewidth": 0,
              "ticks": ""
             }
            },
            "type": "scatterpolargl"
           }
          ],
          "scatterternary": [
           {
            "marker": {
             "colorbar": {
              "outlinewidth": 0,
              "ticks": ""
             }
            },
            "type": "scatterternary"
           }
          ],
          "surface": [
           {
            "colorbar": {
             "outlinewidth": 0,
             "ticks": ""
            },
            "colorscale": [
             [
              0,
              "#0d0887"
             ],
             [
              0.1111111111111111,
              "#46039f"
             ],
             [
              0.2222222222222222,
              "#7201a8"
             ],
             [
              0.3333333333333333,
              "#9c179e"
             ],
             [
              0.4444444444444444,
              "#bd3786"
             ],
             [
              0.5555555555555556,
              "#d8576b"
             ],
             [
              0.6666666666666666,
              "#ed7953"
             ],
             [
              0.7777777777777778,
              "#fb9f3a"
             ],
             [
              0.8888888888888888,
              "#fdca26"
             ],
             [
              1,
              "#f0f921"
             ]
            ],
            "type": "surface"
           }
          ],
          "table": [
           {
            "cells": {
             "fill": {
              "color": "#EBF0F8"
             },
             "line": {
              "color": "white"
             }
            },
            "header": {
             "fill": {
              "color": "#C8D4E3"
             },
             "line": {
              "color": "white"
             }
            },
            "type": "table"
           }
          ]
         },
         "layout": {
          "annotationdefaults": {
           "arrowcolor": "#2a3f5f",
           "arrowhead": 0,
           "arrowwidth": 1
          },
          "autotypenumbers": "strict",
          "coloraxis": {
           "colorbar": {
            "outlinewidth": 0,
            "ticks": ""
           }
          },
          "colorscale": {
           "diverging": [
            [
             0,
             "#8e0152"
            ],
            [
             0.1,
             "#c51b7d"
            ],
            [
             0.2,
             "#de77ae"
            ],
            [
             0.3,
             "#f1b6da"
            ],
            [
             0.4,
             "#fde0ef"
            ],
            [
             0.5,
             "#f7f7f7"
            ],
            [
             0.6,
             "#e6f5d0"
            ],
            [
             0.7,
             "#b8e186"
            ],
            [
             0.8,
             "#7fbc41"
            ],
            [
             0.9,
             "#4d9221"
            ],
            [
             1,
             "#276419"
            ]
           ],
           "sequential": [
            [
             0,
             "#0d0887"
            ],
            [
             0.1111111111111111,
             "#46039f"
            ],
            [
             0.2222222222222222,
             "#7201a8"
            ],
            [
             0.3333333333333333,
             "#9c179e"
            ],
            [
             0.4444444444444444,
             "#bd3786"
            ],
            [
             0.5555555555555556,
             "#d8576b"
            ],
            [
             0.6666666666666666,
             "#ed7953"
            ],
            [
             0.7777777777777778,
             "#fb9f3a"
            ],
            [
             0.8888888888888888,
             "#fdca26"
            ],
            [
             1,
             "#f0f921"
            ]
           ],
           "sequentialminus": [
            [
             0,
             "#0d0887"
            ],
            [
             0.1111111111111111,
             "#46039f"
            ],
            [
             0.2222222222222222,
             "#7201a8"
            ],
            [
             0.3333333333333333,
             "#9c179e"
            ],
            [
             0.4444444444444444,
             "#bd3786"
            ],
            [
             0.5555555555555556,
             "#d8576b"
            ],
            [
             0.6666666666666666,
             "#ed7953"
            ],
            [
             0.7777777777777778,
             "#fb9f3a"
            ],
            [
             0.8888888888888888,
             "#fdca26"
            ],
            [
             1,
             "#f0f921"
            ]
           ]
          },
          "colorway": [
           "#636efa",
           "#EF553B",
           "#00cc96",
           "#ab63fa",
           "#FFA15A",
           "#19d3f3",
           "#FF6692",
           "#B6E880",
           "#FF97FF",
           "#FECB52"
          ],
          "font": {
           "color": "#2a3f5f"
          },
          "geo": {
           "bgcolor": "white",
           "lakecolor": "white",
           "landcolor": "#E5ECF6",
           "showlakes": true,
           "showland": true,
           "subunitcolor": "white"
          },
          "hoverlabel": {
           "align": "left"
          },
          "hovermode": "closest",
          "mapbox": {
           "style": "light"
          },
          "paper_bgcolor": "white",
          "plot_bgcolor": "#E5ECF6",
          "polar": {
           "angularaxis": {
            "gridcolor": "white",
            "linecolor": "white",
            "ticks": ""
           },
           "bgcolor": "#E5ECF6",
           "radialaxis": {
            "gridcolor": "white",
            "linecolor": "white",
            "ticks": ""
           }
          },
          "scene": {
           "xaxis": {
            "backgroundcolor": "#E5ECF6",
            "gridcolor": "white",
            "gridwidth": 2,
            "linecolor": "white",
            "showbackground": true,
            "ticks": "",
            "zerolinecolor": "white"
           },
           "yaxis": {
            "backgroundcolor": "#E5ECF6",
            "gridcolor": "white",
            "gridwidth": 2,
            "linecolor": "white",
            "showbackground": true,
            "ticks": "",
            "zerolinecolor": "white"
           },
           "zaxis": {
            "backgroundcolor": "#E5ECF6",
            "gridcolor": "white",
            "gridwidth": 2,
            "linecolor": "white",
            "showbackground": true,
            "ticks": "",
            "zerolinecolor": "white"
           }
          },
          "shapedefaults": {
           "line": {
            "color": "#2a3f5f"
           }
          },
          "ternary": {
           "aaxis": {
            "gridcolor": "white",
            "linecolor": "white",
            "ticks": ""
           },
           "baxis": {
            "gridcolor": "white",
            "linecolor": "white",
            "ticks": ""
           },
           "bgcolor": "#E5ECF6",
           "caxis": {
            "gridcolor": "white",
            "linecolor": "white",
            "ticks": ""
           }
          },
          "title": {
           "x": 0.05
          },
          "xaxis": {
           "automargin": true,
           "gridcolor": "white",
           "linecolor": "white",
           "ticks": "",
           "title": {
            "standoff": 15
           },
           "zerolinecolor": "white",
           "zerolinewidth": 2
          },
          "yaxis": {
           "automargin": true,
           "gridcolor": "white",
           "linecolor": "white",
           "ticks": "",
           "title": {
            "standoff": 15
           },
           "zerolinecolor": "white",
           "zerolinewidth": 2
          }
         }
        },
        "title": {
         "text": "molecule size distribution"
        },
        "width": 323.60679774,
        "xaxis": {
         "title": {
          "text": "number of atoms"
         }
        },
        "yaxis": {
         "title": {
          "text": "percentage of molecules"
         }
        }
       }
      }
     },
     "metadata": {},
     "output_type": "display_data"
    }
   ],
   "source": [
    "import plotly.graph_objects as go\n",
    "\n",
    "stats_999 = pd.read_csv(\"all_stats.csv\")\n",
    "# Create the DataFrame\n",
    "molsize_df = pd.DataFrame(\n",
    "    {\n",
    "        \"molecule_size\": [\n",
    "            stats_999[\"mol_size\"],\n",
    "        ],\n",
    "    }\n",
    ")\n",
    "\n",
    "# Create a Plotly figure with the same color scheme\n",
    "fig = go.Figure()\n",
    "\n",
    "# Colors inspired by seaborn for a more scientific look\n",
    "# colors\n",
    "\n",
    "# Adding traces for each seed's molecule size distribution as histograms\n",
    "# update size of the plot\n",
    "fig.update_layout(width=200 * 1.6180339887, height=200)\n",
    "# kde curve\n",
    "fig.add_trace(\n",
    "    go.Histogram(\n",
    "        x=molsize_df[\"molecule_size\"][0],\n",
    "        histnorm=\"probability\",\n",
    "        name=f\"Seed {444}\",\n",
    "        opacity=1,\n",
    "        # marker_color=colors[-2],\n",
    "        nbinsx=30,\n",
    "    )\n",
    ")\n",
    "# change color of the bars\n",
    "fig.update_traces(marker_color=\"rgb(152, 86, 86)\")\n",
    "# change font\n",
    "fig.update_layout(font_family=\"CMU Sans Serif\")\n",
    "# opacity of the bars\n",
    "fig.update_traces(opacity=0.6)\n",
    "fig.update_traces(marker={\"line\": {\"width\": 0.4, \"color\": \"DarkSlateGrey\"}})\n",
    "# Update layout for the plot\n",
    "fig.update_layout(\n",
    "    title=\"molecule size distribution\",\n",
    "    xaxis_title=\"number of atoms\",\n",
    "    yaxis_title=\"percentage of molecules\",\n",
    "    barmode=\"overlay\",\n",
    "    plot_bgcolor=\"white\",\n",
    "    legend={\"title\": \"Seeds\"},\n",
    "    font={\"family\": \"Arial\", \"size\": 12},\n",
    "    margin={\"l\": 0, \"r\": 0, \"t\": 0, \"b\": 0},\n",
    ")\n",
    "fig.write_image(\"figures/molecule_size_distribution.pdf\", scale=5)\n",
    "# Show the plot\n",
    "fig.show()\n"
   ]
  }
 ],
 "metadata": {
  "kernelspec": {
   "display_name": "chembench",
   "language": "python",
   "name": "python3"
  },
  "language_info": {
   "codemirror_mode": {
    "name": "ipython",
    "version": 3
   },
   "file_extension": ".py",
   "mimetype": "text/x-python",
   "name": "python",
   "nbconvert_exporter": "python",
   "pygments_lexer": "ipython3",
   "version": "3.12.2"
  }
 },
 "nbformat": 4,
 "nbformat_minor": 2
}
